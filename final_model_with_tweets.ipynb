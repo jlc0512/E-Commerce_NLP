{
 "cells": [
  {
   "cell_type": "markdown",
   "id": "d9a1aa7a",
   "metadata": {},
   "source": [
    "# Overview"
   ]
  },
  {
   "cell_type": "markdown",
   "id": "0db86622",
   "metadata": {},
   "source": [
    "In this project, I am a Data Scientist contractor working with different Women's Fashion Brands, such as Zara and H&M, to classify comments as negative or positive. This project aims to create a generalizable classification model that can be fed comments from any platform, such as Twitter, Instagram, or blogs. For demonstration purposes, I will utilize my model to classify tweets as positive or negative so the customer service teams can respond appropriately, such as responding to customer concerns in negative tweets and retweeting positive tweets."
   ]
  },
  {
   "cell_type": "markdown",
   "id": "46681e4b",
   "metadata": {},
   "source": [
    "# Business Understanding"
   ]
  },
  {
   "cell_type": "markdown",
   "id": "9fade1ba",
   "metadata": {},
   "source": [
    "Natural language processing (NLP) has proved to be a highly effective technology for companies to save time and money while optimizing business processes. One of the major benefits of natural language processing for businesses is the ability to process massive volumes of text across various outlets, such as social media platforms, blogs, comments, and so on. By utilizing a machine learning model to classify text as positive or negative, businesses can send the comments to the appropriate teams, such as Quality Assurance for negative comments or Marketing for positive comments. Social media is the second most preferred channel (after an in-person interaction) for customers to initiate communication; for millennials, social media is the most preferred channel. It is important for businesses to respond to these comments in order to protect the brand's reputation, show customers your care, reduce churn, and improve visibility to potential new customer bases and improve customer loyalty for current customers. Generalizability is important with the constant evolution of technology, social media, and how users choose to interact with products and brands. While one brand may receive lots of tweets, another brand may be discussed more in the comments of their Instagram posts."
   ]
  },
  {
   "cell_type": "markdown",
   "id": "15d1ac8c",
   "metadata": {},
   "source": [
    "## Use Cases:"
   ]
  },
  {
   "cell_type": "markdown",
   "id": "d37b1591",
   "metadata": {},
   "source": [
    "Positive Comments\n",
    "- Retweet or repost from the Brand account\n",
    "- Respond to boost that comment and reach more viewers\n",
    "- Identify positive trends, such as colors or fit types, that multiple users are responding to\n",
    "- Improve brand loyalty"
   ]
  },
  {
   "cell_type": "markdown",
   "id": "e1f0d5ed",
   "metadata": {},
   "source": [
    "Negative Comments\n",
    "- Respond to help customers feel heard and solve any fixable issues\n",
    "- Identify issues with items before next drops, such as colors not photographing accurately on website or quality issues with fabric\n",
    "- Improve brand loyalty "
   ]
  },
  {
   "cell_type": "markdown",
   "id": "65bf9647",
   "metadata": {},
   "source": [
    "## Why utilize data from reviews?"
   ]
  },
  {
   "cell_type": "markdown",
   "id": "3685e5a8",
   "metadata": {},
   "source": [
    "Reviews left by customers contain both text reviews (the meat of the review) in conjunction with a rating. By utilizing reviews as my source, I am able to easily assign a label of Positive_Rating (0 being false, 1 being true) to the review text based on the rating. This helps my model learn what words are associated with a positive sentiment and what words may be more associated with a negative sentiment. I can then apply this model to texts that are not accompanied by a number rating, such as tweets, Instagram captions, blog posts, and more."
   ]
  },
  {
   "cell_type": "markdown",
   "id": "ac93d3f0",
   "metadata": {},
   "source": [
    "# Data"
   ]
  },
  {
   "cell_type": "markdown",
   "id": "ef0cabd5",
   "metadata": {},
   "source": [
    "Data for this project was pulled from a compiled dataset of Women's E-Commerce Clothing Reviews compiled in one CSV file. \n",
    "\n",
    "The review data contained 23,486 reviews. Additional variables included Clothing ID, Age, Title (of the review if there was one), Review Text, Rating, Recommended IND (whether or not the customer recommends a product), Positive Feedback Count (number of other customers who found the review positive), Division Name (categorical name of product high-level division), Department Name, and Class Name. Reviews ranged on a scale of 1-5. A majority of reviews received an overall rating of 5, which could be a limitation to the model."
   ]
  },
  {
   "cell_type": "markdown",
   "id": "c3888bf5",
   "metadata": {},
   "source": [
    "### Loading Necessary Imports"
   ]
  },
  {
   "cell_type": "code",
   "execution_count": 1,
   "id": "6f3ea573",
   "metadata": {},
   "outputs": [
    {
     "name": "stderr",
     "output_type": "stream",
     "text": [
      "[nltk_data] Downloading package stopwords to\n",
      "[nltk_data]     /Users/jillian/nltk_data...\n",
      "[nltk_data]   Package stopwords is already up-to-date!\n"
     ]
    }
   ],
   "source": [
    "#Basic imports\n",
    "import pandas as pd\n",
    "import numpy as np\n",
    "import matplotlib.pyplot as plt\n",
    "from matplotlib.ticker import MaxNLocator\n",
    "%matplotlib inline\n",
    "\n",
    "from sklearn.model_selection import train_test_split\n",
    "\n",
    "#Required text pre-processing libraries are imported\n",
    "import string\n",
    "import nltk\n",
    "import re\n",
    "\n",
    "# download the stopwords and wordnet corpus\n",
    "nltk.download('stopwords')\n",
    "from nltk.corpus import stopwords\n",
    "# import tokenize from nltk library\n",
    "from nltk import tokenize\n",
    "# import WordNetLemmatizer from nltk library\n",
    "from nltk.stem import WordNetLemmatizer\n",
    "from nltk.corpus import wordnet\n",
    "from sklearn.feature_extraction.text import CountVectorizer\n",
    "from nltk.probability import FreqDist\n",
    "from nltk.tokenize import RegexpTokenizer\n",
    "\n",
    "#Modeling imports\n",
    "from sklearn.feature_extraction.text import TfidfVectorizer\n",
    "from sklearn.linear_model import LogisticRegression\n",
    "from sklearn.pipeline import Pipeline"
   ]
  },
  {
   "cell_type": "code",
   "execution_count": 2,
   "id": "d02e57e8",
   "metadata": {},
   "outputs": [],
   "source": [
    "### Loading in Tweets"
   ]
  },
  {
   "cell_type": "markdown",
   "id": "ea8a8d28",
   "metadata": {},
   "source": [
    "In order to obtain new data, I utilized Twitter's API and made API calls to obtain tweets that were related to women's clothing items. Specifically, I made queries directed @ZARA and @h&m that included words such as \"dress,\" \"shirt,\" and \"clothing.\" I then ran these tweets through a preprocessing function so they could be run through my model. My model is able to return a classification for each tweet along with probability of each class (0 or 1).\n",
    "\n"
   ]
  },
  {
   "cell_type": "code",
   "execution_count": 3,
   "id": "950d58e3",
   "metadata": {},
   "outputs": [],
   "source": [
    "tweets=pd.read_csv('./data/final_tweet_dataset.csv')"
   ]
  },
  {
   "cell_type": "code",
   "execution_count": 4,
   "id": "a9f1fc4e",
   "metadata": {},
   "outputs": [
    {
     "data": {
      "text/html": [
       "<div>\n",
       "<style scoped>\n",
       "    .dataframe tbody tr th:only-of-type {\n",
       "        vertical-align: middle;\n",
       "    }\n",
       "\n",
       "    .dataframe tbody tr th {\n",
       "        vertical-align: top;\n",
       "    }\n",
       "\n",
       "    .dataframe thead th {\n",
       "        text-align: right;\n",
       "    }\n",
       "</style>\n",
       "<table border=\"1\" class=\"dataframe\">\n",
       "  <thead>\n",
       "    <tr style=\"text-align: right;\">\n",
       "      <th></th>\n",
       "      <th>id</th>\n",
       "      <th>created_at</th>\n",
       "      <th>text</th>\n",
       "      <th>lang</th>\n",
       "      <th>conversation_id</th>\n",
       "      <th>reply_settings</th>\n",
       "      <th>referenced_tweets</th>\n",
       "      <th>in_reply_to_user_id</th>\n",
       "      <th>source</th>\n",
       "      <th>author_id</th>\n",
       "      <th>public_metrics</th>\n",
       "      <th>geo</th>\n",
       "    </tr>\n",
       "  </thead>\n",
       "  <tbody>\n",
       "    <tr>\n",
       "      <th>0</th>\n",
       "      <td>1560364876853280770</td>\n",
       "      <td>2022-08-18T20:35:51.000Z</td>\n",
       "      <td>@EJGSH @ZARA I tried, literally nobody gives a...</td>\n",
       "      <td>en</td>\n",
       "      <td>1560344787659661312</td>\n",
       "      <td>everyone</td>\n",
       "      <td>[{'type': 'replied_to', 'id': '156035492260387...</td>\n",
       "      <td>3.001121e+07</td>\n",
       "      <td>Twitter for iPhone</td>\n",
       "      <td>23023560</td>\n",
       "      <td>{'retweet_count': 0, 'reply_count': 1, 'like_c...</td>\n",
       "      <td>NaN</td>\n",
       "    </tr>\n",
       "    <tr>\n",
       "      <th>1</th>\n",
       "      <td>1560349998528724995</td>\n",
       "      <td>2022-08-18T19:36:44.000Z</td>\n",
       "      <td>Are @ZARA kids clothes true to size? or a litt...</td>\n",
       "      <td>en</td>\n",
       "      <td>1560349998528724995</td>\n",
       "      <td>everyone</td>\n",
       "      <td>NaN</td>\n",
       "      <td>NaN</td>\n",
       "      <td>Twitter for iPhone</td>\n",
       "      <td>1162452050896203776</td>\n",
       "      <td>{'retweet_count': 0, 'reply_count': 1, 'like_c...</td>\n",
       "      <td>NaN</td>\n",
       "    </tr>\n",
       "    <tr>\n",
       "      <th>2</th>\n",
       "      <td>1560344787659661312</td>\n",
       "      <td>2022-08-18T19:16:01.000Z</td>\n",
       "      <td>Bought a pair of pants from @ZARA had them for...</td>\n",
       "      <td>en</td>\n",
       "      <td>1560344787659661312</td>\n",
       "      <td>everyone</td>\n",
       "      <td>NaN</td>\n",
       "      <td>NaN</td>\n",
       "      <td>Twitter for iPhone</td>\n",
       "      <td>23023560</td>\n",
       "      <td>{'retweet_count': 0, 'reply_count': 2, 'like_c...</td>\n",
       "      <td>NaN</td>\n",
       "    </tr>\n",
       "    <tr>\n",
       "      <th>3</th>\n",
       "      <td>1560263688048689152</td>\n",
       "      <td>2022-08-18T13:53:46.000Z</td>\n",
       "      <td>@climatecorporat @ZARA @UniqloUSA @hm Anything...</td>\n",
       "      <td>en</td>\n",
       "      <td>1560238655033053184</td>\n",
       "      <td>everyone</td>\n",
       "      <td>[{'type': 'replied_to', 'id': '156024155013919...</td>\n",
       "      <td>1.403416e+18</td>\n",
       "      <td>Twitter for Android</td>\n",
       "      <td>2837589067</td>\n",
       "      <td>{'retweet_count': 0, 'reply_count': 1, 'like_c...</td>\n",
       "      <td>NaN</td>\n",
       "    </tr>\n",
       "    <tr>\n",
       "      <th>4</th>\n",
       "      <td>1560035225190776846</td>\n",
       "      <td>2022-08-17T22:45:56.000Z</td>\n",
       "      <td>Disappointing service from @ZARA.  \\nOrdered a...</td>\n",
       "      <td>en</td>\n",
       "      <td>1560035225190776846</td>\n",
       "      <td>mentionedUsers</td>\n",
       "      <td>NaN</td>\n",
       "      <td>NaN</td>\n",
       "      <td>Twitter for Android</td>\n",
       "      <td>1433752245242408964</td>\n",
       "      <td>{'retweet_count': 0, 'reply_count': 1, 'like_c...</td>\n",
       "      <td>NaN</td>\n",
       "    </tr>\n",
       "    <tr>\n",
       "      <th>...</th>\n",
       "      <td>...</td>\n",
       "      <td>...</td>\n",
       "      <td>...</td>\n",
       "      <td>...</td>\n",
       "      <td>...</td>\n",
       "      <td>...</td>\n",
       "      <td>...</td>\n",
       "      <td>...</td>\n",
       "      <td>...</td>\n",
       "      <td>...</td>\n",
       "      <td>...</td>\n",
       "      <td>...</td>\n",
       "    </tr>\n",
       "    <tr>\n",
       "      <th>74</th>\n",
       "      <td>1558452009459748868</td>\n",
       "      <td>2022-08-13T13:54:48.000Z</td>\n",
       "      <td>@greenwashdotcom @_DirtyFashion_ @qz @hm @Higg...</td>\n",
       "      <td>en</td>\n",
       "      <td>1558435691989975041</td>\n",
       "      <td>everyone</td>\n",
       "      <td>[{'type': 'replied_to', 'id': '155843569198997...</td>\n",
       "      <td>1.491801e+18</td>\n",
       "      <td>Twitter for iPhone</td>\n",
       "      <td>1224824519996723206</td>\n",
       "      <td>{'retweet_count': 0, 'reply_count': 0, 'like_c...</td>\n",
       "      <td>NaN</td>\n",
       "    </tr>\n",
       "    <tr>\n",
       "      <th>75</th>\n",
       "      <td>1558364150518239232</td>\n",
       "      <td>2022-08-13T08:05:41.000Z</td>\n",
       "      <td>@avneetkaur_13 I wore this outfit yesterday bu...</td>\n",
       "      <td>en</td>\n",
       "      <td>1558364150518239232</td>\n",
       "      <td>everyone</td>\n",
       "      <td>NaN</td>\n",
       "      <td>7.880625e+17</td>\n",
       "      <td>Instagram</td>\n",
       "      <td>1437114287894327298</td>\n",
       "      <td>{'retweet_count': 0, 'reply_count': 0, 'like_c...</td>\n",
       "      <td>{'place_id': '7929cea6bd5b32bd', 'coordinates'...</td>\n",
       "    </tr>\n",
       "    <tr>\n",
       "      <th>76</th>\n",
       "      <td>1558359664215179264</td>\n",
       "      <td>2022-08-13T07:47:51.000Z</td>\n",
       "      <td>#sjcartierltd #reselling #brandnew &amp;amp; #used...</td>\n",
       "      <td>en</td>\n",
       "      <td>1558359664215179264</td>\n",
       "      <td>everyone</td>\n",
       "      <td>NaN</td>\n",
       "      <td>NaN</td>\n",
       "      <td>Twitter for Android</td>\n",
       "      <td>1273298286204661760</td>\n",
       "      <td>{'retweet_count': 0, 'reply_count': 0, 'like_c...</td>\n",
       "      <td>NaN</td>\n",
       "    </tr>\n",
       "    <tr>\n",
       "      <th>77</th>\n",
       "      <td>1558302374686588928</td>\n",
       "      <td>2022-08-13T04:00:12.000Z</td>\n",
       "      <td>i liked my outfit yesterday 🙆🏻‍♀️\\npolo: @uniq...</td>\n",
       "      <td>en</td>\n",
       "      <td>1558302374686588928</td>\n",
       "      <td>everyone</td>\n",
       "      <td>NaN</td>\n",
       "      <td>NaN</td>\n",
       "      <td>Instagram</td>\n",
       "      <td>95186322</td>\n",
       "      <td>{'retweet_count': 0, 'reply_count': 0, 'like_c...</td>\n",
       "      <td>NaN</td>\n",
       "    </tr>\n",
       "    <tr>\n",
       "      <th>78</th>\n",
       "      <td>1558264488159285256</td>\n",
       "      <td>2022-08-13T01:29:39.000Z</td>\n",
       "      <td>#outfitoftheday @macys jewelry @CalvinKlein he...</td>\n",
       "      <td>en</td>\n",
       "      <td>1558264488159285256</td>\n",
       "      <td>everyone</td>\n",
       "      <td>NaN</td>\n",
       "      <td>NaN</td>\n",
       "      <td>Twitter for Android</td>\n",
       "      <td>1549124854812639232</td>\n",
       "      <td>{'retweet_count': 0, 'reply_count': 0, 'like_c...</td>\n",
       "      <td>NaN</td>\n",
       "    </tr>\n",
       "  </tbody>\n",
       "</table>\n",
       "<p>79 rows × 12 columns</p>\n",
       "</div>"
      ],
      "text/plain": [
       "                     id                created_at  \\\n",
       "0   1560364876853280770  2022-08-18T20:35:51.000Z   \n",
       "1   1560349998528724995  2022-08-18T19:36:44.000Z   \n",
       "2   1560344787659661312  2022-08-18T19:16:01.000Z   \n",
       "3   1560263688048689152  2022-08-18T13:53:46.000Z   \n",
       "4   1560035225190776846  2022-08-17T22:45:56.000Z   \n",
       "..                  ...                       ...   \n",
       "74  1558452009459748868  2022-08-13T13:54:48.000Z   \n",
       "75  1558364150518239232  2022-08-13T08:05:41.000Z   \n",
       "76  1558359664215179264  2022-08-13T07:47:51.000Z   \n",
       "77  1558302374686588928  2022-08-13T04:00:12.000Z   \n",
       "78  1558264488159285256  2022-08-13T01:29:39.000Z   \n",
       "\n",
       "                                                 text lang  \\\n",
       "0   @EJGSH @ZARA I tried, literally nobody gives a...   en   \n",
       "1   Are @ZARA kids clothes true to size? or a litt...   en   \n",
       "2   Bought a pair of pants from @ZARA had them for...   en   \n",
       "3   @climatecorporat @ZARA @UniqloUSA @hm Anything...   en   \n",
       "4   Disappointing service from @ZARA.  \\nOrdered a...   en   \n",
       "..                                                ...  ...   \n",
       "74  @greenwashdotcom @_DirtyFashion_ @qz @hm @Higg...   en   \n",
       "75  @avneetkaur_13 I wore this outfit yesterday bu...   en   \n",
       "76  #sjcartierltd #reselling #brandnew &amp; #used...   en   \n",
       "77  i liked my outfit yesterday 🙆🏻‍♀️\\npolo: @uniq...   en   \n",
       "78  #outfitoftheday @macys jewelry @CalvinKlein he...   en   \n",
       "\n",
       "        conversation_id  reply_settings  \\\n",
       "0   1560344787659661312        everyone   \n",
       "1   1560349998528724995        everyone   \n",
       "2   1560344787659661312        everyone   \n",
       "3   1560238655033053184        everyone   \n",
       "4   1560035225190776846  mentionedUsers   \n",
       "..                  ...             ...   \n",
       "74  1558435691989975041        everyone   \n",
       "75  1558364150518239232        everyone   \n",
       "76  1558359664215179264        everyone   \n",
       "77  1558302374686588928        everyone   \n",
       "78  1558264488159285256        everyone   \n",
       "\n",
       "                                    referenced_tweets  in_reply_to_user_id  \\\n",
       "0   [{'type': 'replied_to', 'id': '156035492260387...         3.001121e+07   \n",
       "1                                                 NaN                  NaN   \n",
       "2                                                 NaN                  NaN   \n",
       "3   [{'type': 'replied_to', 'id': '156024155013919...         1.403416e+18   \n",
       "4                                                 NaN                  NaN   \n",
       "..                                                ...                  ...   \n",
       "74  [{'type': 'replied_to', 'id': '155843569198997...         1.491801e+18   \n",
       "75                                                NaN         7.880625e+17   \n",
       "76                                                NaN                  NaN   \n",
       "77                                                NaN                  NaN   \n",
       "78                                                NaN                  NaN   \n",
       "\n",
       "                 source            author_id  \\\n",
       "0    Twitter for iPhone             23023560   \n",
       "1    Twitter for iPhone  1162452050896203776   \n",
       "2    Twitter for iPhone             23023560   \n",
       "3   Twitter for Android           2837589067   \n",
       "4   Twitter for Android  1433752245242408964   \n",
       "..                  ...                  ...   \n",
       "74   Twitter for iPhone  1224824519996723206   \n",
       "75            Instagram  1437114287894327298   \n",
       "76  Twitter for Android  1273298286204661760   \n",
       "77            Instagram             95186322   \n",
       "78  Twitter for Android  1549124854812639232   \n",
       "\n",
       "                                       public_metrics  \\\n",
       "0   {'retweet_count': 0, 'reply_count': 1, 'like_c...   \n",
       "1   {'retweet_count': 0, 'reply_count': 1, 'like_c...   \n",
       "2   {'retweet_count': 0, 'reply_count': 2, 'like_c...   \n",
       "3   {'retweet_count': 0, 'reply_count': 1, 'like_c...   \n",
       "4   {'retweet_count': 0, 'reply_count': 1, 'like_c...   \n",
       "..                                                ...   \n",
       "74  {'retweet_count': 0, 'reply_count': 0, 'like_c...   \n",
       "75  {'retweet_count': 0, 'reply_count': 0, 'like_c...   \n",
       "76  {'retweet_count': 0, 'reply_count': 0, 'like_c...   \n",
       "77  {'retweet_count': 0, 'reply_count': 0, 'like_c...   \n",
       "78  {'retweet_count': 0, 'reply_count': 0, 'like_c...   \n",
       "\n",
       "                                                  geo  \n",
       "0                                                 NaN  \n",
       "1                                                 NaN  \n",
       "2                                                 NaN  \n",
       "3                                                 NaN  \n",
       "4                                                 NaN  \n",
       "..                                                ...  \n",
       "74                                                NaN  \n",
       "75  {'place_id': '7929cea6bd5b32bd', 'coordinates'...  \n",
       "76                                                NaN  \n",
       "77                                                NaN  \n",
       "78                                                NaN  \n",
       "\n",
       "[79 rows x 12 columns]"
      ]
     },
     "execution_count": 4,
     "metadata": {},
     "output_type": "execute_result"
    }
   ],
   "source": [
    "tweets"
   ]
  },
  {
   "cell_type": "markdown",
   "id": "0086b7b9",
   "metadata": {},
   "source": [
    "## Basic Generalizable Preprocessing"
   ]
  },
  {
   "cell_type": "code",
   "execution_count": 5,
   "id": "f1e311b1",
   "metadata": {},
   "outputs": [],
   "source": [
    "#need general preprocessing function to clean my tweets--lowercase, remove punctuation, remove emojis, etc."
   ]
  },
  {
   "cell_type": "code",
   "execution_count": 6,
   "id": "87d77e28",
   "metadata": {},
   "outputs": [],
   "source": [
    "#utilizing same function I used for review data"
   ]
  },
  {
   "cell_type": "code",
   "execution_count": 7,
   "id": "0fbd887a",
   "metadata": {},
   "outputs": [],
   "source": [
    "\n",
    "# Create a tokenizer \n",
    "pattern = \"([a-zA-Z]+(?:'[a-z]+)?)\"\n",
    "tokenizer = RegexpTokenizer(pattern)\n",
    "\n",
    "# Create list of stopwords in English (language of the reviews)\n",
    "stopwords_list = stopwords.words(\"english\")\n",
    "# Remove \"very\" from the list of stopwords \n",
    "stopwords_list.remove(\"very\")\n",
    "\n",
    "# Create an instance of nltk's WordNetLemmatizer with the variable name `lemmatizer`\n",
    "lemmatizer = WordNetLemmatizer()"
   ]
  },
  {
   "cell_type": "code",
   "execution_count": 8,
   "id": "4155e64d",
   "metadata": {},
   "outputs": [],
   "source": [
    "def preprocess_text(text, tokenizer, stopwords_list, lemmatizer):\n",
    "    # Standardize case (lowercase the text)\n",
    "    lowered_text = text.lower()\n",
    "    \n",
    "    # Tokenize text using `tokenizer`\n",
    "    tokens = tokenizer.tokenize(lowered_text)\n",
    "    \n",
    "    # Remove stopwords using `stopwords_list` and removing punctuation and strings with non-alphabetic properties \n",
    "    stopped_tokens = [word for word in tokens if word not in stopwords_list and word not in string.punctuation and word.isalpha()]\n",
    "    \n",
    "    # Lemmatize the tokenized text using `lemmatizer`\n",
    "    lemmatized_text = [lemmatizer.lemmatize(token) for token in stopped_tokens]\n",
    "    \n",
    "    # Return the preprocessed text\n",
    "    return lemmatized_text"
   ]
  },
  {
   "cell_type": "code",
   "execution_count": 9,
   "id": "fd649ce8",
   "metadata": {},
   "outputs": [],
   "source": [
    "text = tweets['text']"
   ]
  },
  {
   "cell_type": "code",
   "execution_count": 10,
   "id": "ef3f5467",
   "metadata": {},
   "outputs": [
    {
     "data": {
      "text/plain": [
       "0     @EJGSH @ZARA I tried, literally nobody gives a...\n",
       "1     Are @ZARA kids clothes true to size? or a litt...\n",
       "2     Bought a pair of pants from @ZARA had them for...\n",
       "3     @climatecorporat @ZARA @UniqloUSA @hm Anything...\n",
       "4     Disappointing service from @ZARA.  \\nOrdered a...\n",
       "                            ...                        \n",
       "74    @greenwashdotcom @_DirtyFashion_ @qz @hm @Higg...\n",
       "75    @avneetkaur_13 I wore this outfit yesterday bu...\n",
       "76    #sjcartierltd #reselling #brandnew &amp; #used...\n",
       "77    i liked my outfit yesterday 🙆🏻‍♀️\\npolo: @uniq...\n",
       "78    #outfitoftheday @macys jewelry @CalvinKlein he...\n",
       "Name: text, Length: 79, dtype: object"
      ]
     },
     "execution_count": 10,
     "metadata": {},
     "output_type": "execute_result"
    }
   ],
   "source": [
    "text"
   ]
  },
  {
   "cell_type": "code",
   "execution_count": 11,
   "id": "6951e3ec",
   "metadata": {},
   "outputs": [],
   "source": [
    "text = text.apply(lambda x: preprocess_text(x, tokenizer, stopwords_list, lemmatizer))"
   ]
  },
  {
   "cell_type": "code",
   "execution_count": 12,
   "id": "e1ba9cd6",
   "metadata": {},
   "outputs": [
    {
     "data": {
      "text/plain": [
       "0     [ejgsh, zara, tried, literally, nobody, give, ...\n",
       "1     [zara, kid, clothes, true, size, little, smaller]\n",
       "2     [bought, pair, pant, zara, two, week, hole, ri...\n",
       "3     [climatecorporat, zara, uniqlousa, hm, anythin...\n",
       "4     [disappointing, service, zara, ordered, pair, ...\n",
       "                            ...                        \n",
       "74    [greenwashdotcom, dirtyfashion, qz, hm, higgda...\n",
       "75    [avneetkaur, wore, outfit, yesterday, going, d...\n",
       "76    [sjcartierltd, reselling, brandnew, amp, used,...\n",
       "77    [liked, outfit, yesterday, polo, uniqlophoffic...\n",
       "78    [outfitoftheday, macys, jewelry, calvinklein, ...\n",
       "Name: text, Length: 79, dtype: object"
      ]
     },
     "execution_count": 12,
     "metadata": {},
     "output_type": "execute_result"
    }
   ],
   "source": [
    "text"
   ]
  },
  {
   "cell_type": "code",
   "execution_count": 13,
   "id": "efca47c4",
   "metadata": {},
   "outputs": [],
   "source": [
    "text = text.str.join(\" \")"
   ]
  },
  {
   "cell_type": "code",
   "execution_count": 14,
   "id": "64257183",
   "metadata": {},
   "outputs": [
    {
     "data": {
      "text/plain": [
       "0     ejgsh zara tried literally nobody give shit pi...\n",
       "1             zara kid clothes true size little smaller\n",
       "2     bought pair pant zara two week hole ripped sea...\n",
       "3     climatecorporat zara uniqlousa hm anything tha...\n",
       "4     disappointing service zara ordered pair trouse...\n",
       "                            ...                        \n",
       "74    greenwashdotcom dirtyfashion qz hm higgdata h ...\n",
       "75    avneetkaur wore outfit yesterday going differe...\n",
       "76    sjcartierltd reselling brandnew amp used colle...\n",
       "77    liked outfit yesterday polo uniqlophofficial d...\n",
       "78    outfitoftheday macys jewelry calvinklein heel ...\n",
       "Name: text, Length: 79, dtype: object"
      ]
     },
     "execution_count": 14,
     "metadata": {},
     "output_type": "execute_result"
    }
   ],
   "source": [
    "text"
   ]
  },
  {
   "cell_type": "markdown",
   "id": "c9665f1b",
   "metadata": {},
   "source": [
    "## Instantiating and Fitting Final Model to Create Predictions"
   ]
  },
  {
   "cell_type": "code",
   "execution_count": 15,
   "id": "6328fa3e",
   "metadata": {},
   "outputs": [],
   "source": [
    "df = pd.read_csv('./data/final_data.csv')"
   ]
  },
  {
   "cell_type": "code",
   "execution_count": 16,
   "id": "415df5fb",
   "metadata": {},
   "outputs": [],
   "source": [
    "# Specify X as the cleaned strings in df and y as the target-Positive_Rating.\n",
    "X = df['String']\n",
    "y = df['Positive_Rating']"
   ]
  },
  {
   "cell_type": "code",
   "execution_count": 17,
   "id": "15e9bdf4",
   "metadata": {},
   "outputs": [],
   "source": [
    "#Performed the train-test split, using 20% for the hold-out data.\n",
    "X_train, X_test, y_train, y_test = train_test_split(X,\n",
    "                                                    y,\n",
    "                                                    random_state=42,\n",
    "                                                    test_size=0.20)"
   ]
  },
  {
   "cell_type": "code",
   "execution_count": 18,
   "id": "6b055c12",
   "metadata": {},
   "outputs": [],
   "source": [
    "final_model = Pipeline([\n",
    "           ('vect', TfidfVectorizer(max_df=.35, max_features=3000, ngram_range=(1,2))),\n",
    "           ('lr', LogisticRegression(random_state=42, solver='lbfgs', C=3, max_iter=30))])"
   ]
  },
  {
   "cell_type": "code",
   "execution_count": 19,
   "id": "c374d3a0",
   "metadata": {},
   "outputs": [
    {
     "name": "stderr",
     "output_type": "stream",
     "text": [
      "/Users/jillian/opt/anaconda3/envs/learn-env/lib/python3.8/site-packages/sklearn/linear_model/_logistic.py:444: ConvergenceWarning: lbfgs failed to converge (status=1):\n",
      "STOP: TOTAL NO. of ITERATIONS REACHED LIMIT.\n",
      "\n",
      "Increase the number of iterations (max_iter) or scale the data as shown in:\n",
      "    https://scikit-learn.org/stable/modules/preprocessing.html\n",
      "Please also refer to the documentation for alternative solver options:\n",
      "    https://scikit-learn.org/stable/modules/linear_model.html#logistic-regression\n",
      "  n_iter_i = _check_optimize_result(\n"
     ]
    },
    {
     "data": {
      "text/html": [
       "<style>#sk-container-id-1 {color: black;background-color: white;}#sk-container-id-1 pre{padding: 0;}#sk-container-id-1 div.sk-toggleable {background-color: white;}#sk-container-id-1 label.sk-toggleable__label {cursor: pointer;display: block;width: 100%;margin-bottom: 0;padding: 0.3em;box-sizing: border-box;text-align: center;}#sk-container-id-1 label.sk-toggleable__label-arrow:before {content: \"▸\";float: left;margin-right: 0.25em;color: #696969;}#sk-container-id-1 label.sk-toggleable__label-arrow:hover:before {color: black;}#sk-container-id-1 div.sk-estimator:hover label.sk-toggleable__label-arrow:before {color: black;}#sk-container-id-1 div.sk-toggleable__content {max-height: 0;max-width: 0;overflow: hidden;text-align: left;background-color: #f0f8ff;}#sk-container-id-1 div.sk-toggleable__content pre {margin: 0.2em;color: black;border-radius: 0.25em;background-color: #f0f8ff;}#sk-container-id-1 input.sk-toggleable__control:checked~div.sk-toggleable__content {max-height: 200px;max-width: 100%;overflow: auto;}#sk-container-id-1 input.sk-toggleable__control:checked~label.sk-toggleable__label-arrow:before {content: \"▾\";}#sk-container-id-1 div.sk-estimator input.sk-toggleable__control:checked~label.sk-toggleable__label {background-color: #d4ebff;}#sk-container-id-1 div.sk-label input.sk-toggleable__control:checked~label.sk-toggleable__label {background-color: #d4ebff;}#sk-container-id-1 input.sk-hidden--visually {border: 0;clip: rect(1px 1px 1px 1px);clip: rect(1px, 1px, 1px, 1px);height: 1px;margin: -1px;overflow: hidden;padding: 0;position: absolute;width: 1px;}#sk-container-id-1 div.sk-estimator {font-family: monospace;background-color: #f0f8ff;border: 1px dotted black;border-radius: 0.25em;box-sizing: border-box;margin-bottom: 0.5em;}#sk-container-id-1 div.sk-estimator:hover {background-color: #d4ebff;}#sk-container-id-1 div.sk-parallel-item::after {content: \"\";width: 100%;border-bottom: 1px solid gray;flex-grow: 1;}#sk-container-id-1 div.sk-label:hover label.sk-toggleable__label {background-color: #d4ebff;}#sk-container-id-1 div.sk-serial::before {content: \"\";position: absolute;border-left: 1px solid gray;box-sizing: border-box;top: 0;bottom: 0;left: 50%;z-index: 0;}#sk-container-id-1 div.sk-serial {display: flex;flex-direction: column;align-items: center;background-color: white;padding-right: 0.2em;padding-left: 0.2em;position: relative;}#sk-container-id-1 div.sk-item {position: relative;z-index: 1;}#sk-container-id-1 div.sk-parallel {display: flex;align-items: stretch;justify-content: center;background-color: white;position: relative;}#sk-container-id-1 div.sk-item::before, #sk-container-id-1 div.sk-parallel-item::before {content: \"\";position: absolute;border-left: 1px solid gray;box-sizing: border-box;top: 0;bottom: 0;left: 50%;z-index: -1;}#sk-container-id-1 div.sk-parallel-item {display: flex;flex-direction: column;z-index: 1;position: relative;background-color: white;}#sk-container-id-1 div.sk-parallel-item:first-child::after {align-self: flex-end;width: 50%;}#sk-container-id-1 div.sk-parallel-item:last-child::after {align-self: flex-start;width: 50%;}#sk-container-id-1 div.sk-parallel-item:only-child::after {width: 0;}#sk-container-id-1 div.sk-dashed-wrapped {border: 1px dashed gray;margin: 0 0.4em 0.5em 0.4em;box-sizing: border-box;padding-bottom: 0.4em;background-color: white;}#sk-container-id-1 div.sk-label label {font-family: monospace;font-weight: bold;display: inline-block;line-height: 1.2em;}#sk-container-id-1 div.sk-label-container {text-align: center;}#sk-container-id-1 div.sk-container {/* jupyter's `normalize.less` sets `[hidden] { display: none; }` but bootstrap.min.css set `[hidden] { display: none !important; }` so we also need the `!important` here to be able to override the default hidden behavior on the sphinx rendered scikit-learn.org. See: https://github.com/scikit-learn/scikit-learn/issues/21755 */display: inline-block !important;position: relative;}#sk-container-id-1 div.sk-text-repr-fallback {display: none;}</style><div id=\"sk-container-id-1\" class=\"sk-top-container\"><div class=\"sk-text-repr-fallback\"><pre>Pipeline(steps=[(&#x27;vect&#x27;,\n",
       "                 TfidfVectorizer(max_df=0.35, max_features=3000,\n",
       "                                 ngram_range=(1, 2))),\n",
       "                (&#x27;lr&#x27;, LogisticRegression(C=3, max_iter=30, random_state=42))])</pre><b>In a Jupyter environment, please rerun this cell to show the HTML representation or trust the notebook. <br />On GitHub, the HTML representation is unable to render, please try loading this page with nbviewer.org.</b></div><div class=\"sk-container\" hidden><div class=\"sk-item sk-dashed-wrapped\"><div class=\"sk-label-container\"><div class=\"sk-label sk-toggleable\"><input class=\"sk-toggleable__control sk-hidden--visually\" id=\"sk-estimator-id-1\" type=\"checkbox\" ><label for=\"sk-estimator-id-1\" class=\"sk-toggleable__label sk-toggleable__label-arrow\">Pipeline</label><div class=\"sk-toggleable__content\"><pre>Pipeline(steps=[(&#x27;vect&#x27;,\n",
       "                 TfidfVectorizer(max_df=0.35, max_features=3000,\n",
       "                                 ngram_range=(1, 2))),\n",
       "                (&#x27;lr&#x27;, LogisticRegression(C=3, max_iter=30, random_state=42))])</pre></div></div></div><div class=\"sk-serial\"><div class=\"sk-item\"><div class=\"sk-estimator sk-toggleable\"><input class=\"sk-toggleable__control sk-hidden--visually\" id=\"sk-estimator-id-2\" type=\"checkbox\" ><label for=\"sk-estimator-id-2\" class=\"sk-toggleable__label sk-toggleable__label-arrow\">TfidfVectorizer</label><div class=\"sk-toggleable__content\"><pre>TfidfVectorizer(max_df=0.35, max_features=3000, ngram_range=(1, 2))</pre></div></div></div><div class=\"sk-item\"><div class=\"sk-estimator sk-toggleable\"><input class=\"sk-toggleable__control sk-hidden--visually\" id=\"sk-estimator-id-3\" type=\"checkbox\" ><label for=\"sk-estimator-id-3\" class=\"sk-toggleable__label sk-toggleable__label-arrow\">LogisticRegression</label><div class=\"sk-toggleable__content\"><pre>LogisticRegression(C=3, max_iter=30, random_state=42)</pre></div></div></div></div></div></div></div>"
      ],
      "text/plain": [
       "Pipeline(steps=[('vect',\n",
       "                 TfidfVectorizer(max_df=0.35, max_features=3000,\n",
       "                                 ngram_range=(1, 2))),\n",
       "                ('lr', LogisticRegression(C=3, max_iter=30, random_state=42))])"
      ]
     },
     "execution_count": 19,
     "metadata": {},
     "output_type": "execute_result"
    }
   ],
   "source": [
    "final_model.fit(X_train, y_train)"
   ]
  },
  {
   "cell_type": "code",
   "execution_count": 20,
   "id": "d6783757",
   "metadata": {},
   "outputs": [
    {
     "data": {
      "text/plain": [
       "0.9122128975265018"
      ]
     },
     "execution_count": 20,
     "metadata": {},
     "output_type": "execute_result"
    }
   ],
   "source": [
    "final_model.score(X_train, y_train)"
   ]
  },
  {
   "cell_type": "code",
   "execution_count": 21,
   "id": "d321996f",
   "metadata": {},
   "outputs": [],
   "source": [
    "#confirming same score; fit was correct--will run tweets through model"
   ]
  },
  {
   "cell_type": "code",
   "execution_count": 22,
   "id": "3414462c",
   "metadata": {},
   "outputs": [],
   "source": [
    "predictions = final_model.predict(text)"
   ]
  },
  {
   "cell_type": "code",
   "execution_count": 23,
   "id": "33272df8",
   "metadata": {},
   "outputs": [
    {
     "data": {
      "text/plain": [
       "0     ejgsh zara tried literally nobody give shit pi...\n",
       "1             zara kid clothes true size little smaller\n",
       "2     bought pair pant zara two week hole ripped sea...\n",
       "3     climatecorporat zara uniqlousa hm anything tha...\n",
       "4     disappointing service zara ordered pair trouse...\n",
       "                            ...                        \n",
       "74    greenwashdotcom dirtyfashion qz hm higgdata h ...\n",
       "75    avneetkaur wore outfit yesterday going differe...\n",
       "76    sjcartierltd reselling brandnew amp used colle...\n",
       "77    liked outfit yesterday polo uniqlophofficial d...\n",
       "78    outfitoftheday macys jewelry calvinklein heel ...\n",
       "Name: text, Length: 79, dtype: object"
      ]
     },
     "execution_count": 23,
     "metadata": {},
     "output_type": "execute_result"
    }
   ],
   "source": [
    "text"
   ]
  },
  {
   "cell_type": "code",
   "execution_count": 24,
   "id": "fe967bc1",
   "metadata": {},
   "outputs": [
    {
     "data": {
      "text/plain": [
       "array([1, 1, 0, 1, 0, 0, 1, 0, 0, 1, 1, 1, 1, 1, 0, 1, 1, 1, 1, 1, 0, 1,\n",
       "       1, 1, 1, 0, 1, 1, 1, 1, 1, 1, 1, 1, 1, 1, 1, 1, 1, 1, 1, 1, 1, 1,\n",
       "       1, 1, 1, 1, 1, 1, 1, 1, 1, 1, 1, 1, 1, 1, 1, 1, 1, 1, 1, 1, 1, 1,\n",
       "       1, 0, 1, 1, 1, 1, 0, 1, 1, 1, 1, 1, 1])"
      ]
     },
     "execution_count": 24,
     "metadata": {},
     "output_type": "execute_result"
    }
   ],
   "source": [
    "predictions"
   ]
  },
  {
   "cell_type": "code",
   "execution_count": 25,
   "id": "a2c04dba",
   "metadata": {},
   "outputs": [
    {
     "data": {
      "text/plain": [
       "79"
      ]
     },
     "execution_count": 25,
     "metadata": {},
     "output_type": "execute_result"
    }
   ],
   "source": [
    "len(predictions)"
   ]
  },
  {
   "cell_type": "code",
   "execution_count": 26,
   "id": "114243bf",
   "metadata": {},
   "outputs": [],
   "source": [
    "text_df = pd.DataFrame(tweets['text'])"
   ]
  },
  {
   "cell_type": "code",
   "execution_count": 27,
   "id": "e0d59fc3",
   "metadata": {},
   "outputs": [
    {
     "data": {
      "text/html": [
       "<div>\n",
       "<style scoped>\n",
       "    .dataframe tbody tr th:only-of-type {\n",
       "        vertical-align: middle;\n",
       "    }\n",
       "\n",
       "    .dataframe tbody tr th {\n",
       "        vertical-align: top;\n",
       "    }\n",
       "\n",
       "    .dataframe thead th {\n",
       "        text-align: right;\n",
       "    }\n",
       "</style>\n",
       "<table border=\"1\" class=\"dataframe\">\n",
       "  <thead>\n",
       "    <tr style=\"text-align: right;\">\n",
       "      <th></th>\n",
       "      <th>text</th>\n",
       "    </tr>\n",
       "  </thead>\n",
       "  <tbody>\n",
       "    <tr>\n",
       "      <th>0</th>\n",
       "      <td>@EJGSH @ZARA I tried, literally nobody gives a...</td>\n",
       "    </tr>\n",
       "    <tr>\n",
       "      <th>1</th>\n",
       "      <td>Are @ZARA kids clothes true to size? or a litt...</td>\n",
       "    </tr>\n",
       "    <tr>\n",
       "      <th>2</th>\n",
       "      <td>Bought a pair of pants from @ZARA had them for...</td>\n",
       "    </tr>\n",
       "    <tr>\n",
       "      <th>3</th>\n",
       "      <td>@climatecorporat @ZARA @UniqloUSA @hm Anything...</td>\n",
       "    </tr>\n",
       "    <tr>\n",
       "      <th>4</th>\n",
       "      <td>Disappointing service from @ZARA.  \\nOrdered a...</td>\n",
       "    </tr>\n",
       "    <tr>\n",
       "      <th>...</th>\n",
       "      <td>...</td>\n",
       "    </tr>\n",
       "    <tr>\n",
       "      <th>74</th>\n",
       "      <td>@greenwashdotcom @_DirtyFashion_ @qz @hm @Higg...</td>\n",
       "    </tr>\n",
       "    <tr>\n",
       "      <th>75</th>\n",
       "      <td>@avneetkaur_13 I wore this outfit yesterday bu...</td>\n",
       "    </tr>\n",
       "    <tr>\n",
       "      <th>76</th>\n",
       "      <td>#sjcartierltd #reselling #brandnew &amp;amp; #used...</td>\n",
       "    </tr>\n",
       "    <tr>\n",
       "      <th>77</th>\n",
       "      <td>i liked my outfit yesterday 🙆🏻‍♀️\\npolo: @uniq...</td>\n",
       "    </tr>\n",
       "    <tr>\n",
       "      <th>78</th>\n",
       "      <td>#outfitoftheday @macys jewelry @CalvinKlein he...</td>\n",
       "    </tr>\n",
       "  </tbody>\n",
       "</table>\n",
       "<p>79 rows × 1 columns</p>\n",
       "</div>"
      ],
      "text/plain": [
       "                                                 text\n",
       "0   @EJGSH @ZARA I tried, literally nobody gives a...\n",
       "1   Are @ZARA kids clothes true to size? or a litt...\n",
       "2   Bought a pair of pants from @ZARA had them for...\n",
       "3   @climatecorporat @ZARA @UniqloUSA @hm Anything...\n",
       "4   Disappointing service from @ZARA.  \\nOrdered a...\n",
       "..                                                ...\n",
       "74  @greenwashdotcom @_DirtyFashion_ @qz @hm @Higg...\n",
       "75  @avneetkaur_13 I wore this outfit yesterday bu...\n",
       "76  #sjcartierltd #reselling #brandnew &amp; #used...\n",
       "77  i liked my outfit yesterday 🙆🏻‍♀️\\npolo: @uniq...\n",
       "78  #outfitoftheday @macys jewelry @CalvinKlein he...\n",
       "\n",
       "[79 rows x 1 columns]"
      ]
     },
     "execution_count": 27,
     "metadata": {},
     "output_type": "execute_result"
    }
   ],
   "source": [
    "text_df"
   ]
  },
  {
   "cell_type": "code",
   "execution_count": 28,
   "id": "6280f707",
   "metadata": {},
   "outputs": [],
   "source": [
    "predictions_df = pd.DataFrame(predictions)"
   ]
  },
  {
   "cell_type": "code",
   "execution_count": 29,
   "id": "5add50c6",
   "metadata": {},
   "outputs": [
    {
     "data": {
      "text/html": [
       "<div>\n",
       "<style scoped>\n",
       "    .dataframe tbody tr th:only-of-type {\n",
       "        vertical-align: middle;\n",
       "    }\n",
       "\n",
       "    .dataframe tbody tr th {\n",
       "        vertical-align: top;\n",
       "    }\n",
       "\n",
       "    .dataframe thead th {\n",
       "        text-align: right;\n",
       "    }\n",
       "</style>\n",
       "<table border=\"1\" class=\"dataframe\">\n",
       "  <thead>\n",
       "    <tr style=\"text-align: right;\">\n",
       "      <th></th>\n",
       "      <th>0</th>\n",
       "    </tr>\n",
       "  </thead>\n",
       "  <tbody>\n",
       "    <tr>\n",
       "      <th>0</th>\n",
       "      <td>1</td>\n",
       "    </tr>\n",
       "    <tr>\n",
       "      <th>1</th>\n",
       "      <td>1</td>\n",
       "    </tr>\n",
       "    <tr>\n",
       "      <th>2</th>\n",
       "      <td>0</td>\n",
       "    </tr>\n",
       "    <tr>\n",
       "      <th>3</th>\n",
       "      <td>1</td>\n",
       "    </tr>\n",
       "    <tr>\n",
       "      <th>4</th>\n",
       "      <td>0</td>\n",
       "    </tr>\n",
       "    <tr>\n",
       "      <th>...</th>\n",
       "      <td>...</td>\n",
       "    </tr>\n",
       "    <tr>\n",
       "      <th>74</th>\n",
       "      <td>1</td>\n",
       "    </tr>\n",
       "    <tr>\n",
       "      <th>75</th>\n",
       "      <td>1</td>\n",
       "    </tr>\n",
       "    <tr>\n",
       "      <th>76</th>\n",
       "      <td>1</td>\n",
       "    </tr>\n",
       "    <tr>\n",
       "      <th>77</th>\n",
       "      <td>1</td>\n",
       "    </tr>\n",
       "    <tr>\n",
       "      <th>78</th>\n",
       "      <td>1</td>\n",
       "    </tr>\n",
       "  </tbody>\n",
       "</table>\n",
       "<p>79 rows × 1 columns</p>\n",
       "</div>"
      ],
      "text/plain": [
       "    0\n",
       "0   1\n",
       "1   1\n",
       "2   0\n",
       "3   1\n",
       "4   0\n",
       ".. ..\n",
       "74  1\n",
       "75  1\n",
       "76  1\n",
       "77  1\n",
       "78  1\n",
       "\n",
       "[79 rows x 1 columns]"
      ]
     },
     "execution_count": 29,
     "metadata": {},
     "output_type": "execute_result"
    }
   ],
   "source": [
    "predictions_df"
   ]
  },
  {
   "cell_type": "code",
   "execution_count": 30,
   "id": "37be3199",
   "metadata": {},
   "outputs": [],
   "source": [
    "#combining original tweets with predicted classification for visual inspection"
   ]
  },
  {
   "cell_type": "code",
   "execution_count": 31,
   "id": "b9707813",
   "metadata": {},
   "outputs": [],
   "source": [
    "classification_df = text_df.join(predictions_df)"
   ]
  },
  {
   "cell_type": "code",
   "execution_count": 32,
   "id": "6029b98b",
   "metadata": {},
   "outputs": [
    {
     "data": {
      "text/html": [
       "<div>\n",
       "<style scoped>\n",
       "    .dataframe tbody tr th:only-of-type {\n",
       "        vertical-align: middle;\n",
       "    }\n",
       "\n",
       "    .dataframe tbody tr th {\n",
       "        vertical-align: top;\n",
       "    }\n",
       "\n",
       "    .dataframe thead th {\n",
       "        text-align: right;\n",
       "    }\n",
       "</style>\n",
       "<table border=\"1\" class=\"dataframe\">\n",
       "  <thead>\n",
       "    <tr style=\"text-align: right;\">\n",
       "      <th></th>\n",
       "      <th>text</th>\n",
       "      <th>0</th>\n",
       "    </tr>\n",
       "  </thead>\n",
       "  <tbody>\n",
       "    <tr>\n",
       "      <th>0</th>\n",
       "      <td>@EJGSH @ZARA I tried, literally nobody gives a...</td>\n",
       "      <td>1</td>\n",
       "    </tr>\n",
       "    <tr>\n",
       "      <th>1</th>\n",
       "      <td>Are @ZARA kids clothes true to size? or a litt...</td>\n",
       "      <td>1</td>\n",
       "    </tr>\n",
       "    <tr>\n",
       "      <th>2</th>\n",
       "      <td>Bought a pair of pants from @ZARA had them for...</td>\n",
       "      <td>0</td>\n",
       "    </tr>\n",
       "    <tr>\n",
       "      <th>3</th>\n",
       "      <td>@climatecorporat @ZARA @UniqloUSA @hm Anything...</td>\n",
       "      <td>1</td>\n",
       "    </tr>\n",
       "    <tr>\n",
       "      <th>4</th>\n",
       "      <td>Disappointing service from @ZARA.  \\nOrdered a...</td>\n",
       "      <td>0</td>\n",
       "    </tr>\n",
       "    <tr>\n",
       "      <th>...</th>\n",
       "      <td>...</td>\n",
       "      <td>...</td>\n",
       "    </tr>\n",
       "    <tr>\n",
       "      <th>74</th>\n",
       "      <td>@greenwashdotcom @_DirtyFashion_ @qz @hm @Higg...</td>\n",
       "      <td>1</td>\n",
       "    </tr>\n",
       "    <tr>\n",
       "      <th>75</th>\n",
       "      <td>@avneetkaur_13 I wore this outfit yesterday bu...</td>\n",
       "      <td>1</td>\n",
       "    </tr>\n",
       "    <tr>\n",
       "      <th>76</th>\n",
       "      <td>#sjcartierltd #reselling #brandnew &amp;amp; #used...</td>\n",
       "      <td>1</td>\n",
       "    </tr>\n",
       "    <tr>\n",
       "      <th>77</th>\n",
       "      <td>i liked my outfit yesterday 🙆🏻‍♀️\\npolo: @uniq...</td>\n",
       "      <td>1</td>\n",
       "    </tr>\n",
       "    <tr>\n",
       "      <th>78</th>\n",
       "      <td>#outfitoftheday @macys jewelry @CalvinKlein he...</td>\n",
       "      <td>1</td>\n",
       "    </tr>\n",
       "  </tbody>\n",
       "</table>\n",
       "<p>79 rows × 2 columns</p>\n",
       "</div>"
      ],
      "text/plain": [
       "                                                 text  0\n",
       "0   @EJGSH @ZARA I tried, literally nobody gives a...  1\n",
       "1   Are @ZARA kids clothes true to size? or a litt...  1\n",
       "2   Bought a pair of pants from @ZARA had them for...  0\n",
       "3   @climatecorporat @ZARA @UniqloUSA @hm Anything...  1\n",
       "4   Disappointing service from @ZARA.  \\nOrdered a...  0\n",
       "..                                                ... ..\n",
       "74  @greenwashdotcom @_DirtyFashion_ @qz @hm @Higg...  1\n",
       "75  @avneetkaur_13 I wore this outfit yesterday bu...  1\n",
       "76  #sjcartierltd #reselling #brandnew &amp; #used...  1\n",
       "77  i liked my outfit yesterday 🙆🏻‍♀️\\npolo: @uniq...  1\n",
       "78  #outfitoftheday @macys jewelry @CalvinKlein he...  1\n",
       "\n",
       "[79 rows x 2 columns]"
      ]
     },
     "execution_count": 32,
     "metadata": {},
     "output_type": "execute_result"
    }
   ],
   "source": [
    "classification_df"
   ]
  },
  {
   "cell_type": "code",
   "execution_count": 33,
   "id": "feb9a2cb",
   "metadata": {},
   "outputs": [],
   "source": [
    "pd.set_option('display.max_colwidth', None)"
   ]
  },
  {
   "cell_type": "code",
   "execution_count": 34,
   "id": "78b26cf0",
   "metadata": {},
   "outputs": [],
   "source": [
    "classification_df.rename(columns={'text': 'Tweet', 0: \"Predicted_Class\"}, inplace=True)"
   ]
  },
  {
   "cell_type": "code",
   "execution_count": 35,
   "id": "7a19b993",
   "metadata": {},
   "outputs": [
    {
     "data": {
      "text/html": [
       "<div>\n",
       "<style scoped>\n",
       "    .dataframe tbody tr th:only-of-type {\n",
       "        vertical-align: middle;\n",
       "    }\n",
       "\n",
       "    .dataframe tbody tr th {\n",
       "        vertical-align: top;\n",
       "    }\n",
       "\n",
       "    .dataframe thead th {\n",
       "        text-align: right;\n",
       "    }\n",
       "</style>\n",
       "<table border=\"1\" class=\"dataframe\">\n",
       "  <thead>\n",
       "    <tr style=\"text-align: right;\">\n",
       "      <th></th>\n",
       "      <th>Tweet</th>\n",
       "      <th>Predicted_Class</th>\n",
       "    </tr>\n",
       "  </thead>\n",
       "  <tbody>\n",
       "    <tr>\n",
       "      <th>0</th>\n",
       "      <td>@EJGSH @ZARA I tried, literally nobody gives a shit. I’m so pissed $40 pants and they’re just like “sorry buy a new pair”</td>\n",
       "      <td>1</td>\n",
       "    </tr>\n",
       "    <tr>\n",
       "      <th>1</th>\n",
       "      <td>Are @ZARA kids clothes true to size? or a little smaller?</td>\n",
       "      <td>1</td>\n",
       "    </tr>\n",
       "    <tr>\n",
       "      <th>2</th>\n",
       "      <td>Bought a pair of pants from @ZARA had them for two weeks before a hole ripped in the seam. I didn’t have my receipt and they told my there was nothing they could do. Greedy fucks with shit quality clothing.</td>\n",
       "      <td>0</td>\n",
       "    </tr>\n",
       "    <tr>\n",
       "      <th>3</th>\n",
       "      <td>@climatecorporat @ZARA @UniqloUSA @hm Anything. Thats produced for mass individual consumption cannot be sustainable . Bottled water, cars, packaged food, Clothes , shoes , Mobile , TV  , Tablets . Everything adds to Waste dump. Faster than ever before.</td>\n",
       "      <td>1</td>\n",
       "    </tr>\n",
       "    <tr>\n",
       "      <th>4</th>\n",
       "      <td>Disappointing service from @ZARA.  \\nOrdered a pair of trousers online and a pair of cargo pants showed up at my door 😱. Same barcode, so clearly issues at warehousing process. \\nPlease sort ASAP. https://t.co/vMe4JlT5Hf</td>\n",
       "      <td>0</td>\n",
       "    </tr>\n",
       "    <tr>\n",
       "      <th>5</th>\n",
       "      <td>@ZARA I bought a dark khaki bodysuit at Zara. I followed the instructions to wash it, but the colour of my bodysuit came out and it stained to my other clothes. My bodysuit is dark in someplace and light in someplace. The main thing is I haven’t even worn it. https://t.co/eLA88o2OoK</td>\n",
       "      <td>0</td>\n",
       "    </tr>\n",
       "    <tr>\n",
       "      <th>6</th>\n",
       "      <td>@UnderRynovation @ZARA Girl they gave me the whole run around talking about I couldn’t return a shirt that was damaged when they sold it to me and tried to say it was me</td>\n",
       "      <td>1</td>\n",
       "    </tr>\n",
       "    <tr>\n",
       "      <th>7</th>\n",
       "      <td>@ZARA Zara, I'm a huge fan of your clothes, as are so many of my friends, none of us are a size 6 or 8, please add some variation in your models so we can get a better idea what clothes look like on our size bodies</td>\n",
       "      <td>0</td>\n",
       "    </tr>\n",
       "    <tr>\n",
       "      <th>8</th>\n",
       "      <td>@CaroleGillis @Lammles @Wrangler Ooof I had a fight with Zara over something similar. Finally told them forget it and my mom fixed the hole. Customer service was abysmal and @ZARA lost a customer for life over a pair of $50 jeans. Hope it was worth it for them cuz my kid sure likes to spend money on clothes😂</td>\n",
       "      <td>0</td>\n",
       "    </tr>\n",
       "    <tr>\n",
       "      <th>9</th>\n",
       "      <td>@zara fuck you for not letting buy my skirt</td>\n",
       "      <td>1</td>\n",
       "    </tr>\n",
       "  </tbody>\n",
       "</table>\n",
       "</div>"
      ],
      "text/plain": [
       "                                                                                                                                                                                                                                                                                                                   Tweet  \\\n",
       "0                                                                                                                                                                                              @EJGSH @ZARA I tried, literally nobody gives a shit. I’m so pissed $40 pants and they’re just like “sorry buy a new pair”   \n",
       "1                                                                                                                                                                                                                                                              Are @ZARA kids clothes true to size? or a little smaller?   \n",
       "2                                                                                                         Bought a pair of pants from @ZARA had them for two weeks before a hole ripped in the seam. I didn’t have my receipt and they told my there was nothing they could do. Greedy fucks with shit quality clothing.   \n",
       "3                                                          @climatecorporat @ZARA @UniqloUSA @hm Anything. Thats produced for mass individual consumption cannot be sustainable . Bottled water, cars, packaged food, Clothes , shoes , Mobile , TV  , Tablets . Everything adds to Waste dump. Faster than ever before.   \n",
       "4                                                                                           Disappointing service from @ZARA.  \\nOrdered a pair of trousers online and a pair of cargo pants showed up at my door 😱. Same barcode, so clearly issues at warehousing process. \\nPlease sort ASAP. https://t.co/vMe4JlT5Hf   \n",
       "5                            @ZARA I bought a dark khaki bodysuit at Zara. I followed the instructions to wash it, but the colour of my bodysuit came out and it stained to my other clothes. My bodysuit is dark in someplace and light in someplace. The main thing is I haven’t even worn it. https://t.co/eLA88o2OoK   \n",
       "6                                                                                                                                              @UnderRynovation @ZARA Girl they gave me the whole run around talking about I couldn’t return a shirt that was damaged when they sold it to me and tried to say it was me   \n",
       "7                                                                                                 @ZARA Zara, I'm a huge fan of your clothes, as are so many of my friends, none of us are a size 6 or 8, please add some variation in your models so we can get a better idea what clothes look like on our size bodies   \n",
       "8  @CaroleGillis @Lammles @Wrangler Ooof I had a fight with Zara over something similar. Finally told them forget it and my mom fixed the hole. Customer service was abysmal and @ZARA lost a customer for life over a pair of $50 jeans. Hope it was worth it for them cuz my kid sure likes to spend money on clothes😂   \n",
       "9                                                                                                                                                                                                                                                                            @zara fuck you for not letting buy my skirt   \n",
       "\n",
       "   Predicted_Class  \n",
       "0                1  \n",
       "1                1  \n",
       "2                0  \n",
       "3                1  \n",
       "4                0  \n",
       "5                0  \n",
       "6                1  \n",
       "7                0  \n",
       "8                0  \n",
       "9                1  "
      ]
     },
     "execution_count": 35,
     "metadata": {},
     "output_type": "execute_result"
    }
   ],
   "source": [
    "classification_df[:10]"
   ]
  },
  {
   "cell_type": "code",
   "execution_count": 36,
   "id": "fa5f98cc",
   "metadata": {},
   "outputs": [],
   "source": [
    "#Incorrectly classed tweets:\n",
    "#tweet 0, 3, 6, 7, 9 is clearly negative or need improvements and predicted as positive"
   ]
  },
  {
   "cell_type": "code",
   "execution_count": 37,
   "id": "1a2253b4",
   "metadata": {},
   "outputs": [],
   "source": [
    "#Correctly classed tweets:\n",
    "#tweet 2, 4, 5, 8"
   ]
  },
  {
   "cell_type": "code",
   "execution_count": 38,
   "id": "66a51ccc",
   "metadata": {},
   "outputs": [],
   "source": [
    "#tweet 1 is neutral"
   ]
  },
  {
   "cell_type": "code",
   "execution_count": 39,
   "id": "2cc8b5c8",
   "metadata": {},
   "outputs": [
    {
     "data": {
      "text/html": [
       "<div>\n",
       "<style scoped>\n",
       "    .dataframe tbody tr th:only-of-type {\n",
       "        vertical-align: middle;\n",
       "    }\n",
       "\n",
       "    .dataframe tbody tr th {\n",
       "        vertical-align: top;\n",
       "    }\n",
       "\n",
       "    .dataframe thead th {\n",
       "        text-align: right;\n",
       "    }\n",
       "</style>\n",
       "<table border=\"1\" class=\"dataframe\">\n",
       "  <thead>\n",
       "    <tr style=\"text-align: right;\">\n",
       "      <th></th>\n",
       "      <th>Tweet</th>\n",
       "      <th>Predicted_Class</th>\n",
       "    </tr>\n",
       "  </thead>\n",
       "  <tbody>\n",
       "    <tr>\n",
       "      <th>10</th>\n",
       "      <td>Queen B said it best 💅🏽✨ Dress is from @zara Heels @express Watch is @mvmtforher #grwmreel #fashionstyle #zaradress #pinkoutfit #goingoutoutfit #datenightoutfit https://t.co/t0klk5Ofyi</td>\n",
       "      <td>1</td>\n",
       "    </tr>\n",
       "    <tr>\n",
       "      <th>11</th>\n",
       "      <td>💚\\n\\nJeans: @zara \\nShoe: @zara \\nShirt: @degeorgescouture \\nWatch: @casiovintage_eu \\n\\n#slimchoko #chokovibes #fashiontrend #summeroutfit #modelsearch #zaraoutfit #zaramen #zarachocolate @ Northampton, Northamptonshire https://t.co/mYhtD4xCxd</td>\n",
       "      <td>1</td>\n",
       "    </tr>\n",
       "    <tr>\n",
       "      <th>12</th>\n",
       "      <td>Bella Vita 🌺\\n———\\nTop: @freepeople \\nPants: @targetstyle \\nSandals: @zara \\nSunnies: @amazonfashion \\nMood: chill getaway.\\nPhotos: @ruzz 🌺\\n#makeupbyjesi https://t.co/TVKGPCmmXM</td>\n",
       "      <td>1</td>\n",
       "    </tr>\n",
       "    <tr>\n",
       "      <th>13</th>\n",
       "      <td>breezy summer vibe 🕊🧺\\nParkdale: @ZARA cot/poly/visc dress size S $38, sunnies $15, woven handbag $24 and Rockey Dog cork wedges size 10 $24 #thriftshop https://t.co/GwHqxJH9oR</td>\n",
       "      <td>1</td>\n",
       "    </tr>\n",
       "    <tr>\n",
       "      <th>14</th>\n",
       "      <td>@ZARA @ZARA_Care Have purchased clothes worth INR 50,000 from you &amp;amp; your store is not ready to accept returns. You say 30 day return policy but that is a big scam. Your customer support is helpless and rude. Very disappointed with this experience. ORDER Id: 52950094142\\n#pathetic</td>\n",
       "      <td>0</td>\n",
       "    </tr>\n",
       "    <tr>\n",
       "      <th>15</th>\n",
       "      <td>@ZARA can I get free clothes for finding your website’s typos #lenght https://t.co/roDRNz0jql</td>\n",
       "      <td>1</td>\n",
       "    </tr>\n",
       "    <tr>\n",
       "      <th>16</th>\n",
       "      <td>@TheSocialCTV @ZARA @Simone_Rocha_ @CHANEL @The_Kooples @aliceandolivia @SteveMadden @31philliplim @GreymerOfficial Fall colours already why the rush.Cute Melissa surprise no mini skirt,lol</td>\n",
       "      <td>1</td>\n",
       "    </tr>\n",
       "    <tr>\n",
       "      <th>17</th>\n",
       "      <td>@ZARA I ordered the 1st dress (only offered in paisley) and received the 2nd. Customer support refused to waive the return fee for a dress I did not order and told me that I “received the correct dress.” 🤯 Accusing your customers of lying isn’t a good look - please fix this. https://t.co/sJjM4PxuwG</td>\n",
       "      <td>1</td>\n",
       "    </tr>\n",
       "    <tr>\n",
       "      <th>18</th>\n",
       "      <td>.@Zara. The second thing that maybe you shouldn’t do is call over another colleague who doubles down and tells the kid clutching a pair of jeans that they need to go to the mens fitting room if trying on mens clothes (the jeans were from your womens department fyi) @ZARA_Care</td>\n",
       "      <td>1</td>\n",
       "    </tr>\n",
       "    <tr>\n",
       "      <th>19</th>\n",
       "      <td>This is us kicking off the last week of Season 9!!!! 🥳\\n\\nMel\\nOutfit: @ZARA \\n\\nLainey \\nDress: @Simone_Rocha_\\nShoes: @CHANEL \\n\\nCynthia \\nTop: @The_Kooples\\nPants: @aliceandolivia\\nShoes: @SteveMadden\\n\\nAndrea\\nDress: @31philliplim\\nShoes: @GreymerOfficial\\n\\n#WhatWeWore #OOTD https://t.co/ElQ4xX0nUT</td>\n",
       "      <td>1</td>\n",
       "    </tr>\n",
       "  </tbody>\n",
       "</table>\n",
       "</div>"
      ],
      "text/plain": [
       "                                                                                                                                                                                                                                                                                                                 Tweet  \\\n",
       "10                                                                                                                            Queen B said it best 💅🏽✨ Dress is from @zara Heels @express Watch is @mvmtforher #grwmreel #fashionstyle #zaradress #pinkoutfit #goingoutoutfit #datenightoutfit https://t.co/t0klk5Ofyi   \n",
       "11                                                                💚\\n\\nJeans: @zara \\nShoe: @zara \\nShirt: @degeorgescouture \\nWatch: @casiovintage_eu \\n\\n#slimchoko #chokovibes #fashiontrend #summeroutfit #modelsearch #zaraoutfit #zaramen #zarachocolate @ Northampton, Northamptonshire https://t.co/mYhtD4xCxd   \n",
       "12                                                                                                                                 Bella Vita 🌺\\n———\\nTop: @freepeople \\nPants: @targetstyle \\nSandals: @zara \\nSunnies: @amazonfashion \\nMood: chill getaway.\\nPhotos: @ruzz 🌺\\n#makeupbyjesi https://t.co/TVKGPCmmXM   \n",
       "13                                                                                                                                    breezy summer vibe 🕊🧺\\nParkdale: @ZARA cot/poly/visc dress size S $38, sunnies $15, woven handbag $24 and Rockey Dog cork wedges size 10 $24 #thriftshop https://t.co/GwHqxJH9oR   \n",
       "14                        @ZARA @ZARA_Care Have purchased clothes worth INR 50,000 from you &amp; your store is not ready to accept returns. You say 30 day return policy but that is a big scam. Your customer support is helpless and rude. Very disappointed with this experience. ORDER Id: 52950094142\\n#pathetic   \n",
       "15                                                                                                                                                                                                                       @ZARA can I get free clothes for finding your website’s typos #lenght https://t.co/roDRNz0jql   \n",
       "16                                                                                                                       @TheSocialCTV @ZARA @Simone_Rocha_ @CHANEL @The_Kooples @aliceandolivia @SteveMadden @31philliplim @GreymerOfficial Fall colours already why the rush.Cute Melissa surprise no mini skirt,lol   \n",
       "17         @ZARA I ordered the 1st dress (only offered in paisley) and received the 2nd. Customer support refused to waive the return fee for a dress I did not order and told me that I “received the correct dress.” 🤯 Accusing your customers of lying isn’t a good look - please fix this. https://t.co/sJjM4PxuwG   \n",
       "18                                .@Zara. The second thing that maybe you shouldn’t do is call over another colleague who doubles down and tells the kid clutching a pair of jeans that they need to go to the mens fitting room if trying on mens clothes (the jeans were from your womens department fyi) @ZARA_Care   \n",
       "19  This is us kicking off the last week of Season 9!!!! 🥳\\n\\nMel\\nOutfit: @ZARA \\n\\nLainey \\nDress: @Simone_Rocha_\\nShoes: @CHANEL \\n\\nCynthia \\nTop: @The_Kooples\\nPants: @aliceandolivia\\nShoes: @SteveMadden\\n\\nAndrea\\nDress: @31philliplim\\nShoes: @GreymerOfficial\\n\\n#WhatWeWore #OOTD https://t.co/ElQ4xX0nUT   \n",
       "\n",
       "    Predicted_Class  \n",
       "10                1  \n",
       "11                1  \n",
       "12                1  \n",
       "13                1  \n",
       "14                0  \n",
       "15                1  \n",
       "16                1  \n",
       "17                1  \n",
       "18                1  \n",
       "19                1  "
      ]
     },
     "execution_count": 39,
     "metadata": {},
     "output_type": "execute_result"
    }
   ],
   "source": [
    "classification_df[10:20]"
   ]
  },
  {
   "cell_type": "code",
   "execution_count": 40,
   "id": "afa82bc2",
   "metadata": {},
   "outputs": [],
   "source": [
    "#correctly classed tweets:\n",
    "#tweets 10, 11, 12, 13, 16, 19 all seem to be rewteetable OOTDs\n",
    "#tweet 14 correctly classed as negative"
   ]
  },
  {
   "cell_type": "code",
   "execution_count": 41,
   "id": "5334ca21",
   "metadata": {},
   "outputs": [],
   "source": [
    "#Incorrectly classed tweets:\n",
    "#tweet 17, 18"
   ]
  },
  {
   "cell_type": "code",
   "execution_count": 42,
   "id": "1bcb2640",
   "metadata": {},
   "outputs": [],
   "source": [
    "#netural tweets:\n",
    "#15"
   ]
  },
  {
   "cell_type": "code",
   "execution_count": 43,
   "id": "b997ebb4",
   "metadata": {},
   "outputs": [
    {
     "data": {
      "text/html": [
       "<div>\n",
       "<style scoped>\n",
       "    .dataframe tbody tr th:only-of-type {\n",
       "        vertical-align: middle;\n",
       "    }\n",
       "\n",
       "    .dataframe tbody tr th {\n",
       "        vertical-align: top;\n",
       "    }\n",
       "\n",
       "    .dataframe thead th {\n",
       "        text-align: right;\n",
       "    }\n",
       "</style>\n",
       "<table border=\"1\" class=\"dataframe\">\n",
       "  <thead>\n",
       "    <tr style=\"text-align: right;\">\n",
       "      <th></th>\n",
       "      <th>Tweet</th>\n",
       "      <th>Predicted_Class</th>\n",
       "    </tr>\n",
       "  </thead>\n",
       "  <tbody>\n",
       "    <tr>\n",
       "      <th>20</th>\n",
       "      <td>@ZARA ilsym for my kids clothes but pls pls pls build a functioning website.</td>\n",
       "      <td>0</td>\n",
       "    </tr>\n",
       "    <tr>\n",
       "      <th>21</th>\n",
       "      <td>1/\\nWeb3 Fashion by day 💃🏻  and NFT Fashion by night 🦸🏻‍♀️\\n\\n💃🏻 Day \\n@MAVIONworld necklace\\n@ZARA top, skirt\\n@nike dunks, bag\\n\\n🦸🏻‍♀️ Night\\n@ZARA Top, Blazer, Pants\\n@Nike dunks\\nBottega Bag\\n\\nWhich one do you like better?\\n💃Day or 🦸‍♀️Night?\\n\\n#fashion #web3fashion #fitcheck https://t.co/3qb6ML7wJ2</td>\n",
       "      <td>1</td>\n",
       "    </tr>\n",
       "    <tr>\n",
       "      <th>22</th>\n",
       "      <td>@ZARA I deserve a discount code or something. A free return label, and a refund isn’t enough. Now I have to wait 3-7 business days for that money back, and now I’m out a dress for my vacation. Without any real time to find a replacement. https://t.co/S16FERKGck</td>\n",
       "      <td>1</td>\n",
       "    </tr>\n",
       "    <tr>\n",
       "      <th>23</th>\n",
       "      <td>Ordered a dress for my vacation from @zara … tell me why this is what they sent me. https://t.co/pCEldoqXxV</td>\n",
       "      <td>1</td>\n",
       "    </tr>\n",
       "    <tr>\n",
       "      <th>24</th>\n",
       "      <td>Look at shirt in @ZARA when @goodmindsnft TV’s and breads, et cetera on these shirts??? Make these connects! Your art is Superior 💜 https://t.co/B8dAqVHbrb</td>\n",
       "      <td>1</td>\n",
       "    </tr>\n",
       "    <tr>\n",
       "      <th>25</th>\n",
       "      <td>@ZARA shirt arriving creased to hell is one thing but burn marks on front and back? Immediate return #badquality https://t.co/xPYXDyd3wq</td>\n",
       "      <td>0</td>\n",
       "    </tr>\n",
       "    <tr>\n",
       "      <th>26</th>\n",
       "      <td>Let your spirit Fly with Peace, Happiness and Positivity\\nGreen is so cool, so zen and yet makes such a statement.\\nShirt and Footwear @zara Pants @marksandspencerindia\\n✨ #greenbeautyblogger #sass #sasswars #attitudegirls #greenfashion #wearinggreen #attitudeiseverything #AJ https://t.co/s2dn5SxcPi</td>\n",
       "      <td>1</td>\n",
       "    </tr>\n",
       "    <tr>\n",
       "      <th>27</th>\n",
       "      <td>We’ve just had the most amazing conversation on The G&amp;amp;T Show about @eddieizzard and THAT @ZARA DRESS!!!!! Me and @LGBwiththeT love you Eddie and you looked FIERCE!!!! Listen in on @transradiouk</td>\n",
       "      <td>1</td>\n",
       "    </tr>\n",
       "    <tr>\n",
       "      <th>28</th>\n",
       "      <td>Hey @eddieizzard we LOVE you! Please come chat to me and @LGBwiththeT and tell us how fabulous you are….,.listen in now as we’re talking about your @ZARA dress ❤️❤️ https://t.co/EqEO5PcgAj</td>\n",
       "      <td>1</td>\n",
       "    </tr>\n",
       "    <tr>\n",
       "      <th>29</th>\n",
       "      <td>We’re about to discuss the fact @eddieizzard wears THAT @ZARA dress better than anyone else and looks FIERCE!!!! Me &amp;amp; @LGBwiththeT both love you Eddie and we wish you’d come on our show! Tune in now on @transradiouk</td>\n",
       "      <td>1</td>\n",
       "    </tr>\n",
       "    <tr>\n",
       "      <th>30</th>\n",
       "      <td>We should be able to wash and dry clothes without them effing shrinking with how expensive they are. 😠 @ZARA I’m talking to you. $40 dollars worth of my kids shirts shrunk down 3 sizes. I can understand a little shrinkage but seriously???</td>\n",
       "      <td>1</td>\n",
       "    </tr>\n",
       "    <tr>\n",
       "      <th>31</th>\n",
       "      <td>Moral of the story is don’t by any cheapo Jewellery from @riverisland as it will ruin your brand new T shirt from @ZARA. 😭</td>\n",
       "      <td>1</td>\n",
       "    </tr>\n",
       "    <tr>\n",
       "      <th>32</th>\n",
       "      <td>@ZARA hi! I’ve just ordered a dress next day and it’s arrived with a rip. I’ll order another and send this one back, but is it possible to get the postage refunded as well as now I’ll have to pay another £7 for next day https://t.co/Euarn6UeLz</td>\n",
       "      <td>1</td>\n",
       "    </tr>\n",
       "    <tr>\n",
       "      <th>33</th>\n",
       "      <td>@ZARA the strap on my dress has just broke- first time I’ve worn it and it’s a L for a 8/10 sort it out pls</td>\n",
       "      <td>1</td>\n",
       "    </tr>\n",
       "    <tr>\n",
       "      <th>34</th>\n",
       "      <td>@ZARA strap on me dress just broke first time ive worn it and it’s a L for a 8/10 sort it out pls</td>\n",
       "      <td>1</td>\n",
       "    </tr>\n",
       "    <tr>\n",
       "      <th>35</th>\n",
       "      <td>@ZARA It’s 2022! We need to see diverse body type modelling your clothes.</td>\n",
       "      <td>1</td>\n",
       "    </tr>\n",
       "    <tr>\n",
       "      <th>36</th>\n",
       "      <td>@ZARA You guys are brilliant! You found a way to reduce labor cost. All the fitting rooms are permanently closed at all the seattle area locations. Zara employees are now telling customers to buy clothes and try them on at @hm and come back if it doesn’t fit😂. This is genius! https://t.co/3ZU68lLJlh</td>\n",
       "      <td>1</td>\n",
       "    </tr>\n",
       "    <tr>\n",
       "      <th>37</th>\n",
       "      <td>On the go as couture week gets bigger &amp;amp; better 💫\\n\\nOutfit details:\\nTop: @sesaaofficial\\nPants: @pinkporcupines\\nBag: @lalingilondon\\nShoes: @zara\\n\\nHair by @beforebeautybar\\n\\n#MasoomTakesCoutureWeek https://t.co/yVs5CJTYX2</td>\n",
       "      <td>1</td>\n",
       "    </tr>\n",
       "    <tr>\n",
       "      <th>38</th>\n",
       "      <td>@avneetkaur_13 I wore this outfit yesterday but I’m going different places today…\\nSo it’s okay!🖤 #ootd \\n\\nTop- @baesic_world \\nPants- @zara \\nJacket- @hm \\nShoes- @nike \\nBag- @gucci \\nShades- @versace\\n📸- @krupalakhanii.16 https://t.co/f7vniXU3EG</td>\n",
       "      <td>1</td>\n",
       "    </tr>\n",
       "    <tr>\n",
       "      <th>39</th>\n",
       "      <td>@JamalShaikh @HTBrunch @ZARA @Fastrack @hankypanty Similarly the watch is seen only in the cover pic, where the credit is given only for pants and shoes, and the watch isn't credited. And where it ain't visible there's a mention of the brand.</td>\n",
       "      <td>1</td>\n",
       "    </tr>\n",
       "  </tbody>\n",
       "</table>\n",
       "</div>"
      ],
      "text/plain": [
       "                                                                                                                                                                                                                                                                                                                  Tweet  \\\n",
       "20                                                                                                                                                                                                                                         @ZARA ilsym for my kids clothes but pls pls pls build a functioning website.   \n",
       "21  1/\\nWeb3 Fashion by day 💃🏻  and NFT Fashion by night 🦸🏻‍♀️\\n\\n💃🏻 Day \\n@MAVIONworld necklace\\n@ZARA top, skirt\\n@nike dunks, bag\\n\\n🦸🏻‍♀️ Night\\n@ZARA Top, Blazer, Pants\\n@Nike dunks\\nBottega Bag\\n\\nWhich one do you like better?\\n💃Day or 🦸‍♀️Night?\\n\\n#fashion #web3fashion #fitcheck https://t.co/3qb6ML7wJ2   \n",
       "22                                                @ZARA I deserve a discount code or something. A free return label, and a refund isn’t enough. Now I have to wait 3-7 business days for that money back, and now I’m out a dress for my vacation. Without any real time to find a replacement. https://t.co/S16FERKGck   \n",
       "23                                                                                                                                                                                                          Ordered a dress for my vacation from @zara … tell me why this is what they sent me. https://t.co/pCEldoqXxV   \n",
       "24                                                                                                                                                          Look at shirt in @ZARA when @goodmindsnft TV’s and breads, et cetera on these shirts??? Make these connects! Your art is Superior 💜 https://t.co/B8dAqVHbrb   \n",
       "25                                                                                                                                                                             @ZARA shirt arriving creased to hell is one thing but burn marks on front and back? Immediate return #badquality https://t.co/xPYXDyd3wq   \n",
       "26         Let your spirit Fly with Peace, Happiness and Positivity\\nGreen is so cool, so zen and yet makes such a statement.\\nShirt and Footwear @zara Pants @marksandspencerindia\\n✨ #greenbeautyblogger #sass #sasswars #attitudegirls #greenfashion #wearinggreen #attitudeiseverything #AJ https://t.co/s2dn5SxcPi   \n",
       "27                                                                                                                We’ve just had the most amazing conversation on The G&amp;T Show about @eddieizzard and THAT @ZARA DRESS!!!!! Me and @LGBwiththeT love you Eddie and you looked FIERCE!!!! Listen in on @transradiouk   \n",
       "28                                                                                                                         Hey @eddieizzard we LOVE you! Please come chat to me and @LGBwiththeT and tell us how fabulous you are….,.listen in now as we’re talking about your @ZARA dress ❤️❤️ https://t.co/EqEO5PcgAj   \n",
       "29                                                                                          We’re about to discuss the fact @eddieizzard wears THAT @ZARA dress better than anyone else and looks FIERCE!!!! Me &amp; @LGBwiththeT both love you Eddie and we wish you’d come on our show! Tune in now on @transradiouk   \n",
       "30                                                                       We should be able to wash and dry clothes without them effing shrinking with how expensive they are. 😠 @ZARA I’m talking to you. $40 dollars worth of my kids shirts shrunk down 3 sizes. I can understand a little shrinkage but seriously???   \n",
       "31                                                                                                                                                                                           Moral of the story is don’t by any cheapo Jewellery from @riverisland as it will ruin your brand new T shirt from @ZARA. 😭   \n",
       "32                                                                  @ZARA hi! I’ve just ordered a dress next day and it’s arrived with a rip. I’ll order another and send this one back, but is it possible to get the postage refunded as well as now I’ll have to pay another £7 for next day https://t.co/Euarn6UeLz   \n",
       "33                                                                                                                                                                                                          @ZARA the strap on my dress has just broke- first time I’ve worn it and it’s a L for a 8/10 sort it out pls   \n",
       "34                                                                                                                                                                                                                    @ZARA strap on me dress just broke first time ive worn it and it’s a L for a 8/10 sort it out pls   \n",
       "35                                                                                                                                                                                                                                            @ZARA It’s 2022! We need to see diverse body type modelling your clothes.   \n",
       "36         @ZARA You guys are brilliant! You found a way to reduce labor cost. All the fitting rooms are permanently closed at all the seattle area locations. Zara employees are now telling customers to buy clothes and try them on at @hm and come back if it doesn’t fit😂. This is genius! https://t.co/3ZU68lLJlh   \n",
       "37                                                                               On the go as couture week gets bigger &amp; better 💫\\n\\nOutfit details:\\nTop: @sesaaofficial\\nPants: @pinkporcupines\\nBag: @lalingilondon\\nShoes: @zara\\n\\nHair by @beforebeautybar\\n\\n#MasoomTakesCoutureWeek https://t.co/yVs5CJTYX2   \n",
       "38                                                            @avneetkaur_13 I wore this outfit yesterday but I’m going different places today…\\nSo it’s okay!🖤 #ootd \\n\\nTop- @baesic_world \\nPants- @zara \\nJacket- @hm \\nShoes- @nike \\nBag- @gucci \\nShades- @versace\\n📸- @krupalakhanii.16 https://t.co/f7vniXU3EG   \n",
       "39                                                                   @JamalShaikh @HTBrunch @ZARA @Fastrack @hankypanty Similarly the watch is seen only in the cover pic, where the credit is given only for pants and shoes, and the watch isn't credited. And where it ain't visible there's a mention of the brand.   \n",
       "\n",
       "    Predicted_Class  \n",
       "20                0  \n",
       "21                1  \n",
       "22                1  \n",
       "23                1  \n",
       "24                1  \n",
       "25                0  \n",
       "26                1  \n",
       "27                1  \n",
       "28                1  \n",
       "29                1  \n",
       "30                1  \n",
       "31                1  \n",
       "32                1  \n",
       "33                1  \n",
       "34                1  \n",
       "35                1  \n",
       "36                1  \n",
       "37                1  \n",
       "38                1  \n",
       "39                1  "
      ]
     },
     "execution_count": 43,
     "metadata": {},
     "output_type": "execute_result"
    }
   ],
   "source": [
    "classification_df[20:40]"
   ]
  },
  {
   "cell_type": "markdown",
   "id": "059aeb75",
   "metadata": {},
   "source": [
    "## Analysis of my Model's Performance"
   ]
  },
  {
   "cell_type": "markdown",
   "id": "81aefbe7",
   "metadata": {},
   "source": [
    "From the inspection of my model, it is clear that tweets that are predicted as 0 (negative) are most likely correct and need to be immediately addressed. Tweets that are addressed as 1 are more likely to possibly be class 0 and will require further inspection by a human. This is most likely due to the class imbalance of my inital dataset and my model having more examples of positive reviews than negative reviews."
   ]
  },
  {
   "cell_type": "markdown",
   "id": "7184b8c6",
   "metadata": {},
   "source": [
    "## Saving the Trained Model"
   ]
  },
  {
   "cell_type": "code",
   "execution_count": 44,
   "id": "a5caa0ee",
   "metadata": {},
   "outputs": [],
   "source": [
    "import pickle"
   ]
  },
  {
   "cell_type": "code",
   "execution_count": 45,
   "id": "3f4e9410",
   "metadata": {},
   "outputs": [],
   "source": [
    "filename='trained_model.sav'\n",
    "pickle.dump(final_model, open(filename, 'wb'))"
   ]
  },
  {
   "cell_type": "markdown",
   "id": "75a4eead",
   "metadata": {},
   "source": [
    "# Limitations\n"
   ]
  },
  {
   "cell_type": "markdown",
   "id": "82c556f7",
   "metadata": {},
   "source": [
    "Some limitations effecting my model include:\n",
    "- Class Imbalance: almost 80% of the reviews were coded as \"positive\" based on a rating of 4 or 5\n",
    "- User error when rating items: based on some of the reviews, it appears as though users may have mixed up the ratings and utilized 1 for positive reviews or 5 for negative reviews\n",
    "    "
   ]
  },
  {
   "cell_type": "markdown",
   "id": "5b7d1c83",
   "metadata": {},
   "source": [
    "# Next Steps"
   ]
  },
  {
   "cell_type": "markdown",
   "id": "4733baa3",
   "metadata": {},
   "source": [
    "Given more time, I would expand this product by:\n",
    "- Pulling in more data, specifically negative reviews or comments to help better train my model\n",
    "- Create a dual classification system that first classifys comments as Spam or Not Spam, and then filters out Spam comments and classifies Not Spam as Positive or Negative\n",
    "- Test my model with other platforms, such as Instagram comments\n",
    "- Creating a \"neutral\" target for classification\n",
    "- Create custom stopwords list, such as removing \"not\" from stopwords (may be helpful for my model when looking at bigrams)\n",
    "- Upgrade and deploy an app for brands to utilize to perform Twitter API calls based on user inputted query terms and return a dataframe with one column of tweets and one column of classification"
   ]
  },
  {
   "cell_type": "markdown",
   "id": "a86e6d00",
   "metadata": {},
   "source": [
    "# Conclusion"
   ]
  },
  {
   "cell_type": "markdown",
   "id": "c2a6f609",
   "metadata": {},
   "source": [
    "In conclusion, using my generalizable model will allow women's fashion brand companies to feed comments from any web source to identify positively and negatively sentiment comments and respond appropriately. Utilizing the model will allow companies to save time and by flagging the comments for appropriate teams to respond to, such as Quality Assurance to respond to negative comments, or marketing to respond to and promote positive comments. Responding to these comments appropriately will improve products by identifying potential clothing quality issues if the same sentiment is being repeated, identify potential positive trends, boost visability by responding to comments, and improve brand loyalty by making customers feel heard."
   ]
  }
 ],
 "metadata": {
  "kernelspec": {
   "display_name": "Python 3",
   "language": "python",
   "name": "python3"
  },
  "language_info": {
   "codemirror_mode": {
    "name": "ipython",
    "version": 3
   },
   "file_extension": ".py",
   "mimetype": "text/x-python",
   "name": "python",
   "nbconvert_exporter": "python",
   "pygments_lexer": "ipython3",
   "version": "3.8.5"
  }
 },
 "nbformat": 4,
 "nbformat_minor": 5
}
