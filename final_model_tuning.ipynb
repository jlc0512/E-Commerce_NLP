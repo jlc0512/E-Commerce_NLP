{
 "cells": [
  {
   "cell_type": "code",
   "execution_count": 1,
   "id": "acdfcb04",
   "metadata": {},
   "outputs": [],
   "source": [
    "#All necessary imports for modeling"
   ]
  },
  {
   "cell_type": "code",
   "execution_count": 44,
   "id": "95ed6c87",
   "metadata": {},
   "outputs": [],
   "source": [
    "import pandas as pd\n",
    "import numpy as np\n",
    "import matplotlib.pyplot as plt\n",
    "from matplotlib.ticker import MaxNLocator\n",
    "%matplotlib inline\n",
    "\n",
    "#Required prediction modelling libraries are imported\n",
    "from sklearn.dummy import DummyClassifier\n",
    "from sklearn.naive_bayes import MultinomialNB\n",
    "from sklearn.model_selection import cross_val_score, GridSearchCV, train_test_split, cross_validate\n",
    "from sklearn.feature_extraction.text import TfidfVectorizer\n",
    "from sklearn.calibration import CalibratedClassifierCV\n",
    "from sklearn.linear_model import LogisticRegression\n",
    "from sklearn.neighbors import KNeighborsClassifier\n",
    "from sklearn.tree import DecisionTreeClassifier\n",
    "from sklearn.svm import LinearSVC, SVC\n",
    "from sklearn.linear_model import SGDClassifier\n",
    "from sklearn.ensemble import RandomForestClassifier, GradientBoostingClassifier\n",
    "from sklearn.metrics import plot_confusion_matrix, confusion_matrix, precision_recall_curve, auc, roc_curve, accuracy_score, recall_score, classification_report, f1_score, precision_score, precision_recall_fscore_support, roc_auc_score, make_scorer\n",
    "from sklearn.pipeline import Pipeline\n",
    "\n",
    "from imblearn.over_sampling import SMOTE, ADASYN\n",
    "from imblearn.pipeline import Pipeline as ImPipeline\n",
    "\n",
    "import xgboost\n",
    "from xgboost import XGBClassifier\n",
    "\n",
    "import pickle\n",
    "import json\n"
   ]
  },
  {
   "cell_type": "code",
   "execution_count": 3,
   "id": "ceb8eff8",
   "metadata": {},
   "outputs": [],
   "source": [
    "#Reading in final dataset"
   ]
  },
  {
   "cell_type": "code",
   "execution_count": 4,
   "id": "c2344e65",
   "metadata": {},
   "outputs": [],
   "source": [
    "df = pd.read_csv('./data/final_data.csv')"
   ]
  },
  {
   "cell_type": "code",
   "execution_count": 5,
   "id": "7294ec7e",
   "metadata": {},
   "outputs": [
    {
     "data": {
      "text/html": [
       "<div>\n",
       "<style scoped>\n",
       "    .dataframe tbody tr th:only-of-type {\n",
       "        vertical-align: middle;\n",
       "    }\n",
       "\n",
       "    .dataframe tbody tr th {\n",
       "        vertical-align: top;\n",
       "    }\n",
       "\n",
       "    .dataframe thead th {\n",
       "        text-align: right;\n",
       "    }\n",
       "</style>\n",
       "<table border=\"1\" class=\"dataframe\">\n",
       "  <thead>\n",
       "    <tr style=\"text-align: right;\">\n",
       "      <th></th>\n",
       "      <th>Clothing_ID</th>\n",
       "      <th>Age</th>\n",
       "      <th>Title</th>\n",
       "      <th>Review_Text</th>\n",
       "      <th>Rating</th>\n",
       "      <th>Recommended_IND</th>\n",
       "      <th>Positive_Feedback_Count</th>\n",
       "      <th>Division_Name</th>\n",
       "      <th>Department Name</th>\n",
       "      <th>Class_Name</th>\n",
       "      <th>Polarity</th>\n",
       "      <th>Subjective</th>\n",
       "      <th>Clean</th>\n",
       "      <th>String</th>\n",
       "      <th>Polarity_Clean</th>\n",
       "      <th>Subjective_Clean</th>\n",
       "      <th>Positive_Rating</th>\n",
       "    </tr>\n",
       "  </thead>\n",
       "  <tbody>\n",
       "    <tr>\n",
       "      <th>0</th>\n",
       "      <td>767</td>\n",
       "      <td>33</td>\n",
       "      <td>NaN</td>\n",
       "      <td>Absolutely wonderful - silky and sexy and comf...</td>\n",
       "      <td>4</td>\n",
       "      <td>1</td>\n",
       "      <td>0</td>\n",
       "      <td>Initmates</td>\n",
       "      <td>Intimate</td>\n",
       "      <td>Intimates</td>\n",
       "      <td>0.633333</td>\n",
       "      <td>0.933333</td>\n",
       "      <td>['absolutely', 'wonderful', 'silky', 'sexy', '...</td>\n",
       "      <td>absolutely wonderful silky sexy comfortable</td>\n",
       "      <td>0.633333</td>\n",
       "      <td>0.933333</td>\n",
       "      <td>1</td>\n",
       "    </tr>\n",
       "    <tr>\n",
       "      <th>1</th>\n",
       "      <td>1080</td>\n",
       "      <td>34</td>\n",
       "      <td>NaN</td>\n",
       "      <td>Love this dress!  it's sooo pretty.  i happene...</td>\n",
       "      <td>5</td>\n",
       "      <td>1</td>\n",
       "      <td>4</td>\n",
       "      <td>General</td>\n",
       "      <td>Dresses</td>\n",
       "      <td>Dresses</td>\n",
       "      <td>0.339583</td>\n",
       "      <td>0.725000</td>\n",
       "      <td>['love', 'dress', 'sooo', 'pretty', 'happened'...</td>\n",
       "      <td>love dress sooo pretty happened find store gla...</td>\n",
       "      <td>0.318750</td>\n",
       "      <td>0.725000</td>\n",
       "      <td>1</td>\n",
       "    </tr>\n",
       "    <tr>\n",
       "      <th>2</th>\n",
       "      <td>1077</td>\n",
       "      <td>60</td>\n",
       "      <td>Some major design flaws</td>\n",
       "      <td>I had such high hopes for this dress and reall...</td>\n",
       "      <td>3</td>\n",
       "      <td>0</td>\n",
       "      <td>0</td>\n",
       "      <td>General</td>\n",
       "      <td>Dresses</td>\n",
       "      <td>Dresses</td>\n",
       "      <td>0.073675</td>\n",
       "      <td>0.356294</td>\n",
       "      <td>['high', 'hope', 'dress', 'really', 'wanted', ...</td>\n",
       "      <td>high hope dress really wanted work initially o...</td>\n",
       "      <td>0.079865</td>\n",
       "      <td>0.349762</td>\n",
       "      <td>0</td>\n",
       "    </tr>\n",
       "    <tr>\n",
       "      <th>3</th>\n",
       "      <td>1049</td>\n",
       "      <td>50</td>\n",
       "      <td>My favorite buy!</td>\n",
       "      <td>I love, love, love this jumpsuit. it's fun, fl...</td>\n",
       "      <td>5</td>\n",
       "      <td>1</td>\n",
       "      <td>0</td>\n",
       "      <td>General Petite</td>\n",
       "      <td>Bottoms</td>\n",
       "      <td>Pants</td>\n",
       "      <td>0.550000</td>\n",
       "      <td>0.625000</td>\n",
       "      <td>['love', 'love', 'love', 'jumpsuit', 'fun', 'f...</td>\n",
       "      <td>love love love jumpsuit fun flirty fabulous ev...</td>\n",
       "      <td>0.500000</td>\n",
       "      <td>0.625000</td>\n",
       "      <td>1</td>\n",
       "    </tr>\n",
       "    <tr>\n",
       "      <th>4</th>\n",
       "      <td>847</td>\n",
       "      <td>47</td>\n",
       "      <td>Flattering shirt</td>\n",
       "      <td>This shirt is very flattering to all due to th...</td>\n",
       "      <td>5</td>\n",
       "      <td>1</td>\n",
       "      <td>6</td>\n",
       "      <td>General</td>\n",
       "      <td>Tops</td>\n",
       "      <td>Blouses</td>\n",
       "      <td>0.512891</td>\n",
       "      <td>0.568750</td>\n",
       "      <td>['shirt', 'very', 'flattering', 'due', 'adjust...</td>\n",
       "      <td>shirt very flattering due adjustable front tie...</td>\n",
       "      <td>0.393750</td>\n",
       "      <td>0.568750</td>\n",
       "      <td>1</td>\n",
       "    </tr>\n",
       "  </tbody>\n",
       "</table>\n",
       "</div>"
      ],
      "text/plain": [
       "   Clothing_ID  Age                    Title  \\\n",
       "0          767   33                      NaN   \n",
       "1         1080   34                      NaN   \n",
       "2         1077   60  Some major design flaws   \n",
       "3         1049   50         My favorite buy!   \n",
       "4          847   47         Flattering shirt   \n",
       "\n",
       "                                         Review_Text  Rating  Recommended_IND  \\\n",
       "0  Absolutely wonderful - silky and sexy and comf...       4                1   \n",
       "1  Love this dress!  it's sooo pretty.  i happene...       5                1   \n",
       "2  I had such high hopes for this dress and reall...       3                0   \n",
       "3  I love, love, love this jumpsuit. it's fun, fl...       5                1   \n",
       "4  This shirt is very flattering to all due to th...       5                1   \n",
       "\n",
       "   Positive_Feedback_Count   Division_Name Department Name Class_Name  \\\n",
       "0                        0       Initmates        Intimate  Intimates   \n",
       "1                        4         General         Dresses    Dresses   \n",
       "2                        0         General         Dresses    Dresses   \n",
       "3                        0  General Petite         Bottoms      Pants   \n",
       "4                        6         General            Tops    Blouses   \n",
       "\n",
       "   Polarity  Subjective                                              Clean  \\\n",
       "0  0.633333    0.933333  ['absolutely', 'wonderful', 'silky', 'sexy', '...   \n",
       "1  0.339583    0.725000  ['love', 'dress', 'sooo', 'pretty', 'happened'...   \n",
       "2  0.073675    0.356294  ['high', 'hope', 'dress', 'really', 'wanted', ...   \n",
       "3  0.550000    0.625000  ['love', 'love', 'love', 'jumpsuit', 'fun', 'f...   \n",
       "4  0.512891    0.568750  ['shirt', 'very', 'flattering', 'due', 'adjust...   \n",
       "\n",
       "                                              String  Polarity_Clean  \\\n",
       "0        absolutely wonderful silky sexy comfortable        0.633333   \n",
       "1  love dress sooo pretty happened find store gla...        0.318750   \n",
       "2  high hope dress really wanted work initially o...        0.079865   \n",
       "3  love love love jumpsuit fun flirty fabulous ev...        0.500000   \n",
       "4  shirt very flattering due adjustable front tie...        0.393750   \n",
       "\n",
       "   Subjective_Clean  Positive_Rating  \n",
       "0          0.933333                1  \n",
       "1          0.725000                1  \n",
       "2          0.349762                0  \n",
       "3          0.625000                1  \n",
       "4          0.568750                1  "
      ]
     },
     "execution_count": 5,
     "metadata": {},
     "output_type": "execute_result"
    }
   ],
   "source": [
    "df.head()"
   ]
  },
  {
   "cell_type": "code",
   "execution_count": 6,
   "id": "d204250f",
   "metadata": {},
   "outputs": [
    {
     "name": "stdout",
     "output_type": "stream",
     "text": [
      "<class 'pandas.core.frame.DataFrame'>\n",
      "RangeIndex: 22640 entries, 0 to 22639\n",
      "Data columns (total 17 columns):\n",
      " #   Column                   Non-Null Count  Dtype  \n",
      "---  ------                   --------------  -----  \n",
      " 0   Clothing_ID              22640 non-null  int64  \n",
      " 1   Age                      22640 non-null  int64  \n",
      " 2   Title                    19675 non-null  object \n",
      " 3   Review_Text              22640 non-null  object \n",
      " 4   Rating                   22640 non-null  int64  \n",
      " 5   Recommended_IND          22640 non-null  int64  \n",
      " 6   Positive_Feedback_Count  22640 non-null  int64  \n",
      " 7   Division_Name            22627 non-null  object \n",
      " 8   Department Name          22627 non-null  object \n",
      " 9   Class_Name               22627 non-null  object \n",
      " 10  Polarity                 22640 non-null  float64\n",
      " 11  Subjective               22640 non-null  float64\n",
      " 12  Clean                    22640 non-null  object \n",
      " 13  String                   22640 non-null  object \n",
      " 14  Polarity_Clean           22640 non-null  float64\n",
      " 15  Subjective_Clean         22640 non-null  float64\n",
      " 16  Positive_Rating          22640 non-null  int64  \n",
      "dtypes: float64(4), int64(6), object(7)\n",
      "memory usage: 2.9+ MB\n"
     ]
    }
   ],
   "source": [
    "df.info()"
   ]
  },
  {
   "cell_type": "code",
   "execution_count": 7,
   "id": "941ee3bc",
   "metadata": {},
   "outputs": [
    {
     "data": {
      "text/plain": [
       "Clothing_ID                   0\n",
       "Age                           0\n",
       "Title                      2965\n",
       "Review_Text                   0\n",
       "Rating                        0\n",
       "Recommended_IND               0\n",
       "Positive_Feedback_Count       0\n",
       "Division_Name                13\n",
       "Department Name              13\n",
       "Class_Name                   13\n",
       "Polarity                      0\n",
       "Subjective                    0\n",
       "Clean                         0\n",
       "String                        0\n",
       "Polarity_Clean                0\n",
       "Subjective_Clean              0\n",
       "Positive_Rating               0\n",
       "dtype: int64"
      ]
     },
     "execution_count": 7,
     "metadata": {},
     "output_type": "execute_result"
    }
   ],
   "source": [
    "df.isna().sum()"
   ]
  },
  {
   "cell_type": "code",
   "execution_count": 8,
   "id": "6ad0b851",
   "metadata": {},
   "outputs": [],
   "source": [
    "#Confimring no nulls in String column"
   ]
  },
  {
   "cell_type": "markdown",
   "id": "0f85db5c",
   "metadata": {},
   "source": [
    "# Modeling"
   ]
  },
  {
   "cell_type": "markdown",
   "id": "5174c3d2",
   "metadata": {},
   "source": [
    "### Train-Test Split With df"
   ]
  },
  {
   "cell_type": "code",
   "execution_count": 9,
   "id": "3bb17119",
   "metadata": {},
   "outputs": [],
   "source": [
    "# Specify X as the cleaned strings in df and y as the target-Positive_Rating.\n",
    "X = df['String']\n",
    "y = df['Positive_Rating']"
   ]
  },
  {
   "cell_type": "code",
   "execution_count": 10,
   "id": "584df304",
   "metadata": {},
   "outputs": [],
   "source": [
    "#Performed the train-test split, using 20% for the hold-out data.\n",
    "X_train, X_test, y_train, y_test = train_test_split(X,\n",
    "                                                    y,\n",
    "                                                    random_state=42,\n",
    "                                                    test_size=0.20)"
   ]
  },
  {
   "cell_type": "code",
   "execution_count": 11,
   "id": "0afebc49",
   "metadata": {},
   "outputs": [
    {
     "data": {
      "text/plain": [
       "19805                   love contrast much prettier person\n",
       "11396    top look better hanger looking feminine plaid ...\n",
       "7884     much question whether love pant several pair p...\n",
       "21304    legging warm comfortable thick enough wear pan...\n",
       "7216                     much lower quality robe purchased\n",
       "                               ...                        \n",
       "11964    bought grey gorgeous color like long length ar...\n",
       "21575    dress really pretty fun see dress tone subtle ...\n",
       "5390     bought one tee washed time luckily hole yet li...\n",
       "860      excited see jean since came petite size short ...\n",
       "15795              bought sweater love one favorite season\n",
       "Name: String, Length: 18112, dtype: object"
      ]
     },
     "execution_count": 11,
     "metadata": {},
     "output_type": "execute_result"
    }
   ],
   "source": [
    "X_train"
   ]
  },
  {
   "cell_type": "markdown",
   "id": "053de073",
   "metadata": {},
   "source": [
    "### Visually inspecting vecorized data"
   ]
  },
  {
   "cell_type": "code",
   "execution_count": 12,
   "id": "4af1e350",
   "metadata": {},
   "outputs": [
    {
     "data": {
      "text/plain": [
       "<18112x10971 sparse matrix of type '<class 'numpy.float64'>'\n",
       "\twith 467215 stored elements in Compressed Sparse Row format>"
      ]
     },
     "execution_count": 12,
     "metadata": {},
     "output_type": "execute_result"
    }
   ],
   "source": [
    "# Instantiate a vectorizer \n",
    "# Instantiate and fit/transform X_train using the TF-IDF vectorizer.\n",
    "tfidf = TfidfVectorizer()\n",
    "X_train_vectorized = tfidf.fit_transform(X_train)\n",
    "X_train_vectorized"
   ]
  },
  {
   "cell_type": "code",
   "execution_count": 13,
   "id": "8963df68",
   "metadata": {},
   "outputs": [
    {
     "name": "stderr",
     "output_type": "stream",
     "text": [
      "/Users/jillian/opt/anaconda3/envs/learn-env/lib/python3.8/site-packages/sklearn/utils/deprecation.py:87: FutureWarning: Function get_feature_names is deprecated; get_feature_names is deprecated in 1.0 and will be removed in 1.2. Please use get_feature_names_out instead.\n",
      "  warnings.warn(msg, category=FutureWarning)\n"
     ]
    },
    {
     "data": {
      "text/html": [
       "<div>\n",
       "<style scoped>\n",
       "    .dataframe tbody tr th:only-of-type {\n",
       "        vertical-align: middle;\n",
       "    }\n",
       "\n",
       "    .dataframe tbody tr th {\n",
       "        vertical-align: top;\n",
       "    }\n",
       "\n",
       "    .dataframe thead th {\n",
       "        text-align: right;\n",
       "    }\n",
       "</style>\n",
       "<table border=\"1\" class=\"dataframe\">\n",
       "  <thead>\n",
       "    <tr style=\"text-align: right;\">\n",
       "      <th></th>\n",
       "      <th>aa</th>\n",
       "      <th>aaaaannnnnnd</th>\n",
       "      <th>aaaahmazing</th>\n",
       "      <th>ab</th>\n",
       "      <th>abbey</th>\n",
       "      <th>abby</th>\n",
       "      <th>abck</th>\n",
       "      <th>abdomen</th>\n",
       "      <th>abdominal</th>\n",
       "      <th>abercrombie</th>\n",
       "      <th>...</th>\n",
       "      <th>ziploc</th>\n",
       "      <th>zipped</th>\n",
       "      <th>zipper</th>\n",
       "      <th>zippered</th>\n",
       "      <th>zipping</th>\n",
       "      <th>zombie</th>\n",
       "      <th>zone</th>\n",
       "      <th>zoom</th>\n",
       "      <th>zooming</th>\n",
       "      <th>zuma</th>\n",
       "    </tr>\n",
       "  </thead>\n",
       "  <tbody>\n",
       "    <tr>\n",
       "      <th>0</th>\n",
       "      <td>0.0</td>\n",
       "      <td>0.0</td>\n",
       "      <td>0.0</td>\n",
       "      <td>0.0</td>\n",
       "      <td>0.0</td>\n",
       "      <td>0.0</td>\n",
       "      <td>0.0</td>\n",
       "      <td>0.0</td>\n",
       "      <td>0.0</td>\n",
       "      <td>0.0</td>\n",
       "      <td>...</td>\n",
       "      <td>0.0</td>\n",
       "      <td>0.0</td>\n",
       "      <td>0.0</td>\n",
       "      <td>0.0</td>\n",
       "      <td>0.0</td>\n",
       "      <td>0.0</td>\n",
       "      <td>0.0</td>\n",
       "      <td>0.0</td>\n",
       "      <td>0.0</td>\n",
       "      <td>0.0</td>\n",
       "    </tr>\n",
       "    <tr>\n",
       "      <th>1</th>\n",
       "      <td>0.0</td>\n",
       "      <td>0.0</td>\n",
       "      <td>0.0</td>\n",
       "      <td>0.0</td>\n",
       "      <td>0.0</td>\n",
       "      <td>0.0</td>\n",
       "      <td>0.0</td>\n",
       "      <td>0.0</td>\n",
       "      <td>0.0</td>\n",
       "      <td>0.0</td>\n",
       "      <td>...</td>\n",
       "      <td>0.0</td>\n",
       "      <td>0.0</td>\n",
       "      <td>0.0</td>\n",
       "      <td>0.0</td>\n",
       "      <td>0.0</td>\n",
       "      <td>0.0</td>\n",
       "      <td>0.0</td>\n",
       "      <td>0.0</td>\n",
       "      <td>0.0</td>\n",
       "      <td>0.0</td>\n",
       "    </tr>\n",
       "    <tr>\n",
       "      <th>2</th>\n",
       "      <td>0.0</td>\n",
       "      <td>0.0</td>\n",
       "      <td>0.0</td>\n",
       "      <td>0.0</td>\n",
       "      <td>0.0</td>\n",
       "      <td>0.0</td>\n",
       "      <td>0.0</td>\n",
       "      <td>0.0</td>\n",
       "      <td>0.0</td>\n",
       "      <td>0.0</td>\n",
       "      <td>...</td>\n",
       "      <td>0.0</td>\n",
       "      <td>0.0</td>\n",
       "      <td>0.0</td>\n",
       "      <td>0.0</td>\n",
       "      <td>0.0</td>\n",
       "      <td>0.0</td>\n",
       "      <td>0.0</td>\n",
       "      <td>0.0</td>\n",
       "      <td>0.0</td>\n",
       "      <td>0.0</td>\n",
       "    </tr>\n",
       "    <tr>\n",
       "      <th>3</th>\n",
       "      <td>0.0</td>\n",
       "      <td>0.0</td>\n",
       "      <td>0.0</td>\n",
       "      <td>0.0</td>\n",
       "      <td>0.0</td>\n",
       "      <td>0.0</td>\n",
       "      <td>0.0</td>\n",
       "      <td>0.0</td>\n",
       "      <td>0.0</td>\n",
       "      <td>0.0</td>\n",
       "      <td>...</td>\n",
       "      <td>0.0</td>\n",
       "      <td>0.0</td>\n",
       "      <td>0.0</td>\n",
       "      <td>0.0</td>\n",
       "      <td>0.0</td>\n",
       "      <td>0.0</td>\n",
       "      <td>0.0</td>\n",
       "      <td>0.0</td>\n",
       "      <td>0.0</td>\n",
       "      <td>0.0</td>\n",
       "    </tr>\n",
       "    <tr>\n",
       "      <th>4</th>\n",
       "      <td>0.0</td>\n",
       "      <td>0.0</td>\n",
       "      <td>0.0</td>\n",
       "      <td>0.0</td>\n",
       "      <td>0.0</td>\n",
       "      <td>0.0</td>\n",
       "      <td>0.0</td>\n",
       "      <td>0.0</td>\n",
       "      <td>0.0</td>\n",
       "      <td>0.0</td>\n",
       "      <td>...</td>\n",
       "      <td>0.0</td>\n",
       "      <td>0.0</td>\n",
       "      <td>0.0</td>\n",
       "      <td>0.0</td>\n",
       "      <td>0.0</td>\n",
       "      <td>0.0</td>\n",
       "      <td>0.0</td>\n",
       "      <td>0.0</td>\n",
       "      <td>0.0</td>\n",
       "      <td>0.0</td>\n",
       "    </tr>\n",
       "    <tr>\n",
       "      <th>...</th>\n",
       "      <td>...</td>\n",
       "      <td>...</td>\n",
       "      <td>...</td>\n",
       "      <td>...</td>\n",
       "      <td>...</td>\n",
       "      <td>...</td>\n",
       "      <td>...</td>\n",
       "      <td>...</td>\n",
       "      <td>...</td>\n",
       "      <td>...</td>\n",
       "      <td>...</td>\n",
       "      <td>...</td>\n",
       "      <td>...</td>\n",
       "      <td>...</td>\n",
       "      <td>...</td>\n",
       "      <td>...</td>\n",
       "      <td>...</td>\n",
       "      <td>...</td>\n",
       "      <td>...</td>\n",
       "      <td>...</td>\n",
       "      <td>...</td>\n",
       "    </tr>\n",
       "    <tr>\n",
       "      <th>18107</th>\n",
       "      <td>0.0</td>\n",
       "      <td>0.0</td>\n",
       "      <td>0.0</td>\n",
       "      <td>0.0</td>\n",
       "      <td>0.0</td>\n",
       "      <td>0.0</td>\n",
       "      <td>0.0</td>\n",
       "      <td>0.0</td>\n",
       "      <td>0.0</td>\n",
       "      <td>0.0</td>\n",
       "      <td>...</td>\n",
       "      <td>0.0</td>\n",
       "      <td>0.0</td>\n",
       "      <td>0.0</td>\n",
       "      <td>0.0</td>\n",
       "      <td>0.0</td>\n",
       "      <td>0.0</td>\n",
       "      <td>0.0</td>\n",
       "      <td>0.0</td>\n",
       "      <td>0.0</td>\n",
       "      <td>0.0</td>\n",
       "    </tr>\n",
       "    <tr>\n",
       "      <th>18108</th>\n",
       "      <td>0.0</td>\n",
       "      <td>0.0</td>\n",
       "      <td>0.0</td>\n",
       "      <td>0.0</td>\n",
       "      <td>0.0</td>\n",
       "      <td>0.0</td>\n",
       "      <td>0.0</td>\n",
       "      <td>0.0</td>\n",
       "      <td>0.0</td>\n",
       "      <td>0.0</td>\n",
       "      <td>...</td>\n",
       "      <td>0.0</td>\n",
       "      <td>0.0</td>\n",
       "      <td>0.0</td>\n",
       "      <td>0.0</td>\n",
       "      <td>0.0</td>\n",
       "      <td>0.0</td>\n",
       "      <td>0.0</td>\n",
       "      <td>0.0</td>\n",
       "      <td>0.0</td>\n",
       "      <td>0.0</td>\n",
       "    </tr>\n",
       "    <tr>\n",
       "      <th>18109</th>\n",
       "      <td>0.0</td>\n",
       "      <td>0.0</td>\n",
       "      <td>0.0</td>\n",
       "      <td>0.0</td>\n",
       "      <td>0.0</td>\n",
       "      <td>0.0</td>\n",
       "      <td>0.0</td>\n",
       "      <td>0.0</td>\n",
       "      <td>0.0</td>\n",
       "      <td>0.0</td>\n",
       "      <td>...</td>\n",
       "      <td>0.0</td>\n",
       "      <td>0.0</td>\n",
       "      <td>0.0</td>\n",
       "      <td>0.0</td>\n",
       "      <td>0.0</td>\n",
       "      <td>0.0</td>\n",
       "      <td>0.0</td>\n",
       "      <td>0.0</td>\n",
       "      <td>0.0</td>\n",
       "      <td>0.0</td>\n",
       "    </tr>\n",
       "    <tr>\n",
       "      <th>18110</th>\n",
       "      <td>0.0</td>\n",
       "      <td>0.0</td>\n",
       "      <td>0.0</td>\n",
       "      <td>0.0</td>\n",
       "      <td>0.0</td>\n",
       "      <td>0.0</td>\n",
       "      <td>0.0</td>\n",
       "      <td>0.0</td>\n",
       "      <td>0.0</td>\n",
       "      <td>0.0</td>\n",
       "      <td>...</td>\n",
       "      <td>0.0</td>\n",
       "      <td>0.0</td>\n",
       "      <td>0.0</td>\n",
       "      <td>0.0</td>\n",
       "      <td>0.0</td>\n",
       "      <td>0.0</td>\n",
       "      <td>0.0</td>\n",
       "      <td>0.0</td>\n",
       "      <td>0.0</td>\n",
       "      <td>0.0</td>\n",
       "    </tr>\n",
       "    <tr>\n",
       "      <th>18111</th>\n",
       "      <td>0.0</td>\n",
       "      <td>0.0</td>\n",
       "      <td>0.0</td>\n",
       "      <td>0.0</td>\n",
       "      <td>0.0</td>\n",
       "      <td>0.0</td>\n",
       "      <td>0.0</td>\n",
       "      <td>0.0</td>\n",
       "      <td>0.0</td>\n",
       "      <td>0.0</td>\n",
       "      <td>...</td>\n",
       "      <td>0.0</td>\n",
       "      <td>0.0</td>\n",
       "      <td>0.0</td>\n",
       "      <td>0.0</td>\n",
       "      <td>0.0</td>\n",
       "      <td>0.0</td>\n",
       "      <td>0.0</td>\n",
       "      <td>0.0</td>\n",
       "      <td>0.0</td>\n",
       "      <td>0.0</td>\n",
       "    </tr>\n",
       "  </tbody>\n",
       "</table>\n",
       "<p>18112 rows × 10971 columns</p>\n",
       "</div>"
      ],
      "text/plain": [
       "        aa  aaaaannnnnnd  aaaahmazing   ab  abbey  abby  abck  abdomen  \\\n",
       "0      0.0           0.0          0.0  0.0    0.0   0.0   0.0      0.0   \n",
       "1      0.0           0.0          0.0  0.0    0.0   0.0   0.0      0.0   \n",
       "2      0.0           0.0          0.0  0.0    0.0   0.0   0.0      0.0   \n",
       "3      0.0           0.0          0.0  0.0    0.0   0.0   0.0      0.0   \n",
       "4      0.0           0.0          0.0  0.0    0.0   0.0   0.0      0.0   \n",
       "...    ...           ...          ...  ...    ...   ...   ...      ...   \n",
       "18107  0.0           0.0          0.0  0.0    0.0   0.0   0.0      0.0   \n",
       "18108  0.0           0.0          0.0  0.0    0.0   0.0   0.0      0.0   \n",
       "18109  0.0           0.0          0.0  0.0    0.0   0.0   0.0      0.0   \n",
       "18110  0.0           0.0          0.0  0.0    0.0   0.0   0.0      0.0   \n",
       "18111  0.0           0.0          0.0  0.0    0.0   0.0   0.0      0.0   \n",
       "\n",
       "       abdominal  abercrombie  ...  ziploc  zipped  zipper  zippered  zipping  \\\n",
       "0            0.0          0.0  ...     0.0     0.0     0.0       0.0      0.0   \n",
       "1            0.0          0.0  ...     0.0     0.0     0.0       0.0      0.0   \n",
       "2            0.0          0.0  ...     0.0     0.0     0.0       0.0      0.0   \n",
       "3            0.0          0.0  ...     0.0     0.0     0.0       0.0      0.0   \n",
       "4            0.0          0.0  ...     0.0     0.0     0.0       0.0      0.0   \n",
       "...          ...          ...  ...     ...     ...     ...       ...      ...   \n",
       "18107        0.0          0.0  ...     0.0     0.0     0.0       0.0      0.0   \n",
       "18108        0.0          0.0  ...     0.0     0.0     0.0       0.0      0.0   \n",
       "18109        0.0          0.0  ...     0.0     0.0     0.0       0.0      0.0   \n",
       "18110        0.0          0.0  ...     0.0     0.0     0.0       0.0      0.0   \n",
       "18111        0.0          0.0  ...     0.0     0.0     0.0       0.0      0.0   \n",
       "\n",
       "       zombie  zone  zoom  zooming  zuma  \n",
       "0         0.0   0.0   0.0      0.0   0.0  \n",
       "1         0.0   0.0   0.0      0.0   0.0  \n",
       "2         0.0   0.0   0.0      0.0   0.0  \n",
       "3         0.0   0.0   0.0      0.0   0.0  \n",
       "4         0.0   0.0   0.0      0.0   0.0  \n",
       "...       ...   ...   ...      ...   ...  \n",
       "18107     0.0   0.0   0.0      0.0   0.0  \n",
       "18108     0.0   0.0   0.0      0.0   0.0  \n",
       "18109     0.0   0.0   0.0      0.0   0.0  \n",
       "18110     0.0   0.0   0.0      0.0   0.0  \n",
       "18111     0.0   0.0   0.0      0.0   0.0  \n",
       "\n",
       "[18112 rows x 10971 columns]"
      ]
     },
     "execution_count": 13,
     "metadata": {},
     "output_type": "execute_result"
    }
   ],
   "source": [
    "# Convert vectorized X_train to a vector for easier visual inspection.\n",
    "X_train_vec = pd.DataFrame.sparse.from_spmatrix(X_train_vectorized, columns=tfidf.get_feature_names())\n",
    "X_train_vec"
   ]
  },
  {
   "cell_type": "code",
   "execution_count": 14,
   "id": "35e2a4e5",
   "metadata": {},
   "outputs": [
    {
     "data": {
      "text/plain": [
       "<4528x10971 sparse matrix of type '<class 'numpy.float64'>'\n",
       "\twith 114122 stored elements in Compressed Sparse Row format>"
      ]
     },
     "execution_count": 14,
     "metadata": {},
     "output_type": "execute_result"
    }
   ],
   "source": [
    "# Transform test data using TF-IDF Vectorizer trained on X_train, y_train\n",
    "X_test_vectorized = tfidf.transform(X_test)\n",
    "X_test_vectorized"
   ]
  },
  {
   "cell_type": "code",
   "execution_count": 15,
   "id": "6917fad8",
   "metadata": {},
   "outputs": [
    {
     "name": "stderr",
     "output_type": "stream",
     "text": [
      "/Users/jillian/opt/anaconda3/envs/learn-env/lib/python3.8/site-packages/sklearn/utils/deprecation.py:87: FutureWarning: Function get_feature_names is deprecated; get_feature_names is deprecated in 1.0 and will be removed in 1.2. Please use get_feature_names_out instead.\n",
      "  warnings.warn(msg, category=FutureWarning)\n"
     ]
    },
    {
     "data": {
      "text/html": [
       "<div>\n",
       "<style scoped>\n",
       "    .dataframe tbody tr th:only-of-type {\n",
       "        vertical-align: middle;\n",
       "    }\n",
       "\n",
       "    .dataframe tbody tr th {\n",
       "        vertical-align: top;\n",
       "    }\n",
       "\n",
       "    .dataframe thead th {\n",
       "        text-align: right;\n",
       "    }\n",
       "</style>\n",
       "<table border=\"1\" class=\"dataframe\">\n",
       "  <thead>\n",
       "    <tr style=\"text-align: right;\">\n",
       "      <th></th>\n",
       "      <th>aa</th>\n",
       "      <th>aaaaannnnnnd</th>\n",
       "      <th>aaaahmazing</th>\n",
       "      <th>ab</th>\n",
       "      <th>abbey</th>\n",
       "      <th>abby</th>\n",
       "      <th>abck</th>\n",
       "      <th>abdomen</th>\n",
       "      <th>abdominal</th>\n",
       "      <th>abercrombie</th>\n",
       "      <th>...</th>\n",
       "      <th>ziploc</th>\n",
       "      <th>zipped</th>\n",
       "      <th>zipper</th>\n",
       "      <th>zippered</th>\n",
       "      <th>zipping</th>\n",
       "      <th>zombie</th>\n",
       "      <th>zone</th>\n",
       "      <th>zoom</th>\n",
       "      <th>zooming</th>\n",
       "      <th>zuma</th>\n",
       "    </tr>\n",
       "  </thead>\n",
       "  <tbody>\n",
       "    <tr>\n",
       "      <th>0</th>\n",
       "      <td>0.0</td>\n",
       "      <td>0.0</td>\n",
       "      <td>0.0</td>\n",
       "      <td>0.0</td>\n",
       "      <td>0.0</td>\n",
       "      <td>0.0</td>\n",
       "      <td>0.0</td>\n",
       "      <td>0.0</td>\n",
       "      <td>0.0</td>\n",
       "      <td>0.0</td>\n",
       "      <td>...</td>\n",
       "      <td>0.0</td>\n",
       "      <td>0.0</td>\n",
       "      <td>0.0</td>\n",
       "      <td>0.0</td>\n",
       "      <td>0.0</td>\n",
       "      <td>0.0</td>\n",
       "      <td>0.0</td>\n",
       "      <td>0.0</td>\n",
       "      <td>0.0</td>\n",
       "      <td>0.0</td>\n",
       "    </tr>\n",
       "    <tr>\n",
       "      <th>1</th>\n",
       "      <td>0.0</td>\n",
       "      <td>0.0</td>\n",
       "      <td>0.0</td>\n",
       "      <td>0.0</td>\n",
       "      <td>0.0</td>\n",
       "      <td>0.0</td>\n",
       "      <td>0.0</td>\n",
       "      <td>0.0</td>\n",
       "      <td>0.0</td>\n",
       "      <td>0.0</td>\n",
       "      <td>...</td>\n",
       "      <td>0.0</td>\n",
       "      <td>0.0</td>\n",
       "      <td>0.0</td>\n",
       "      <td>0.0</td>\n",
       "      <td>0.0</td>\n",
       "      <td>0.0</td>\n",
       "      <td>0.0</td>\n",
       "      <td>0.0</td>\n",
       "      <td>0.0</td>\n",
       "      <td>0.0</td>\n",
       "    </tr>\n",
       "    <tr>\n",
       "      <th>2</th>\n",
       "      <td>0.0</td>\n",
       "      <td>0.0</td>\n",
       "      <td>0.0</td>\n",
       "      <td>0.0</td>\n",
       "      <td>0.0</td>\n",
       "      <td>0.0</td>\n",
       "      <td>0.0</td>\n",
       "      <td>0.0</td>\n",
       "      <td>0.0</td>\n",
       "      <td>0.0</td>\n",
       "      <td>...</td>\n",
       "      <td>0.0</td>\n",
       "      <td>0.0</td>\n",
       "      <td>0.0</td>\n",
       "      <td>0.0</td>\n",
       "      <td>0.0</td>\n",
       "      <td>0.0</td>\n",
       "      <td>0.0</td>\n",
       "      <td>0.0</td>\n",
       "      <td>0.0</td>\n",
       "      <td>0.0</td>\n",
       "    </tr>\n",
       "    <tr>\n",
       "      <th>3</th>\n",
       "      <td>0.0</td>\n",
       "      <td>0.0</td>\n",
       "      <td>0.0</td>\n",
       "      <td>0.0</td>\n",
       "      <td>0.0</td>\n",
       "      <td>0.0</td>\n",
       "      <td>0.0</td>\n",
       "      <td>0.0</td>\n",
       "      <td>0.0</td>\n",
       "      <td>0.0</td>\n",
       "      <td>...</td>\n",
       "      <td>0.0</td>\n",
       "      <td>0.0</td>\n",
       "      <td>0.0</td>\n",
       "      <td>0.0</td>\n",
       "      <td>0.0</td>\n",
       "      <td>0.0</td>\n",
       "      <td>0.0</td>\n",
       "      <td>0.0</td>\n",
       "      <td>0.0</td>\n",
       "      <td>0.0</td>\n",
       "    </tr>\n",
       "    <tr>\n",
       "      <th>4</th>\n",
       "      <td>0.0</td>\n",
       "      <td>0.0</td>\n",
       "      <td>0.0</td>\n",
       "      <td>0.0</td>\n",
       "      <td>0.0</td>\n",
       "      <td>0.0</td>\n",
       "      <td>0.0</td>\n",
       "      <td>0.0</td>\n",
       "      <td>0.0</td>\n",
       "      <td>0.0</td>\n",
       "      <td>...</td>\n",
       "      <td>0.0</td>\n",
       "      <td>0.0</td>\n",
       "      <td>0.0</td>\n",
       "      <td>0.0</td>\n",
       "      <td>0.0</td>\n",
       "      <td>0.0</td>\n",
       "      <td>0.0</td>\n",
       "      <td>0.0</td>\n",
       "      <td>0.0</td>\n",
       "      <td>0.0</td>\n",
       "    </tr>\n",
       "    <tr>\n",
       "      <th>...</th>\n",
       "      <td>...</td>\n",
       "      <td>...</td>\n",
       "      <td>...</td>\n",
       "      <td>...</td>\n",
       "      <td>...</td>\n",
       "      <td>...</td>\n",
       "      <td>...</td>\n",
       "      <td>...</td>\n",
       "      <td>...</td>\n",
       "      <td>...</td>\n",
       "      <td>...</td>\n",
       "      <td>...</td>\n",
       "      <td>...</td>\n",
       "      <td>...</td>\n",
       "      <td>...</td>\n",
       "      <td>...</td>\n",
       "      <td>...</td>\n",
       "      <td>...</td>\n",
       "      <td>...</td>\n",
       "      <td>...</td>\n",
       "      <td>...</td>\n",
       "    </tr>\n",
       "    <tr>\n",
       "      <th>4523</th>\n",
       "      <td>0.0</td>\n",
       "      <td>0.0</td>\n",
       "      <td>0.0</td>\n",
       "      <td>0.0</td>\n",
       "      <td>0.0</td>\n",
       "      <td>0.0</td>\n",
       "      <td>0.0</td>\n",
       "      <td>0.0</td>\n",
       "      <td>0.0</td>\n",
       "      <td>0.0</td>\n",
       "      <td>...</td>\n",
       "      <td>0.0</td>\n",
       "      <td>0.0</td>\n",
       "      <td>0.0</td>\n",
       "      <td>0.0</td>\n",
       "      <td>0.0</td>\n",
       "      <td>0.0</td>\n",
       "      <td>0.0</td>\n",
       "      <td>0.0</td>\n",
       "      <td>0.0</td>\n",
       "      <td>0.0</td>\n",
       "    </tr>\n",
       "    <tr>\n",
       "      <th>4524</th>\n",
       "      <td>0.0</td>\n",
       "      <td>0.0</td>\n",
       "      <td>0.0</td>\n",
       "      <td>0.0</td>\n",
       "      <td>0.0</td>\n",
       "      <td>0.0</td>\n",
       "      <td>0.0</td>\n",
       "      <td>0.0</td>\n",
       "      <td>0.0</td>\n",
       "      <td>0.0</td>\n",
       "      <td>...</td>\n",
       "      <td>0.0</td>\n",
       "      <td>0.0</td>\n",
       "      <td>0.0</td>\n",
       "      <td>0.0</td>\n",
       "      <td>0.0</td>\n",
       "      <td>0.0</td>\n",
       "      <td>0.0</td>\n",
       "      <td>0.0</td>\n",
       "      <td>0.0</td>\n",
       "      <td>0.0</td>\n",
       "    </tr>\n",
       "    <tr>\n",
       "      <th>4525</th>\n",
       "      <td>0.0</td>\n",
       "      <td>0.0</td>\n",
       "      <td>0.0</td>\n",
       "      <td>0.0</td>\n",
       "      <td>0.0</td>\n",
       "      <td>0.0</td>\n",
       "      <td>0.0</td>\n",
       "      <td>0.0</td>\n",
       "      <td>0.0</td>\n",
       "      <td>0.0</td>\n",
       "      <td>...</td>\n",
       "      <td>0.0</td>\n",
       "      <td>0.0</td>\n",
       "      <td>0.0</td>\n",
       "      <td>0.0</td>\n",
       "      <td>0.0</td>\n",
       "      <td>0.0</td>\n",
       "      <td>0.0</td>\n",
       "      <td>0.0</td>\n",
       "      <td>0.0</td>\n",
       "      <td>0.0</td>\n",
       "    </tr>\n",
       "    <tr>\n",
       "      <th>4526</th>\n",
       "      <td>0.0</td>\n",
       "      <td>0.0</td>\n",
       "      <td>0.0</td>\n",
       "      <td>0.0</td>\n",
       "      <td>0.0</td>\n",
       "      <td>0.0</td>\n",
       "      <td>0.0</td>\n",
       "      <td>0.0</td>\n",
       "      <td>0.0</td>\n",
       "      <td>0.0</td>\n",
       "      <td>...</td>\n",
       "      <td>0.0</td>\n",
       "      <td>0.0</td>\n",
       "      <td>0.0</td>\n",
       "      <td>0.0</td>\n",
       "      <td>0.0</td>\n",
       "      <td>0.0</td>\n",
       "      <td>0.0</td>\n",
       "      <td>0.0</td>\n",
       "      <td>0.0</td>\n",
       "      <td>0.0</td>\n",
       "    </tr>\n",
       "    <tr>\n",
       "      <th>4527</th>\n",
       "      <td>0.0</td>\n",
       "      <td>0.0</td>\n",
       "      <td>0.0</td>\n",
       "      <td>0.0</td>\n",
       "      <td>0.0</td>\n",
       "      <td>0.0</td>\n",
       "      <td>0.0</td>\n",
       "      <td>0.0</td>\n",
       "      <td>0.0</td>\n",
       "      <td>0.0</td>\n",
       "      <td>...</td>\n",
       "      <td>0.0</td>\n",
       "      <td>0.0</td>\n",
       "      <td>0.0</td>\n",
       "      <td>0.0</td>\n",
       "      <td>0.0</td>\n",
       "      <td>0.0</td>\n",
       "      <td>0.0</td>\n",
       "      <td>0.0</td>\n",
       "      <td>0.0</td>\n",
       "      <td>0.0</td>\n",
       "    </tr>\n",
       "  </tbody>\n",
       "</table>\n",
       "<p>4528 rows × 10971 columns</p>\n",
       "</div>"
      ],
      "text/plain": [
       "       aa  aaaaannnnnnd  aaaahmazing   ab  abbey  abby  abck  abdomen  \\\n",
       "0     0.0           0.0          0.0  0.0    0.0   0.0   0.0      0.0   \n",
       "1     0.0           0.0          0.0  0.0    0.0   0.0   0.0      0.0   \n",
       "2     0.0           0.0          0.0  0.0    0.0   0.0   0.0      0.0   \n",
       "3     0.0           0.0          0.0  0.0    0.0   0.0   0.0      0.0   \n",
       "4     0.0           0.0          0.0  0.0    0.0   0.0   0.0      0.0   \n",
       "...   ...           ...          ...  ...    ...   ...   ...      ...   \n",
       "4523  0.0           0.0          0.0  0.0    0.0   0.0   0.0      0.0   \n",
       "4524  0.0           0.0          0.0  0.0    0.0   0.0   0.0      0.0   \n",
       "4525  0.0           0.0          0.0  0.0    0.0   0.0   0.0      0.0   \n",
       "4526  0.0           0.0          0.0  0.0    0.0   0.0   0.0      0.0   \n",
       "4527  0.0           0.0          0.0  0.0    0.0   0.0   0.0      0.0   \n",
       "\n",
       "      abdominal  abercrombie  ...  ziploc  zipped  zipper  zippered  zipping  \\\n",
       "0           0.0          0.0  ...     0.0     0.0     0.0       0.0      0.0   \n",
       "1           0.0          0.0  ...     0.0     0.0     0.0       0.0      0.0   \n",
       "2           0.0          0.0  ...     0.0     0.0     0.0       0.0      0.0   \n",
       "3           0.0          0.0  ...     0.0     0.0     0.0       0.0      0.0   \n",
       "4           0.0          0.0  ...     0.0     0.0     0.0       0.0      0.0   \n",
       "...         ...          ...  ...     ...     ...     ...       ...      ...   \n",
       "4523        0.0          0.0  ...     0.0     0.0     0.0       0.0      0.0   \n",
       "4524        0.0          0.0  ...     0.0     0.0     0.0       0.0      0.0   \n",
       "4525        0.0          0.0  ...     0.0     0.0     0.0       0.0      0.0   \n",
       "4526        0.0          0.0  ...     0.0     0.0     0.0       0.0      0.0   \n",
       "4527        0.0          0.0  ...     0.0     0.0     0.0       0.0      0.0   \n",
       "\n",
       "      zombie  zone  zoom  zooming  zuma  \n",
       "0        0.0   0.0   0.0      0.0   0.0  \n",
       "1        0.0   0.0   0.0      0.0   0.0  \n",
       "2        0.0   0.0   0.0      0.0   0.0  \n",
       "3        0.0   0.0   0.0      0.0   0.0  \n",
       "4        0.0   0.0   0.0      0.0   0.0  \n",
       "...      ...   ...   ...      ...   ...  \n",
       "4523     0.0   0.0   0.0      0.0   0.0  \n",
       "4524     0.0   0.0   0.0      0.0   0.0  \n",
       "4525     0.0   0.0   0.0      0.0   0.0  \n",
       "4526     0.0   0.0   0.0      0.0   0.0  \n",
       "4527     0.0   0.0   0.0      0.0   0.0  \n",
       "\n",
       "[4528 rows x 10971 columns]"
      ]
     },
     "execution_count": 15,
     "metadata": {},
     "output_type": "execute_result"
    }
   ],
   "source": [
    "# Convert to DataFrame for visual inspection\n",
    "X_test_vec = pd.DataFrame.sparse.from_spmatrix(X_test_vectorized, columns=tfidf.get_feature_names())\n",
    "X_test_vec"
   ]
  },
  {
   "cell_type": "markdown",
   "id": "33c14e52",
   "metadata": {},
   "source": [
    "### Function to return scores for models with  cross validation"
   ]
  },
  {
   "cell_type": "markdown",
   "id": "2e59a9d5",
   "metadata": {},
   "source": [
    "Creating dictionary to input in my function which scores I would like to return. Although my focus is on accuracy, in the event that many of my models have similar accuracy, I may want to look at other scoring outcomes."
   ]
  },
  {
   "cell_type": "code",
   "execution_count": 16,
   "id": "7b712799",
   "metadata": {},
   "outputs": [],
   "source": [
    "scoring = {'accuracy': 'accuracy',\n",
    "           'precision': make_scorer(precision_score, average='weighted'),\n",
    "           'recall': make_scorer(recall_score, average='weighted'),\n",
    "           'f1': make_scorer(f1_score, average='weighted'),\n",
    "           'log_loss': 'neg_log_loss'\n",
    "           }"
   ]
  },
  {
   "cell_type": "code",
   "execution_count": 17,
   "id": "17033655",
   "metadata": {},
   "outputs": [],
   "source": [
    "def cross_val(model, X, y, scoring=scoring, cv=5):\n",
    "    \"\"\"\n",
    "    Evaluates a given model/estimator using cross-validation\n",
    "    and returns a dict containing the absolute vlues of the average (mean) scores\n",
    "    for classification models.\n",
    "\n",
    "    clf: scikit-learn classification model\n",
    "    X: features (no labels)\n",
    "    y: labels\n",
    "    scoring: a dictionary of scoring metrics\n",
    "    cv: cross-validation strategy\n",
    "    \"\"\"\n",
    "    # Score metrics on cross-validated dataset\n",
    "    scores_dict = cross_validate(model, X, y, scoring=scoring, cv=5, n_jobs=-1)\n",
    "\n",
    "    # return the average scores for each metric\n",
    "    return {metric: round(np.mean(scores), 5) for metric, scores in scores_dict.items()}\n"
   ]
  },
  {
   "cell_type": "markdown",
   "id": "d51342ee",
   "metadata": {},
   "source": [
    "## Dummy Classifier"
   ]
  },
  {
   "cell_type": "code",
   "execution_count": 18,
   "id": "96ea974b",
   "metadata": {},
   "outputs": [
    {
     "name": "stderr",
     "output_type": "stream",
     "text": [
      "/Users/jillian/opt/anaconda3/envs/learn-env/lib/python3.8/site-packages/sklearn/utils/deprecation.py:87: FutureWarning: Function plot_confusion_matrix is deprecated; Function `plot_confusion_matrix` is deprecated in 1.0 and will be removed in 1.2. Use one of the class methods: ConfusionMatrixDisplay.from_predictions or ConfusionMatrixDisplay.from_estimator.\n",
      "  warnings.warn(msg, category=FutureWarning)\n"
     ]
    },
    {
     "name": "stdout",
     "output_type": "stream",
     "text": [
      "0.770428445229682\n"
     ]
    },
    {
     "data": {
      "image/png": "[encoded data removed]",
      "text/plain": [
       "<Figure size 432x288 with 2 Axes>"
      ]
     },
     "metadata": {
      "needs_background": "light"
     },
     "output_type": "display_data"
    }
   ],
   "source": [
    "# Instantiate Dummy Classifier \n",
    "dummy_model = DummyClassifier()\n",
    "\n",
    "#Fit and Evaluate Dummy Classifier\n",
    "dummy_model.fit(X_train_vectorized, y_train)\n",
    "dummy_yhat = dummy_model.predict(X_train)\n",
    "plot_confusion_matrix(dummy_model, X_train, y_train);\n",
    "print(accuracy_score(y_train, dummy_yhat))"
   ]
  },
  {
   "cell_type": "markdown",
   "id": "2ec2935c",
   "metadata": {},
   "source": [
    "We see our Dummy Model predicts our majority label, 1, for each observation. Due to class imbalance, the model performed well at 77% accuracy score."
   ]
  },
  {
   "cell_type": "code",
   "execution_count": 19,
   "id": "93c5e367",
   "metadata": {},
   "outputs": [],
   "source": [
    "#testing cross_val function"
   ]
  },
  {
   "cell_type": "code",
   "execution_count": 20,
   "id": "4dba3a2c",
   "metadata": {
    "scrolled": true
   },
   "outputs": [
    {
     "data": {
      "text/plain": [
       "{'fit_time': 0.00495,\n",
       " 'score_time': 0.00541,\n",
       " 'test_accuracy': 0.77043,\n",
       " 'test_precision': 0.59356,\n",
       " 'test_recall': 0.77043,\n",
       " 'test_f1': 0.67053,\n",
       " 'test_log_loss': -0.53876}"
      ]
     },
     "execution_count": 20,
     "metadata": {},
     "output_type": "execute_result"
    }
   ],
   "source": [
    "cross_val(dummy_model, X_train_vectorized, y_train)"
   ]
  },
  {
   "cell_type": "markdown",
   "id": "228126d8",
   "metadata": {},
   "source": [
    "## Exploring Initial Model CV Results"
   ]
  },
  {
   "cell_type": "code",
   "execution_count": 21,
   "id": "5d10ae25",
   "metadata": {},
   "outputs": [
    {
     "data": {
      "text/html": [
       "<div>\n",
       "<style scoped>\n",
       "    .dataframe tbody tr th:only-of-type {\n",
       "        vertical-align: middle;\n",
       "    }\n",
       "\n",
       "    .dataframe tbody tr th {\n",
       "        vertical-align: top;\n",
       "    }\n",
       "\n",
       "    .dataframe thead th {\n",
       "        text-align: right;\n",
       "    }\n",
       "</style>\n",
       "<table border=\"1\" class=\"dataframe\">\n",
       "  <thead>\n",
       "    <tr style=\"text-align: right;\">\n",
       "      <th></th>\n",
       "      <th>0</th>\n",
       "    </tr>\n",
       "    <tr>\n",
       "      <th>Algorithm</th>\n",
       "      <th></th>\n",
       "    </tr>\n",
       "  </thead>\n",
       "  <tbody>\n",
       "    <tr>\n",
       "      <th>MultinomialNB()</th>\n",
       "      <td>0.792237</td>\n",
       "    </tr>\n",
       "    <tr>\n",
       "      <th>LogisticRegression()</th>\n",
       "      <td>0.873509</td>\n",
       "    </tr>\n",
       "    <tr>\n",
       "      <th>KNeighborsClassifier()</th>\n",
       "      <td>0.813108</td>\n",
       "    </tr>\n",
       "    <tr>\n",
       "      <th>DecisionTreeClassifier()</th>\n",
       "      <td>0.781360</td>\n",
       "    </tr>\n",
       "    <tr>\n",
       "      <th>XGBClassifier(base_score=None,</th>\n",
       "      <td>0.861804</td>\n",
       "    </tr>\n",
       "    <tr>\n",
       "      <th>RandomForestClassifier()</th>\n",
       "      <td>0.830058</td>\n",
       "    </tr>\n",
       "  </tbody>\n",
       "</table>\n",
       "</div>"
      ],
      "text/plain": [
       "                                       0\n",
       "Algorithm                               \n",
       "MultinomialNB()                 0.792237\n",
       "LogisticRegression()            0.873509\n",
       "KNeighborsClassifier()          0.813108\n",
       "DecisionTreeClassifier()        0.781360\n",
       "XGBClassifier(base_score=None,  0.861804\n",
       "RandomForestClassifier()        0.830058"
      ]
     },
     "execution_count": 21,
     "metadata": {},
     "output_type": "execute_result"
    }
   ],
   "source": [
    "benchmark = []\n",
    "# Iterate over all algorithms\n",
    "for algorithm in [MultinomialNB(), LogisticRegression(), KNeighborsClassifier(), DecisionTreeClassifier(), XGBClassifier(), RandomForestClassifier()]:\n",
    "    # Perform cross validation\n",
    "    results = cross_val_score(algorithm, X_train_vectorized, y_train)\n",
    "    \n",
    "    # Get results & append algorithm name\n",
    "    tmp = pd.DataFrame.from_dict(results).mean(axis=0)\n",
    "    tmp = tmp.append(pd.Series([str(algorithm).split(' ')[0].split('.')[-1]], index=['Algorithm']))\n",
    "    benchmark.append(tmp)\n",
    "    \n",
    "pd.DataFrame(benchmark).set_index('Algorithm')"
   ]
  },
  {
   "cell_type": "markdown",
   "id": "00c20083",
   "metadata": {},
   "source": [
    "Based on an inital runthough of these algorithms without tuning any model hyperparameters or vectorization paramaeters, Logistic Regression, XGBoost, and Random Forest Classifier are the top 3 performing models. I will explore these models further through grid seraching hyperparameters."
   ]
  },
  {
   "cell_type": "markdown",
   "id": "8979913e",
   "metadata": {},
   "source": [
    "## Logistic Regression"
   ]
  },
  {
   "cell_type": "code",
   "execution_count": 26,
   "id": "54777d3a",
   "metadata": {},
   "outputs": [],
   "source": [
    "#Instantiating initial Logistic Regression pipeline with no tuning"
   ]
  },
  {
   "cell_type": "code",
   "execution_count": 22,
   "id": "007a15e3",
   "metadata": {},
   "outputs": [],
   "source": [
    "lr_pipe = Pipeline([\n",
    "           ('vect', TfidfVectorizer()),\n",
    "           ('lr', LogisticRegression(random_state=42)),\n",
    "])"
   ]
  },
  {
   "cell_type": "code",
   "execution_count": 23,
   "id": "3e6ce28b",
   "metadata": {},
   "outputs": [
    {
     "data": {
      "text/html": [
       "<style>#sk-container-id-1 {color: black;background-color: white;}#sk-container-id-1 pre{padding: 0;}#sk-container-id-1 div.sk-toggleable {background-color: white;}#sk-container-id-1 label.sk-toggleable__label {cursor: pointer;display: block;width: 100%;margin-bottom: 0;padding: 0.3em;box-sizing: border-box;text-align: center;}#sk-container-id-1 label.sk-toggleable__label-arrow:before {content: \"▸\";float: left;margin-right: 0.25em;color: #696969;}#sk-container-id-1 label.sk-toggleable__label-arrow:hover:before {color: black;}#sk-container-id-1 div.sk-estimator:hover label.sk-toggleable__label-arrow:before {color: black;}#sk-container-id-1 div.sk-toggleable__content {max-height: 0;max-width: 0;overflow: hidden;text-align: left;background-color: #f0f8ff;}#sk-container-id-1 div.sk-toggleable__content pre {margin: 0.2em;color: black;border-radius: 0.25em;background-color: #f0f8ff;}#sk-container-id-1 input.sk-toggleable__control:checked~div.sk-toggleable__content {max-height: 200px;max-width: 100%;overflow: auto;}#sk-container-id-1 input.sk-toggleable__control:checked~label.sk-toggleable__label-arrow:before {content: \"▾\";}#sk-container-id-1 div.sk-estimator input.sk-toggleable__control:checked~label.sk-toggleable__label {background-color: #d4ebff;}#sk-container-id-1 div.sk-label input.sk-toggleable__control:checked~label.sk-toggleable__label {background-color: #d4ebff;}#sk-container-id-1 input.sk-hidden--visually {border: 0;clip: rect(1px 1px 1px 1px);clip: rect(1px, 1px, 1px, 1px);height: 1px;margin: -1px;overflow: hidden;padding: 0;position: absolute;width: 1px;}#sk-container-id-1 div.sk-estimator {font-family: monospace;background-color: #f0f8ff;border: 1px dotted black;border-radius: 0.25em;box-sizing: border-box;margin-bottom: 0.5em;}#sk-container-id-1 div.sk-estimator:hover {background-color: #d4ebff;}#sk-container-id-1 div.sk-parallel-item::after {content: \"\";width: 100%;border-bottom: 1px solid gray;flex-grow: 1;}#sk-container-id-1 div.sk-label:hover label.sk-toggleable__label {background-color: #d4ebff;}#sk-container-id-1 div.sk-serial::before {content: \"\";position: absolute;border-left: 1px solid gray;box-sizing: border-box;top: 0;bottom: 0;left: 50%;z-index: 0;}#sk-container-id-1 div.sk-serial {display: flex;flex-direction: column;align-items: center;background-color: white;padding-right: 0.2em;padding-left: 0.2em;position: relative;}#sk-container-id-1 div.sk-item {position: relative;z-index: 1;}#sk-container-id-1 div.sk-parallel {display: flex;align-items: stretch;justify-content: center;background-color: white;position: relative;}#sk-container-id-1 div.sk-item::before, #sk-container-id-1 div.sk-parallel-item::before {content: \"\";position: absolute;border-left: 1px solid gray;box-sizing: border-box;top: 0;bottom: 0;left: 50%;z-index: -1;}#sk-container-id-1 div.sk-parallel-item {display: flex;flex-direction: column;z-index: 1;position: relative;background-color: white;}#sk-container-id-1 div.sk-parallel-item:first-child::after {align-self: flex-end;width: 50%;}#sk-container-id-1 div.sk-parallel-item:last-child::after {align-self: flex-start;width: 50%;}#sk-container-id-1 div.sk-parallel-item:only-child::after {width: 0;}#sk-container-id-1 div.sk-dashed-wrapped {border: 1px dashed gray;margin: 0 0.4em 0.5em 0.4em;box-sizing: border-box;padding-bottom: 0.4em;background-color: white;}#sk-container-id-1 div.sk-label label {font-family: monospace;font-weight: bold;display: inline-block;line-height: 1.2em;}#sk-container-id-1 div.sk-label-container {text-align: center;}#sk-container-id-1 div.sk-container {/* jupyter's `normalize.less` sets `[hidden] { display: none; }` but bootstrap.min.css set `[hidden] { display: none !important; }` so we also need the `!important` here to be able to override the default hidden behavior on the sphinx rendered scikit-learn.org. See: https://github.com/scikit-learn/scikit-learn/issues/21755 */display: inline-block !important;position: relative;}#sk-container-id-1 div.sk-text-repr-fallback {display: none;}</style><div id=\"sk-container-id-1\" class=\"sk-top-container\"><div class=\"sk-text-repr-fallback\"><pre>Pipeline(steps=[(&#x27;vect&#x27;, TfidfVectorizer()),\n",
       "                (&#x27;lr&#x27;, LogisticRegression(random_state=42))])</pre><b>In a Jupyter environment, please rerun this cell to show the HTML representation or trust the notebook. <br />On GitHub, the HTML representation is unable to render, please try loading this page with nbviewer.org.</b></div><div class=\"sk-container\" hidden><div class=\"sk-item sk-dashed-wrapped\"><div class=\"sk-label-container\"><div class=\"sk-label sk-toggleable\"><input class=\"sk-toggleable__control sk-hidden--visually\" id=\"sk-estimator-id-1\" type=\"checkbox\" ><label for=\"sk-estimator-id-1\" class=\"sk-toggleable__label sk-toggleable__label-arrow\">Pipeline</label><div class=\"sk-toggleable__content\"><pre>Pipeline(steps=[(&#x27;vect&#x27;, TfidfVectorizer()),\n",
       "                (&#x27;lr&#x27;, LogisticRegression(random_state=42))])</pre></div></div></div><div class=\"sk-serial\"><div class=\"sk-item\"><div class=\"sk-estimator sk-toggleable\"><input class=\"sk-toggleable__control sk-hidden--visually\" id=\"sk-estimator-id-2\" type=\"checkbox\" ><label for=\"sk-estimator-id-2\" class=\"sk-toggleable__label sk-toggleable__label-arrow\">TfidfVectorizer</label><div class=\"sk-toggleable__content\"><pre>TfidfVectorizer()</pre></div></div></div><div class=\"sk-item\"><div class=\"sk-estimator sk-toggleable\"><input class=\"sk-toggleable__control sk-hidden--visually\" id=\"sk-estimator-id-3\" type=\"checkbox\" ><label for=\"sk-estimator-id-3\" class=\"sk-toggleable__label sk-toggleable__label-arrow\">LogisticRegression</label><div class=\"sk-toggleable__content\"><pre>LogisticRegression(random_state=42)</pre></div></div></div></div></div></div></div>"
      ],
      "text/plain": [
       "Pipeline(steps=[('vect', TfidfVectorizer()),\n",
       "                ('lr', LogisticRegression(random_state=42))])"
      ]
     },
     "execution_count": 23,
     "metadata": {},
     "output_type": "execute_result"
    }
   ],
   "source": [
    "lr_pipe.fit(X_train, y_train)"
   ]
  },
  {
   "cell_type": "code",
   "execution_count": 24,
   "id": "26ab560e",
   "metadata": {},
   "outputs": [
    {
     "data": {
      "text/plain": [
       "0.9006183745583038"
      ]
     },
     "execution_count": 24,
     "metadata": {},
     "output_type": "execute_result"
    }
   ],
   "source": [
    "lr_pipe.score(X_train, y_train)"
   ]
  },
  {
   "cell_type": "code",
   "execution_count": 25,
   "id": "36115741",
   "metadata": {},
   "outputs": [
    {
     "data": {
      "text/plain": [
       "{'fit_time': 0.43994,\n",
       " 'score_time': 0.12715,\n",
       " 'test_accuracy': 0.87401,\n",
       " 'test_precision': 0.86942,\n",
       " 'test_recall': 0.87401,\n",
       " 'test_f1': 0.86637,\n",
       " 'test_log_loss': -0.29897}"
      ]
     },
     "execution_count": 25,
     "metadata": {},
     "output_type": "execute_result"
    }
   ],
   "source": [
    "cross_val(lr_pipe, X_train, y_train)"
   ]
  },
  {
   "cell_type": "code",
   "execution_count": 36,
   "id": "3aaffb93",
   "metadata": {},
   "outputs": [],
   "source": [
    "lr_yhat = lr_pipe.predict(X_train)"
   ]
  },
  {
   "cell_type": "code",
   "execution_count": 37,
   "id": "0fb0096b",
   "metadata": {},
   "outputs": [
    {
     "name": "stderr",
     "output_type": "stream",
     "text": [
      "/Users/jillian/opt/anaconda3/envs/learn-env/lib/python3.8/site-packages/sklearn/utils/deprecation.py:87: FutureWarning: Function plot_confusion_matrix is deprecated; Function `plot_confusion_matrix` is deprecated in 1.0 and will be removed in 1.2. Use one of the class methods: ConfusionMatrixDisplay.from_predictions or ConfusionMatrixDisplay.from_estimator.\n",
      "  warnings.warn(msg, category=FutureWarning)\n"
     ]
    },
    {
     "data": {
      "text/plain": [
       "<sklearn.metrics._plot.confusion_matrix.ConfusionMatrixDisplay at 0x7fc063265b80>"
      ]
     },
     "execution_count": 37,
     "metadata": {},
     "output_type": "execute_result"
    },
    {
     "data": {
      "image/png": "[encoded data removed]",
      "text/plain": [
       "<Figure size 432x288 with 2 Axes>"
      ]
     },
     "metadata": {
      "needs_background": "light"
     },
     "output_type": "display_data"
    }
   ],
   "source": [
    "plot_confusion_matrix(lr_pipe, X_train, y_train)"
   ]
  },
  {
   "cell_type": "code",
   "execution_count": 51,
   "id": "0a6da542",
   "metadata": {},
   "outputs": [
    {
     "name": "stdout",
     "output_type": "stream",
     "text": [
      "              precision    recall  f1-score   support\n",
      "\n",
      "           0       0.87      0.67      0.76      4158\n",
      "           1       0.91      0.97      0.94     13954\n",
      "\n",
      "    accuracy                           0.90     18112\n",
      "   macro avg       0.89      0.82      0.85     18112\n",
      "weighted avg       0.90      0.90      0.90     18112\n",
      "\n"
     ]
    }
   ],
   "source": [
    "# Show Classification Report\n",
    "print(classification_report(y_train, lr_yhat))"
   ]
  },
  {
   "cell_type": "code",
   "execution_count": 45,
   "id": "23f2c4f7",
   "metadata": {},
   "outputs": [],
   "source": [
    "lr_pipe_sm = ImPipeline([\n",
    "           ('vect', TfidfVectorizer()),\n",
    "            ('sm', ADASYN(random_state=42)),\n",
    "           ('lr', LogisticRegression(random_state=42)),\n",
    "])\n"
   ]
  },
  {
   "cell_type": "code",
   "execution_count": 46,
   "id": "1401b2fb",
   "metadata": {},
   "outputs": [
    {
     "data": {
      "text/html": [
       "<style>#sk-container-id-3 {color: black;background-color: white;}#sk-container-id-3 pre{padding: 0;}#sk-container-id-3 div.sk-toggleable {background-color: white;}#sk-container-id-3 label.sk-toggleable__label {cursor: pointer;display: block;width: 100%;margin-bottom: 0;padding: 0.3em;box-sizing: border-box;text-align: center;}#sk-container-id-3 label.sk-toggleable__label-arrow:before {content: \"▸\";float: left;margin-right: 0.25em;color: #696969;}#sk-container-id-3 label.sk-toggleable__label-arrow:hover:before {color: black;}#sk-container-id-3 div.sk-estimator:hover label.sk-toggleable__label-arrow:before {color: black;}#sk-container-id-3 div.sk-toggleable__content {max-height: 0;max-width: 0;overflow: hidden;text-align: left;background-color: #f0f8ff;}#sk-container-id-3 div.sk-toggleable__content pre {margin: 0.2em;color: black;border-radius: 0.25em;background-color: #f0f8ff;}#sk-container-id-3 input.sk-toggleable__control:checked~div.sk-toggleable__content {max-height: 200px;max-width: 100%;overflow: auto;}#sk-container-id-3 input.sk-toggleable__control:checked~label.sk-toggleable__label-arrow:before {content: \"▾\";}#sk-container-id-3 div.sk-estimator input.sk-toggleable__control:checked~label.sk-toggleable__label {background-color: #d4ebff;}#sk-container-id-3 div.sk-label input.sk-toggleable__control:checked~label.sk-toggleable__label {background-color: #d4ebff;}#sk-container-id-3 input.sk-hidden--visually {border: 0;clip: rect(1px 1px 1px 1px);clip: rect(1px, 1px, 1px, 1px);height: 1px;margin: -1px;overflow: hidden;padding: 0;position: absolute;width: 1px;}#sk-container-id-3 div.sk-estimator {font-family: monospace;background-color: #f0f8ff;border: 1px dotted black;border-radius: 0.25em;box-sizing: border-box;margin-bottom: 0.5em;}#sk-container-id-3 div.sk-estimator:hover {background-color: #d4ebff;}#sk-container-id-3 div.sk-parallel-item::after {content: \"\";width: 100%;border-bottom: 1px solid gray;flex-grow: 1;}#sk-container-id-3 div.sk-label:hover label.sk-toggleable__label {background-color: #d4ebff;}#sk-container-id-3 div.sk-serial::before {content: \"\";position: absolute;border-left: 1px solid gray;box-sizing: border-box;top: 0;bottom: 0;left: 50%;z-index: 0;}#sk-container-id-3 div.sk-serial {display: flex;flex-direction: column;align-items: center;background-color: white;padding-right: 0.2em;padding-left: 0.2em;position: relative;}#sk-container-id-3 div.sk-item {position: relative;z-index: 1;}#sk-container-id-3 div.sk-parallel {display: flex;align-items: stretch;justify-content: center;background-color: white;position: relative;}#sk-container-id-3 div.sk-item::before, #sk-container-id-3 div.sk-parallel-item::before {content: \"\";position: absolute;border-left: 1px solid gray;box-sizing: border-box;top: 0;bottom: 0;left: 50%;z-index: -1;}#sk-container-id-3 div.sk-parallel-item {display: flex;flex-direction: column;z-index: 1;position: relative;background-color: white;}#sk-container-id-3 div.sk-parallel-item:first-child::after {align-self: flex-end;width: 50%;}#sk-container-id-3 div.sk-parallel-item:last-child::after {align-self: flex-start;width: 50%;}#sk-container-id-3 div.sk-parallel-item:only-child::after {width: 0;}#sk-container-id-3 div.sk-dashed-wrapped {border: 1px dashed gray;margin: 0 0.4em 0.5em 0.4em;box-sizing: border-box;padding-bottom: 0.4em;background-color: white;}#sk-container-id-3 div.sk-label label {font-family: monospace;font-weight: bold;display: inline-block;line-height: 1.2em;}#sk-container-id-3 div.sk-label-container {text-align: center;}#sk-container-id-3 div.sk-container {/* jupyter's `normalize.less` sets `[hidden] { display: none; }` but bootstrap.min.css set `[hidden] { display: none !important; }` so we also need the `!important` here to be able to override the default hidden behavior on the sphinx rendered scikit-learn.org. See: https://github.com/scikit-learn/scikit-learn/issues/21755 */display: inline-block !important;position: relative;}#sk-container-id-3 div.sk-text-repr-fallback {display: none;}</style><div id=\"sk-container-id-3\" class=\"sk-top-container\"><div class=\"sk-text-repr-fallback\"><pre>Pipeline(steps=[(&#x27;vect&#x27;, TfidfVectorizer()), (&#x27;sm&#x27;, ADASYN(random_state=42)),\n",
       "                (&#x27;lr&#x27;, LogisticRegression(random_state=42))])</pre><b>In a Jupyter environment, please rerun this cell to show the HTML representation or trust the notebook. <br />On GitHub, the HTML representation is unable to render, please try loading this page with nbviewer.org.</b></div><div class=\"sk-container\" hidden><div class=\"sk-item sk-dashed-wrapped\"><div class=\"sk-label-container\"><div class=\"sk-label sk-toggleable\"><input class=\"sk-toggleable__control sk-hidden--visually\" id=\"sk-estimator-id-8\" type=\"checkbox\" ><label for=\"sk-estimator-id-8\" class=\"sk-toggleable__label sk-toggleable__label-arrow\">Pipeline</label><div class=\"sk-toggleable__content\"><pre>Pipeline(steps=[(&#x27;vect&#x27;, TfidfVectorizer()), (&#x27;sm&#x27;, ADASYN(random_state=42)),\n",
       "                (&#x27;lr&#x27;, LogisticRegression(random_state=42))])</pre></div></div></div><div class=\"sk-serial\"><div class=\"sk-item\"><div class=\"sk-estimator sk-toggleable\"><input class=\"sk-toggleable__control sk-hidden--visually\" id=\"sk-estimator-id-9\" type=\"checkbox\" ><label for=\"sk-estimator-id-9\" class=\"sk-toggleable__label sk-toggleable__label-arrow\">TfidfVectorizer</label><div class=\"sk-toggleable__content\"><pre>TfidfVectorizer()</pre></div></div></div><div class=\"sk-item\"><div class=\"sk-estimator sk-toggleable\"><input class=\"sk-toggleable__control sk-hidden--visually\" id=\"sk-estimator-id-10\" type=\"checkbox\" ><label for=\"sk-estimator-id-10\" class=\"sk-toggleable__label sk-toggleable__label-arrow\">ADASYN</label><div class=\"sk-toggleable__content\"><pre>ADASYN(random_state=42)</pre></div></div></div><div class=\"sk-item\"><div class=\"sk-estimator sk-toggleable\"><input class=\"sk-toggleable__control sk-hidden--visually\" id=\"sk-estimator-id-11\" type=\"checkbox\" ><label for=\"sk-estimator-id-11\" class=\"sk-toggleable__label sk-toggleable__label-arrow\">LogisticRegression</label><div class=\"sk-toggleable__content\"><pre>LogisticRegression(random_state=42)</pre></div></div></div></div></div></div></div>"
      ],
      "text/plain": [
       "Pipeline(steps=[('vect', TfidfVectorizer()), ('sm', ADASYN(random_state=42)),\n",
       "                ('lr', LogisticRegression(random_state=42))])"
      ]
     },
     "execution_count": 46,
     "metadata": {},
     "output_type": "execute_result"
    }
   ],
   "source": [
    "lr_pipe_sm.fit(X_train, y_train)"
   ]
  },
  {
   "cell_type": "code",
   "execution_count": 47,
   "id": "0c9c9f28",
   "metadata": {},
   "outputs": [
    {
     "data": {
      "text/plain": [
       "0.8964774734982333"
      ]
     },
     "execution_count": 47,
     "metadata": {},
     "output_type": "execute_result"
    }
   ],
   "source": [
    "lr_pipe_sm.score(X_train, y_train)"
   ]
  },
  {
   "cell_type": "code",
   "execution_count": 48,
   "id": "d4818108",
   "metadata": {},
   "outputs": [
    {
     "data": {
      "text/plain": [
       "{'fit_time': 3.91662,\n",
       " 'score_time': 0.13175,\n",
       " 'test_accuracy': 0.85921,\n",
       " 'test_precision': 0.87594,\n",
       " 'test_recall': 0.85921,\n",
       " 'test_f1': 0.86433,\n",
       " 'test_log_loss': -0.34022}"
      ]
     },
     "execution_count": 48,
     "metadata": {},
     "output_type": "execute_result"
    }
   ],
   "source": [
    "cross_val(lr_pipe_sm, X_train, y_train)"
   ]
  },
  {
   "cell_type": "code",
   "execution_count": 49,
   "id": "e552a7c6",
   "metadata": {},
   "outputs": [
    {
     "name": "stderr",
     "output_type": "stream",
     "text": [
      "/Users/jillian/opt/anaconda3/envs/learn-env/lib/python3.8/site-packages/sklearn/utils/deprecation.py:87: FutureWarning: Function plot_confusion_matrix is deprecated; Function `plot_confusion_matrix` is deprecated in 1.0 and will be removed in 1.2. Use one of the class methods: ConfusionMatrixDisplay.from_predictions or ConfusionMatrixDisplay.from_estimator.\n",
      "  warnings.warn(msg, category=FutureWarning)\n"
     ]
    },
    {
     "data": {
      "text/plain": [
       "<sklearn.metrics._plot.confusion_matrix.ConfusionMatrixDisplay at 0x7fc074ff1eb0>"
      ]
     },
     "execution_count": 49,
     "metadata": {},
     "output_type": "execute_result"
    },
    {
     "data": {
      "image/png": "[encoded data removed]",
      "text/plain": [
       "<Figure size 432x288 with 2 Axes>"
      ]
     },
     "metadata": {
      "needs_background": "light"
     },
     "output_type": "display_data"
    }
   ],
   "source": [
    "plot_confusion_matrix(lr_pipe_sm, X_train, y_train)"
   ]
  },
  {
   "cell_type": "code",
   "execution_count": 53,
   "id": "37d2a268",
   "metadata": {},
   "outputs": [],
   "source": [
    "#increasing in precision, decreasing in accuracy; will continue to model without any over sampling techniques as I am not sure if my text data is a good fit for over sampling"
   ]
  },
  {
   "cell_type": "markdown",
   "id": "31036b3c",
   "metadata": {},
   "source": [
    "### Tuning LR Hyperparameters"
   ]
  },
  {
   "cell_type": "code",
   "execution_count": 54,
   "id": "85e508f5",
   "metadata": {},
   "outputs": [],
   "source": [
    "#setting up grid to perform grid serach to tune hyperparameters"
   ]
  },
  {
   "cell_type": "code",
   "execution_count": 56,
   "id": "bc1c24e7",
   "metadata": {},
   "outputs": [],
   "source": [
    "lr_params = {\n",
    "    'vect__max_df': (0.5, 0.75, 1.0),\n",
    "    'vect__max_features': (None, 500, 1000, 2000), \n",
    "    'lr__solver': ('lbfgs', 'saga', 'liblinear'),\n",
    "    'lr__penalty': ('l2', 'elasticnet'),\n",
    "    'lr__class_weight': (None, 'balanced')\n",
    "    }"
   ]
  },
  {
   "cell_type": "code",
   "execution_count": 57,
   "id": "5e5f6053",
   "metadata": {},
   "outputs": [],
   "source": [
    "# set up GridSearchCV object\n",
    "grid_lr = GridSearchCV(lr_pipe, param_grid=lr_params, cv=5, verbose=3)"
   ]
  },
  {
   "cell_type": "code",
   "execution_count": 58,
   "id": "466dc9f4",
   "metadata": {
    "scrolled": true
   },
   "outputs": [
    {
     "name": "stdout",
     "output_type": "stream",
     "text": [
      "Fitting 5 folds for each of 144 candidates, totalling 720 fits\n",
      "[CV 1/5] END lr__class_weight=None, lr__penalty=l2, lr__solver=lbfgs, vect__max_df=0.5, vect__max_features=None;, score=0.876 total time=   0.5s\n",
      "[CV 2/5] END lr__class_weight=None, lr__penalty=l2, lr__solver=lbfgs, vect__max_df=0.5, vect__max_features=None;, score=0.874 total time=   0.8s\n",
      "[CV 3/5] END lr__class_weight=None, lr__penalty=l2, lr__solver=lbfgs, vect__max_df=0.5, vect__max_features=None;, score=0.877 total time=   0.5s\n",
      "[CV 4/5] END lr__class_weight=None, lr__penalty=l2, lr__solver=lbfgs, vect__max_df=0.5, vect__max_features=None;, score=0.876 total time=   0.5s\n",
      "[CV 5/5] END lr__class_weight=None, lr__penalty=l2, lr__solver=lbfgs, vect__max_df=0.5, vect__max_features=None;, score=0.868 total time=   0.5s\n",
      "[CV 1/5] END lr__class_weight=None, lr__penalty=l2, lr__solver=lbfgs, vect__max_df=0.5, vect__max_features=500;, score=0.866 total time=   0.4s\n",
      "[CV 2/5] END lr__class_weight=None, lr__penalty=l2, lr__solver=lbfgs, vect__max_df=0.5, vect__max_features=500;, score=0.862 total time=   0.4s\n",
      "[CV 3/5] END lr__class_weight=None, lr__penalty=l2, lr__solver=lbfgs, vect__max_df=0.5, vect__max_features=500;, score=0.868 total time=   0.4s\n",
      "[CV 4/5] END lr__class_weight=None, lr__penalty=l2, lr__solver=lbfgs, vect__max_df=0.5, vect__max_features=500;, score=0.861 total time=   0.4s\n",
      "[CV 5/5] END lr__class_weight=None, lr__penalty=l2, lr__solver=lbfgs, vect__max_df=0.5, vect__max_features=500;, score=0.861 total time=   0.4s\n",
      "[CV 1/5] END lr__class_weight=None, lr__penalty=l2, lr__solver=lbfgs, vect__max_df=0.5, vect__max_features=1000;, score=0.871 total time=   0.4s\n",
      "[CV 2/5] END lr__class_weight=None, lr__penalty=l2, lr__solver=lbfgs, vect__max_df=0.5, vect__max_features=1000;, score=0.871 total time=   0.4s\n",
      "[CV 3/5] END lr__class_weight=None, lr__penalty=l2, lr__solver=lbfgs, vect__max_df=0.5, vect__max_features=1000;, score=0.873 total time=   0.4s\n",
      "[CV 4/5] END lr__class_weight=None, lr__penalty=l2, lr__solver=lbfgs, vect__max_df=0.5, vect__max_features=1000;, score=0.873 total time=   0.4s\n",
      "[CV 5/5] END lr__class_weight=None, lr__penalty=l2, lr__solver=lbfgs, vect__max_df=0.5, vect__max_features=1000;, score=0.867 total time=   0.5s\n",
      "[CV 1/5] END lr__class_weight=None, lr__penalty=l2, lr__solver=lbfgs, vect__max_df=0.5, vect__max_features=2000;, score=0.876 total time=   0.5s\n",
      "[CV 2/5] END lr__class_weight=None, lr__penalty=l2, lr__solver=lbfgs, vect__max_df=0.5, vect__max_features=2000;, score=0.876 total time=   0.4s\n",
      "[CV 3/5] END lr__class_weight=None, lr__penalty=l2, lr__solver=lbfgs, vect__max_df=0.5, vect__max_features=2000;, score=0.879 total time=   0.4s\n",
      "[CV 4/5] END lr__class_weight=None, lr__penalty=l2, lr__solver=lbfgs, vect__max_df=0.5, vect__max_features=2000;, score=0.877 total time=   0.4s\n",
      "[CV 5/5] END lr__class_weight=None, lr__penalty=l2, lr__solver=lbfgs, vect__max_df=0.5, vect__max_features=2000;, score=0.869 total time=   0.4s\n",
      "[CV 1/5] END lr__class_weight=None, lr__penalty=l2, lr__solver=lbfgs, vect__max_df=0.75, vect__max_features=None;, score=0.876 total time=   0.5s\n",
      "[CV 2/5] END lr__class_weight=None, lr__penalty=l2, lr__solver=lbfgs, vect__max_df=0.75, vect__max_features=None;, score=0.874 total time=   0.7s\n",
      "[CV 3/5] END lr__class_weight=None, lr__penalty=l2, lr__solver=lbfgs, vect__max_df=0.75, vect__max_features=None;, score=0.877 total time=   0.5s\n",
      "[CV 4/5] END lr__class_weight=None, lr__penalty=l2, lr__solver=lbfgs, vect__max_df=0.75, vect__max_features=None;, score=0.876 total time=   0.5s\n",
      "[CV 5/5] END lr__class_weight=None, lr__penalty=l2, lr__solver=lbfgs, vect__max_df=0.75, vect__max_features=None;, score=0.868 total time=   0.5s\n",
      "[CV 1/5] END lr__class_weight=None, lr__penalty=l2, lr__solver=lbfgs, vect__max_df=0.75, vect__max_features=500;, score=0.866 total time=   0.4s\n",
      "[CV 2/5] END lr__class_weight=None, lr__penalty=l2, lr__solver=lbfgs, vect__max_df=0.75, vect__max_features=500;, score=0.862 total time=   0.4s\n",
      "[CV 3/5] END lr__class_weight=None, lr__penalty=l2, lr__solver=lbfgs, vect__max_df=0.75, vect__max_features=500;, score=0.868 total time=   0.4s\n",
      "[CV 4/5] END lr__class_weight=None, lr__penalty=l2, lr__solver=lbfgs, vect__max_df=0.75, vect__max_features=500;, score=0.861 total time=   0.4s\n",
      "[CV 5/5] END lr__class_weight=None, lr__penalty=l2, lr__solver=lbfgs, vect__max_df=0.75, vect__max_features=500;, score=0.861 total time=   0.4s\n",
      "[CV 1/5] END lr__class_weight=None, lr__penalty=l2, lr__solver=lbfgs, vect__max_df=0.75, vect__max_features=1000;, score=0.871 total time=   0.4s\n",
      "[CV 2/5] END lr__class_weight=None, lr__penalty=l2, lr__solver=lbfgs, vect__max_df=0.75, vect__max_features=1000;, score=0.871 total time=   0.4s\n",
      "[CV 3/5] END lr__class_weight=None, lr__penalty=l2, lr__solver=lbfgs, vect__max_df=0.75, vect__max_features=1000;, score=0.873 total time=   0.4s\n",
      "[CV 4/5] END lr__class_weight=None, lr__penalty=l2, lr__solver=lbfgs, vect__max_df=0.75, vect__max_features=1000;, score=0.873 total time=   0.4s\n",
      "[CV 5/5] END lr__class_weight=None, lr__penalty=l2, lr__solver=lbfgs, vect__max_df=0.75, vect__max_features=1000;, score=0.867 total time=   0.5s\n",
      "[CV 1/5] END lr__class_weight=None, lr__penalty=l2, lr__solver=lbfgs, vect__max_df=0.75, vect__max_features=2000;, score=0.876 total time=   0.5s\n",
      "[CV 2/5] END lr__class_weight=None, lr__penalty=l2, lr__solver=lbfgs, vect__max_df=0.75, vect__max_features=2000;, score=0.876 total time=   0.4s\n",
      "[CV 3/5] END lr__class_weight=None, lr__penalty=l2, lr__solver=lbfgs, vect__max_df=0.75, vect__max_features=2000;, score=0.879 total time=   0.4s\n",
      "[CV 4/5] END lr__class_weight=None, lr__penalty=l2, lr__solver=lbfgs, vect__max_df=0.75, vect__max_features=2000;, score=0.877 total time=   0.4s\n",
      "[CV 5/5] END lr__class_weight=None, lr__penalty=l2, lr__solver=lbfgs, vect__max_df=0.75, vect__max_features=2000;, score=0.869 total time=   0.4s\n",
      "[CV 1/5] END lr__class_weight=None, lr__penalty=l2, lr__solver=lbfgs, vect__max_df=1.0, vect__max_features=None;, score=0.876 total time=   0.5s\n",
      "[CV 2/5] END lr__class_weight=None, lr__penalty=l2, lr__solver=lbfgs, vect__max_df=1.0, vect__max_features=None;, score=0.874 total time=   0.7s\n",
      "[CV 3/5] END lr__class_weight=None, lr__penalty=l2, lr__solver=lbfgs, vect__max_df=1.0, vect__max_features=None;, score=0.877 total time=   0.5s\n",
      "[CV 4/5] END lr__class_weight=None, lr__penalty=l2, lr__solver=lbfgs, vect__max_df=1.0, vect__max_features=None;, score=0.876 total time=   0.5s\n",
      "[CV 5/5] END lr__class_weight=None, lr__penalty=l2, lr__solver=lbfgs, vect__max_df=1.0, vect__max_features=None;, score=0.868 total time=   0.6s\n",
      "[CV 1/5] END lr__class_weight=None, lr__penalty=l2, lr__solver=lbfgs, vect__max_df=1.0, vect__max_features=500;, score=0.866 total time=   0.4s\n",
      "[CV 2/5] END lr__class_weight=None, lr__penalty=l2, lr__solver=lbfgs, vect__max_df=1.0, vect__max_features=500;, score=0.862 total time=   0.4s\n",
      "[CV 3/5] END lr__class_weight=None, lr__penalty=l2, lr__solver=lbfgs, vect__max_df=1.0, vect__max_features=500;, score=0.868 total time=   0.4s\n",
      "[CV 4/5] END lr__class_weight=None, lr__penalty=l2, lr__solver=lbfgs, vect__max_df=1.0, vect__max_features=500;, score=0.861 total time=   0.4s\n",
      "[CV 5/5] END lr__class_weight=None, lr__penalty=l2, lr__solver=lbfgs, vect__max_df=1.0, vect__max_features=500;, score=0.861 total time=   0.4s\n",
      "[CV 1/5] END lr__class_weight=None, lr__penalty=l2, lr__solver=lbfgs, vect__max_df=1.0, vect__max_features=1000;, score=0.871 total time=   0.4s\n",
      "[CV 2/5] END lr__class_weight=None, lr__penalty=l2, lr__solver=lbfgs, vect__max_df=1.0, vect__max_features=1000;, score=0.871 total time=   0.4s\n",
      "[CV 3/5] END lr__class_weight=None, lr__penalty=l2, lr__solver=lbfgs, vect__max_df=1.0, vect__max_features=1000;, score=0.873 total time=   0.4s\n",
      "[CV 4/5] END lr__class_weight=None, lr__penalty=l2, lr__solver=lbfgs, vect__max_df=1.0, vect__max_features=1000;, score=0.873 total time=   0.4s\n",
      "[CV 5/5] END lr__class_weight=None, lr__penalty=l2, lr__solver=lbfgs, vect__max_df=1.0, vect__max_features=1000;, score=0.867 total time=   0.4s\n",
      "[CV 1/5] END lr__class_weight=None, lr__penalty=l2, lr__solver=lbfgs, vect__max_df=1.0, vect__max_features=2000;, score=0.876 total time=   0.5s\n",
      "[CV 2/5] END lr__class_weight=None, lr__penalty=l2, lr__solver=lbfgs, vect__max_df=1.0, vect__max_features=2000;, score=0.876 total time=   0.4s\n"
     ]
    },
    {
     "name": "stdout",
     "output_type": "stream",
     "text": [
      "[CV 3/5] END lr__class_weight=None, lr__penalty=l2, lr__solver=lbfgs, vect__max_df=1.0, vect__max_features=2000;, score=0.879 total time=   0.4s\n",
      "[CV 4/5] END lr__class_weight=None, lr__penalty=l2, lr__solver=lbfgs, vect__max_df=1.0, vect__max_features=2000;, score=0.877 total time=   0.4s\n",
      "[CV 5/5] END lr__class_weight=None, lr__penalty=l2, lr__solver=lbfgs, vect__max_df=1.0, vect__max_features=2000;, score=0.869 total time=   0.4s\n",
      "[CV 1/5] END lr__class_weight=None, lr__penalty=l2, lr__solver=saga, vect__max_df=0.5, vect__max_features=None;, score=0.876 total time=   0.4s\n",
      "[CV 2/5] END lr__class_weight=None, lr__penalty=l2, lr__solver=saga, vect__max_df=0.5, vect__max_features=None;, score=0.874 total time=   0.4s\n",
      "[CV 3/5] END lr__class_weight=None, lr__penalty=l2, lr__solver=saga, vect__max_df=0.5, vect__max_features=None;, score=0.877 total time=   0.4s\n",
      "[CV 4/5] END lr__class_weight=None, lr__penalty=l2, lr__solver=saga, vect__max_df=0.5, vect__max_features=None;, score=0.876 total time=   0.4s\n",
      "[CV 5/5] END lr__class_weight=None, lr__penalty=l2, lr__solver=saga, vect__max_df=0.5, vect__max_features=None;, score=0.869 total time=   0.4s\n",
      "[CV 1/5] END lr__class_weight=None, lr__penalty=l2, lr__solver=saga, vect__max_df=0.5, vect__max_features=500;, score=0.867 total time=   0.4s\n",
      "[CV 2/5] END lr__class_weight=None, lr__penalty=l2, lr__solver=saga, vect__max_df=0.5, vect__max_features=500;, score=0.862 total time=   0.4s\n",
      "[CV 3/5] END lr__class_weight=None, lr__penalty=l2, lr__solver=saga, vect__max_df=0.5, vect__max_features=500;, score=0.869 total time=   0.4s\n",
      "[CV 4/5] END lr__class_weight=None, lr__penalty=l2, lr__solver=saga, vect__max_df=0.5, vect__max_features=500;, score=0.861 total time=   0.4s\n",
      "[CV 5/5] END lr__class_weight=None, lr__penalty=l2, lr__solver=saga, vect__max_df=0.5, vect__max_features=500;, score=0.861 total time=   0.4s\n",
      "[CV 1/5] END lr__class_weight=None, lr__penalty=l2, lr__solver=saga, vect__max_df=0.5, vect__max_features=1000;, score=0.871 total time=   0.4s\n",
      "[CV 2/5] END lr__class_weight=None, lr__penalty=l2, lr__solver=saga, vect__max_df=0.5, vect__max_features=1000;, score=0.871 total time=   0.4s\n",
      "[CV 3/5] END lr__class_weight=None, lr__penalty=l2, lr__solver=saga, vect__max_df=0.5, vect__max_features=1000;, score=0.874 total time=   0.4s\n",
      "[CV 4/5] END lr__class_weight=None, lr__penalty=l2, lr__solver=saga, vect__max_df=0.5, vect__max_features=1000;, score=0.872 total time=   0.4s\n",
      "[CV 5/5] END lr__class_weight=None, lr__penalty=l2, lr__solver=saga, vect__max_df=0.5, vect__max_features=1000;, score=0.867 total time=   0.4s\n",
      "[CV 1/5] END lr__class_weight=None, lr__penalty=l2, lr__solver=saga, vect__max_df=0.5, vect__max_features=2000;, score=0.877 total time=   0.4s\n",
      "[CV 2/5] END lr__class_weight=None, lr__penalty=l2, lr__solver=saga, vect__max_df=0.5, vect__max_features=2000;, score=0.876 total time=   0.4s\n",
      "[CV 3/5] END lr__class_weight=None, lr__penalty=l2, lr__solver=saga, vect__max_df=0.5, vect__max_features=2000;, score=0.879 total time=   0.4s\n",
      "[CV 4/5] END lr__class_weight=None, lr__penalty=l2, lr__solver=saga, vect__max_df=0.5, vect__max_features=2000;, score=0.877 total time=   0.4s\n",
      "[CV 5/5] END lr__class_weight=None, lr__penalty=l2, lr__solver=saga, vect__max_df=0.5, vect__max_features=2000;, score=0.869 total time=   0.4s\n",
      "[CV 1/5] END lr__class_weight=None, lr__penalty=l2, lr__solver=saga, vect__max_df=0.75, vect__max_features=None;, score=0.876 total time=   0.4s\n",
      "[CV 2/5] END lr__class_weight=None, lr__penalty=l2, lr__solver=saga, vect__max_df=0.75, vect__max_features=None;, score=0.874 total time=   0.4s\n",
      "[CV 3/5] END lr__class_weight=None, lr__penalty=l2, lr__solver=saga, vect__max_df=0.75, vect__max_features=None;, score=0.877 total time=   0.4s\n",
      "[CV 4/5] END lr__class_weight=None, lr__penalty=l2, lr__solver=saga, vect__max_df=0.75, vect__max_features=None;, score=0.876 total time=   0.4s\n",
      "[CV 5/5] END lr__class_weight=None, lr__penalty=l2, lr__solver=saga, vect__max_df=0.75, vect__max_features=None;, score=0.869 total time=   0.4s\n",
      "[CV 1/5] END lr__class_weight=None, lr__penalty=l2, lr__solver=saga, vect__max_df=0.75, vect__max_features=500;, score=0.867 total time=   0.4s\n",
      "[CV 2/5] END lr__class_weight=None, lr__penalty=l2, lr__solver=saga, vect__max_df=0.75, vect__max_features=500;, score=0.862 total time=   0.4s\n",
      "[CV 3/5] END lr__class_weight=None, lr__penalty=l2, lr__solver=saga, vect__max_df=0.75, vect__max_features=500;, score=0.869 total time=   0.4s\n",
      "[CV 4/5] END lr__class_weight=None, lr__penalty=l2, lr__solver=saga, vect__max_df=0.75, vect__max_features=500;, score=0.861 total time=   0.4s\n",
      "[CV 5/5] END lr__class_weight=None, lr__penalty=l2, lr__solver=saga, vect__max_df=0.75, vect__max_features=500;, score=0.861 total time=   0.4s\n",
      "[CV 1/5] END lr__class_weight=None, lr__penalty=l2, lr__solver=saga, vect__max_df=0.75, vect__max_features=1000;, score=0.871 total time=   0.4s\n",
      "[CV 2/5] END lr__class_weight=None, lr__penalty=l2, lr__solver=saga, vect__max_df=0.75, vect__max_features=1000;, score=0.871 total time=   0.4s\n",
      "[CV 3/5] END lr__class_weight=None, lr__penalty=l2, lr__solver=saga, vect__max_df=0.75, vect__max_features=1000;, score=0.874 total time=   0.4s\n",
      "[CV 4/5] END lr__class_weight=None, lr__penalty=l2, lr__solver=saga, vect__max_df=0.75, vect__max_features=1000;, score=0.872 total time=   0.4s\n",
      "[CV 5/5] END lr__class_weight=None, lr__penalty=l2, lr__solver=saga, vect__max_df=0.75, vect__max_features=1000;, score=0.867 total time=   0.4s\n",
      "[CV 1/5] END lr__class_weight=None, lr__penalty=l2, lr__solver=saga, vect__max_df=0.75, vect__max_features=2000;, score=0.877 total time=   0.4s\n",
      "[CV 2/5] END lr__class_weight=None, lr__penalty=l2, lr__solver=saga, vect__max_df=0.75, vect__max_features=2000;, score=0.876 total time=   0.4s\n",
      "[CV 3/5] END lr__class_weight=None, lr__penalty=l2, lr__solver=saga, vect__max_df=0.75, vect__max_features=2000;, score=0.879 total time=   0.4s\n",
      "[CV 4/5] END lr__class_weight=None, lr__penalty=l2, lr__solver=saga, vect__max_df=0.75, vect__max_features=2000;, score=0.877 total time=   0.4s\n",
      "[CV 5/5] END lr__class_weight=None, lr__penalty=l2, lr__solver=saga, vect__max_df=0.75, vect__max_features=2000;, score=0.869 total time=   0.4s\n",
      "[CV 1/5] END lr__class_weight=None, lr__penalty=l2, lr__solver=saga, vect__max_df=1.0, vect__max_features=None;, score=0.876 total time=   0.4s\n",
      "[CV 2/5] END lr__class_weight=None, lr__penalty=l2, lr__solver=saga, vect__max_df=1.0, vect__max_features=None;, score=0.874 total time=   0.4s\n",
      "[CV 3/5] END lr__class_weight=None, lr__penalty=l2, lr__solver=saga, vect__max_df=1.0, vect__max_features=None;, score=0.877 total time=   0.4s\n",
      "[CV 4/5] END lr__class_weight=None, lr__penalty=l2, lr__solver=saga, vect__max_df=1.0, vect__max_features=None;, score=0.876 total time=   0.4s\n",
      "[CV 5/5] END lr__class_weight=None, lr__penalty=l2, lr__solver=saga, vect__max_df=1.0, vect__max_features=None;, score=0.869 total time=   0.4s\n",
      "[CV 1/5] END lr__class_weight=None, lr__penalty=l2, lr__solver=saga, vect__max_df=1.0, vect__max_features=500;, score=0.867 total time=   0.4s\n",
      "[CV 2/5] END lr__class_weight=None, lr__penalty=l2, lr__solver=saga, vect__max_df=1.0, vect__max_features=500;, score=0.862 total time=   0.4s\n",
      "[CV 3/5] END lr__class_weight=None, lr__penalty=l2, lr__solver=saga, vect__max_df=1.0, vect__max_features=500;, score=0.869 total time=   0.4s\n",
      "[CV 4/5] END lr__class_weight=None, lr__penalty=l2, lr__solver=saga, vect__max_df=1.0, vect__max_features=500;, score=0.861 total time=   0.4s\n",
      "[CV 5/5] END lr__class_weight=None, lr__penalty=l2, lr__solver=saga, vect__max_df=1.0, vect__max_features=500;, score=0.861 total time=   0.4s\n",
      "[CV 1/5] END lr__class_weight=None, lr__penalty=l2, lr__solver=saga, vect__max_df=1.0, vect__max_features=1000;, score=0.871 total time=   0.4s\n",
      "[CV 2/5] END lr__class_weight=None, lr__penalty=l2, lr__solver=saga, vect__max_df=1.0, vect__max_features=1000;, score=0.871 total time=   0.4s\n",
      "[CV 3/5] END lr__class_weight=None, lr__penalty=l2, lr__solver=saga, vect__max_df=1.0, vect__max_features=1000;, score=0.874 total time=   0.4s\n",
      "[CV 4/5] END lr__class_weight=None, lr__penalty=l2, lr__solver=saga, vect__max_df=1.0, vect__max_features=1000;, score=0.872 total time=   0.4s\n"
     ]
    },
    {
     "name": "stdout",
     "output_type": "stream",
     "text": [
      "[CV 5/5] END lr__class_weight=None, lr__penalty=l2, lr__solver=saga, vect__max_df=1.0, vect__max_features=1000;, score=0.867 total time=   0.4s\n",
      "[CV 1/5] END lr__class_weight=None, lr__penalty=l2, lr__solver=saga, vect__max_df=1.0, vect__max_features=2000;, score=0.877 total time=   0.4s\n",
      "[CV 2/5] END lr__class_weight=None, lr__penalty=l2, lr__solver=saga, vect__max_df=1.0, vect__max_features=2000;, score=0.876 total time=   0.4s\n",
      "[CV 3/5] END lr__class_weight=None, lr__penalty=l2, lr__solver=saga, vect__max_df=1.0, vect__max_features=2000;, score=0.879 total time=   0.4s\n",
      "[CV 4/5] END lr__class_weight=None, lr__penalty=l2, lr__solver=saga, vect__max_df=1.0, vect__max_features=2000;, score=0.877 total time=   0.4s\n",
      "[CV 5/5] END lr__class_weight=None, lr__penalty=l2, lr__solver=saga, vect__max_df=1.0, vect__max_features=2000;, score=0.869 total time=   0.4s\n",
      "[CV 1/5] END lr__class_weight=None, lr__penalty=l2, lr__solver=liblinear, vect__max_df=0.5, vect__max_features=None;, score=0.876 total time=   0.4s\n",
      "[CV 2/5] END lr__class_weight=None, lr__penalty=l2, lr__solver=liblinear, vect__max_df=0.5, vect__max_features=None;, score=0.874 total time=   0.5s\n",
      "[CV 3/5] END lr__class_weight=None, lr__penalty=l2, lr__solver=liblinear, vect__max_df=0.5, vect__max_features=None;, score=0.877 total time=   0.4s\n",
      "[CV 4/5] END lr__class_weight=None, lr__penalty=l2, lr__solver=liblinear, vect__max_df=0.5, vect__max_features=None;, score=0.876 total time=   0.4s\n",
      "[CV 5/5] END lr__class_weight=None, lr__penalty=l2, lr__solver=liblinear, vect__max_df=0.5, vect__max_features=None;, score=0.868 total time=   0.4s\n",
      "[CV 1/5] END lr__class_weight=None, lr__penalty=l2, lr__solver=liblinear, vect__max_df=0.5, vect__max_features=500;, score=0.867 total time=   0.4s\n",
      "[CV 2/5] END lr__class_weight=None, lr__penalty=l2, lr__solver=liblinear, vect__max_df=0.5, vect__max_features=500;, score=0.862 total time=   0.4s\n",
      "[CV 3/5] END lr__class_weight=None, lr__penalty=l2, lr__solver=liblinear, vect__max_df=0.5, vect__max_features=500;, score=0.869 total time=   0.4s\n",
      "[CV 4/5] END lr__class_weight=None, lr__penalty=l2, lr__solver=liblinear, vect__max_df=0.5, vect__max_features=500;, score=0.861 total time=   0.4s\n",
      "[CV 5/5] END lr__class_weight=None, lr__penalty=l2, lr__solver=liblinear, vect__max_df=0.5, vect__max_features=500;, score=0.861 total time=   0.4s\n",
      "[CV 1/5] END lr__class_weight=None, lr__penalty=l2, lr__solver=liblinear, vect__max_df=0.5, vect__max_features=1000;, score=0.871 total time=   0.4s\n",
      "[CV 2/5] END lr__class_weight=None, lr__penalty=l2, lr__solver=liblinear, vect__max_df=0.5, vect__max_features=1000;, score=0.871 total time=   0.4s\n",
      "[CV 3/5] END lr__class_weight=None, lr__penalty=l2, lr__solver=liblinear, vect__max_df=0.5, vect__max_features=1000;, score=0.874 total time=   0.4s\n",
      "[CV 4/5] END lr__class_weight=None, lr__penalty=l2, lr__solver=liblinear, vect__max_df=0.5, vect__max_features=1000;, score=0.872 total time=   0.4s\n",
      "[CV 5/5] END lr__class_weight=None, lr__penalty=l2, lr__solver=liblinear, vect__max_df=0.5, vect__max_features=1000;, score=0.867 total time=   0.4s\n",
      "[CV 1/5] END lr__class_weight=None, lr__penalty=l2, lr__solver=liblinear, vect__max_df=0.5, vect__max_features=2000;, score=0.877 total time=   0.4s\n",
      "[CV 2/5] END lr__class_weight=None, lr__penalty=l2, lr__solver=liblinear, vect__max_df=0.5, vect__max_features=2000;, score=0.876 total time=   0.4s\n",
      "[CV 3/5] END lr__class_weight=None, lr__penalty=l2, lr__solver=liblinear, vect__max_df=0.5, vect__max_features=2000;, score=0.879 total time=   0.4s\n",
      "[CV 4/5] END lr__class_weight=None, lr__penalty=l2, lr__solver=liblinear, vect__max_df=0.5, vect__max_features=2000;, score=0.877 total time=   0.4s\n",
      "[CV 5/5] END lr__class_weight=None, lr__penalty=l2, lr__solver=liblinear, vect__max_df=0.5, vect__max_features=2000;, score=0.869 total time=   0.4s\n",
      "[CV 1/5] END lr__class_weight=None, lr__penalty=l2, lr__solver=liblinear, vect__max_df=0.75, vect__max_features=None;, score=0.876 total time=   0.4s\n",
      "[CV 2/5] END lr__class_weight=None, lr__penalty=l2, lr__solver=liblinear, vect__max_df=0.75, vect__max_features=None;, score=0.874 total time=   0.5s\n",
      "[CV 3/5] END lr__class_weight=None, lr__penalty=l2, lr__solver=liblinear, vect__max_df=0.75, vect__max_features=None;, score=0.877 total time=   0.4s\n",
      "[CV 4/5] END lr__class_weight=None, lr__penalty=l2, lr__solver=liblinear, vect__max_df=0.75, vect__max_features=None;, score=0.876 total time=   0.4s\n",
      "[CV 5/5] END lr__class_weight=None, lr__penalty=l2, lr__solver=liblinear, vect__max_df=0.75, vect__max_features=None;, score=0.868 total time=   0.4s\n",
      "[CV 1/5] END lr__class_weight=None, lr__penalty=l2, lr__solver=liblinear, vect__max_df=0.75, vect__max_features=500;, score=0.867 total time=   0.4s\n",
      "[CV 2/5] END lr__class_weight=None, lr__penalty=l2, lr__solver=liblinear, vect__max_df=0.75, vect__max_features=500;, score=0.862 total time=   0.4s\n",
      "[CV 3/5] END lr__class_weight=None, lr__penalty=l2, lr__solver=liblinear, vect__max_df=0.75, vect__max_features=500;, score=0.869 total time=   0.4s\n",
      "[CV 4/5] END lr__class_weight=None, lr__penalty=l2, lr__solver=liblinear, vect__max_df=0.75, vect__max_features=500;, score=0.861 total time=   0.4s\n",
      "[CV 5/5] END lr__class_weight=None, lr__penalty=l2, lr__solver=liblinear, vect__max_df=0.75, vect__max_features=500;, score=0.861 total time=   0.4s\n",
      "[CV 1/5] END lr__class_weight=None, lr__penalty=l2, lr__solver=liblinear, vect__max_df=0.75, vect__max_features=1000;, score=0.871 total time=   0.4s\n",
      "[CV 2/5] END lr__class_weight=None, lr__penalty=l2, lr__solver=liblinear, vect__max_df=0.75, vect__max_features=1000;, score=0.871 total time=   0.4s\n",
      "[CV 3/5] END lr__class_weight=None, lr__penalty=l2, lr__solver=liblinear, vect__max_df=0.75, vect__max_features=1000;, score=0.874 total time=   0.4s\n",
      "[CV 4/5] END lr__class_weight=None, lr__penalty=l2, lr__solver=liblinear, vect__max_df=0.75, vect__max_features=1000;, score=0.872 total time=   0.4s\n",
      "[CV 5/5] END lr__class_weight=None, lr__penalty=l2, lr__solver=liblinear, vect__max_df=0.75, vect__max_features=1000;, score=0.867 total time=   0.4s\n",
      "[CV 1/5] END lr__class_weight=None, lr__penalty=l2, lr__solver=liblinear, vect__max_df=0.75, vect__max_features=2000;, score=0.877 total time=   0.4s\n",
      "[CV 2/5] END lr__class_weight=None, lr__penalty=l2, lr__solver=liblinear, vect__max_df=0.75, vect__max_features=2000;, score=0.876 total time=   0.4s\n",
      "[CV 3/5] END lr__class_weight=None, lr__penalty=l2, lr__solver=liblinear, vect__max_df=0.75, vect__max_features=2000;, score=0.879 total time=   0.4s\n",
      "[CV 4/5] END lr__class_weight=None, lr__penalty=l2, lr__solver=liblinear, vect__max_df=0.75, vect__max_features=2000;, score=0.877 total time=   0.4s\n",
      "[CV 5/5] END lr__class_weight=None, lr__penalty=l2, lr__solver=liblinear, vect__max_df=0.75, vect__max_features=2000;, score=0.869 total time=   0.4s\n",
      "[CV 1/5] END lr__class_weight=None, lr__penalty=l2, lr__solver=liblinear, vect__max_df=1.0, vect__max_features=None;, score=0.876 total time=   0.4s\n",
      "[CV 2/5] END lr__class_weight=None, lr__penalty=l2, lr__solver=liblinear, vect__max_df=1.0, vect__max_features=None;, score=0.874 total time=   0.5s\n",
      "[CV 3/5] END lr__class_weight=None, lr__penalty=l2, lr__solver=liblinear, vect__max_df=1.0, vect__max_features=None;, score=0.877 total time=   0.4s\n",
      "[CV 4/5] END lr__class_weight=None, lr__penalty=l2, lr__solver=liblinear, vect__max_df=1.0, vect__max_features=None;, score=0.876 total time=   0.4s\n",
      "[CV 5/5] END lr__class_weight=None, lr__penalty=l2, lr__solver=liblinear, vect__max_df=1.0, vect__max_features=None;, score=0.868 total time=   0.4s\n",
      "[CV 1/5] END lr__class_weight=None, lr__penalty=l2, lr__solver=liblinear, vect__max_df=1.0, vect__max_features=500;, score=0.867 total time=   0.4s\n",
      "[CV 2/5] END lr__class_weight=None, lr__penalty=l2, lr__solver=liblinear, vect__max_df=1.0, vect__max_features=500;, score=0.862 total time=   0.4s\n",
      "[CV 3/5] END lr__class_weight=None, lr__penalty=l2, lr__solver=liblinear, vect__max_df=1.0, vect__max_features=500;, score=0.869 total time=   0.4s\n",
      "[CV 4/5] END lr__class_weight=None, lr__penalty=l2, lr__solver=liblinear, vect__max_df=1.0, vect__max_features=500;, score=0.861 total time=   0.4s\n",
      "[CV 5/5] END lr__class_weight=None, lr__penalty=l2, lr__solver=liblinear, vect__max_df=1.0, vect__max_features=500;, score=0.861 total time=   0.4s\n"
     ]
    },
    {
     "name": "stdout",
     "output_type": "stream",
     "text": [
      "[CV 1/5] END lr__class_weight=None, lr__penalty=l2, lr__solver=liblinear, vect__max_df=1.0, vect__max_features=1000;, score=0.871 total time=   0.4s\n",
      "[CV 2/5] END lr__class_weight=None, lr__penalty=l2, lr__solver=liblinear, vect__max_df=1.0, vect__max_features=1000;, score=0.871 total time=   0.4s\n",
      "[CV 3/5] END lr__class_weight=None, lr__penalty=l2, lr__solver=liblinear, vect__max_df=1.0, vect__max_features=1000;, score=0.874 total time=   0.4s\n",
      "[CV 4/5] END lr__class_weight=None, lr__penalty=l2, lr__solver=liblinear, vect__max_df=1.0, vect__max_features=1000;, score=0.872 total time=   0.4s\n",
      "[CV 5/5] END lr__class_weight=None, lr__penalty=l2, lr__solver=liblinear, vect__max_df=1.0, vect__max_features=1000;, score=0.867 total time=   0.4s\n",
      "[CV 1/5] END lr__class_weight=None, lr__penalty=l2, lr__solver=liblinear, vect__max_df=1.0, vect__max_features=2000;, score=0.877 total time=   0.4s\n",
      "[CV 2/5] END lr__class_weight=None, lr__penalty=l2, lr__solver=liblinear, vect__max_df=1.0, vect__max_features=2000;, score=0.876 total time=   0.4s\n",
      "[CV 3/5] END lr__class_weight=None, lr__penalty=l2, lr__solver=liblinear, vect__max_df=1.0, vect__max_features=2000;, score=0.879 total time=   0.4s\n",
      "[CV 4/5] END lr__class_weight=None, lr__penalty=l2, lr__solver=liblinear, vect__max_df=1.0, vect__max_features=2000;, score=0.877 total time=   0.4s\n",
      "[CV 5/5] END lr__class_weight=None, lr__penalty=l2, lr__solver=liblinear, vect__max_df=1.0, vect__max_features=2000;, score=0.869 total time=   0.4s\n",
      "[CV 1/5] END lr__class_weight=None, lr__penalty=elasticnet, lr__solver=lbfgs, vect__max_df=0.5, vect__max_features=None;, score=nan total time=   0.3s\n",
      "[CV 2/5] END lr__class_weight=None, lr__penalty=elasticnet, lr__solver=lbfgs, vect__max_df=0.5, vect__max_features=None;, score=nan total time=   0.3s\n",
      "[CV 3/5] END lr__class_weight=None, lr__penalty=elasticnet, lr__solver=lbfgs, vect__max_df=0.5, vect__max_features=None;, score=nan total time=   0.3s\n",
      "[CV 4/5] END lr__class_weight=None, lr__penalty=elasticnet, lr__solver=lbfgs, vect__max_df=0.5, vect__max_features=None;, score=nan total time=   0.3s\n",
      "[CV 5/5] END lr__class_weight=None, lr__penalty=elasticnet, lr__solver=lbfgs, vect__max_df=0.5, vect__max_features=None;, score=nan total time=   0.3s\n",
      "[CV 1/5] END lr__class_weight=None, lr__penalty=elasticnet, lr__solver=lbfgs, vect__max_df=0.5, vect__max_features=500;, score=nan total time=   0.3s\n",
      "[CV 2/5] END lr__class_weight=None, lr__penalty=elasticnet, lr__solver=lbfgs, vect__max_df=0.5, vect__max_features=500;, score=nan total time=   0.3s\n",
      "[CV 3/5] END lr__class_weight=None, lr__penalty=elasticnet, lr__solver=lbfgs, vect__max_df=0.5, vect__max_features=500;, score=nan total time=   0.3s\n",
      "[CV 4/5] END lr__class_weight=None, lr__penalty=elasticnet, lr__solver=lbfgs, vect__max_df=0.5, vect__max_features=500;, score=nan total time=   0.3s\n",
      "[CV 5/5] END lr__class_weight=None, lr__penalty=elasticnet, lr__solver=lbfgs, vect__max_df=0.5, vect__max_features=500;, score=nan total time=   0.3s\n",
      "[CV 1/5] END lr__class_weight=None, lr__penalty=elasticnet, lr__solver=lbfgs, vect__max_df=0.5, vect__max_features=1000;, score=nan total time=   0.3s\n",
      "[CV 2/5] END lr__class_weight=None, lr__penalty=elasticnet, lr__solver=lbfgs, vect__max_df=0.5, vect__max_features=1000;, score=nan total time=   0.3s\n",
      "[CV 3/5] END lr__class_weight=None, lr__penalty=elasticnet, lr__solver=lbfgs, vect__max_df=0.5, vect__max_features=1000;, score=nan total time=   0.3s\n",
      "[CV 4/5] END lr__class_weight=None, lr__penalty=elasticnet, lr__solver=lbfgs, vect__max_df=0.5, vect__max_features=1000;, score=nan total time=   0.3s\n",
      "[CV 5/5] END lr__class_weight=None, lr__penalty=elasticnet, lr__solver=lbfgs, vect__max_df=0.5, vect__max_features=1000;, score=nan total time=   0.3s\n",
      "[CV 1/5] END lr__class_weight=None, lr__penalty=elasticnet, lr__solver=lbfgs, vect__max_df=0.5, vect__max_features=2000;, score=nan total time=   0.3s\n",
      "[CV 2/5] END lr__class_weight=None, lr__penalty=elasticnet, lr__solver=lbfgs, vect__max_df=0.5, vect__max_features=2000;, score=nan total time=   0.3s\n",
      "[CV 3/5] END lr__class_weight=None, lr__penalty=elasticnet, lr__solver=lbfgs, vect__max_df=0.5, vect__max_features=2000;, score=nan total time=   0.3s\n",
      "[CV 4/5] END lr__class_weight=None, lr__penalty=elasticnet, lr__solver=lbfgs, vect__max_df=0.5, vect__max_features=2000;, score=nan total time=   0.3s\n",
      "[CV 5/5] END lr__class_weight=None, lr__penalty=elasticnet, lr__solver=lbfgs, vect__max_df=0.5, vect__max_features=2000;, score=nan total time=   0.3s\n",
      "[CV 1/5] END lr__class_weight=None, lr__penalty=elasticnet, lr__solver=lbfgs, vect__max_df=0.75, vect__max_features=None;, score=nan total time=   0.3s\n",
      "[CV 2/5] END lr__class_weight=None, lr__penalty=elasticnet, lr__solver=lbfgs, vect__max_df=0.75, vect__max_features=None;, score=nan total time=   0.3s\n",
      "[CV 3/5] END lr__class_weight=None, lr__penalty=elasticnet, lr__solver=lbfgs, vect__max_df=0.75, vect__max_features=None;, score=nan total time=   0.3s\n",
      "[CV 4/5] END lr__class_weight=None, lr__penalty=elasticnet, lr__solver=lbfgs, vect__max_df=0.75, vect__max_features=None;, score=nan total time=   0.3s\n",
      "[CV 5/5] END lr__class_weight=None, lr__penalty=elasticnet, lr__solver=lbfgs, vect__max_df=0.75, vect__max_features=None;, score=nan total time=   0.3s\n",
      "[CV 1/5] END lr__class_weight=None, lr__penalty=elasticnet, lr__solver=lbfgs, vect__max_df=0.75, vect__max_features=500;, score=nan total time=   0.3s\n",
      "[CV 2/5] END lr__class_weight=None, lr__penalty=elasticnet, lr__solver=lbfgs, vect__max_df=0.75, vect__max_features=500;, score=nan total time=   0.3s\n",
      "[CV 3/5] END lr__class_weight=None, lr__penalty=elasticnet, lr__solver=lbfgs, vect__max_df=0.75, vect__max_features=500;, score=nan total time=   0.3s\n",
      "[CV 4/5] END lr__class_weight=None, lr__penalty=elasticnet, lr__solver=lbfgs, vect__max_df=0.75, vect__max_features=500;, score=nan total time=   0.3s\n",
      "[CV 5/5] END lr__class_weight=None, lr__penalty=elasticnet, lr__solver=lbfgs, vect__max_df=0.75, vect__max_features=500;, score=nan total time=   0.3s\n",
      "[CV 1/5] END lr__class_weight=None, lr__penalty=elasticnet, lr__solver=lbfgs, vect__max_df=0.75, vect__max_features=1000;, score=nan total time=   0.3s\n",
      "[CV 2/5] END lr__class_weight=None, lr__penalty=elasticnet, lr__solver=lbfgs, vect__max_df=0.75, vect__max_features=1000;, score=nan total time=   0.3s\n",
      "[CV 3/5] END lr__class_weight=None, lr__penalty=elasticnet, lr__solver=lbfgs, vect__max_df=0.75, vect__max_features=1000;, score=nan total time=   0.3s\n",
      "[CV 4/5] END lr__class_weight=None, lr__penalty=elasticnet, lr__solver=lbfgs, vect__max_df=0.75, vect__max_features=1000;, score=nan total time=   0.3s\n",
      "[CV 5/5] END lr__class_weight=None, lr__penalty=elasticnet, lr__solver=lbfgs, vect__max_df=0.75, vect__max_features=1000;, score=nan total time=   0.3s\n",
      "[CV 1/5] END lr__class_weight=None, lr__penalty=elasticnet, lr__solver=lbfgs, vect__max_df=0.75, vect__max_features=2000;, score=nan total time=   0.3s\n",
      "[CV 2/5] END lr__class_weight=None, lr__penalty=elasticnet, lr__solver=lbfgs, vect__max_df=0.75, vect__max_features=2000;, score=nan total time=   0.3s\n",
      "[CV 3/5] END lr__class_weight=None, lr__penalty=elasticnet, lr__solver=lbfgs, vect__max_df=0.75, vect__max_features=2000;, score=nan total time=   0.3s\n",
      "[CV 4/5] END lr__class_weight=None, lr__penalty=elasticnet, lr__solver=lbfgs, vect__max_df=0.75, vect__max_features=2000;, score=nan total time=   0.3s\n",
      "[CV 5/5] END lr__class_weight=None, lr__penalty=elasticnet, lr__solver=lbfgs, vect__max_df=0.75, vect__max_features=2000;, score=nan total time=   0.3s\n",
      "[CV 1/5] END lr__class_weight=None, lr__penalty=elasticnet, lr__solver=lbfgs, vect__max_df=1.0, vect__max_features=None;, score=nan total time=   0.3s\n",
      "[CV 2/5] END lr__class_weight=None, lr__penalty=elasticnet, lr__solver=lbfgs, vect__max_df=1.0, vect__max_features=None;, score=nan total time=   0.3s\n",
      "[CV 3/5] END lr__class_weight=None, lr__penalty=elasticnet, lr__solver=lbfgs, vect__max_df=1.0, vect__max_features=None;, score=nan total time=   0.3s\n",
      "[CV 4/5] END lr__class_weight=None, lr__penalty=elasticnet, lr__solver=lbfgs, vect__max_df=1.0, vect__max_features=None;, score=nan total time=   0.3s\n",
      "[CV 5/5] END lr__class_weight=None, lr__penalty=elasticnet, lr__solver=lbfgs, vect__max_df=1.0, vect__max_features=None;, score=nan total time=   0.3s\n"
     ]
    },
    {
     "name": "stdout",
     "output_type": "stream",
     "text": [
      "[CV 1/5] END lr__class_weight=None, lr__penalty=elasticnet, lr__solver=lbfgs, vect__max_df=1.0, vect__max_features=500;, score=nan total time=   0.3s\n",
      "[CV 2/5] END lr__class_weight=None, lr__penalty=elasticnet, lr__solver=lbfgs, vect__max_df=1.0, vect__max_features=500;, score=nan total time=   0.3s\n",
      "[CV 3/5] END lr__class_weight=None, lr__penalty=elasticnet, lr__solver=lbfgs, vect__max_df=1.0, vect__max_features=500;, score=nan total time=   0.3s\n",
      "[CV 4/5] END lr__class_weight=None, lr__penalty=elasticnet, lr__solver=lbfgs, vect__max_df=1.0, vect__max_features=500;, score=nan total time=   0.3s\n",
      "[CV 5/5] END lr__class_weight=None, lr__penalty=elasticnet, lr__solver=lbfgs, vect__max_df=1.0, vect__max_features=500;, score=nan total time=   0.3s\n",
      "[CV 1/5] END lr__class_weight=None, lr__penalty=elasticnet, lr__solver=lbfgs, vect__max_df=1.0, vect__max_features=1000;, score=nan total time=   0.3s\n",
      "[CV 2/5] END lr__class_weight=None, lr__penalty=elasticnet, lr__solver=lbfgs, vect__max_df=1.0, vect__max_features=1000;, score=nan total time=   0.3s\n",
      "[CV 3/5] END lr__class_weight=None, lr__penalty=elasticnet, lr__solver=lbfgs, vect__max_df=1.0, vect__max_features=1000;, score=nan total time=   0.3s\n",
      "[CV 4/5] END lr__class_weight=None, lr__penalty=elasticnet, lr__solver=lbfgs, vect__max_df=1.0, vect__max_features=1000;, score=nan total time=   0.3s\n",
      "[CV 5/5] END lr__class_weight=None, lr__penalty=elasticnet, lr__solver=lbfgs, vect__max_df=1.0, vect__max_features=1000;, score=nan total time=   0.3s\n",
      "[CV 1/5] END lr__class_weight=None, lr__penalty=elasticnet, lr__solver=lbfgs, vect__max_df=1.0, vect__max_features=2000;, score=nan total time=   0.3s\n",
      "[CV 2/5] END lr__class_weight=None, lr__penalty=elasticnet, lr__solver=lbfgs, vect__max_df=1.0, vect__max_features=2000;, score=nan total time=   0.3s\n",
      "[CV 3/5] END lr__class_weight=None, lr__penalty=elasticnet, lr__solver=lbfgs, vect__max_df=1.0, vect__max_features=2000;, score=nan total time=   0.3s\n",
      "[CV 4/5] END lr__class_weight=None, lr__penalty=elasticnet, lr__solver=lbfgs, vect__max_df=1.0, vect__max_features=2000;, score=nan total time=   0.3s\n",
      "[CV 5/5] END lr__class_weight=None, lr__penalty=elasticnet, lr__solver=lbfgs, vect__max_df=1.0, vect__max_features=2000;, score=nan total time=   0.3s\n",
      "[CV 1/5] END lr__class_weight=None, lr__penalty=elasticnet, lr__solver=saga, vect__max_df=0.5, vect__max_features=None;, score=nan total time=   0.3s\n",
      "[CV 2/5] END lr__class_weight=None, lr__penalty=elasticnet, lr__solver=saga, vect__max_df=0.5, vect__max_features=None;, score=nan total time=   0.3s\n",
      "[CV 3/5] END lr__class_weight=None, lr__penalty=elasticnet, lr__solver=saga, vect__max_df=0.5, vect__max_features=None;, score=nan total time=   0.3s\n",
      "[CV 4/5] END lr__class_weight=None, lr__penalty=elasticnet, lr__solver=saga, vect__max_df=0.5, vect__max_features=None;, score=nan total time=   0.3s\n",
      "[CV 5/5] END lr__class_weight=None, lr__penalty=elasticnet, lr__solver=saga, vect__max_df=0.5, vect__max_features=None;, score=nan total time=   0.3s\n",
      "[CV 1/5] END lr__class_weight=None, lr__penalty=elasticnet, lr__solver=saga, vect__max_df=0.5, vect__max_features=500;, score=nan total time=   0.3s\n",
      "[CV 2/5] END lr__class_weight=None, lr__penalty=elasticnet, lr__solver=saga, vect__max_df=0.5, vect__max_features=500;, score=nan total time=   0.3s\n",
      "[CV 3/5] END lr__class_weight=None, lr__penalty=elasticnet, lr__solver=saga, vect__max_df=0.5, vect__max_features=500;, score=nan total time=   0.3s\n",
      "[CV 4/5] END lr__class_weight=None, lr__penalty=elasticnet, lr__solver=saga, vect__max_df=0.5, vect__max_features=500;, score=nan total time=   0.3s\n",
      "[CV 5/5] END lr__class_weight=None, lr__penalty=elasticnet, lr__solver=saga, vect__max_df=0.5, vect__max_features=500;, score=nan total time=   0.3s\n",
      "[CV 1/5] END lr__class_weight=None, lr__penalty=elasticnet, lr__solver=saga, vect__max_df=0.5, vect__max_features=1000;, score=nan total time=   0.3s\n",
      "[CV 2/5] END lr__class_weight=None, lr__penalty=elasticnet, lr__solver=saga, vect__max_df=0.5, vect__max_features=1000;, score=nan total time=   0.3s\n",
      "[CV 3/5] END lr__class_weight=None, lr__penalty=elasticnet, lr__solver=saga, vect__max_df=0.5, vect__max_features=1000;, score=nan total time=   0.3s\n",
      "[CV 4/5] END lr__class_weight=None, lr__penalty=elasticnet, lr__solver=saga, vect__max_df=0.5, vect__max_features=1000;, score=nan total time=   0.3s\n",
      "[CV 5/5] END lr__class_weight=None, lr__penalty=elasticnet, lr__solver=saga, vect__max_df=0.5, vect__max_features=1000;, score=nan total time=   0.3s\n",
      "[CV 1/5] END lr__class_weight=None, lr__penalty=elasticnet, lr__solver=saga, vect__max_df=0.5, vect__max_features=2000;, score=nan total time=   0.3s\n",
      "[CV 2/5] END lr__class_weight=None, lr__penalty=elasticnet, lr__solver=saga, vect__max_df=0.5, vect__max_features=2000;, score=nan total time=   0.3s\n",
      "[CV 3/5] END lr__class_weight=None, lr__penalty=elasticnet, lr__solver=saga, vect__max_df=0.5, vect__max_features=2000;, score=nan total time=   0.3s\n",
      "[CV 4/5] END lr__class_weight=None, lr__penalty=elasticnet, lr__solver=saga, vect__max_df=0.5, vect__max_features=2000;, score=nan total time=   0.3s\n",
      "[CV 5/5] END lr__class_weight=None, lr__penalty=elasticnet, lr__solver=saga, vect__max_df=0.5, vect__max_features=2000;, score=nan total time=   0.3s\n",
      "[CV 1/5] END lr__class_weight=None, lr__penalty=elasticnet, lr__solver=saga, vect__max_df=0.75, vect__max_features=None;, score=nan total time=   0.3s\n",
      "[CV 2/5] END lr__class_weight=None, lr__penalty=elasticnet, lr__solver=saga, vect__max_df=0.75, vect__max_features=None;, score=nan total time=   0.3s\n",
      "[CV 3/5] END lr__class_weight=None, lr__penalty=elasticnet, lr__solver=saga, vect__max_df=0.75, vect__max_features=None;, score=nan total time=   0.3s\n",
      "[CV 4/5] END lr__class_weight=None, lr__penalty=elasticnet, lr__solver=saga, vect__max_df=0.75, vect__max_features=None;, score=nan total time=   0.3s\n",
      "[CV 5/5] END lr__class_weight=None, lr__penalty=elasticnet, lr__solver=saga, vect__max_df=0.75, vect__max_features=None;, score=nan total time=   0.3s\n",
      "[CV 1/5] END lr__class_weight=None, lr__penalty=elasticnet, lr__solver=saga, vect__max_df=0.75, vect__max_features=500;, score=nan total time=   0.3s\n",
      "[CV 2/5] END lr__class_weight=None, lr__penalty=elasticnet, lr__solver=saga, vect__max_df=0.75, vect__max_features=500;, score=nan total time=   0.3s\n",
      "[CV 3/5] END lr__class_weight=None, lr__penalty=elasticnet, lr__solver=saga, vect__max_df=0.75, vect__max_features=500;, score=nan total time=   0.3s\n",
      "[CV 4/5] END lr__class_weight=None, lr__penalty=elasticnet, lr__solver=saga, vect__max_df=0.75, vect__max_features=500;, score=nan total time=   0.3s\n",
      "[CV 5/5] END lr__class_weight=None, lr__penalty=elasticnet, lr__solver=saga, vect__max_df=0.75, vect__max_features=500;, score=nan total time=   0.3s\n",
      "[CV 1/5] END lr__class_weight=None, lr__penalty=elasticnet, lr__solver=saga, vect__max_df=0.75, vect__max_features=1000;, score=nan total time=   0.3s\n",
      "[CV 2/5] END lr__class_weight=None, lr__penalty=elasticnet, lr__solver=saga, vect__max_df=0.75, vect__max_features=1000;, score=nan total time=   0.3s\n",
      "[CV 3/5] END lr__class_weight=None, lr__penalty=elasticnet, lr__solver=saga, vect__max_df=0.75, vect__max_features=1000;, score=nan total time=   0.3s\n",
      "[CV 4/5] END lr__class_weight=None, lr__penalty=elasticnet, lr__solver=saga, vect__max_df=0.75, vect__max_features=1000;, score=nan total time=   0.3s\n",
      "[CV 5/5] END lr__class_weight=None, lr__penalty=elasticnet, lr__solver=saga, vect__max_df=0.75, vect__max_features=1000;, score=nan total time=   0.3s\n",
      "[CV 1/5] END lr__class_weight=None, lr__penalty=elasticnet, lr__solver=saga, vect__max_df=0.75, vect__max_features=2000;, score=nan total time=   0.3s\n",
      "[CV 2/5] END lr__class_weight=None, lr__penalty=elasticnet, lr__solver=saga, vect__max_df=0.75, vect__max_features=2000;, score=nan total time=   0.3s\n",
      "[CV 3/5] END lr__class_weight=None, lr__penalty=elasticnet, lr__solver=saga, vect__max_df=0.75, vect__max_features=2000;, score=nan total time=   0.3s\n",
      "[CV 4/5] END lr__class_weight=None, lr__penalty=elasticnet, lr__solver=saga, vect__max_df=0.75, vect__max_features=2000;, score=nan total time=   0.3s\n",
      "[CV 5/5] END lr__class_weight=None, lr__penalty=elasticnet, lr__solver=saga, vect__max_df=0.75, vect__max_features=2000;, score=nan total time=   0.3s\n"
     ]
    },
    {
     "name": "stdout",
     "output_type": "stream",
     "text": [
      "[CV 1/5] END lr__class_weight=None, lr__penalty=elasticnet, lr__solver=saga, vect__max_df=1.0, vect__max_features=None;, score=nan total time=   0.3s\n",
      "[CV 2/5] END lr__class_weight=None, lr__penalty=elasticnet, lr__solver=saga, vect__max_df=1.0, vect__max_features=None;, score=nan total time=   0.3s\n",
      "[CV 3/5] END lr__class_weight=None, lr__penalty=elasticnet, lr__solver=saga, vect__max_df=1.0, vect__max_features=None;, score=nan total time=   0.3s\n",
      "[CV 4/5] END lr__class_weight=None, lr__penalty=elasticnet, lr__solver=saga, vect__max_df=1.0, vect__max_features=None;, score=nan total time=   0.3s\n",
      "[CV 5/5] END lr__class_weight=None, lr__penalty=elasticnet, lr__solver=saga, vect__max_df=1.0, vect__max_features=None;, score=nan total time=   0.3s\n",
      "[CV 1/5] END lr__class_weight=None, lr__penalty=elasticnet, lr__solver=saga, vect__max_df=1.0, vect__max_features=500;, score=nan total time=   0.3s\n",
      "[CV 2/5] END lr__class_weight=None, lr__penalty=elasticnet, lr__solver=saga, vect__max_df=1.0, vect__max_features=500;, score=nan total time=   0.3s\n",
      "[CV 3/5] END lr__class_weight=None, lr__penalty=elasticnet, lr__solver=saga, vect__max_df=1.0, vect__max_features=500;, score=nan total time=   0.3s\n",
      "[CV 4/5] END lr__class_weight=None, lr__penalty=elasticnet, lr__solver=saga, vect__max_df=1.0, vect__max_features=500;, score=nan total time=   0.3s\n",
      "[CV 5/5] END lr__class_weight=None, lr__penalty=elasticnet, lr__solver=saga, vect__max_df=1.0, vect__max_features=500;, score=nan total time=   0.3s\n",
      "[CV 1/5] END lr__class_weight=None, lr__penalty=elasticnet, lr__solver=saga, vect__max_df=1.0, vect__max_features=1000;, score=nan total time=   0.3s\n",
      "[CV 2/5] END lr__class_weight=None, lr__penalty=elasticnet, lr__solver=saga, vect__max_df=1.0, vect__max_features=1000;, score=nan total time=   0.3s\n",
      "[CV 3/5] END lr__class_weight=None, lr__penalty=elasticnet, lr__solver=saga, vect__max_df=1.0, vect__max_features=1000;, score=nan total time=   0.3s\n",
      "[CV 4/5] END lr__class_weight=None, lr__penalty=elasticnet, lr__solver=saga, vect__max_df=1.0, vect__max_features=1000;, score=nan total time=   0.3s\n",
      "[CV 5/5] END lr__class_weight=None, lr__penalty=elasticnet, lr__solver=saga, vect__max_df=1.0, vect__max_features=1000;, score=nan total time=   0.3s\n",
      "[CV 1/5] END lr__class_weight=None, lr__penalty=elasticnet, lr__solver=saga, vect__max_df=1.0, vect__max_features=2000;, score=nan total time=   0.3s\n",
      "[CV 2/5] END lr__class_weight=None, lr__penalty=elasticnet, lr__solver=saga, vect__max_df=1.0, vect__max_features=2000;, score=nan total time=   0.3s\n",
      "[CV 3/5] END lr__class_weight=None, lr__penalty=elasticnet, lr__solver=saga, vect__max_df=1.0, vect__max_features=2000;, score=nan total time=   0.3s\n",
      "[CV 4/5] END lr__class_weight=None, lr__penalty=elasticnet, lr__solver=saga, vect__max_df=1.0, vect__max_features=2000;, score=nan total time=   0.3s\n",
      "[CV 5/5] END lr__class_weight=None, lr__penalty=elasticnet, lr__solver=saga, vect__max_df=1.0, vect__max_features=2000;, score=nan total time=   0.3s\n",
      "[CV 1/5] END lr__class_weight=None, lr__penalty=elasticnet, lr__solver=liblinear, vect__max_df=0.5, vect__max_features=None;, score=nan total time=   0.3s\n",
      "[CV 2/5] END lr__class_weight=None, lr__penalty=elasticnet, lr__solver=liblinear, vect__max_df=0.5, vect__max_features=None;, score=nan total time=   0.3s\n",
      "[CV 3/5] END lr__class_weight=None, lr__penalty=elasticnet, lr__solver=liblinear, vect__max_df=0.5, vect__max_features=None;, score=nan total time=   0.3s\n",
      "[CV 4/5] END lr__class_weight=None, lr__penalty=elasticnet, lr__solver=liblinear, vect__max_df=0.5, vect__max_features=None;, score=nan total time=   0.3s\n",
      "[CV 5/5] END lr__class_weight=None, lr__penalty=elasticnet, lr__solver=liblinear, vect__max_df=0.5, vect__max_features=None;, score=nan total time=   0.3s\n",
      "[CV 1/5] END lr__class_weight=None, lr__penalty=elasticnet, lr__solver=liblinear, vect__max_df=0.5, vect__max_features=500;, score=nan total time=   0.3s\n",
      "[CV 2/5] END lr__class_weight=None, lr__penalty=elasticnet, lr__solver=liblinear, vect__max_df=0.5, vect__max_features=500;, score=nan total time=   0.3s\n",
      "[CV 3/5] END lr__class_weight=None, lr__penalty=elasticnet, lr__solver=liblinear, vect__max_df=0.5, vect__max_features=500;, score=nan total time=   0.3s\n",
      "[CV 4/5] END lr__class_weight=None, lr__penalty=elasticnet, lr__solver=liblinear, vect__max_df=0.5, vect__max_features=500;, score=nan total time=   0.3s\n",
      "[CV 5/5] END lr__class_weight=None, lr__penalty=elasticnet, lr__solver=liblinear, vect__max_df=0.5, vect__max_features=500;, score=nan total time=   0.3s\n",
      "[CV 1/5] END lr__class_weight=None, lr__penalty=elasticnet, lr__solver=liblinear, vect__max_df=0.5, vect__max_features=1000;, score=nan total time=   0.3s\n",
      "[CV 2/5] END lr__class_weight=None, lr__penalty=elasticnet, lr__solver=liblinear, vect__max_df=0.5, vect__max_features=1000;, score=nan total time=   0.3s\n",
      "[CV 3/5] END lr__class_weight=None, lr__penalty=elasticnet, lr__solver=liblinear, vect__max_df=0.5, vect__max_features=1000;, score=nan total time=   0.3s\n",
      "[CV 4/5] END lr__class_weight=None, lr__penalty=elasticnet, lr__solver=liblinear, vect__max_df=0.5, vect__max_features=1000;, score=nan total time=   0.3s\n",
      "[CV 5/5] END lr__class_weight=None, lr__penalty=elasticnet, lr__solver=liblinear, vect__max_df=0.5, vect__max_features=1000;, score=nan total time=   0.3s\n",
      "[CV 1/5] END lr__class_weight=None, lr__penalty=elasticnet, lr__solver=liblinear, vect__max_df=0.5, vect__max_features=2000;, score=nan total time=   0.3s\n",
      "[CV 2/5] END lr__class_weight=None, lr__penalty=elasticnet, lr__solver=liblinear, vect__max_df=0.5, vect__max_features=2000;, score=nan total time=   0.3s\n",
      "[CV 3/5] END lr__class_weight=None, lr__penalty=elasticnet, lr__solver=liblinear, vect__max_df=0.5, vect__max_features=2000;, score=nan total time=   0.3s\n",
      "[CV 4/5] END lr__class_weight=None, lr__penalty=elasticnet, lr__solver=liblinear, vect__max_df=0.5, vect__max_features=2000;, score=nan total time=   0.3s\n",
      "[CV 5/5] END lr__class_weight=None, lr__penalty=elasticnet, lr__solver=liblinear, vect__max_df=0.5, vect__max_features=2000;, score=nan total time=   0.3s\n",
      "[CV 1/5] END lr__class_weight=None, lr__penalty=elasticnet, lr__solver=liblinear, vect__max_df=0.75, vect__max_features=None;, score=nan total time=   0.3s\n",
      "[CV 2/5] END lr__class_weight=None, lr__penalty=elasticnet, lr__solver=liblinear, vect__max_df=0.75, vect__max_features=None;, score=nan total time=   0.3s\n",
      "[CV 3/5] END lr__class_weight=None, lr__penalty=elasticnet, lr__solver=liblinear, vect__max_df=0.75, vect__max_features=None;, score=nan total time=   0.3s\n",
      "[CV 4/5] END lr__class_weight=None, lr__penalty=elasticnet, lr__solver=liblinear, vect__max_df=0.75, vect__max_features=None;, score=nan total time=   0.3s\n",
      "[CV 5/5] END lr__class_weight=None, lr__penalty=elasticnet, lr__solver=liblinear, vect__max_df=0.75, vect__max_features=None;, score=nan total time=   0.3s\n",
      "[CV 1/5] END lr__class_weight=None, lr__penalty=elasticnet, lr__solver=liblinear, vect__max_df=0.75, vect__max_features=500;, score=nan total time=   0.3s\n",
      "[CV 2/5] END lr__class_weight=None, lr__penalty=elasticnet, lr__solver=liblinear, vect__max_df=0.75, vect__max_features=500;, score=nan total time=   0.3s\n",
      "[CV 3/5] END lr__class_weight=None, lr__penalty=elasticnet, lr__solver=liblinear, vect__max_df=0.75, vect__max_features=500;, score=nan total time=   0.3s\n",
      "[CV 4/5] END lr__class_weight=None, lr__penalty=elasticnet, lr__solver=liblinear, vect__max_df=0.75, vect__max_features=500;, score=nan total time=   0.3s\n",
      "[CV 5/5] END lr__class_weight=None, lr__penalty=elasticnet, lr__solver=liblinear, vect__max_df=0.75, vect__max_features=500;, score=nan total time=   0.3s\n",
      "[CV 1/5] END lr__class_weight=None, lr__penalty=elasticnet, lr__solver=liblinear, vect__max_df=0.75, vect__max_features=1000;, score=nan total time=   0.3s\n",
      "[CV 2/5] END lr__class_weight=None, lr__penalty=elasticnet, lr__solver=liblinear, vect__max_df=0.75, vect__max_features=1000;, score=nan total time=   0.3s\n",
      "[CV 3/5] END lr__class_weight=None, lr__penalty=elasticnet, lr__solver=liblinear, vect__max_df=0.75, vect__max_features=1000;, score=nan total time=   0.3s\n",
      "[CV 4/5] END lr__class_weight=None, lr__penalty=elasticnet, lr__solver=liblinear, vect__max_df=0.75, vect__max_features=1000;, score=nan total time=   0.3s\n"
     ]
    },
    {
     "name": "stdout",
     "output_type": "stream",
     "text": [
      "[CV 5/5] END lr__class_weight=None, lr__penalty=elasticnet, lr__solver=liblinear, vect__max_df=0.75, vect__max_features=1000;, score=nan total time=   0.3s\n",
      "[CV 1/5] END lr__class_weight=None, lr__penalty=elasticnet, lr__solver=liblinear, vect__max_df=0.75, vect__max_features=2000;, score=nan total time=   0.3s\n",
      "[CV 2/5] END lr__class_weight=None, lr__penalty=elasticnet, lr__solver=liblinear, vect__max_df=0.75, vect__max_features=2000;, score=nan total time=   0.3s\n",
      "[CV 3/5] END lr__class_weight=None, lr__penalty=elasticnet, lr__solver=liblinear, vect__max_df=0.75, vect__max_features=2000;, score=nan total time=   0.3s\n",
      "[CV 4/5] END lr__class_weight=None, lr__penalty=elasticnet, lr__solver=liblinear, vect__max_df=0.75, vect__max_features=2000;, score=nan total time=   0.3s\n",
      "[CV 5/5] END lr__class_weight=None, lr__penalty=elasticnet, lr__solver=liblinear, vect__max_df=0.75, vect__max_features=2000;, score=nan total time=   0.3s\n",
      "[CV 1/5] END lr__class_weight=None, lr__penalty=elasticnet, lr__solver=liblinear, vect__max_df=1.0, vect__max_features=None;, score=nan total time=   0.3s\n",
      "[CV 2/5] END lr__class_weight=None, lr__penalty=elasticnet, lr__solver=liblinear, vect__max_df=1.0, vect__max_features=None;, score=nan total time=   0.3s\n",
      "[CV 3/5] END lr__class_weight=None, lr__penalty=elasticnet, lr__solver=liblinear, vect__max_df=1.0, vect__max_features=None;, score=nan total time=   0.3s\n",
      "[CV 4/5] END lr__class_weight=None, lr__penalty=elasticnet, lr__solver=liblinear, vect__max_df=1.0, vect__max_features=None;, score=nan total time=   0.3s\n",
      "[CV 5/5] END lr__class_weight=None, lr__penalty=elasticnet, lr__solver=liblinear, vect__max_df=1.0, vect__max_features=None;, score=nan total time=   0.3s\n",
      "[CV 1/5] END lr__class_weight=None, lr__penalty=elasticnet, lr__solver=liblinear, vect__max_df=1.0, vect__max_features=500;, score=nan total time=   0.3s\n",
      "[CV 2/5] END lr__class_weight=None, lr__penalty=elasticnet, lr__solver=liblinear, vect__max_df=1.0, vect__max_features=500;, score=nan total time=   0.3s\n",
      "[CV 3/5] END lr__class_weight=None, lr__penalty=elasticnet, lr__solver=liblinear, vect__max_df=1.0, vect__max_features=500;, score=nan total time=   0.3s\n",
      "[CV 4/5] END lr__class_weight=None, lr__penalty=elasticnet, lr__solver=liblinear, vect__max_df=1.0, vect__max_features=500;, score=nan total time=   0.3s\n",
      "[CV 5/5] END lr__class_weight=None, lr__penalty=elasticnet, lr__solver=liblinear, vect__max_df=1.0, vect__max_features=500;, score=nan total time=   0.3s\n",
      "[CV 1/5] END lr__class_weight=None, lr__penalty=elasticnet, lr__solver=liblinear, vect__max_df=1.0, vect__max_features=1000;, score=nan total time=   0.3s\n",
      "[CV 2/5] END lr__class_weight=None, lr__penalty=elasticnet, lr__solver=liblinear, vect__max_df=1.0, vect__max_features=1000;, score=nan total time=   0.3s\n",
      "[CV 3/5] END lr__class_weight=None, lr__penalty=elasticnet, lr__solver=liblinear, vect__max_df=1.0, vect__max_features=1000;, score=nan total time=   0.3s\n",
      "[CV 4/5] END lr__class_weight=None, lr__penalty=elasticnet, lr__solver=liblinear, vect__max_df=1.0, vect__max_features=1000;, score=nan total time=   0.3s\n",
      "[CV 5/5] END lr__class_weight=None, lr__penalty=elasticnet, lr__solver=liblinear, vect__max_df=1.0, vect__max_features=1000;, score=nan total time=   0.3s\n",
      "[CV 1/5] END lr__class_weight=None, lr__penalty=elasticnet, lr__solver=liblinear, vect__max_df=1.0, vect__max_features=2000;, score=nan total time=   0.3s\n",
      "[CV 2/5] END lr__class_weight=None, lr__penalty=elasticnet, lr__solver=liblinear, vect__max_df=1.0, vect__max_features=2000;, score=nan total time=   0.3s\n",
      "[CV 3/5] END lr__class_weight=None, lr__penalty=elasticnet, lr__solver=liblinear, vect__max_df=1.0, vect__max_features=2000;, score=nan total time=   0.3s\n",
      "[CV 4/5] END lr__class_weight=None, lr__penalty=elasticnet, lr__solver=liblinear, vect__max_df=1.0, vect__max_features=2000;, score=nan total time=   0.3s\n",
      "[CV 5/5] END lr__class_weight=None, lr__penalty=elasticnet, lr__solver=liblinear, vect__max_df=1.0, vect__max_features=2000;, score=nan total time=   0.3s\n",
      "[CV 1/5] END lr__class_weight=balanced, lr__penalty=l2, lr__solver=lbfgs, vect__max_df=0.5, vect__max_features=None;, score=0.860 total time=   0.4s\n",
      "[CV 2/5] END lr__class_weight=balanced, lr__penalty=l2, lr__solver=lbfgs, vect__max_df=0.5, vect__max_features=None;, score=0.861 total time=   0.5s\n",
      "[CV 3/5] END lr__class_weight=balanced, lr__penalty=l2, lr__solver=lbfgs, vect__max_df=0.5, vect__max_features=None;, score=0.865 total time=   0.4s\n",
      "[CV 4/5] END lr__class_weight=balanced, lr__penalty=l2, lr__solver=lbfgs, vect__max_df=0.5, vect__max_features=None;, score=0.849 total time=   0.4s\n",
      "[CV 5/5] END lr__class_weight=balanced, lr__penalty=l2, lr__solver=lbfgs, vect__max_df=0.5, vect__max_features=None;, score=0.850 total time=   0.4s\n",
      "[CV 1/5] END lr__class_weight=balanced, lr__penalty=l2, lr__solver=lbfgs, vect__max_df=0.5, vect__max_features=500;, score=0.835 total time=   0.4s\n",
      "[CV 2/5] END lr__class_weight=balanced, lr__penalty=l2, lr__solver=lbfgs, vect__max_df=0.5, vect__max_features=500;, score=0.841 total time=   0.4s\n",
      "[CV 3/5] END lr__class_weight=balanced, lr__penalty=l2, lr__solver=lbfgs, vect__max_df=0.5, vect__max_features=500;, score=0.843 total time=   0.4s\n",
      "[CV 4/5] END lr__class_weight=balanced, lr__penalty=l2, lr__solver=lbfgs, vect__max_df=0.5, vect__max_features=500;, score=0.832 total time=   0.4s\n",
      "[CV 5/5] END lr__class_weight=balanced, lr__penalty=l2, lr__solver=lbfgs, vect__max_df=0.5, vect__max_features=500;, score=0.832 total time=   0.4s\n",
      "[CV 1/5] END lr__class_weight=balanced, lr__penalty=l2, lr__solver=lbfgs, vect__max_df=0.5, vect__max_features=1000;, score=0.846 total time=   0.4s\n",
      "[CV 2/5] END lr__class_weight=balanced, lr__penalty=l2, lr__solver=lbfgs, vect__max_df=0.5, vect__max_features=1000;, score=0.852 total time=   0.4s\n",
      "[CV 3/5] END lr__class_weight=balanced, lr__penalty=l2, lr__solver=lbfgs, vect__max_df=0.5, vect__max_features=1000;, score=0.853 total time=   0.4s\n",
      "[CV 4/5] END lr__class_weight=balanced, lr__penalty=l2, lr__solver=lbfgs, vect__max_df=0.5, vect__max_features=1000;, score=0.840 total time=   0.4s\n",
      "[CV 5/5] END lr__class_weight=balanced, lr__penalty=l2, lr__solver=lbfgs, vect__max_df=0.5, vect__max_features=1000;, score=0.841 total time=   0.4s\n",
      "[CV 1/5] END lr__class_weight=balanced, lr__penalty=l2, lr__solver=lbfgs, vect__max_df=0.5, vect__max_features=2000;, score=0.856 total time=   0.4s\n",
      "[CV 2/5] END lr__class_weight=balanced, lr__penalty=l2, lr__solver=lbfgs, vect__max_df=0.5, vect__max_features=2000;, score=0.861 total time=   0.4s\n",
      "[CV 3/5] END lr__class_weight=balanced, lr__penalty=l2, lr__solver=lbfgs, vect__max_df=0.5, vect__max_features=2000;, score=0.860 total time=   0.4s\n",
      "[CV 4/5] END lr__class_weight=balanced, lr__penalty=l2, lr__solver=lbfgs, vect__max_df=0.5, vect__max_features=2000;, score=0.846 total time=   0.4s\n",
      "[CV 5/5] END lr__class_weight=balanced, lr__penalty=l2, lr__solver=lbfgs, vect__max_df=0.5, vect__max_features=2000;, score=0.847 total time=   0.5s\n",
      "[CV 1/5] END lr__class_weight=balanced, lr__penalty=l2, lr__solver=lbfgs, vect__max_df=0.75, vect__max_features=None;, score=0.860 total time=   0.4s\n",
      "[CV 2/5] END lr__class_weight=balanced, lr__penalty=l2, lr__solver=lbfgs, vect__max_df=0.75, vect__max_features=None;, score=0.861 total time=   0.5s\n",
      "[CV 3/5] END lr__class_weight=balanced, lr__penalty=l2, lr__solver=lbfgs, vect__max_df=0.75, vect__max_features=None;, score=0.865 total time=   0.4s\n",
      "[CV 4/5] END lr__class_weight=balanced, lr__penalty=l2, lr__solver=lbfgs, vect__max_df=0.75, vect__max_features=None;, score=0.849 total time=   0.4s\n",
      "[CV 5/5] END lr__class_weight=balanced, lr__penalty=l2, lr__solver=lbfgs, vect__max_df=0.75, vect__max_features=None;, score=0.850 total time=   0.4s\n",
      "[CV 1/5] END lr__class_weight=balanced, lr__penalty=l2, lr__solver=lbfgs, vect__max_df=0.75, vect__max_features=500;, score=0.835 total time=   0.4s\n",
      "[CV 2/5] END lr__class_weight=balanced, lr__penalty=l2, lr__solver=lbfgs, vect__max_df=0.75, vect__max_features=500;, score=0.841 total time=   0.4s\n",
      "[CV 3/5] END lr__class_weight=balanced, lr__penalty=l2, lr__solver=lbfgs, vect__max_df=0.75, vect__max_features=500;, score=0.843 total time=   0.4s\n"
     ]
    },
    {
     "name": "stdout",
     "output_type": "stream",
     "text": [
      "[CV 4/5] END lr__class_weight=balanced, lr__penalty=l2, lr__solver=lbfgs, vect__max_df=0.75, vect__max_features=500;, score=0.832 total time=   0.4s\n",
      "[CV 5/5] END lr__class_weight=balanced, lr__penalty=l2, lr__solver=lbfgs, vect__max_df=0.75, vect__max_features=500;, score=0.832 total time=   0.4s\n",
      "[CV 1/5] END lr__class_weight=balanced, lr__penalty=l2, lr__solver=lbfgs, vect__max_df=0.75, vect__max_features=1000;, score=0.846 total time=   0.4s\n",
      "[CV 2/5] END lr__class_weight=balanced, lr__penalty=l2, lr__solver=lbfgs, vect__max_df=0.75, vect__max_features=1000;, score=0.852 total time=   0.4s\n",
      "[CV 3/5] END lr__class_weight=balanced, lr__penalty=l2, lr__solver=lbfgs, vect__max_df=0.75, vect__max_features=1000;, score=0.853 total time=   0.4s\n",
      "[CV 4/5] END lr__class_weight=balanced, lr__penalty=l2, lr__solver=lbfgs, vect__max_df=0.75, vect__max_features=1000;, score=0.840 total time=   0.4s\n",
      "[CV 5/5] END lr__class_weight=balanced, lr__penalty=l2, lr__solver=lbfgs, vect__max_df=0.75, vect__max_features=1000;, score=0.841 total time=   0.4s\n",
      "[CV 1/5] END lr__class_weight=balanced, lr__penalty=l2, lr__solver=lbfgs, vect__max_df=0.75, vect__max_features=2000;, score=0.856 total time=   0.4s\n",
      "[CV 2/5] END lr__class_weight=balanced, lr__penalty=l2, lr__solver=lbfgs, vect__max_df=0.75, vect__max_features=2000;, score=0.861 total time=   0.4s\n",
      "[CV 3/5] END lr__class_weight=balanced, lr__penalty=l2, lr__solver=lbfgs, vect__max_df=0.75, vect__max_features=2000;, score=0.860 total time=   0.4s\n",
      "[CV 4/5] END lr__class_weight=balanced, lr__penalty=l2, lr__solver=lbfgs, vect__max_df=0.75, vect__max_features=2000;, score=0.846 total time=   0.4s\n",
      "[CV 5/5] END lr__class_weight=balanced, lr__penalty=l2, lr__solver=lbfgs, vect__max_df=0.75, vect__max_features=2000;, score=0.847 total time=   0.5s\n",
      "[CV 1/5] END lr__class_weight=balanced, lr__penalty=l2, lr__solver=lbfgs, vect__max_df=1.0, vect__max_features=None;, score=0.860 total time=   0.4s\n",
      "[CV 2/5] END lr__class_weight=balanced, lr__penalty=l2, lr__solver=lbfgs, vect__max_df=1.0, vect__max_features=None;, score=0.861 total time=   0.5s\n",
      "[CV 3/5] END lr__class_weight=balanced, lr__penalty=l2, lr__solver=lbfgs, vect__max_df=1.0, vect__max_features=None;, score=0.865 total time=   0.4s\n",
      "[CV 4/5] END lr__class_weight=balanced, lr__penalty=l2, lr__solver=lbfgs, vect__max_df=1.0, vect__max_features=None;, score=0.849 total time=   0.5s\n",
      "[CV 5/5] END lr__class_weight=balanced, lr__penalty=l2, lr__solver=lbfgs, vect__max_df=1.0, vect__max_features=None;, score=0.850 total time=   0.4s\n",
      "[CV 1/5] END lr__class_weight=balanced, lr__penalty=l2, lr__solver=lbfgs, vect__max_df=1.0, vect__max_features=500;, score=0.835 total time=   0.4s\n",
      "[CV 2/5] END lr__class_weight=balanced, lr__penalty=l2, lr__solver=lbfgs, vect__max_df=1.0, vect__max_features=500;, score=0.841 total time=   0.4s\n",
      "[CV 3/5] END lr__class_weight=balanced, lr__penalty=l2, lr__solver=lbfgs, vect__max_df=1.0, vect__max_features=500;, score=0.843 total time=   0.4s\n",
      "[CV 4/5] END lr__class_weight=balanced, lr__penalty=l2, lr__solver=lbfgs, vect__max_df=1.0, vect__max_features=500;, score=0.832 total time=   0.4s\n",
      "[CV 5/5] END lr__class_weight=balanced, lr__penalty=l2, lr__solver=lbfgs, vect__max_df=1.0, vect__max_features=500;, score=0.832 total time=   0.4s\n",
      "[CV 1/5] END lr__class_weight=balanced, lr__penalty=l2, lr__solver=lbfgs, vect__max_df=1.0, vect__max_features=1000;, score=0.846 total time=   0.4s\n",
      "[CV 2/5] END lr__class_weight=balanced, lr__penalty=l2, lr__solver=lbfgs, vect__max_df=1.0, vect__max_features=1000;, score=0.852 total time=   0.4s\n",
      "[CV 3/5] END lr__class_weight=balanced, lr__penalty=l2, lr__solver=lbfgs, vect__max_df=1.0, vect__max_features=1000;, score=0.853 total time=   0.4s\n",
      "[CV 4/5] END lr__class_weight=balanced, lr__penalty=l2, lr__solver=lbfgs, vect__max_df=1.0, vect__max_features=1000;, score=0.840 total time=   0.4s\n",
      "[CV 5/5] END lr__class_weight=balanced, lr__penalty=l2, lr__solver=lbfgs, vect__max_df=1.0, vect__max_features=1000;, score=0.841 total time=   0.4s\n",
      "[CV 1/5] END lr__class_weight=balanced, lr__penalty=l2, lr__solver=lbfgs, vect__max_df=1.0, vect__max_features=2000;, score=0.856 total time=   0.4s\n",
      "[CV 2/5] END lr__class_weight=balanced, lr__penalty=l2, lr__solver=lbfgs, vect__max_df=1.0, vect__max_features=2000;, score=0.861 total time=   0.4s\n",
      "[CV 3/5] END lr__class_weight=balanced, lr__penalty=l2, lr__solver=lbfgs, vect__max_df=1.0, vect__max_features=2000;, score=0.860 total time=   0.4s\n",
      "[CV 4/5] END lr__class_weight=balanced, lr__penalty=l2, lr__solver=lbfgs, vect__max_df=1.0, vect__max_features=2000;, score=0.846 total time=   0.4s\n",
      "[CV 5/5] END lr__class_weight=balanced, lr__penalty=l2, lr__solver=lbfgs, vect__max_df=1.0, vect__max_features=2000;, score=0.847 total time=   0.5s\n",
      "[CV 1/5] END lr__class_weight=balanced, lr__penalty=l2, lr__solver=saga, vect__max_df=0.5, vect__max_features=None;, score=0.861 total time=   0.4s\n",
      "[CV 2/5] END lr__class_weight=balanced, lr__penalty=l2, lr__solver=saga, vect__max_df=0.5, vect__max_features=None;, score=0.860 total time=   0.4s\n",
      "[CV 3/5] END lr__class_weight=balanced, lr__penalty=l2, lr__solver=saga, vect__max_df=0.5, vect__max_features=None;, score=0.866 total time=   0.4s\n",
      "[CV 4/5] END lr__class_weight=balanced, lr__penalty=l2, lr__solver=saga, vect__max_df=0.5, vect__max_features=None;, score=0.849 total time=   0.4s\n",
      "[CV 5/5] END lr__class_weight=balanced, lr__penalty=l2, lr__solver=saga, vect__max_df=0.5, vect__max_features=None;, score=0.850 total time=   0.4s\n",
      "[CV 1/5] END lr__class_weight=balanced, lr__penalty=l2, lr__solver=saga, vect__max_df=0.5, vect__max_features=500;, score=0.834 total time=   0.4s\n",
      "[CV 2/5] END lr__class_weight=balanced, lr__penalty=l2, lr__solver=saga, vect__max_df=0.5, vect__max_features=500;, score=0.841 total time=   0.4s\n",
      "[CV 3/5] END lr__class_weight=balanced, lr__penalty=l2, lr__solver=saga, vect__max_df=0.5, vect__max_features=500;, score=0.843 total time=   0.4s\n",
      "[CV 4/5] END lr__class_weight=balanced, lr__penalty=l2, lr__solver=saga, vect__max_df=0.5, vect__max_features=500;, score=0.832 total time=   0.4s\n",
      "[CV 5/5] END lr__class_weight=balanced, lr__penalty=l2, lr__solver=saga, vect__max_df=0.5, vect__max_features=500;, score=0.831 total time=   0.4s\n",
      "[CV 1/5] END lr__class_weight=balanced, lr__penalty=l2, lr__solver=saga, vect__max_df=0.5, vect__max_features=1000;, score=0.846 total time=   0.4s\n",
      "[CV 2/5] END lr__class_weight=balanced, lr__penalty=l2, lr__solver=saga, vect__max_df=0.5, vect__max_features=1000;, score=0.852 total time=   0.4s\n",
      "[CV 3/5] END lr__class_weight=balanced, lr__penalty=l2, lr__solver=saga, vect__max_df=0.5, vect__max_features=1000;, score=0.853 total time=   0.4s\n",
      "[CV 4/5] END lr__class_weight=balanced, lr__penalty=l2, lr__solver=saga, vect__max_df=0.5, vect__max_features=1000;, score=0.839 total time=   0.4s\n",
      "[CV 5/5] END lr__class_weight=balanced, lr__penalty=l2, lr__solver=saga, vect__max_df=0.5, vect__max_features=1000;, score=0.841 total time=   0.4s\n",
      "[CV 1/5] END lr__class_weight=balanced, lr__penalty=l2, lr__solver=saga, vect__max_df=0.5, vect__max_features=2000;, score=0.856 total time=   0.4s\n",
      "[CV 2/5] END lr__class_weight=balanced, lr__penalty=l2, lr__solver=saga, vect__max_df=0.5, vect__max_features=2000;, score=0.861 total time=   0.4s\n",
      "[CV 3/5] END lr__class_weight=balanced, lr__penalty=l2, lr__solver=saga, vect__max_df=0.5, vect__max_features=2000;, score=0.860 total time=   0.4s\n",
      "[CV 4/5] END lr__class_weight=balanced, lr__penalty=l2, lr__solver=saga, vect__max_df=0.5, vect__max_features=2000;, score=0.846 total time=   0.4s\n",
      "[CV 5/5] END lr__class_weight=balanced, lr__penalty=l2, lr__solver=saga, vect__max_df=0.5, vect__max_features=2000;, score=0.847 total time=   0.4s\n",
      "[CV 1/5] END lr__class_weight=balanced, lr__penalty=l2, lr__solver=saga, vect__max_df=0.75, vect__max_features=None;, score=0.861 total time=   0.4s\n",
      "[CV 2/5] END lr__class_weight=balanced, lr__penalty=l2, lr__solver=saga, vect__max_df=0.75, vect__max_features=None;, score=0.860 total time=   0.4s\n",
      "[CV 3/5] END lr__class_weight=balanced, lr__penalty=l2, lr__solver=saga, vect__max_df=0.75, vect__max_features=None;, score=0.866 total time=   0.4s\n",
      "[CV 4/5] END lr__class_weight=balanced, lr__penalty=l2, lr__solver=saga, vect__max_df=0.75, vect__max_features=None;, score=0.849 total time=   0.4s\n"
     ]
    },
    {
     "name": "stdout",
     "output_type": "stream",
     "text": [
      "[CV 5/5] END lr__class_weight=balanced, lr__penalty=l2, lr__solver=saga, vect__max_df=0.75, vect__max_features=None;, score=0.850 total time=   0.4s\n",
      "[CV 1/5] END lr__class_weight=balanced, lr__penalty=l2, lr__solver=saga, vect__max_df=0.75, vect__max_features=500;, score=0.834 total time=   0.4s\n",
      "[CV 2/5] END lr__class_weight=balanced, lr__penalty=l2, lr__solver=saga, vect__max_df=0.75, vect__max_features=500;, score=0.841 total time=   0.4s\n",
      "[CV 3/5] END lr__class_weight=balanced, lr__penalty=l2, lr__solver=saga, vect__max_df=0.75, vect__max_features=500;, score=0.843 total time=   0.4s\n",
      "[CV 4/5] END lr__class_weight=balanced, lr__penalty=l2, lr__solver=saga, vect__max_df=0.75, vect__max_features=500;, score=0.832 total time=   0.4s\n",
      "[CV 5/5] END lr__class_weight=balanced, lr__penalty=l2, lr__solver=saga, vect__max_df=0.75, vect__max_features=500;, score=0.831 total time=   0.4s\n",
      "[CV 1/5] END lr__class_weight=balanced, lr__penalty=l2, lr__solver=saga, vect__max_df=0.75, vect__max_features=1000;, score=0.846 total time=   0.4s\n",
      "[CV 2/5] END lr__class_weight=balanced, lr__penalty=l2, lr__solver=saga, vect__max_df=0.75, vect__max_features=1000;, score=0.852 total time=   0.4s\n",
      "[CV 3/5] END lr__class_weight=balanced, lr__penalty=l2, lr__solver=saga, vect__max_df=0.75, vect__max_features=1000;, score=0.853 total time=   0.4s\n",
      "[CV 4/5] END lr__class_weight=balanced, lr__penalty=l2, lr__solver=saga, vect__max_df=0.75, vect__max_features=1000;, score=0.839 total time=   0.4s\n",
      "[CV 5/5] END lr__class_weight=balanced, lr__penalty=l2, lr__solver=saga, vect__max_df=0.75, vect__max_features=1000;, score=0.841 total time=   0.4s\n",
      "[CV 1/5] END lr__class_weight=balanced, lr__penalty=l2, lr__solver=saga, vect__max_df=0.75, vect__max_features=2000;, score=0.856 total time=   0.4s\n",
      "[CV 2/5] END lr__class_weight=balanced, lr__penalty=l2, lr__solver=saga, vect__max_df=0.75, vect__max_features=2000;, score=0.861 total time=   0.4s\n",
      "[CV 3/5] END lr__class_weight=balanced, lr__penalty=l2, lr__solver=saga, vect__max_df=0.75, vect__max_features=2000;, score=0.860 total time=   0.4s\n",
      "[CV 4/5] END lr__class_weight=balanced, lr__penalty=l2, lr__solver=saga, vect__max_df=0.75, vect__max_features=2000;, score=0.846 total time=   0.4s\n",
      "[CV 5/5] END lr__class_weight=balanced, lr__penalty=l2, lr__solver=saga, vect__max_df=0.75, vect__max_features=2000;, score=0.847 total time=   0.4s\n",
      "[CV 1/5] END lr__class_weight=balanced, lr__penalty=l2, lr__solver=saga, vect__max_df=1.0, vect__max_features=None;, score=0.861 total time=   0.4s\n",
      "[CV 2/5] END lr__class_weight=balanced, lr__penalty=l2, lr__solver=saga, vect__max_df=1.0, vect__max_features=None;, score=0.860 total time=   0.4s\n",
      "[CV 3/5] END lr__class_weight=balanced, lr__penalty=l2, lr__solver=saga, vect__max_df=1.0, vect__max_features=None;, score=0.866 total time=   0.4s\n",
      "[CV 4/5] END lr__class_weight=balanced, lr__penalty=l2, lr__solver=saga, vect__max_df=1.0, vect__max_features=None;, score=0.849 total time=   0.4s\n",
      "[CV 5/5] END lr__class_weight=balanced, lr__penalty=l2, lr__solver=saga, vect__max_df=1.0, vect__max_features=None;, score=0.850 total time=   0.4s\n",
      "[CV 1/5] END lr__class_weight=balanced, lr__penalty=l2, lr__solver=saga, vect__max_df=1.0, vect__max_features=500;, score=0.834 total time=   0.4s\n",
      "[CV 2/5] END lr__class_weight=balanced, lr__penalty=l2, lr__solver=saga, vect__max_df=1.0, vect__max_features=500;, score=0.841 total time=   0.4s\n",
      "[CV 3/5] END lr__class_weight=balanced, lr__penalty=l2, lr__solver=saga, vect__max_df=1.0, vect__max_features=500;, score=0.843 total time=   0.4s\n",
      "[CV 4/5] END lr__class_weight=balanced, lr__penalty=l2, lr__solver=saga, vect__max_df=1.0, vect__max_features=500;, score=0.832 total time=   0.4s\n",
      "[CV 5/5] END lr__class_weight=balanced, lr__penalty=l2, lr__solver=saga, vect__max_df=1.0, vect__max_features=500;, score=0.831 total time=   0.4s\n",
      "[CV 1/5] END lr__class_weight=balanced, lr__penalty=l2, lr__solver=saga, vect__max_df=1.0, vect__max_features=1000;, score=0.846 total time=   0.4s\n",
      "[CV 2/5] END lr__class_weight=balanced, lr__penalty=l2, lr__solver=saga, vect__max_df=1.0, vect__max_features=1000;, score=0.852 total time=   0.4s\n",
      "[CV 3/5] END lr__class_weight=balanced, lr__penalty=l2, lr__solver=saga, vect__max_df=1.0, vect__max_features=1000;, score=0.853 total time=   0.4s\n",
      "[CV 4/5] END lr__class_weight=balanced, lr__penalty=l2, lr__solver=saga, vect__max_df=1.0, vect__max_features=1000;, score=0.839 total time=   0.4s\n",
      "[CV 5/5] END lr__class_weight=balanced, lr__penalty=l2, lr__solver=saga, vect__max_df=1.0, vect__max_features=1000;, score=0.841 total time=   0.4s\n",
      "[CV 1/5] END lr__class_weight=balanced, lr__penalty=l2, lr__solver=saga, vect__max_df=1.0, vect__max_features=2000;, score=0.856 total time=   0.4s\n",
      "[CV 2/5] END lr__class_weight=balanced, lr__penalty=l2, lr__solver=saga, vect__max_df=1.0, vect__max_features=2000;, score=0.861 total time=   0.4s\n",
      "[CV 3/5] END lr__class_weight=balanced, lr__penalty=l2, lr__solver=saga, vect__max_df=1.0, vect__max_features=2000;, score=0.860 total time=   0.4s\n",
      "[CV 4/5] END lr__class_weight=balanced, lr__penalty=l2, lr__solver=saga, vect__max_df=1.0, vect__max_features=2000;, score=0.846 total time=   0.4s\n",
      "[CV 5/5] END lr__class_weight=balanced, lr__penalty=l2, lr__solver=saga, vect__max_df=1.0, vect__max_features=2000;, score=0.847 total time=   0.4s\n",
      "[CV 1/5] END lr__class_weight=balanced, lr__penalty=l2, lr__solver=liblinear, vect__max_df=0.5, vect__max_features=None;, score=0.860 total time=   0.4s\n",
      "[CV 2/5] END lr__class_weight=balanced, lr__penalty=l2, lr__solver=liblinear, vect__max_df=0.5, vect__max_features=None;, score=0.860 total time=   0.5s\n",
      "[CV 3/5] END lr__class_weight=balanced, lr__penalty=l2, lr__solver=liblinear, vect__max_df=0.5, vect__max_features=None;, score=0.866 total time=   0.4s\n",
      "[CV 4/5] END lr__class_weight=balanced, lr__penalty=l2, lr__solver=liblinear, vect__max_df=0.5, vect__max_features=None;, score=0.849 total time=   0.4s\n",
      "[CV 5/5] END lr__class_weight=balanced, lr__penalty=l2, lr__solver=liblinear, vect__max_df=0.5, vect__max_features=None;, score=0.850 total time=   0.4s\n",
      "[CV 1/5] END lr__class_weight=balanced, lr__penalty=l2, lr__solver=liblinear, vect__max_df=0.5, vect__max_features=500;, score=0.834 total time=   0.4s\n",
      "[CV 2/5] END lr__class_weight=balanced, lr__penalty=l2, lr__solver=liblinear, vect__max_df=0.5, vect__max_features=500;, score=0.841 total time=   0.4s\n",
      "[CV 3/5] END lr__class_weight=balanced, lr__penalty=l2, lr__solver=liblinear, vect__max_df=0.5, vect__max_features=500;, score=0.843 total time=   0.4s\n",
      "[CV 4/5] END lr__class_weight=balanced, lr__penalty=l2, lr__solver=liblinear, vect__max_df=0.5, vect__max_features=500;, score=0.832 total time=   0.3s\n",
      "[CV 5/5] END lr__class_weight=balanced, lr__penalty=l2, lr__solver=liblinear, vect__max_df=0.5, vect__max_features=500;, score=0.831 total time=   0.4s\n",
      "[CV 1/5] END lr__class_weight=balanced, lr__penalty=l2, lr__solver=liblinear, vect__max_df=0.5, vect__max_features=1000;, score=0.846 total time=   0.4s\n",
      "[CV 2/5] END lr__class_weight=balanced, lr__penalty=l2, lr__solver=liblinear, vect__max_df=0.5, vect__max_features=1000;, score=0.852 total time=   0.4s\n",
      "[CV 3/5] END lr__class_weight=balanced, lr__penalty=l2, lr__solver=liblinear, vect__max_df=0.5, vect__max_features=1000;, score=0.853 total time=   0.4s\n",
      "[CV 4/5] END lr__class_weight=balanced, lr__penalty=l2, lr__solver=liblinear, vect__max_df=0.5, vect__max_features=1000;, score=0.839 total time=   0.4s\n",
      "[CV 5/5] END lr__class_weight=balanced, lr__penalty=l2, lr__solver=liblinear, vect__max_df=0.5, vect__max_features=1000;, score=0.841 total time=   0.4s\n",
      "[CV 1/5] END lr__class_weight=balanced, lr__penalty=l2, lr__solver=liblinear, vect__max_df=0.5, vect__max_features=2000;, score=0.856 total time=   0.4s\n",
      "[CV 2/5] END lr__class_weight=balanced, lr__penalty=l2, lr__solver=liblinear, vect__max_df=0.5, vect__max_features=2000;, score=0.861 total time=   0.4s\n",
      "[CV 3/5] END lr__class_weight=balanced, lr__penalty=l2, lr__solver=liblinear, vect__max_df=0.5, vect__max_features=2000;, score=0.860 total time=   0.4s\n",
      "[CV 4/5] END lr__class_weight=balanced, lr__penalty=l2, lr__solver=liblinear, vect__max_df=0.5, vect__max_features=2000;, score=0.846 total time=   0.4s\n"
     ]
    },
    {
     "name": "stdout",
     "output_type": "stream",
     "text": [
      "[CV 5/5] END lr__class_weight=balanced, lr__penalty=l2, lr__solver=liblinear, vect__max_df=0.5, vect__max_features=2000;, score=0.847 total time=   0.4s\n",
      "[CV 1/5] END lr__class_weight=balanced, lr__penalty=l2, lr__solver=liblinear, vect__max_df=0.75, vect__max_features=None;, score=0.860 total time=   0.4s\n",
      "[CV 2/5] END lr__class_weight=balanced, lr__penalty=l2, lr__solver=liblinear, vect__max_df=0.75, vect__max_features=None;, score=0.860 total time=   0.5s\n",
      "[CV 3/5] END lr__class_weight=balanced, lr__penalty=l2, lr__solver=liblinear, vect__max_df=0.75, vect__max_features=None;, score=0.866 total time=   0.4s\n",
      "[CV 4/5] END lr__class_weight=balanced, lr__penalty=l2, lr__solver=liblinear, vect__max_df=0.75, vect__max_features=None;, score=0.849 total time=   0.4s\n",
      "[CV 5/5] END lr__class_weight=balanced, lr__penalty=l2, lr__solver=liblinear, vect__max_df=0.75, vect__max_features=None;, score=0.850 total time=   0.4s\n",
      "[CV 1/5] END lr__class_weight=balanced, lr__penalty=l2, lr__solver=liblinear, vect__max_df=0.75, vect__max_features=500;, score=0.834 total time=   0.4s\n",
      "[CV 2/5] END lr__class_weight=balanced, lr__penalty=l2, lr__solver=liblinear, vect__max_df=0.75, vect__max_features=500;, score=0.841 total time=   0.4s\n",
      "[CV 3/5] END lr__class_weight=balanced, lr__penalty=l2, lr__solver=liblinear, vect__max_df=0.75, vect__max_features=500;, score=0.843 total time=   0.4s\n",
      "[CV 4/5] END lr__class_weight=balanced, lr__penalty=l2, lr__solver=liblinear, vect__max_df=0.75, vect__max_features=500;, score=0.832 total time=   0.4s\n",
      "[CV 5/5] END lr__class_weight=balanced, lr__penalty=l2, lr__solver=liblinear, vect__max_df=0.75, vect__max_features=500;, score=0.831 total time=   0.4s\n",
      "[CV 1/5] END lr__class_weight=balanced, lr__penalty=l2, lr__solver=liblinear, vect__max_df=0.75, vect__max_features=1000;, score=0.846 total time=   0.4s\n",
      "[CV 2/5] END lr__class_weight=balanced, lr__penalty=l2, lr__solver=liblinear, vect__max_df=0.75, vect__max_features=1000;, score=0.852 total time=   0.4s\n",
      "[CV 3/5] END lr__class_weight=balanced, lr__penalty=l2, lr__solver=liblinear, vect__max_df=0.75, vect__max_features=1000;, score=0.853 total time=   0.4s\n",
      "[CV 4/5] END lr__class_weight=balanced, lr__penalty=l2, lr__solver=liblinear, vect__max_df=0.75, vect__max_features=1000;, score=0.839 total time=   0.4s\n",
      "[CV 5/5] END lr__class_weight=balanced, lr__penalty=l2, lr__solver=liblinear, vect__max_df=0.75, vect__max_features=1000;, score=0.841 total time=   0.4s\n",
      "[CV 1/5] END lr__class_weight=balanced, lr__penalty=l2, lr__solver=liblinear, vect__max_df=0.75, vect__max_features=2000;, score=0.856 total time=   0.4s\n",
      "[CV 2/5] END lr__class_weight=balanced, lr__penalty=l2, lr__solver=liblinear, vect__max_df=0.75, vect__max_features=2000;, score=0.861 total time=   0.4s\n",
      "[CV 3/5] END lr__class_weight=balanced, lr__penalty=l2, lr__solver=liblinear, vect__max_df=0.75, vect__max_features=2000;, score=0.860 total time=   0.4s\n",
      "[CV 4/5] END lr__class_weight=balanced, lr__penalty=l2, lr__solver=liblinear, vect__max_df=0.75, vect__max_features=2000;, score=0.846 total time=   0.4s\n",
      "[CV 5/5] END lr__class_weight=balanced, lr__penalty=l2, lr__solver=liblinear, vect__max_df=0.75, vect__max_features=2000;, score=0.847 total time=   0.4s\n",
      "[CV 1/5] END lr__class_weight=balanced, lr__penalty=l2, lr__solver=liblinear, vect__max_df=1.0, vect__max_features=None;, score=0.860 total time=   0.4s\n",
      "[CV 2/5] END lr__class_weight=balanced, lr__penalty=l2, lr__solver=liblinear, vect__max_df=1.0, vect__max_features=None;, score=0.860 total time=   0.5s\n",
      "[CV 3/5] END lr__class_weight=balanced, lr__penalty=l2, lr__solver=liblinear, vect__max_df=1.0, vect__max_features=None;, score=0.866 total time=   0.4s\n",
      "[CV 4/5] END lr__class_weight=balanced, lr__penalty=l2, lr__solver=liblinear, vect__max_df=1.0, vect__max_features=None;, score=0.849 total time=   0.4s\n",
      "[CV 5/5] END lr__class_weight=balanced, lr__penalty=l2, lr__solver=liblinear, vect__max_df=1.0, vect__max_features=None;, score=0.850 total time=   0.4s\n",
      "[CV 1/5] END lr__class_weight=balanced, lr__penalty=l2, lr__solver=liblinear, vect__max_df=1.0, vect__max_features=500;, score=0.834 total time=   0.4s\n",
      "[CV 2/5] END lr__class_weight=balanced, lr__penalty=l2, lr__solver=liblinear, vect__max_df=1.0, vect__max_features=500;, score=0.841 total time=   0.4s\n",
      "[CV 3/5] END lr__class_weight=balanced, lr__penalty=l2, lr__solver=liblinear, vect__max_df=1.0, vect__max_features=500;, score=0.843 total time=   0.4s\n",
      "[CV 4/5] END lr__class_weight=balanced, lr__penalty=l2, lr__solver=liblinear, vect__max_df=1.0, vect__max_features=500;, score=0.832 total time=   0.3s\n",
      "[CV 5/5] END lr__class_weight=balanced, lr__penalty=l2, lr__solver=liblinear, vect__max_df=1.0, vect__max_features=500;, score=0.831 total time=   0.4s\n",
      "[CV 1/5] END lr__class_weight=balanced, lr__penalty=l2, lr__solver=liblinear, vect__max_df=1.0, vect__max_features=1000;, score=0.846 total time=   0.4s\n",
      "[CV 2/5] END lr__class_weight=balanced, lr__penalty=l2, lr__solver=liblinear, vect__max_df=1.0, vect__max_features=1000;, score=0.852 total time=   0.4s\n",
      "[CV 3/5] END lr__class_weight=balanced, lr__penalty=l2, lr__solver=liblinear, vect__max_df=1.0, vect__max_features=1000;, score=0.853 total time=   0.4s\n",
      "[CV 4/5] END lr__class_weight=balanced, lr__penalty=l2, lr__solver=liblinear, vect__max_df=1.0, vect__max_features=1000;, score=0.839 total time=   0.4s\n",
      "[CV 5/5] END lr__class_weight=balanced, lr__penalty=l2, lr__solver=liblinear, vect__max_df=1.0, vect__max_features=1000;, score=0.841 total time=   0.4s\n",
      "[CV 1/5] END lr__class_weight=balanced, lr__penalty=l2, lr__solver=liblinear, vect__max_df=1.0, vect__max_features=2000;, score=0.856 total time=   0.4s\n",
      "[CV 2/5] END lr__class_weight=balanced, lr__penalty=l2, lr__solver=liblinear, vect__max_df=1.0, vect__max_features=2000;, score=0.861 total time=   0.4s\n",
      "[CV 3/5] END lr__class_weight=balanced, lr__penalty=l2, lr__solver=liblinear, vect__max_df=1.0, vect__max_features=2000;, score=0.860 total time=   0.4s\n",
      "[CV 4/5] END lr__class_weight=balanced, lr__penalty=l2, lr__solver=liblinear, vect__max_df=1.0, vect__max_features=2000;, score=0.846 total time=   0.4s\n",
      "[CV 5/5] END lr__class_weight=balanced, lr__penalty=l2, lr__solver=liblinear, vect__max_df=1.0, vect__max_features=2000;, score=0.847 total time=   0.4s\n",
      "[CV 1/5] END lr__class_weight=balanced, lr__penalty=elasticnet, lr__solver=lbfgs, vect__max_df=0.5, vect__max_features=None;, score=nan total time=   0.3s\n",
      "[CV 2/5] END lr__class_weight=balanced, lr__penalty=elasticnet, lr__solver=lbfgs, vect__max_df=0.5, vect__max_features=None;, score=nan total time=   0.3s\n",
      "[CV 3/5] END lr__class_weight=balanced, lr__penalty=elasticnet, lr__solver=lbfgs, vect__max_df=0.5, vect__max_features=None;, score=nan total time=   0.3s\n",
      "[CV 4/5] END lr__class_weight=balanced, lr__penalty=elasticnet, lr__solver=lbfgs, vect__max_df=0.5, vect__max_features=None;, score=nan total time=   0.3s\n",
      "[CV 5/5] END lr__class_weight=balanced, lr__penalty=elasticnet, lr__solver=lbfgs, vect__max_df=0.5, vect__max_features=None;, score=nan total time=   0.3s\n",
      "[CV 1/5] END lr__class_weight=balanced, lr__penalty=elasticnet, lr__solver=lbfgs, vect__max_df=0.5, vect__max_features=500;, score=nan total time=   0.3s\n",
      "[CV 2/5] END lr__class_weight=balanced, lr__penalty=elasticnet, lr__solver=lbfgs, vect__max_df=0.5, vect__max_features=500;, score=nan total time=   0.3s\n",
      "[CV 3/5] END lr__class_weight=balanced, lr__penalty=elasticnet, lr__solver=lbfgs, vect__max_df=0.5, vect__max_features=500;, score=nan total time=   0.3s\n",
      "[CV 4/5] END lr__class_weight=balanced, lr__penalty=elasticnet, lr__solver=lbfgs, vect__max_df=0.5, vect__max_features=500;, score=nan total time=   0.3s\n",
      "[CV 5/5] END lr__class_weight=balanced, lr__penalty=elasticnet, lr__solver=lbfgs, vect__max_df=0.5, vect__max_features=500;, score=nan total time=   0.3s\n",
      "[CV 1/5] END lr__class_weight=balanced, lr__penalty=elasticnet, lr__solver=lbfgs, vect__max_df=0.5, vect__max_features=1000;, score=nan total time=   0.3s\n",
      "[CV 2/5] END lr__class_weight=balanced, lr__penalty=elasticnet, lr__solver=lbfgs, vect__max_df=0.5, vect__max_features=1000;, score=nan total time=   0.3s\n",
      "[CV 3/5] END lr__class_weight=balanced, lr__penalty=elasticnet, lr__solver=lbfgs, vect__max_df=0.5, vect__max_features=1000;, score=nan total time=   0.3s\n"
     ]
    },
    {
     "name": "stdout",
     "output_type": "stream",
     "text": [
      "[CV 4/5] END lr__class_weight=balanced, lr__penalty=elasticnet, lr__solver=lbfgs, vect__max_df=0.5, vect__max_features=1000;, score=nan total time=   0.3s\n",
      "[CV 5/5] END lr__class_weight=balanced, lr__penalty=elasticnet, lr__solver=lbfgs, vect__max_df=0.5, vect__max_features=1000;, score=nan total time=   0.3s\n",
      "[CV 1/5] END lr__class_weight=balanced, lr__penalty=elasticnet, lr__solver=lbfgs, vect__max_df=0.5, vect__max_features=2000;, score=nan total time=   0.3s\n",
      "[CV 2/5] END lr__class_weight=balanced, lr__penalty=elasticnet, lr__solver=lbfgs, vect__max_df=0.5, vect__max_features=2000;, score=nan total time=   0.3s\n",
      "[CV 3/5] END lr__class_weight=balanced, lr__penalty=elasticnet, lr__solver=lbfgs, vect__max_df=0.5, vect__max_features=2000;, score=nan total time=   0.3s\n",
      "[CV 4/5] END lr__class_weight=balanced, lr__penalty=elasticnet, lr__solver=lbfgs, vect__max_df=0.5, vect__max_features=2000;, score=nan total time=   0.3s\n",
      "[CV 5/5] END lr__class_weight=balanced, lr__penalty=elasticnet, lr__solver=lbfgs, vect__max_df=0.5, vect__max_features=2000;, score=nan total time=   0.3s\n",
      "[CV 1/5] END lr__class_weight=balanced, lr__penalty=elasticnet, lr__solver=lbfgs, vect__max_df=0.75, vect__max_features=None;, score=nan total time=   0.3s\n",
      "[CV 2/5] END lr__class_weight=balanced, lr__penalty=elasticnet, lr__solver=lbfgs, vect__max_df=0.75, vect__max_features=None;, score=nan total time=   0.3s\n",
      "[CV 3/5] END lr__class_weight=balanced, lr__penalty=elasticnet, lr__solver=lbfgs, vect__max_df=0.75, vect__max_features=None;, score=nan total time=   0.3s\n",
      "[CV 4/5] END lr__class_weight=balanced, lr__penalty=elasticnet, lr__solver=lbfgs, vect__max_df=0.75, vect__max_features=None;, score=nan total time=   0.3s\n",
      "[CV 5/5] END lr__class_weight=balanced, lr__penalty=elasticnet, lr__solver=lbfgs, vect__max_df=0.75, vect__max_features=None;, score=nan total time=   0.3s\n",
      "[CV 1/5] END lr__class_weight=balanced, lr__penalty=elasticnet, lr__solver=lbfgs, vect__max_df=0.75, vect__max_features=500;, score=nan total time=   0.3s\n",
      "[CV 2/5] END lr__class_weight=balanced, lr__penalty=elasticnet, lr__solver=lbfgs, vect__max_df=0.75, vect__max_features=500;, score=nan total time=   0.3s\n",
      "[CV 3/5] END lr__class_weight=balanced, lr__penalty=elasticnet, lr__solver=lbfgs, vect__max_df=0.75, vect__max_features=500;, score=nan total time=   0.3s\n",
      "[CV 4/5] END lr__class_weight=balanced, lr__penalty=elasticnet, lr__solver=lbfgs, vect__max_df=0.75, vect__max_features=500;, score=nan total time=   0.3s\n",
      "[CV 5/5] END lr__class_weight=balanced, lr__penalty=elasticnet, lr__solver=lbfgs, vect__max_df=0.75, vect__max_features=500;, score=nan total time=   0.3s\n",
      "[CV 1/5] END lr__class_weight=balanced, lr__penalty=elasticnet, lr__solver=lbfgs, vect__max_df=0.75, vect__max_features=1000;, score=nan total time=   0.3s\n",
      "[CV 2/5] END lr__class_weight=balanced, lr__penalty=elasticnet, lr__solver=lbfgs, vect__max_df=0.75, vect__max_features=1000;, score=nan total time=   0.3s\n",
      "[CV 3/5] END lr__class_weight=balanced, lr__penalty=elasticnet, lr__solver=lbfgs, vect__max_df=0.75, vect__max_features=1000;, score=nan total time=   0.3s\n",
      "[CV 4/5] END lr__class_weight=balanced, lr__penalty=elasticnet, lr__solver=lbfgs, vect__max_df=0.75, vect__max_features=1000;, score=nan total time=   0.3s\n",
      "[CV 5/5] END lr__class_weight=balanced, lr__penalty=elasticnet, lr__solver=lbfgs, vect__max_df=0.75, vect__max_features=1000;, score=nan total time=   0.3s\n",
      "[CV 1/5] END lr__class_weight=balanced, lr__penalty=elasticnet, lr__solver=lbfgs, vect__max_df=0.75, vect__max_features=2000;, score=nan total time=   0.3s\n",
      "[CV 2/5] END lr__class_weight=balanced, lr__penalty=elasticnet, lr__solver=lbfgs, vect__max_df=0.75, vect__max_features=2000;, score=nan total time=   0.3s\n",
      "[CV 3/5] END lr__class_weight=balanced, lr__penalty=elasticnet, lr__solver=lbfgs, vect__max_df=0.75, vect__max_features=2000;, score=nan total time=   0.3s\n",
      "[CV 4/5] END lr__class_weight=balanced, lr__penalty=elasticnet, lr__solver=lbfgs, vect__max_df=0.75, vect__max_features=2000;, score=nan total time=   0.3s\n",
      "[CV 5/5] END lr__class_weight=balanced, lr__penalty=elasticnet, lr__solver=lbfgs, vect__max_df=0.75, vect__max_features=2000;, score=nan total time=   0.3s\n",
      "[CV 1/5] END lr__class_weight=balanced, lr__penalty=elasticnet, lr__solver=lbfgs, vect__max_df=1.0, vect__max_features=None;, score=nan total time=   0.3s\n",
      "[CV 2/5] END lr__class_weight=balanced, lr__penalty=elasticnet, lr__solver=lbfgs, vect__max_df=1.0, vect__max_features=None;, score=nan total time=   0.3s\n",
      "[CV 3/5] END lr__class_weight=balanced, lr__penalty=elasticnet, lr__solver=lbfgs, vect__max_df=1.0, vect__max_features=None;, score=nan total time=   0.3s\n",
      "[CV 4/5] END lr__class_weight=balanced, lr__penalty=elasticnet, lr__solver=lbfgs, vect__max_df=1.0, vect__max_features=None;, score=nan total time=   0.3s\n",
      "[CV 5/5] END lr__class_weight=balanced, lr__penalty=elasticnet, lr__solver=lbfgs, vect__max_df=1.0, vect__max_features=None;, score=nan total time=   0.3s\n",
      "[CV 1/5] END lr__class_weight=balanced, lr__penalty=elasticnet, lr__solver=lbfgs, vect__max_df=1.0, vect__max_features=500;, score=nan total time=   0.3s\n",
      "[CV 2/5] END lr__class_weight=balanced, lr__penalty=elasticnet, lr__solver=lbfgs, vect__max_df=1.0, vect__max_features=500;, score=nan total time=   0.3s\n",
      "[CV 3/5] END lr__class_weight=balanced, lr__penalty=elasticnet, lr__solver=lbfgs, vect__max_df=1.0, vect__max_features=500;, score=nan total time=   0.3s\n",
      "[CV 4/5] END lr__class_weight=balanced, lr__penalty=elasticnet, lr__solver=lbfgs, vect__max_df=1.0, vect__max_features=500;, score=nan total time=   0.3s\n",
      "[CV 5/5] END lr__class_weight=balanced, lr__penalty=elasticnet, lr__solver=lbfgs, vect__max_df=1.0, vect__max_features=500;, score=nan total time=   0.3s\n",
      "[CV 1/5] END lr__class_weight=balanced, lr__penalty=elasticnet, lr__solver=lbfgs, vect__max_df=1.0, vect__max_features=1000;, score=nan total time=   0.3s\n",
      "[CV 2/5] END lr__class_weight=balanced, lr__penalty=elasticnet, lr__solver=lbfgs, vect__max_df=1.0, vect__max_features=1000;, score=nan total time=   0.3s\n",
      "[CV 3/5] END lr__class_weight=balanced, lr__penalty=elasticnet, lr__solver=lbfgs, vect__max_df=1.0, vect__max_features=1000;, score=nan total time=   0.3s\n",
      "[CV 4/5] END lr__class_weight=balanced, lr__penalty=elasticnet, lr__solver=lbfgs, vect__max_df=1.0, vect__max_features=1000;, score=nan total time=   0.3s\n",
      "[CV 5/5] END lr__class_weight=balanced, lr__penalty=elasticnet, lr__solver=lbfgs, vect__max_df=1.0, vect__max_features=1000;, score=nan total time=   0.3s\n",
      "[CV 1/5] END lr__class_weight=balanced, lr__penalty=elasticnet, lr__solver=lbfgs, vect__max_df=1.0, vect__max_features=2000;, score=nan total time=   0.3s\n",
      "[CV 2/5] END lr__class_weight=balanced, lr__penalty=elasticnet, lr__solver=lbfgs, vect__max_df=1.0, vect__max_features=2000;, score=nan total time=   0.3s\n",
      "[CV 3/5] END lr__class_weight=balanced, lr__penalty=elasticnet, lr__solver=lbfgs, vect__max_df=1.0, vect__max_features=2000;, score=nan total time=   0.3s\n",
      "[CV 4/5] END lr__class_weight=balanced, lr__penalty=elasticnet, lr__solver=lbfgs, vect__max_df=1.0, vect__max_features=2000;, score=nan total time=   0.3s\n",
      "[CV 5/5] END lr__class_weight=balanced, lr__penalty=elasticnet, lr__solver=lbfgs, vect__max_df=1.0, vect__max_features=2000;, score=nan total time=   0.3s\n",
      "[CV 1/5] END lr__class_weight=balanced, lr__penalty=elasticnet, lr__solver=saga, vect__max_df=0.5, vect__max_features=None;, score=nan total time=   0.3s\n",
      "[CV 2/5] END lr__class_weight=balanced, lr__penalty=elasticnet, lr__solver=saga, vect__max_df=0.5, vect__max_features=None;, score=nan total time=   0.3s\n",
      "[CV 3/5] END lr__class_weight=balanced, lr__penalty=elasticnet, lr__solver=saga, vect__max_df=0.5, vect__max_features=None;, score=nan total time=   0.3s\n",
      "[CV 4/5] END lr__class_weight=balanced, lr__penalty=elasticnet, lr__solver=saga, vect__max_df=0.5, vect__max_features=None;, score=nan total time=   0.3s\n",
      "[CV 5/5] END lr__class_weight=balanced, lr__penalty=elasticnet, lr__solver=saga, vect__max_df=0.5, vect__max_features=None;, score=nan total time=   0.3s\n",
      "[CV 1/5] END lr__class_weight=balanced, lr__penalty=elasticnet, lr__solver=saga, vect__max_df=0.5, vect__max_features=500;, score=nan total time=   0.3s\n"
     ]
    },
    {
     "name": "stdout",
     "output_type": "stream",
     "text": [
      "[CV 2/5] END lr__class_weight=balanced, lr__penalty=elasticnet, lr__solver=saga, vect__max_df=0.5, vect__max_features=500;, score=nan total time=   0.3s\n",
      "[CV 3/5] END lr__class_weight=balanced, lr__penalty=elasticnet, lr__solver=saga, vect__max_df=0.5, vect__max_features=500;, score=nan total time=   0.3s\n",
      "[CV 4/5] END lr__class_weight=balanced, lr__penalty=elasticnet, lr__solver=saga, vect__max_df=0.5, vect__max_features=500;, score=nan total time=   0.3s\n",
      "[CV 5/5] END lr__class_weight=balanced, lr__penalty=elasticnet, lr__solver=saga, vect__max_df=0.5, vect__max_features=500;, score=nan total time=   0.3s\n",
      "[CV 1/5] END lr__class_weight=balanced, lr__penalty=elasticnet, lr__solver=saga, vect__max_df=0.5, vect__max_features=1000;, score=nan total time=   0.3s\n",
      "[CV 2/5] END lr__class_weight=balanced, lr__penalty=elasticnet, lr__solver=saga, vect__max_df=0.5, vect__max_features=1000;, score=nan total time=   0.3s\n",
      "[CV 3/5] END lr__class_weight=balanced, lr__penalty=elasticnet, lr__solver=saga, vect__max_df=0.5, vect__max_features=1000;, score=nan total time=   0.3s\n",
      "[CV 4/5] END lr__class_weight=balanced, lr__penalty=elasticnet, lr__solver=saga, vect__max_df=0.5, vect__max_features=1000;, score=nan total time=   0.3s\n",
      "[CV 5/5] END lr__class_weight=balanced, lr__penalty=elasticnet, lr__solver=saga, vect__max_df=0.5, vect__max_features=1000;, score=nan total time=   0.3s\n",
      "[CV 1/5] END lr__class_weight=balanced, lr__penalty=elasticnet, lr__solver=saga, vect__max_df=0.5, vect__max_features=2000;, score=nan total time=   0.3s\n",
      "[CV 2/5] END lr__class_weight=balanced, lr__penalty=elasticnet, lr__solver=saga, vect__max_df=0.5, vect__max_features=2000;, score=nan total time=   0.3s\n",
      "[CV 3/5] END lr__class_weight=balanced, lr__penalty=elasticnet, lr__solver=saga, vect__max_df=0.5, vect__max_features=2000;, score=nan total time=   0.3s\n",
      "[CV 4/5] END lr__class_weight=balanced, lr__penalty=elasticnet, lr__solver=saga, vect__max_df=0.5, vect__max_features=2000;, score=nan total time=   0.3s\n",
      "[CV 5/5] END lr__class_weight=balanced, lr__penalty=elasticnet, lr__solver=saga, vect__max_df=0.5, vect__max_features=2000;, score=nan total time=   0.3s\n",
      "[CV 1/5] END lr__class_weight=balanced, lr__penalty=elasticnet, lr__solver=saga, vect__max_df=0.75, vect__max_features=None;, score=nan total time=   0.3s\n",
      "[CV 2/5] END lr__class_weight=balanced, lr__penalty=elasticnet, lr__solver=saga, vect__max_df=0.75, vect__max_features=None;, score=nan total time=   0.3s\n",
      "[CV 3/5] END lr__class_weight=balanced, lr__penalty=elasticnet, lr__solver=saga, vect__max_df=0.75, vect__max_features=None;, score=nan total time=   0.3s\n",
      "[CV 4/5] END lr__class_weight=balanced, lr__penalty=elasticnet, lr__solver=saga, vect__max_df=0.75, vect__max_features=None;, score=nan total time=   0.3s\n",
      "[CV 5/5] END lr__class_weight=balanced, lr__penalty=elasticnet, lr__solver=saga, vect__max_df=0.75, vect__max_features=None;, score=nan total time=   0.3s\n",
      "[CV 1/5] END lr__class_weight=balanced, lr__penalty=elasticnet, lr__solver=saga, vect__max_df=0.75, vect__max_features=500;, score=nan total time=   0.3s\n",
      "[CV 2/5] END lr__class_weight=balanced, lr__penalty=elasticnet, lr__solver=saga, vect__max_df=0.75, vect__max_features=500;, score=nan total time=   0.3s\n",
      "[CV 3/5] END lr__class_weight=balanced, lr__penalty=elasticnet, lr__solver=saga, vect__max_df=0.75, vect__max_features=500;, score=nan total time=   0.3s\n",
      "[CV 4/5] END lr__class_weight=balanced, lr__penalty=elasticnet, lr__solver=saga, vect__max_df=0.75, vect__max_features=500;, score=nan total time=   0.3s\n",
      "[CV 5/5] END lr__class_weight=balanced, lr__penalty=elasticnet, lr__solver=saga, vect__max_df=0.75, vect__max_features=500;, score=nan total time=   0.3s\n",
      "[CV 1/5] END lr__class_weight=balanced, lr__penalty=elasticnet, lr__solver=saga, vect__max_df=0.75, vect__max_features=1000;, score=nan total time=   0.3s\n",
      "[CV 2/5] END lr__class_weight=balanced, lr__penalty=elasticnet, lr__solver=saga, vect__max_df=0.75, vect__max_features=1000;, score=nan total time=   0.3s\n",
      "[CV 3/5] END lr__class_weight=balanced, lr__penalty=elasticnet, lr__solver=saga, vect__max_df=0.75, vect__max_features=1000;, score=nan total time=   0.3s\n",
      "[CV 4/5] END lr__class_weight=balanced, lr__penalty=elasticnet, lr__solver=saga, vect__max_df=0.75, vect__max_features=1000;, score=nan total time=   0.3s\n",
      "[CV 5/5] END lr__class_weight=balanced, lr__penalty=elasticnet, lr__solver=saga, vect__max_df=0.75, vect__max_features=1000;, score=nan total time=   0.3s\n",
      "[CV 1/5] END lr__class_weight=balanced, lr__penalty=elasticnet, lr__solver=saga, vect__max_df=0.75, vect__max_features=2000;, score=nan total time=   0.3s\n",
      "[CV 2/5] END lr__class_weight=balanced, lr__penalty=elasticnet, lr__solver=saga, vect__max_df=0.75, vect__max_features=2000;, score=nan total time=   0.3s\n",
      "[CV 3/5] END lr__class_weight=balanced, lr__penalty=elasticnet, lr__solver=saga, vect__max_df=0.75, vect__max_features=2000;, score=nan total time=   0.3s\n",
      "[CV 4/5] END lr__class_weight=balanced, lr__penalty=elasticnet, lr__solver=saga, vect__max_df=0.75, vect__max_features=2000;, score=nan total time=   0.3s\n",
      "[CV 5/5] END lr__class_weight=balanced, lr__penalty=elasticnet, lr__solver=saga, vect__max_df=0.75, vect__max_features=2000;, score=nan total time=   0.3s\n",
      "[CV 1/5] END lr__class_weight=balanced, lr__penalty=elasticnet, lr__solver=saga, vect__max_df=1.0, vect__max_features=None;, score=nan total time=   0.3s\n",
      "[CV 2/5] END lr__class_weight=balanced, lr__penalty=elasticnet, lr__solver=saga, vect__max_df=1.0, vect__max_features=None;, score=nan total time=   0.3s\n",
      "[CV 3/5] END lr__class_weight=balanced, lr__penalty=elasticnet, lr__solver=saga, vect__max_df=1.0, vect__max_features=None;, score=nan total time=   0.3s\n",
      "[CV 4/5] END lr__class_weight=balanced, lr__penalty=elasticnet, lr__solver=saga, vect__max_df=1.0, vect__max_features=None;, score=nan total time=   0.3s\n",
      "[CV 5/5] END lr__class_weight=balanced, lr__penalty=elasticnet, lr__solver=saga, vect__max_df=1.0, vect__max_features=None;, score=nan total time=   0.3s\n",
      "[CV 1/5] END lr__class_weight=balanced, lr__penalty=elasticnet, lr__solver=saga, vect__max_df=1.0, vect__max_features=500;, score=nan total time=   0.3s\n",
      "[CV 2/5] END lr__class_weight=balanced, lr__penalty=elasticnet, lr__solver=saga, vect__max_df=1.0, vect__max_features=500;, score=nan total time=   0.3s\n",
      "[CV 3/5] END lr__class_weight=balanced, lr__penalty=elasticnet, lr__solver=saga, vect__max_df=1.0, vect__max_features=500;, score=nan total time=   0.3s\n",
      "[CV 4/5] END lr__class_weight=balanced, lr__penalty=elasticnet, lr__solver=saga, vect__max_df=1.0, vect__max_features=500;, score=nan total time=   0.3s\n",
      "[CV 5/5] END lr__class_weight=balanced, lr__penalty=elasticnet, lr__solver=saga, vect__max_df=1.0, vect__max_features=500;, score=nan total time=   0.3s\n",
      "[CV 1/5] END lr__class_weight=balanced, lr__penalty=elasticnet, lr__solver=saga, vect__max_df=1.0, vect__max_features=1000;, score=nan total time=   0.3s\n",
      "[CV 2/5] END lr__class_weight=balanced, lr__penalty=elasticnet, lr__solver=saga, vect__max_df=1.0, vect__max_features=1000;, score=nan total time=   0.3s\n",
      "[CV 3/5] END lr__class_weight=balanced, lr__penalty=elasticnet, lr__solver=saga, vect__max_df=1.0, vect__max_features=1000;, score=nan total time=   0.3s\n",
      "[CV 4/5] END lr__class_weight=balanced, lr__penalty=elasticnet, lr__solver=saga, vect__max_df=1.0, vect__max_features=1000;, score=nan total time=   0.3s\n",
      "[CV 5/5] END lr__class_weight=balanced, lr__penalty=elasticnet, lr__solver=saga, vect__max_df=1.0, vect__max_features=1000;, score=nan total time=   0.3s\n",
      "[CV 1/5] END lr__class_weight=balanced, lr__penalty=elasticnet, lr__solver=saga, vect__max_df=1.0, vect__max_features=2000;, score=nan total time=   0.3s\n",
      "[CV 2/5] END lr__class_weight=balanced, lr__penalty=elasticnet, lr__solver=saga, vect__max_df=1.0, vect__max_features=2000;, score=nan total time=   0.3s\n",
      "[CV 3/5] END lr__class_weight=balanced, lr__penalty=elasticnet, lr__solver=saga, vect__max_df=1.0, vect__max_features=2000;, score=nan total time=   0.3s\n",
      "[CV 4/5] END lr__class_weight=balanced, lr__penalty=elasticnet, lr__solver=saga, vect__max_df=1.0, vect__max_features=2000;, score=nan total time=   0.3s\n",
      "[CV 5/5] END lr__class_weight=balanced, lr__penalty=elasticnet, lr__solver=saga, vect__max_df=1.0, vect__max_features=2000;, score=nan total time=   0.3s\n"
     ]
    },
    {
     "name": "stdout",
     "output_type": "stream",
     "text": [
      "[CV 1/5] END lr__class_weight=balanced, lr__penalty=elasticnet, lr__solver=liblinear, vect__max_df=0.5, vect__max_features=None;, score=nan total time=   0.3s\n",
      "[CV 2/5] END lr__class_weight=balanced, lr__penalty=elasticnet, lr__solver=liblinear, vect__max_df=0.5, vect__max_features=None;, score=nan total time=   0.3s\n",
      "[CV 3/5] END lr__class_weight=balanced, lr__penalty=elasticnet, lr__solver=liblinear, vect__max_df=0.5, vect__max_features=None;, score=nan total time=   0.3s\n",
      "[CV 4/5] END lr__class_weight=balanced, lr__penalty=elasticnet, lr__solver=liblinear, vect__max_df=0.5, vect__max_features=None;, score=nan total time=   0.3s\n",
      "[CV 5/5] END lr__class_weight=balanced, lr__penalty=elasticnet, lr__solver=liblinear, vect__max_df=0.5, vect__max_features=None;, score=nan total time=   0.3s\n",
      "[CV 1/5] END lr__class_weight=balanced, lr__penalty=elasticnet, lr__solver=liblinear, vect__max_df=0.5, vect__max_features=500;, score=nan total time=   0.3s\n",
      "[CV 2/5] END lr__class_weight=balanced, lr__penalty=elasticnet, lr__solver=liblinear, vect__max_df=0.5, vect__max_features=500;, score=nan total time=   0.3s\n",
      "[CV 3/5] END lr__class_weight=balanced, lr__penalty=elasticnet, lr__solver=liblinear, vect__max_df=0.5, vect__max_features=500;, score=nan total time=   0.3s\n",
      "[CV 4/5] END lr__class_weight=balanced, lr__penalty=elasticnet, lr__solver=liblinear, vect__max_df=0.5, vect__max_features=500;, score=nan total time=   0.3s\n",
      "[CV 5/5] END lr__class_weight=balanced, lr__penalty=elasticnet, lr__solver=liblinear, vect__max_df=0.5, vect__max_features=500;, score=nan total time=   0.3s\n",
      "[CV 1/5] END lr__class_weight=balanced, lr__penalty=elasticnet, lr__solver=liblinear, vect__max_df=0.5, vect__max_features=1000;, score=nan total time=   0.3s\n",
      "[CV 2/5] END lr__class_weight=balanced, lr__penalty=elasticnet, lr__solver=liblinear, vect__max_df=0.5, vect__max_features=1000;, score=nan total time=   0.3s\n",
      "[CV 3/5] END lr__class_weight=balanced, lr__penalty=elasticnet, lr__solver=liblinear, vect__max_df=0.5, vect__max_features=1000;, score=nan total time=   0.3s\n",
      "[CV 4/5] END lr__class_weight=balanced, lr__penalty=elasticnet, lr__solver=liblinear, vect__max_df=0.5, vect__max_features=1000;, score=nan total time=   0.3s\n",
      "[CV 5/5] END lr__class_weight=balanced, lr__penalty=elasticnet, lr__solver=liblinear, vect__max_df=0.5, vect__max_features=1000;, score=nan total time=   0.3s\n",
      "[CV 1/5] END lr__class_weight=balanced, lr__penalty=elasticnet, lr__solver=liblinear, vect__max_df=0.5, vect__max_features=2000;, score=nan total time=   0.3s\n",
      "[CV 2/5] END lr__class_weight=balanced, lr__penalty=elasticnet, lr__solver=liblinear, vect__max_df=0.5, vect__max_features=2000;, score=nan total time=   0.3s\n",
      "[CV 3/5] END lr__class_weight=balanced, lr__penalty=elasticnet, lr__solver=liblinear, vect__max_df=0.5, vect__max_features=2000;, score=nan total time=   0.3s\n",
      "[CV 4/5] END lr__class_weight=balanced, lr__penalty=elasticnet, lr__solver=liblinear, vect__max_df=0.5, vect__max_features=2000;, score=nan total time=   0.3s\n",
      "[CV 5/5] END lr__class_weight=balanced, lr__penalty=elasticnet, lr__solver=liblinear, vect__max_df=0.5, vect__max_features=2000;, score=nan total time=   0.3s\n",
      "[CV 1/5] END lr__class_weight=balanced, lr__penalty=elasticnet, lr__solver=liblinear, vect__max_df=0.75, vect__max_features=None;, score=nan total time=   0.3s\n",
      "[CV 2/5] END lr__class_weight=balanced, lr__penalty=elasticnet, lr__solver=liblinear, vect__max_df=0.75, vect__max_features=None;, score=nan total time=   0.3s\n",
      "[CV 3/5] END lr__class_weight=balanced, lr__penalty=elasticnet, lr__solver=liblinear, vect__max_df=0.75, vect__max_features=None;, score=nan total time=   0.3s\n",
      "[CV 4/5] END lr__class_weight=balanced, lr__penalty=elasticnet, lr__solver=liblinear, vect__max_df=0.75, vect__max_features=None;, score=nan total time=   0.3s\n",
      "[CV 5/5] END lr__class_weight=balanced, lr__penalty=elasticnet, lr__solver=liblinear, vect__max_df=0.75, vect__max_features=None;, score=nan total time=   0.3s\n",
      "[CV 1/5] END lr__class_weight=balanced, lr__penalty=elasticnet, lr__solver=liblinear, vect__max_df=0.75, vect__max_features=500;, score=nan total time=   0.3s\n",
      "[CV 2/5] END lr__class_weight=balanced, lr__penalty=elasticnet, lr__solver=liblinear, vect__max_df=0.75, vect__max_features=500;, score=nan total time=   0.3s\n",
      "[CV 3/5] END lr__class_weight=balanced, lr__penalty=elasticnet, lr__solver=liblinear, vect__max_df=0.75, vect__max_features=500;, score=nan total time=   0.3s\n",
      "[CV 4/5] END lr__class_weight=balanced, lr__penalty=elasticnet, lr__solver=liblinear, vect__max_df=0.75, vect__max_features=500;, score=nan total time=   0.3s\n",
      "[CV 5/5] END lr__class_weight=balanced, lr__penalty=elasticnet, lr__solver=liblinear, vect__max_df=0.75, vect__max_features=500;, score=nan total time=   0.3s\n",
      "[CV 1/5] END lr__class_weight=balanced, lr__penalty=elasticnet, lr__solver=liblinear, vect__max_df=0.75, vect__max_features=1000;, score=nan total time=   0.3s\n",
      "[CV 2/5] END lr__class_weight=balanced, lr__penalty=elasticnet, lr__solver=liblinear, vect__max_df=0.75, vect__max_features=1000;, score=nan total time=   0.3s\n",
      "[CV 3/5] END lr__class_weight=balanced, lr__penalty=elasticnet, lr__solver=liblinear, vect__max_df=0.75, vect__max_features=1000;, score=nan total time=   0.3s\n",
      "[CV 4/5] END lr__class_weight=balanced, lr__penalty=elasticnet, lr__solver=liblinear, vect__max_df=0.75, vect__max_features=1000;, score=nan total time=   0.3s\n",
      "[CV 5/5] END lr__class_weight=balanced, lr__penalty=elasticnet, lr__solver=liblinear, vect__max_df=0.75, vect__max_features=1000;, score=nan total time=   0.3s\n",
      "[CV 1/5] END lr__class_weight=balanced, lr__penalty=elasticnet, lr__solver=liblinear, vect__max_df=0.75, vect__max_features=2000;, score=nan total time=   0.3s\n",
      "[CV 2/5] END lr__class_weight=balanced, lr__penalty=elasticnet, lr__solver=liblinear, vect__max_df=0.75, vect__max_features=2000;, score=nan total time=   0.3s\n",
      "[CV 3/5] END lr__class_weight=balanced, lr__penalty=elasticnet, lr__solver=liblinear, vect__max_df=0.75, vect__max_features=2000;, score=nan total time=   0.3s\n",
      "[CV 4/5] END lr__class_weight=balanced, lr__penalty=elasticnet, lr__solver=liblinear, vect__max_df=0.75, vect__max_features=2000;, score=nan total time=   0.3s\n",
      "[CV 5/5] END lr__class_weight=balanced, lr__penalty=elasticnet, lr__solver=liblinear, vect__max_df=0.75, vect__max_features=2000;, score=nan total time=   0.3s\n",
      "[CV 1/5] END lr__class_weight=balanced, lr__penalty=elasticnet, lr__solver=liblinear, vect__max_df=1.0, vect__max_features=None;, score=nan total time=   0.3s\n",
      "[CV 2/5] END lr__class_weight=balanced, lr__penalty=elasticnet, lr__solver=liblinear, vect__max_df=1.0, vect__max_features=None;, score=nan total time=   0.3s\n",
      "[CV 3/5] END lr__class_weight=balanced, lr__penalty=elasticnet, lr__solver=liblinear, vect__max_df=1.0, vect__max_features=None;, score=nan total time=   0.3s\n",
      "[CV 4/5] END lr__class_weight=balanced, lr__penalty=elasticnet, lr__solver=liblinear, vect__max_df=1.0, vect__max_features=None;, score=nan total time=   0.3s\n",
      "[CV 5/5] END lr__class_weight=balanced, lr__penalty=elasticnet, lr__solver=liblinear, vect__max_df=1.0, vect__max_features=None;, score=nan total time=   0.3s\n",
      "[CV 1/5] END lr__class_weight=balanced, lr__penalty=elasticnet, lr__solver=liblinear, vect__max_df=1.0, vect__max_features=500;, score=nan total time=   0.3s\n",
      "[CV 2/5] END lr__class_weight=balanced, lr__penalty=elasticnet, lr__solver=liblinear, vect__max_df=1.0, vect__max_features=500;, score=nan total time=   0.3s\n",
      "[CV 3/5] END lr__class_weight=balanced, lr__penalty=elasticnet, lr__solver=liblinear, vect__max_df=1.0, vect__max_features=500;, score=nan total time=   0.3s\n",
      "[CV 4/5] END lr__class_weight=balanced, lr__penalty=elasticnet, lr__solver=liblinear, vect__max_df=1.0, vect__max_features=500;, score=nan total time=   0.3s\n",
      "[CV 5/5] END lr__class_weight=balanced, lr__penalty=elasticnet, lr__solver=liblinear, vect__max_df=1.0, vect__max_features=500;, score=nan total time=   0.3s\n",
      "[CV 1/5] END lr__class_weight=balanced, lr__penalty=elasticnet, lr__solver=liblinear, vect__max_df=1.0, vect__max_features=1000;, score=nan total time=   0.3s\n",
      "[CV 2/5] END lr__class_weight=balanced, lr__penalty=elasticnet, lr__solver=liblinear, vect__max_df=1.0, vect__max_features=1000;, score=nan total time=   0.3s\n"
     ]
    },
    {
     "name": "stdout",
     "output_type": "stream",
     "text": [
      "[CV 3/5] END lr__class_weight=balanced, lr__penalty=elasticnet, lr__solver=liblinear, vect__max_df=1.0, vect__max_features=1000;, score=nan total time=   0.3s\n",
      "[CV 4/5] END lr__class_weight=balanced, lr__penalty=elasticnet, lr__solver=liblinear, vect__max_df=1.0, vect__max_features=1000;, score=nan total time=   0.3s\n",
      "[CV 5/5] END lr__class_weight=balanced, lr__penalty=elasticnet, lr__solver=liblinear, vect__max_df=1.0, vect__max_features=1000;, score=nan total time=   0.3s\n",
      "[CV 1/5] END lr__class_weight=balanced, lr__penalty=elasticnet, lr__solver=liblinear, vect__max_df=1.0, vect__max_features=2000;, score=nan total time=   0.3s\n",
      "[CV 2/5] END lr__class_weight=balanced, lr__penalty=elasticnet, lr__solver=liblinear, vect__max_df=1.0, vect__max_features=2000;, score=nan total time=   0.3s\n",
      "[CV 3/5] END lr__class_weight=balanced, lr__penalty=elasticnet, lr__solver=liblinear, vect__max_df=1.0, vect__max_features=2000;, score=nan total time=   0.3s\n",
      "[CV 4/5] END lr__class_weight=balanced, lr__penalty=elasticnet, lr__solver=liblinear, vect__max_df=1.0, vect__max_features=2000;, score=nan total time=   0.3s\n",
      "[CV 5/5] END lr__class_weight=balanced, lr__penalty=elasticnet, lr__solver=liblinear, vect__max_df=1.0, vect__max_features=2000;, score=nan total time=   0.3s\n"
     ]
    },
    {
     "name": "stderr",
     "output_type": "stream",
     "text": [
      "/Users/jillian/opt/anaconda3/envs/learn-env/lib/python3.8/site-packages/sklearn/model_selection/_validation.py:378: FitFailedWarning: \n",
      "360 fits failed out of a total of 720.\n",
      "The score on these train-test partitions for these parameters will be set to nan.\n",
      "If these failures are not expected, you can try to debug them by setting error_score='raise'.\n",
      "\n",
      "Below are more details about the failures:\n",
      "--------------------------------------------------------------------------------\n",
      "120 fits failed with the following error:\n",
      "Traceback (most recent call last):\n",
      "  File \"/Users/jillian/opt/anaconda3/envs/learn-env/lib/python3.8/site-packages/sklearn/model_selection/_validation.py\", line 686, in _fit_and_score\n",
      "    estimator.fit(X_train, y_train, **fit_params)\n",
      "  File \"/Users/jillian/opt/anaconda3/envs/learn-env/lib/python3.8/site-packages/sklearn/pipeline.py\", line 382, in fit\n",
      "    self._final_estimator.fit(Xt, y, **fit_params_last_step)\n",
      "  File \"/Users/jillian/opt/anaconda3/envs/learn-env/lib/python3.8/site-packages/sklearn/linear_model/_logistic.py\", line 1091, in fit\n",
      "    solver = _check_solver(self.solver, self.penalty, self.dual)\n",
      "  File \"/Users/jillian/opt/anaconda3/envs/learn-env/lib/python3.8/site-packages/sklearn/linear_model/_logistic.py\", line 61, in _check_solver\n",
      "    raise ValueError(\n",
      "ValueError: Solver lbfgs supports only 'l2' or 'none' penalties, got elasticnet penalty.\n",
      "\n",
      "--------------------------------------------------------------------------------\n",
      "120 fits failed with the following error:\n",
      "Traceback (most recent call last):\n",
      "  File \"/Users/jillian/opt/anaconda3/envs/learn-env/lib/python3.8/site-packages/sklearn/model_selection/_validation.py\", line 686, in _fit_and_score\n",
      "    estimator.fit(X_train, y_train, **fit_params)\n",
      "  File \"/Users/jillian/opt/anaconda3/envs/learn-env/lib/python3.8/site-packages/sklearn/pipeline.py\", line 382, in fit\n",
      "    self._final_estimator.fit(Xt, y, **fit_params_last_step)\n",
      "  File \"/Users/jillian/opt/anaconda3/envs/learn-env/lib/python3.8/site-packages/sklearn/linear_model/_logistic.py\", line 1101, in fit\n",
      "    raise ValueError(\n",
      "ValueError: l1_ratio must be between 0 and 1; got (l1_ratio=None)\n",
      "\n",
      "--------------------------------------------------------------------------------\n",
      "120 fits failed with the following error:\n",
      "Traceback (most recent call last):\n",
      "  File \"/Users/jillian/opt/anaconda3/envs/learn-env/lib/python3.8/site-packages/sklearn/model_selection/_validation.py\", line 686, in _fit_and_score\n",
      "    estimator.fit(X_train, y_train, **fit_params)\n",
      "  File \"/Users/jillian/opt/anaconda3/envs/learn-env/lib/python3.8/site-packages/sklearn/pipeline.py\", line 382, in fit\n",
      "    self._final_estimator.fit(Xt, y, **fit_params_last_step)\n",
      "  File \"/Users/jillian/opt/anaconda3/envs/learn-env/lib/python3.8/site-packages/sklearn/linear_model/_logistic.py\", line 1091, in fit\n",
      "    solver = _check_solver(self.solver, self.penalty, self.dual)\n",
      "  File \"/Users/jillian/opt/anaconda3/envs/learn-env/lib/python3.8/site-packages/sklearn/linear_model/_logistic.py\", line 71, in _check_solver\n",
      "    raise ValueError(\n",
      "ValueError: Only 'saga' solver supports elasticnet penalty, got solver=liblinear.\n",
      "\n",
      "  warnings.warn(some_fits_failed_message, FitFailedWarning)\n",
      "/Users/jillian/opt/anaconda3/envs/learn-env/lib/python3.8/site-packages/sklearn/model_selection/_search.py:953: UserWarning: One or more of the test scores are non-finite: [0.87400612 0.86384712 0.87107993 0.87544164 0.87400612 0.86384712\n",
      " 0.87107993 0.87544164 0.87400612 0.86384712 0.87107993 0.87544164\n",
      " 0.87428218 0.86390232 0.87113516 0.87560727 0.87428218 0.86390232\n",
      " 0.87113516 0.87560727 0.87428218 0.86390232 0.87113516 0.87560727\n",
      " 0.87422697 0.86395754 0.87107994 0.87555205 0.87422697 0.86395754\n",
      " 0.87107994 0.87555205 0.87422697 0.86395754 0.87107994 0.87555205\n",
      "        nan        nan        nan        nan        nan        nan\n",
      "        nan        nan        nan        nan        nan        nan\n",
      "        nan        nan        nan        nan        nan        nan\n",
      "        nan        nan        nan        nan        nan        nan\n",
      "        nan        nan        nan        nan        nan        nan\n",
      "        nan        nan        nan        nan        nan        nan\n",
      " 0.8570005  0.83646188 0.84639987 0.85407417 0.8570005  0.83646188\n",
      " 0.84639987 0.85407417 0.8570005  0.83646188 0.84639987 0.85407417\n",
      " 0.85705572 0.83629622 0.84634467 0.85396375 0.85705572 0.83629622\n",
      " 0.84634467 0.85396375 0.85705572 0.83629622 0.84634467 0.85396375\n",
      " 0.85711095 0.83629622 0.84639987 0.85401895 0.85711095 0.83629622\n",
      " 0.84639987 0.85401895 0.85711095 0.83629622 0.84639987 0.85401895\n",
      "        nan        nan        nan        nan        nan        nan\n",
      "        nan        nan        nan        nan        nan        nan\n",
      "        nan        nan        nan        nan        nan        nan\n",
      "        nan        nan        nan        nan        nan        nan\n",
      "        nan        nan        nan        nan        nan        nan\n",
      "        nan        nan        nan        nan        nan        nan]\n",
      "  warnings.warn(\n"
     ]
    },
    {
     "data": {
      "text/html": [
       "<style>#sk-container-id-4 {color: black;background-color: white;}#sk-container-id-4 pre{padding: 0;}#sk-container-id-4 div.sk-toggleable {background-color: white;}#sk-container-id-4 label.sk-toggleable__label {cursor: pointer;display: block;width: 100%;margin-bottom: 0;padding: 0.3em;box-sizing: border-box;text-align: center;}#sk-container-id-4 label.sk-toggleable__label-arrow:before {content: \"▸\";float: left;margin-right: 0.25em;color: #696969;}#sk-container-id-4 label.sk-toggleable__label-arrow:hover:before {color: black;}#sk-container-id-4 div.sk-estimator:hover label.sk-toggleable__label-arrow:before {color: black;}#sk-container-id-4 div.sk-toggleable__content {max-height: 0;max-width: 0;overflow: hidden;text-align: left;background-color: #f0f8ff;}#sk-container-id-4 div.sk-toggleable__content pre {margin: 0.2em;color: black;border-radius: 0.25em;background-color: #f0f8ff;}#sk-container-id-4 input.sk-toggleable__control:checked~div.sk-toggleable__content {max-height: 200px;max-width: 100%;overflow: auto;}#sk-container-id-4 input.sk-toggleable__control:checked~label.sk-toggleable__label-arrow:before {content: \"▾\";}#sk-container-id-4 div.sk-estimator input.sk-toggleable__control:checked~label.sk-toggleable__label {background-color: #d4ebff;}#sk-container-id-4 div.sk-label input.sk-toggleable__control:checked~label.sk-toggleable__label {background-color: #d4ebff;}#sk-container-id-4 input.sk-hidden--visually {border: 0;clip: rect(1px 1px 1px 1px);clip: rect(1px, 1px, 1px, 1px);height: 1px;margin: -1px;overflow: hidden;padding: 0;position: absolute;width: 1px;}#sk-container-id-4 div.sk-estimator {font-family: monospace;background-color: #f0f8ff;border: 1px dotted black;border-radius: 0.25em;box-sizing: border-box;margin-bottom: 0.5em;}#sk-container-id-4 div.sk-estimator:hover {background-color: #d4ebff;}#sk-container-id-4 div.sk-parallel-item::after {content: \"\";width: 100%;border-bottom: 1px solid gray;flex-grow: 1;}#sk-container-id-4 div.sk-label:hover label.sk-toggleable__label {background-color: #d4ebff;}#sk-container-id-4 div.sk-serial::before {content: \"\";position: absolute;border-left: 1px solid gray;box-sizing: border-box;top: 0;bottom: 0;left: 50%;z-index: 0;}#sk-container-id-4 div.sk-serial {display: flex;flex-direction: column;align-items: center;background-color: white;padding-right: 0.2em;padding-left: 0.2em;position: relative;}#sk-container-id-4 div.sk-item {position: relative;z-index: 1;}#sk-container-id-4 div.sk-parallel {display: flex;align-items: stretch;justify-content: center;background-color: white;position: relative;}#sk-container-id-4 div.sk-item::before, #sk-container-id-4 div.sk-parallel-item::before {content: \"\";position: absolute;border-left: 1px solid gray;box-sizing: border-box;top: 0;bottom: 0;left: 50%;z-index: -1;}#sk-container-id-4 div.sk-parallel-item {display: flex;flex-direction: column;z-index: 1;position: relative;background-color: white;}#sk-container-id-4 div.sk-parallel-item:first-child::after {align-self: flex-end;width: 50%;}#sk-container-id-4 div.sk-parallel-item:last-child::after {align-self: flex-start;width: 50%;}#sk-container-id-4 div.sk-parallel-item:only-child::after {width: 0;}#sk-container-id-4 div.sk-dashed-wrapped {border: 1px dashed gray;margin: 0 0.4em 0.5em 0.4em;box-sizing: border-box;padding-bottom: 0.4em;background-color: white;}#sk-container-id-4 div.sk-label label {font-family: monospace;font-weight: bold;display: inline-block;line-height: 1.2em;}#sk-container-id-4 div.sk-label-container {text-align: center;}#sk-container-id-4 div.sk-container {/* jupyter's `normalize.less` sets `[hidden] { display: none; }` but bootstrap.min.css set `[hidden] { display: none !important; }` so we also need the `!important` here to be able to override the default hidden behavior on the sphinx rendered scikit-learn.org. See: https://github.com/scikit-learn/scikit-learn/issues/21755 */display: inline-block !important;position: relative;}#sk-container-id-4 div.sk-text-repr-fallback {display: none;}</style><div id=\"sk-container-id-4\" class=\"sk-top-container\"><div class=\"sk-text-repr-fallback\"><pre>GridSearchCV(cv=5,\n",
       "             estimator=Pipeline(steps=[(&#x27;vect&#x27;, TfidfVectorizer()),\n",
       "                                       (&#x27;lr&#x27;,\n",
       "                                        LogisticRegression(random_state=42))]),\n",
       "             param_grid={&#x27;lr__class_weight&#x27;: (None, &#x27;balanced&#x27;),\n",
       "                         &#x27;lr__penalty&#x27;: (&#x27;l2&#x27;, &#x27;elasticnet&#x27;),\n",
       "                         &#x27;lr__solver&#x27;: (&#x27;lbfgs&#x27;, &#x27;saga&#x27;, &#x27;liblinear&#x27;),\n",
       "                         &#x27;vect__max_df&#x27;: (0.5, 0.75, 1.0),\n",
       "                         &#x27;vect__max_features&#x27;: (None, 500, 1000, 2000)},\n",
       "             verbose=3)</pre><b>In a Jupyter environment, please rerun this cell to show the HTML representation or trust the notebook. <br />On GitHub, the HTML representation is unable to render, please try loading this page with nbviewer.org.</b></div><div class=\"sk-container\" hidden><div class=\"sk-item sk-dashed-wrapped\"><div class=\"sk-label-container\"><div class=\"sk-label sk-toggleable\"><input class=\"sk-toggleable__control sk-hidden--visually\" id=\"sk-estimator-id-12\" type=\"checkbox\" ><label for=\"sk-estimator-id-12\" class=\"sk-toggleable__label sk-toggleable__label-arrow\">GridSearchCV</label><div class=\"sk-toggleable__content\"><pre>GridSearchCV(cv=5,\n",
       "             estimator=Pipeline(steps=[(&#x27;vect&#x27;, TfidfVectorizer()),\n",
       "                                       (&#x27;lr&#x27;,\n",
       "                                        LogisticRegression(random_state=42))]),\n",
       "             param_grid={&#x27;lr__class_weight&#x27;: (None, &#x27;balanced&#x27;),\n",
       "                         &#x27;lr__penalty&#x27;: (&#x27;l2&#x27;, &#x27;elasticnet&#x27;),\n",
       "                         &#x27;lr__solver&#x27;: (&#x27;lbfgs&#x27;, &#x27;saga&#x27;, &#x27;liblinear&#x27;),\n",
       "                         &#x27;vect__max_df&#x27;: (0.5, 0.75, 1.0),\n",
       "                         &#x27;vect__max_features&#x27;: (None, 500, 1000, 2000)},\n",
       "             verbose=3)</pre></div></div></div><div class=\"sk-parallel\"><div class=\"sk-parallel-item\"><div class=\"sk-item\"><div class=\"sk-label-container\"><div class=\"sk-label sk-toggleable\"><input class=\"sk-toggleable__control sk-hidden--visually\" id=\"sk-estimator-id-13\" type=\"checkbox\" ><label for=\"sk-estimator-id-13\" class=\"sk-toggleable__label sk-toggleable__label-arrow\">estimator: Pipeline</label><div class=\"sk-toggleable__content\"><pre>Pipeline(steps=[(&#x27;vect&#x27;, TfidfVectorizer()),\n",
       "                (&#x27;lr&#x27;, LogisticRegression(random_state=42))])</pre></div></div></div><div class=\"sk-serial\"><div class=\"sk-item\"><div class=\"sk-serial\"><div class=\"sk-item\"><div class=\"sk-estimator sk-toggleable\"><input class=\"sk-toggleable__control sk-hidden--visually\" id=\"sk-estimator-id-14\" type=\"checkbox\" ><label for=\"sk-estimator-id-14\" class=\"sk-toggleable__label sk-toggleable__label-arrow\">TfidfVectorizer</label><div class=\"sk-toggleable__content\"><pre>TfidfVectorizer()</pre></div></div></div><div class=\"sk-item\"><div class=\"sk-estimator sk-toggleable\"><input class=\"sk-toggleable__control sk-hidden--visually\" id=\"sk-estimator-id-15\" type=\"checkbox\" ><label for=\"sk-estimator-id-15\" class=\"sk-toggleable__label sk-toggleable__label-arrow\">LogisticRegression</label><div class=\"sk-toggleable__content\"><pre>LogisticRegression(random_state=42)</pre></div></div></div></div></div></div></div></div></div></div></div></div>"
      ],
      "text/plain": [
       "GridSearchCV(cv=5,\n",
       "             estimator=Pipeline(steps=[('vect', TfidfVectorizer()),\n",
       "                                       ('lr',\n",
       "                                        LogisticRegression(random_state=42))]),\n",
       "             param_grid={'lr__class_weight': (None, 'balanced'),\n",
       "                         'lr__penalty': ('l2', 'elasticnet'),\n",
       "                         'lr__solver': ('lbfgs', 'saga', 'liblinear'),\n",
       "                         'vect__max_df': (0.5, 0.75, 1.0),\n",
       "                         'vect__max_features': (None, 500, 1000, 2000)},\n",
       "             verbose=3)"
      ]
     },
     "execution_count": 58,
     "metadata": {},
     "output_type": "execute_result"
    }
   ],
   "source": [
    "# fit our grid object for Logistic Regression to the training data\n",
    "#grid_lr.fit(X_train, y_train)"
   ]
  },
  {
   "cell_type": "code",
   "execution_count": 59,
   "id": "6d5e3a6b",
   "metadata": {},
   "outputs": [
    {
     "name": "stdout",
     "output_type": "stream",
     "text": [
      "Grid Search found the following optimal parameters: \n",
      "lr__class_weight: None\n",
      "lr__penalty: 'l2'\n",
      "lr__solver: 'saga'\n",
      "vect__max_df: 0.5\n",
      "vect__max_features: 2000\n",
      "Training Accuracy: 89.54%\n",
      "[0.66329966 0.96459796]\n"
     ]
    }
   ],
   "source": [
    "#best_parameters = grid_lr.best_params_\n",
    "\n",
    "#print('Grid Search found the following optimal parameters: ')\n",
    "#for param_name in sorted(best_parameters.keys()):\n",
    "    #print('%s: %r' % (param_name, best_parameters[param_name]))\n",
    "\n",
    "#training_preds = grid_lr.predict(X_train)\n",
    "#training_accuracy = accuracy_score(y_train, training_preds)\n",
    "#training_recall = recall_score(y_train, training_preds, average = None)\n",
    "\n",
    "#print('Training Accuracy: {:.4}%'.format(training_accuracy * 100))\n",
    "#print(training_recall)"
   ]
  },
  {
   "cell_type": "markdown",
   "id": "f73507dd",
   "metadata": {},
   "source": [
    "Grid Search found the following optimal parameters: \n",
    "- lr__class_weight: None\n",
    "- lr__penalty: 'l2'\n",
    "- lr__solver: 'saga'\n",
    "- vect__max_df: 0.5\n",
    "- vect__max_features: 2000\n",
    "- Training Accuracy: 89.54%\n",
    "- [0.66329966 0.96459796]"
   ]
  },
  {
   "cell_type": "code",
   "execution_count": null,
   "id": "21bd1e82",
   "metadata": {},
   "outputs": [],
   "source": [
    "#improved training accuracy! Let's see if we can improve it further. Our max_df came in at the lowest parameter, so I will lower further. Max features came in at highest parameter so will try higher parameters."
   ]
  },
  {
   "cell_type": "code",
   "execution_count": 71,
   "id": "49dda444",
   "metadata": {},
   "outputs": [],
   "source": [
    "lr2_params = {\n",
    "    'vect__max_df': (0.4, 0.5, .6),\n",
    "    'vect__max_features': (2000, 2250, 2500, 3000), \n",
    "    'lr__solver': ('lbfgs', 'saga', 'liblinear'),\n",
    "    'lr__penalty': ('none', 'l1', 'l2', 'elasticnet'),\n",
    "    'lr__class_weight': (None, 'balanced')\n",
    "    }"
   ]
  },
  {
   "cell_type": "code",
   "execution_count": 72,
   "id": "4a087436",
   "metadata": {},
   "outputs": [],
   "source": [
    "grid_lr2 = GridSearchCV(lr_pipe, param_grid=lr2_params, cv=5, verbose=3, n_jobs=-2)"
   ]
  },
  {
   "cell_type": "code",
   "execution_count": 73,
   "id": "46f1b452",
   "metadata": {},
   "outputs": [
    {
     "name": "stdout",
     "output_type": "stream",
     "text": [
      "Fitting 5 folds for each of 288 candidates, totalling 1440 fits\n"
     ]
    },
    {
     "name": "stderr",
     "output_type": "stream",
     "text": [
      "/Users/jillian/opt/anaconda3/envs/learn-env/lib/python3.8/site-packages/sklearn/model_selection/_validation.py:378: FitFailedWarning: \n",
      "600 fits failed out of a total of 1440.\n",
      "The score on these train-test partitions for these parameters will be set to nan.\n",
      "If these failures are not expected, you can try to debug them by setting error_score='raise'.\n",
      "\n",
      "Below are more details about the failures:\n",
      "--------------------------------------------------------------------------------\n",
      "120 fits failed with the following error:\n",
      "Traceback (most recent call last):\n",
      "  File \"/Users/jillian/opt/anaconda3/envs/learn-env/lib/python3.8/site-packages/sklearn/model_selection/_validation.py\", line 686, in _fit_and_score\n",
      "    estimator.fit(X_train, y_train, **fit_params)\n",
      "  File \"/Users/jillian/opt/anaconda3/envs/learn-env/lib/python3.8/site-packages/sklearn/pipeline.py\", line 382, in fit\n",
      "    self._final_estimator.fit(Xt, y, **fit_params_last_step)\n",
      "  File \"/Users/jillian/opt/anaconda3/envs/learn-env/lib/python3.8/site-packages/sklearn/linear_model/_logistic.py\", line 1091, in fit\n",
      "    solver = _check_solver(self.solver, self.penalty, self.dual)\n",
      "  File \"/Users/jillian/opt/anaconda3/envs/learn-env/lib/python3.8/site-packages/sklearn/linear_model/_logistic.py\", line 78, in _check_solver\n",
      "    raise ValueError(\"penalty='none' is not supported for the liblinear solver\")\n",
      "ValueError: penalty='none' is not supported for the liblinear solver\n",
      "\n",
      "--------------------------------------------------------------------------------\n",
      "120 fits failed with the following error:\n",
      "Traceback (most recent call last):\n",
      "  File \"/Users/jillian/opt/anaconda3/envs/learn-env/lib/python3.8/site-packages/sklearn/model_selection/_validation.py\", line 686, in _fit_and_score\n",
      "    estimator.fit(X_train, y_train, **fit_params)\n",
      "  File \"/Users/jillian/opt/anaconda3/envs/learn-env/lib/python3.8/site-packages/sklearn/pipeline.py\", line 382, in fit\n",
      "    self._final_estimator.fit(Xt, y, **fit_params_last_step)\n",
      "  File \"/Users/jillian/opt/anaconda3/envs/learn-env/lib/python3.8/site-packages/sklearn/linear_model/_logistic.py\", line 1091, in fit\n",
      "    solver = _check_solver(self.solver, self.penalty, self.dual)\n",
      "  File \"/Users/jillian/opt/anaconda3/envs/learn-env/lib/python3.8/site-packages/sklearn/linear_model/_logistic.py\", line 61, in _check_solver\n",
      "    raise ValueError(\n",
      "ValueError: Solver lbfgs supports only 'l2' or 'none' penalties, got l1 penalty.\n",
      "\n",
      "--------------------------------------------------------------------------------\n",
      "120 fits failed with the following error:\n",
      "Traceback (most recent call last):\n",
      "  File \"/Users/jillian/opt/anaconda3/envs/learn-env/lib/python3.8/site-packages/sklearn/model_selection/_validation.py\", line 686, in _fit_and_score\n",
      "    estimator.fit(X_train, y_train, **fit_params)\n",
      "  File \"/Users/jillian/opt/anaconda3/envs/learn-env/lib/python3.8/site-packages/sklearn/pipeline.py\", line 382, in fit\n",
      "    self._final_estimator.fit(Xt, y, **fit_params_last_step)\n",
      "  File \"/Users/jillian/opt/anaconda3/envs/learn-env/lib/python3.8/site-packages/sklearn/linear_model/_logistic.py\", line 1091, in fit\n",
      "    solver = _check_solver(self.solver, self.penalty, self.dual)\n",
      "  File \"/Users/jillian/opt/anaconda3/envs/learn-env/lib/python3.8/site-packages/sklearn/linear_model/_logistic.py\", line 61, in _check_solver\n",
      "    raise ValueError(\n",
      "ValueError: Solver lbfgs supports only 'l2' or 'none' penalties, got elasticnet penalty.\n",
      "\n",
      "--------------------------------------------------------------------------------\n",
      "120 fits failed with the following error:\n",
      "Traceback (most recent call last):\n",
      "  File \"/Users/jillian/opt/anaconda3/envs/learn-env/lib/python3.8/site-packages/sklearn/model_selection/_validation.py\", line 686, in _fit_and_score\n",
      "    estimator.fit(X_train, y_train, **fit_params)\n",
      "  File \"/Users/jillian/opt/anaconda3/envs/learn-env/lib/python3.8/site-packages/sklearn/pipeline.py\", line 382, in fit\n",
      "    self._final_estimator.fit(Xt, y, **fit_params_last_step)\n",
      "  File \"/Users/jillian/opt/anaconda3/envs/learn-env/lib/python3.8/site-packages/sklearn/linear_model/_logistic.py\", line 1101, in fit\n",
      "    raise ValueError(\n",
      "ValueError: l1_ratio must be between 0 and 1; got (l1_ratio=None)\n",
      "\n",
      "--------------------------------------------------------------------------------\n",
      "120 fits failed with the following error:\n",
      "Traceback (most recent call last):\n",
      "  File \"/Users/jillian/opt/anaconda3/envs/learn-env/lib/python3.8/site-packages/sklearn/model_selection/_validation.py\", line 686, in _fit_and_score\n",
      "    estimator.fit(X_train, y_train, **fit_params)\n",
      "  File \"/Users/jillian/opt/anaconda3/envs/learn-env/lib/python3.8/site-packages/sklearn/pipeline.py\", line 382, in fit\n",
      "    self._final_estimator.fit(Xt, y, **fit_params_last_step)\n",
      "  File \"/Users/jillian/opt/anaconda3/envs/learn-env/lib/python3.8/site-packages/sklearn/linear_model/_logistic.py\", line 1091, in fit\n",
      "    solver = _check_solver(self.solver, self.penalty, self.dual)\n",
      "  File \"/Users/jillian/opt/anaconda3/envs/learn-env/lib/python3.8/site-packages/sklearn/linear_model/_logistic.py\", line 71, in _check_solver\n",
      "    raise ValueError(\n",
      "ValueError: Only 'saga' solver supports elasticnet penalty, got solver=liblinear.\n",
      "\n",
      "  warnings.warn(some_fits_failed_message, FitFailedWarning)\n",
      "/Users/jillian/opt/anaconda3/envs/learn-env/lib/python3.8/site-packages/sklearn/model_selection/_search.py:953: UserWarning: One or more of the test scores are non-finite: [0.85065138 0.84733885 0.84330845 0.83651668 0.85065138 0.84733885\n",
      " 0.84330845 0.83651668 0.85065138 0.84733885 0.84330845 0.83651668\n",
      " 0.85181068 0.85009936 0.84612401 0.84253514 0.85181068 0.85009936\n",
      " 0.84612401 0.84253514 0.85181068 0.85009936 0.84612401 0.84253514\n",
      "        nan        nan        nan        nan        nan        nan\n",
      "        nan        nan        nan        nan        nan        nan\n",
      "        nan        nan        nan        nan        nan        nan\n",
      "        nan        nan        nan        nan        nan        nan\n",
      " 0.87400602 0.8737299  0.87356426 0.87411639 0.87400602 0.8737299\n",
      " 0.87356426 0.87411639 0.87400602 0.8737299  0.87356426 0.87411639\n",
      " 0.8738956  0.8738403  0.87356426 0.87395077 0.8738956  0.8738403\n",
      " 0.87356426 0.87395077 0.8738956  0.8738403  0.87356426 0.87395077\n",
      " 0.87544164 0.87533119 0.87577287 0.87593856 0.87544164 0.87533119\n",
      " 0.87577287 0.87593856 0.87544164 0.87533119 0.87577287 0.87593856\n",
      " 0.87560727 0.87527597 0.87582809 0.87593854 0.87560727 0.87527597\n",
      " 0.87582809 0.87593854 0.87560727 0.87527597 0.87582809 0.87593854\n",
      " 0.87555205 0.87527597 0.87582809 0.87588333 0.87555205 0.87527597\n",
      " 0.87582809 0.87588333 0.87555205 0.87527597 0.87582809 0.87588333\n",
      "        nan        nan        nan        nan        nan        nan\n",
      "        nan        nan        nan        nan        nan        nan\n",
      "        nan        nan        nan        nan        nan        nan\n",
      "        nan        nan        nan        nan        nan        nan\n",
      "        nan        nan        nan        nan        nan        nan\n",
      "        nan        nan        nan        nan        nan        nan\n",
      " 0.83038822 0.8299469  0.82497788 0.81813129 0.83038822 0.8299469\n",
      " 0.82497788 0.81813129 0.83038822 0.8299469  0.82497788 0.81813129\n",
      " 0.83298318 0.83414291 0.83154804 0.82950505 0.83298318 0.83414291\n",
      " 0.83154804 0.82950505 0.83298318 0.83414291 0.83154804 0.82950505\n",
      "        nan        nan        nan        nan        nan        nan\n",
      "        nan        nan        nan        nan        nan        nan\n",
      "        nan        nan        nan        nan        nan        nan\n",
      "        nan        nan        nan        nan        nan        nan\n",
      " 0.84965744 0.84965742 0.84927102 0.84905017 0.84965744 0.84965742\n",
      " 0.84927102 0.84905017 0.84965744 0.84965742 0.84927102 0.84905017\n",
      " 0.84976787 0.84982307 0.84938144 0.84910539 0.84976787 0.84982307\n",
      " 0.84938144 0.84910539 0.84976787 0.84982307 0.84938144 0.84910539\n",
      " 0.85407417 0.85479193 0.8555097  0.855841   0.85407417 0.85479193\n",
      " 0.8555097  0.855841   0.85407417 0.85479193 0.8555097  0.855841\n",
      " 0.85396375 0.85490233 0.85545448 0.85578579 0.85396375 0.85490233\n",
      " 0.85545448 0.85578579 0.85396375 0.85490233 0.85545448 0.85578579\n",
      " 0.85401895 0.85479193 0.85545448 0.855841   0.85401895 0.85479193\n",
      " 0.85545448 0.855841   0.85401895 0.85479193 0.85545448 0.855841\n",
      "        nan        nan        nan        nan        nan        nan\n",
      "        nan        nan        nan        nan        nan        nan\n",
      "        nan        nan        nan        nan        nan        nan\n",
      "        nan        nan        nan        nan        nan        nan\n",
      "        nan        nan        nan        nan        nan        nan\n",
      "        nan        nan        nan        nan        nan        nan]\n",
      "  warnings.warn(\n"
     ]
    },
    {
     "data": {
      "text/html": [
       "<style>#sk-container-id-5 {color: black;background-color: white;}#sk-container-id-5 pre{padding: 0;}#sk-container-id-5 div.sk-toggleable {background-color: white;}#sk-container-id-5 label.sk-toggleable__label {cursor: pointer;display: block;width: 100%;margin-bottom: 0;padding: 0.3em;box-sizing: border-box;text-align: center;}#sk-container-id-5 label.sk-toggleable__label-arrow:before {content: \"▸\";float: left;margin-right: 0.25em;color: #696969;}#sk-container-id-5 label.sk-toggleable__label-arrow:hover:before {color: black;}#sk-container-id-5 div.sk-estimator:hover label.sk-toggleable__label-arrow:before {color: black;}#sk-container-id-5 div.sk-toggleable__content {max-height: 0;max-width: 0;overflow: hidden;text-align: left;background-color: #f0f8ff;}#sk-container-id-5 div.sk-toggleable__content pre {margin: 0.2em;color: black;border-radius: 0.25em;background-color: #f0f8ff;}#sk-container-id-5 input.sk-toggleable__control:checked~div.sk-toggleable__content {max-height: 200px;max-width: 100%;overflow: auto;}#sk-container-id-5 input.sk-toggleable__control:checked~label.sk-toggleable__label-arrow:before {content: \"▾\";}#sk-container-id-5 div.sk-estimator input.sk-toggleable__control:checked~label.sk-toggleable__label {background-color: #d4ebff;}#sk-container-id-5 div.sk-label input.sk-toggleable__control:checked~label.sk-toggleable__label {background-color: #d4ebff;}#sk-container-id-5 input.sk-hidden--visually {border: 0;clip: rect(1px 1px 1px 1px);clip: rect(1px, 1px, 1px, 1px);height: 1px;margin: -1px;overflow: hidden;padding: 0;position: absolute;width: 1px;}#sk-container-id-5 div.sk-estimator {font-family: monospace;background-color: #f0f8ff;border: 1px dotted black;border-radius: 0.25em;box-sizing: border-box;margin-bottom: 0.5em;}#sk-container-id-5 div.sk-estimator:hover {background-color: #d4ebff;}#sk-container-id-5 div.sk-parallel-item::after {content: \"\";width: 100%;border-bottom: 1px solid gray;flex-grow: 1;}#sk-container-id-5 div.sk-label:hover label.sk-toggleable__label {background-color: #d4ebff;}#sk-container-id-5 div.sk-serial::before {content: \"\";position: absolute;border-left: 1px solid gray;box-sizing: border-box;top: 0;bottom: 0;left: 50%;z-index: 0;}#sk-container-id-5 div.sk-serial {display: flex;flex-direction: column;align-items: center;background-color: white;padding-right: 0.2em;padding-left: 0.2em;position: relative;}#sk-container-id-5 div.sk-item {position: relative;z-index: 1;}#sk-container-id-5 div.sk-parallel {display: flex;align-items: stretch;justify-content: center;background-color: white;position: relative;}#sk-container-id-5 div.sk-item::before, #sk-container-id-5 div.sk-parallel-item::before {content: \"\";position: absolute;border-left: 1px solid gray;box-sizing: border-box;top: 0;bottom: 0;left: 50%;z-index: -1;}#sk-container-id-5 div.sk-parallel-item {display: flex;flex-direction: column;z-index: 1;position: relative;background-color: white;}#sk-container-id-5 div.sk-parallel-item:first-child::after {align-self: flex-end;width: 50%;}#sk-container-id-5 div.sk-parallel-item:last-child::after {align-self: flex-start;width: 50%;}#sk-container-id-5 div.sk-parallel-item:only-child::after {width: 0;}#sk-container-id-5 div.sk-dashed-wrapped {border: 1px dashed gray;margin: 0 0.4em 0.5em 0.4em;box-sizing: border-box;padding-bottom: 0.4em;background-color: white;}#sk-container-id-5 div.sk-label label {font-family: monospace;font-weight: bold;display: inline-block;line-height: 1.2em;}#sk-container-id-5 div.sk-label-container {text-align: center;}#sk-container-id-5 div.sk-container {/* jupyter's `normalize.less` sets `[hidden] { display: none; }` but bootstrap.min.css set `[hidden] { display: none !important; }` so we also need the `!important` here to be able to override the default hidden behavior on the sphinx rendered scikit-learn.org. See: https://github.com/scikit-learn/scikit-learn/issues/21755 */display: inline-block !important;position: relative;}#sk-container-id-5 div.sk-text-repr-fallback {display: none;}</style><div id=\"sk-container-id-5\" class=\"sk-top-container\"><div class=\"sk-text-repr-fallback\"><pre>GridSearchCV(cv=5,\n",
       "             estimator=Pipeline(steps=[(&#x27;vect&#x27;, TfidfVectorizer()),\n",
       "                                       (&#x27;lr&#x27;,\n",
       "                                        LogisticRegression(random_state=42))]),\n",
       "             n_jobs=-2,\n",
       "             param_grid={&#x27;lr__class_weight&#x27;: (None, &#x27;balanced&#x27;),\n",
       "                         &#x27;lr__penalty&#x27;: (&#x27;none&#x27;, &#x27;l1&#x27;, &#x27;l2&#x27;, &#x27;elasticnet&#x27;),\n",
       "                         &#x27;lr__solver&#x27;: (&#x27;lbfgs&#x27;, &#x27;saga&#x27;, &#x27;liblinear&#x27;),\n",
       "                         &#x27;vect__max_df&#x27;: (0.4, 0.5, 0.6),\n",
       "                         &#x27;vect__max_features&#x27;: (2000, 2250, 2500, 3000)},\n",
       "             verbose=3)</pre><b>In a Jupyter environment, please rerun this cell to show the HTML representation or trust the notebook. <br />On GitHub, the HTML representation is unable to render, please try loading this page with nbviewer.org.</b></div><div class=\"sk-container\" hidden><div class=\"sk-item sk-dashed-wrapped\"><div class=\"sk-label-container\"><div class=\"sk-label sk-toggleable\"><input class=\"sk-toggleable__control sk-hidden--visually\" id=\"sk-estimator-id-16\" type=\"checkbox\" ><label for=\"sk-estimator-id-16\" class=\"sk-toggleable__label sk-toggleable__label-arrow\">GridSearchCV</label><div class=\"sk-toggleable__content\"><pre>GridSearchCV(cv=5,\n",
       "             estimator=Pipeline(steps=[(&#x27;vect&#x27;, TfidfVectorizer()),\n",
       "                                       (&#x27;lr&#x27;,\n",
       "                                        LogisticRegression(random_state=42))]),\n",
       "             n_jobs=-2,\n",
       "             param_grid={&#x27;lr__class_weight&#x27;: (None, &#x27;balanced&#x27;),\n",
       "                         &#x27;lr__penalty&#x27;: (&#x27;none&#x27;, &#x27;l1&#x27;, &#x27;l2&#x27;, &#x27;elasticnet&#x27;),\n",
       "                         &#x27;lr__solver&#x27;: (&#x27;lbfgs&#x27;, &#x27;saga&#x27;, &#x27;liblinear&#x27;),\n",
       "                         &#x27;vect__max_df&#x27;: (0.4, 0.5, 0.6),\n",
       "                         &#x27;vect__max_features&#x27;: (2000, 2250, 2500, 3000)},\n",
       "             verbose=3)</pre></div></div></div><div class=\"sk-parallel\"><div class=\"sk-parallel-item\"><div class=\"sk-item\"><div class=\"sk-label-container\"><div class=\"sk-label sk-toggleable\"><input class=\"sk-toggleable__control sk-hidden--visually\" id=\"sk-estimator-id-17\" type=\"checkbox\" ><label for=\"sk-estimator-id-17\" class=\"sk-toggleable__label sk-toggleable__label-arrow\">estimator: Pipeline</label><div class=\"sk-toggleable__content\"><pre>Pipeline(steps=[(&#x27;vect&#x27;, TfidfVectorizer()),\n",
       "                (&#x27;lr&#x27;, LogisticRegression(random_state=42))])</pre></div></div></div><div class=\"sk-serial\"><div class=\"sk-item\"><div class=\"sk-serial\"><div class=\"sk-item\"><div class=\"sk-estimator sk-toggleable\"><input class=\"sk-toggleable__control sk-hidden--visually\" id=\"sk-estimator-id-18\" type=\"checkbox\" ><label for=\"sk-estimator-id-18\" class=\"sk-toggleable__label sk-toggleable__label-arrow\">TfidfVectorizer</label><div class=\"sk-toggleable__content\"><pre>TfidfVectorizer()</pre></div></div></div><div class=\"sk-item\"><div class=\"sk-estimator sk-toggleable\"><input class=\"sk-toggleable__control sk-hidden--visually\" id=\"sk-estimator-id-19\" type=\"checkbox\" ><label for=\"sk-estimator-id-19\" class=\"sk-toggleable__label sk-toggleable__label-arrow\">LogisticRegression</label><div class=\"sk-toggleable__content\"><pre>LogisticRegression(random_state=42)</pre></div></div></div></div></div></div></div></div></div></div></div></div>"
      ],
      "text/plain": [
       "GridSearchCV(cv=5,\n",
       "             estimator=Pipeline(steps=[('vect', TfidfVectorizer()),\n",
       "                                       ('lr',\n",
       "                                        LogisticRegression(random_state=42))]),\n",
       "             n_jobs=-2,\n",
       "             param_grid={'lr__class_weight': (None, 'balanced'),\n",
       "                         'lr__penalty': ('none', 'l1', 'l2', 'elasticnet'),\n",
       "                         'lr__solver': ('lbfgs', 'saga', 'liblinear'),\n",
       "                         'vect__max_df': (0.4, 0.5, 0.6),\n",
       "                         'vect__max_features': (2000, 2250, 2500, 3000)},\n",
       "             verbose=3)"
      ]
     },
     "execution_count": 73,
     "metadata": {},
     "output_type": "execute_result"
    }
   ],
   "source": [
    "#grid_lr2.fit(X_train, y_train)"
   ]
  },
  {
   "cell_type": "code",
   "execution_count": 74,
   "id": "3f1ee871",
   "metadata": {},
   "outputs": [
    {
     "name": "stdout",
     "output_type": "stream",
     "text": [
      "Grid Search found the following optimal parameters: \n",
      "lr__class_weight: None\n",
      "lr__penalty: 'l2'\n",
      "lr__solver: 'lbfgs'\n",
      "vect__max_df: 0.4\n",
      "vect__max_features: 3000\n",
      "Training Accuracy: 89.84%\n",
      "[0.66738817 0.96724953]\n"
     ]
    }
   ],
   "source": [
    "#best_parameters = grid_lr2.best_params_\n",
    "\n",
    "#print('Grid Search found the following optimal parameters: ')\n",
    "#for param_name in sorted(best_parameters.keys()):\n",
    "    #print('%s: %r' % (param_name, best_parameters[param_name]))\n",
    "\n",
    "#training_preds = grid_lr2.predict(X_train)\n",
    "#training_accuracy = accuracy_score(y_train, training_preds)\n",
    "#training_recall = recall_score(y_train, training_preds, average = None)\n",
    "\n",
    "#print('Training Accuracy: {:.4}%'.format(training_accuracy * 100))\n",
    "#print(training_recall)"
   ]
  },
  {
   "cell_type": "markdown",
   "id": "3fd5987b",
   "metadata": {},
   "source": [
    "Grid Search found the following optimal parameters: \n",
    "- lr__class_weight: None\n",
    "- lr__penalty: 'l2'\n",
    "- lr__solver: 'lbfgs'\n",
    "- vect__max_df: 0.4\n",
    "- vect__max_features: 3000\n",
    "- Training Accuracy: 89.84%\n",
    "- [0.66738817 0.96724953]"
   ]
  },
  {
   "cell_type": "code",
   "execution_count": 79,
   "id": "9da20f46",
   "metadata": {},
   "outputs": [],
   "source": [
    "#maxed out max_features again and hit minimum max_df; adding in n_gram_range to search for unigrams and bigrams"
   ]
  },
  {
   "cell_type": "code",
   "execution_count": 161,
   "id": "a6deaa6d",
   "metadata": {},
   "outputs": [],
   "source": [
    "lr2_pipe = Pipeline([\n",
    "           ('vect', TfidfVectorizer(max_df=.4, max_features=3000)),\n",
    "           ('lr', LogisticRegression(random_state=42, class_weight=None, solver='lbfgs', penalty='l2')),\n",
    "])"
   ]
  },
  {
   "cell_type": "code",
   "execution_count": 162,
   "id": "8ab73232",
   "metadata": {},
   "outputs": [
    {
     "data": {
      "text/html": [
       "<style>#sk-container-id-22 {color: black;background-color: white;}#sk-container-id-22 pre{padding: 0;}#sk-container-id-22 div.sk-toggleable {background-color: white;}#sk-container-id-22 label.sk-toggleable__label {cursor: pointer;display: block;width: 100%;margin-bottom: 0;padding: 0.3em;box-sizing: border-box;text-align: center;}#sk-container-id-22 label.sk-toggleable__label-arrow:before {content: \"▸\";float: left;margin-right: 0.25em;color: #696969;}#sk-container-id-22 label.sk-toggleable__label-arrow:hover:before {color: black;}#sk-container-id-22 div.sk-estimator:hover label.sk-toggleable__label-arrow:before {color: black;}#sk-container-id-22 div.sk-toggleable__content {max-height: 0;max-width: 0;overflow: hidden;text-align: left;background-color: #f0f8ff;}#sk-container-id-22 div.sk-toggleable__content pre {margin: 0.2em;color: black;border-radius: 0.25em;background-color: #f0f8ff;}#sk-container-id-22 input.sk-toggleable__control:checked~div.sk-toggleable__content {max-height: 200px;max-width: 100%;overflow: auto;}#sk-container-id-22 input.sk-toggleable__control:checked~label.sk-toggleable__label-arrow:before {content: \"▾\";}#sk-container-id-22 div.sk-estimator input.sk-toggleable__control:checked~label.sk-toggleable__label {background-color: #d4ebff;}#sk-container-id-22 div.sk-label input.sk-toggleable__control:checked~label.sk-toggleable__label {background-color: #d4ebff;}#sk-container-id-22 input.sk-hidden--visually {border: 0;clip: rect(1px 1px 1px 1px);clip: rect(1px, 1px, 1px, 1px);height: 1px;margin: -1px;overflow: hidden;padding: 0;position: absolute;width: 1px;}#sk-container-id-22 div.sk-estimator {font-family: monospace;background-color: #f0f8ff;border: 1px dotted black;border-radius: 0.25em;box-sizing: border-box;margin-bottom: 0.5em;}#sk-container-id-22 div.sk-estimator:hover {background-color: #d4ebff;}#sk-container-id-22 div.sk-parallel-item::after {content: \"\";width: 100%;border-bottom: 1px solid gray;flex-grow: 1;}#sk-container-id-22 div.sk-label:hover label.sk-toggleable__label {background-color: #d4ebff;}#sk-container-id-22 div.sk-serial::before {content: \"\";position: absolute;border-left: 1px solid gray;box-sizing: border-box;top: 0;bottom: 0;left: 50%;z-index: 0;}#sk-container-id-22 div.sk-serial {display: flex;flex-direction: column;align-items: center;background-color: white;padding-right: 0.2em;padding-left: 0.2em;position: relative;}#sk-container-id-22 div.sk-item {position: relative;z-index: 1;}#sk-container-id-22 div.sk-parallel {display: flex;align-items: stretch;justify-content: center;background-color: white;position: relative;}#sk-container-id-22 div.sk-item::before, #sk-container-id-22 div.sk-parallel-item::before {content: \"\";position: absolute;border-left: 1px solid gray;box-sizing: border-box;top: 0;bottom: 0;left: 50%;z-index: -1;}#sk-container-id-22 div.sk-parallel-item {display: flex;flex-direction: column;z-index: 1;position: relative;background-color: white;}#sk-container-id-22 div.sk-parallel-item:first-child::after {align-self: flex-end;width: 50%;}#sk-container-id-22 div.sk-parallel-item:last-child::after {align-self: flex-start;width: 50%;}#sk-container-id-22 div.sk-parallel-item:only-child::after {width: 0;}#sk-container-id-22 div.sk-dashed-wrapped {border: 1px dashed gray;margin: 0 0.4em 0.5em 0.4em;box-sizing: border-box;padding-bottom: 0.4em;background-color: white;}#sk-container-id-22 div.sk-label label {font-family: monospace;font-weight: bold;display: inline-block;line-height: 1.2em;}#sk-container-id-22 div.sk-label-container {text-align: center;}#sk-container-id-22 div.sk-container {/* jupyter's `normalize.less` sets `[hidden] { display: none; }` but bootstrap.min.css set `[hidden] { display: none !important; }` so we also need the `!important` here to be able to override the default hidden behavior on the sphinx rendered scikit-learn.org. See: https://github.com/scikit-learn/scikit-learn/issues/21755 */display: inline-block !important;position: relative;}#sk-container-id-22 div.sk-text-repr-fallback {display: none;}</style><div id=\"sk-container-id-22\" class=\"sk-top-container\"><div class=\"sk-text-repr-fallback\"><pre>Pipeline(steps=[(&#x27;vect&#x27;, TfidfVectorizer(max_df=0.4, max_features=3000)),\n",
       "                (&#x27;lr&#x27;, LogisticRegression(random_state=42))])</pre><b>In a Jupyter environment, please rerun this cell to show the HTML representation or trust the notebook. <br />On GitHub, the HTML representation is unable to render, please try loading this page with nbviewer.org.</b></div><div class=\"sk-container\" hidden><div class=\"sk-item sk-dashed-wrapped\"><div class=\"sk-label-container\"><div class=\"sk-label sk-toggleable\"><input class=\"sk-toggleable__control sk-hidden--visually\" id=\"sk-estimator-id-74\" type=\"checkbox\" ><label for=\"sk-estimator-id-74\" class=\"sk-toggleable__label sk-toggleable__label-arrow\">Pipeline</label><div class=\"sk-toggleable__content\"><pre>Pipeline(steps=[(&#x27;vect&#x27;, TfidfVectorizer(max_df=0.4, max_features=3000)),\n",
       "                (&#x27;lr&#x27;, LogisticRegression(random_state=42))])</pre></div></div></div><div class=\"sk-serial\"><div class=\"sk-item\"><div class=\"sk-estimator sk-toggleable\"><input class=\"sk-toggleable__control sk-hidden--visually\" id=\"sk-estimator-id-75\" type=\"checkbox\" ><label for=\"sk-estimator-id-75\" class=\"sk-toggleable__label sk-toggleable__label-arrow\">TfidfVectorizer</label><div class=\"sk-toggleable__content\"><pre>TfidfVectorizer(max_df=0.4, max_features=3000)</pre></div></div></div><div class=\"sk-item\"><div class=\"sk-estimator sk-toggleable\"><input class=\"sk-toggleable__control sk-hidden--visually\" id=\"sk-estimator-id-76\" type=\"checkbox\" ><label for=\"sk-estimator-id-76\" class=\"sk-toggleable__label sk-toggleable__label-arrow\">LogisticRegression</label><div class=\"sk-toggleable__content\"><pre>LogisticRegression(random_state=42)</pre></div></div></div></div></div></div></div>"
      ],
      "text/plain": [
       "Pipeline(steps=[('vect', TfidfVectorizer(max_df=0.4, max_features=3000)),\n",
       "                ('lr', LogisticRegression(random_state=42))])"
      ]
     },
     "execution_count": 162,
     "metadata": {},
     "output_type": "execute_result"
    }
   ],
   "source": [
    "lr2_pipe.fit(X_train, y_train)"
   ]
  },
  {
   "cell_type": "code",
   "execution_count": 163,
   "id": "382d4262",
   "metadata": {},
   "outputs": [
    {
     "data": {
      "text/plain": [
       "0.8984098939929329"
      ]
     },
     "execution_count": 163,
     "metadata": {},
     "output_type": "execute_result"
    }
   ],
   "source": [
    "lr2_pipe.score(X_train, y_train)"
   ]
  },
  {
   "cell_type": "code",
   "execution_count": 164,
   "id": "06155bc5",
   "metadata": {},
   "outputs": [
    {
     "data": {
      "text/plain": [
       "{'fit_time': 0.38827,\n",
       " 'score_time': 0.13751,\n",
       " 'test_accuracy': 0.87594,\n",
       " 'test_precision': 0.87151,\n",
       " 'test_recall': 0.87594,\n",
       " 'test_f1': 0.8687,\n",
       " 'test_log_loss': -0.29704}"
      ]
     },
     "execution_count": 164,
     "metadata": {},
     "output_type": "execute_result"
    }
   ],
   "source": [
    "cross_val(lr2_pipe, X_train, y_train)"
   ]
  },
  {
   "cell_type": "code",
   "execution_count": 80,
   "id": "1e6ab499",
   "metadata": {},
   "outputs": [],
   "source": [
    "lr3_params = {\n",
    "    'vect__max_df': (.25, .3, .4, .45),\n",
    "    'vect__max_features': (2500, 2750, 3000, 3200),\n",
    "    'vect__ngram_range': [(1,1), (1,2), (2,2)],\n",
    "    'lr__solver': ('lbfgs', 'saga', 'liblinear'),\n",
    "    'lr__penalty': ('l2', 'elasticnet'),\n",
    "    'lr__class_weight': (None, 'balanced')\n",
    "    }"
   ]
  },
  {
   "cell_type": "code",
   "execution_count": 81,
   "id": "d3471084",
   "metadata": {},
   "outputs": [],
   "source": [
    "grid_lr3 = GridSearchCV(lr_pipe, param_grid=lr3_params, cv=5, verbose=3, n_jobs=-2)"
   ]
  },
  {
   "cell_type": "code",
   "execution_count": 82,
   "id": "332fcb3d",
   "metadata": {},
   "outputs": [
    {
     "name": "stdout",
     "output_type": "stream",
     "text": [
      "Fitting 5 folds for each of 576 candidates, totalling 2880 fits\n"
     ]
    },
    {
     "name": "stderr",
     "output_type": "stream",
     "text": [
      "/Users/jillian/opt/anaconda3/envs/learn-env/lib/python3.8/site-packages/joblib/externals/loky/process_executor.py:702: UserWarning: A worker stopped while some jobs were given to the executor. This can be caused by a too short worker timeout or by a memory leak.\n",
      "  warnings.warn(\n",
      "/Users/jillian/opt/anaconda3/envs/learn-env/lib/python3.8/site-packages/sklearn/model_selection/_validation.py:378: FitFailedWarning: \n",
      "1440 fits failed out of a total of 2880.\n",
      "The score on these train-test partitions for these parameters will be set to nan.\n",
      "If these failures are not expected, you can try to debug them by setting error_score='raise'.\n",
      "\n",
      "Below are more details about the failures:\n",
      "--------------------------------------------------------------------------------\n",
      "480 fits failed with the following error:\n",
      "Traceback (most recent call last):\n",
      "  File \"/Users/jillian/opt/anaconda3/envs/learn-env/lib/python3.8/site-packages/sklearn/model_selection/_validation.py\", line 686, in _fit_and_score\n",
      "    estimator.fit(X_train, y_train, **fit_params)\n",
      "  File \"/Users/jillian/opt/anaconda3/envs/learn-env/lib/python3.8/site-packages/sklearn/pipeline.py\", line 382, in fit\n",
      "    self._final_estimator.fit(Xt, y, **fit_params_last_step)\n",
      "  File \"/Users/jillian/opt/anaconda3/envs/learn-env/lib/python3.8/site-packages/sklearn/linear_model/_logistic.py\", line 1091, in fit\n",
      "    solver = _check_solver(self.solver, self.penalty, self.dual)\n",
      "  File \"/Users/jillian/opt/anaconda3/envs/learn-env/lib/python3.8/site-packages/sklearn/linear_model/_logistic.py\", line 61, in _check_solver\n",
      "    raise ValueError(\n",
      "ValueError: Solver lbfgs supports only 'l2' or 'none' penalties, got elasticnet penalty.\n",
      "\n",
      "--------------------------------------------------------------------------------\n",
      "480 fits failed with the following error:\n",
      "Traceback (most recent call last):\n",
      "  File \"/Users/jillian/opt/anaconda3/envs/learn-env/lib/python3.8/site-packages/sklearn/model_selection/_validation.py\", line 686, in _fit_and_score\n",
      "    estimator.fit(X_train, y_train, **fit_params)\n",
      "  File \"/Users/jillian/opt/anaconda3/envs/learn-env/lib/python3.8/site-packages/sklearn/pipeline.py\", line 382, in fit\n",
      "    self._final_estimator.fit(Xt, y, **fit_params_last_step)\n",
      "  File \"/Users/jillian/opt/anaconda3/envs/learn-env/lib/python3.8/site-packages/sklearn/linear_model/_logistic.py\", line 1101, in fit\n",
      "    raise ValueError(\n",
      "ValueError: l1_ratio must be between 0 and 1; got (l1_ratio=None)\n",
      "\n",
      "--------------------------------------------------------------------------------\n",
      "480 fits failed with the following error:\n",
      "Traceback (most recent call last):\n",
      "  File \"/Users/jillian/opt/anaconda3/envs/learn-env/lib/python3.8/site-packages/sklearn/model_selection/_validation.py\", line 686, in _fit_and_score\n",
      "    estimator.fit(X_train, y_train, **fit_params)\n",
      "  File \"/Users/jillian/opt/anaconda3/envs/learn-env/lib/python3.8/site-packages/sklearn/pipeline.py\", line 382, in fit\n",
      "    self._final_estimator.fit(Xt, y, **fit_params_last_step)\n",
      "  File \"/Users/jillian/opt/anaconda3/envs/learn-env/lib/python3.8/site-packages/sklearn/linear_model/_logistic.py\", line 1091, in fit\n",
      "    solver = _check_solver(self.solver, self.penalty, self.dual)\n",
      "  File \"/Users/jillian/opt/anaconda3/envs/learn-env/lib/python3.8/site-packages/sklearn/linear_model/_logistic.py\", line 71, in _check_solver\n",
      "    raise ValueError(\n",
      "ValueError: Only 'saga' solver supports elasticnet penalty, got solver=liblinear.\n",
      "\n",
      "  warnings.warn(some_fits_failed_message, FitFailedWarning)\n",
      "/Users/jillian/opt/anaconda3/envs/learn-env/lib/python3.8/site-packages/sklearn/model_selection/_search.py:953: UserWarning: One or more of the test scores are non-finite: [0.87257067 0.87433745 0.82679977 0.87246026 0.87472402 0.82945002\n",
      " 0.87218417 0.87505513 0.83005709 0.87234982 0.8749448  0.83000203\n",
      " 0.87223931 0.87373005 0.82679977 0.87234978 0.87450309 0.82945002\n",
      " 0.87262585 0.87444781 0.83005709 0.87268103 0.87433742 0.83000203\n",
      " 0.87577287 0.87450292 0.82679977 0.87593853 0.87527594 0.82945002\n",
      " 0.87593856 0.87505501 0.83005709 0.87522082 0.87533108 0.83000203\n",
      " 0.87577287 0.87450292 0.82679977 0.87593853 0.87527594 0.82945002\n",
      " 0.87593856 0.87505501 0.83005709 0.87522082 0.87533108 0.83000203\n",
      " 0.87262587 0.87444787 0.82685498 0.8725707  0.87472402 0.82950523\n",
      " 0.87212894 0.87499991 0.82994666 0.87246023 0.87505521 0.83000203\n",
      " 0.8723497  0.87389569 0.82685498 0.87240498 0.87439265 0.82950523\n",
      " 0.87262585 0.874503   0.82994666 0.87279145 0.87417178 0.83000203\n",
      " 0.87582809 0.87461332 0.82685498 0.87577289 0.87533116 0.82950523\n",
      " 0.87593854 0.87516541 0.82994666 0.87522082 0.87511023 0.83000203\n",
      " 0.87582809 0.87461332 0.82685498 0.87577289 0.87533116 0.82950523\n",
      " 0.87593854 0.87516541 0.82994666 0.87522082 0.87511023 0.83000203\n",
      " 0.87262587 0.87439267 0.82685498 0.8725707  0.87472402 0.82945002\n",
      " 0.87223937 0.87499991 0.83005709 0.87246023 0.87499999 0.83000203\n",
      " 0.87240492 0.87389569 0.82685498 0.8724602  0.87444787 0.82945002\n",
      " 0.87268107 0.874503   0.83005709 0.87273623 0.87417178 0.83000203\n",
      " 0.87582809 0.87455811 0.82685498 0.87593854 0.87516552 0.82945002\n",
      " 0.87588333 0.87516541 0.83005709 0.87533125 0.87516544 0.83000203\n",
      " 0.87582809 0.87455811 0.82685498 0.87593854 0.87516552 0.82945002\n",
      " 0.87588333 0.87516541 0.83005709 0.87533125 0.87516544 0.83000203\n",
      "        nan        nan        nan        nan        nan        nan\n",
      "        nan        nan        nan        nan        nan        nan\n",
      "        nan        nan        nan        nan        nan        nan\n",
      "        nan        nan        nan        nan        nan        nan\n",
      "        nan        nan        nan        nan        nan        nan\n",
      "        nan        nan        nan        nan        nan        nan\n",
      "        nan        nan        nan        nan        nan        nan\n",
      "        nan        nan        nan        nan        nan        nan\n",
      "        nan        nan        nan        nan        nan        nan\n",
      "        nan        nan        nan        nan        nan        nan\n",
      "        nan        nan        nan        nan        nan        nan\n",
      "        nan        nan        nan        nan        nan        nan\n",
      "        nan        nan        nan        nan        nan        nan\n",
      "        nan        nan        nan        nan        nan        nan\n",
      "        nan        nan        nan        nan        nan        nan\n",
      "        nan        nan        nan        nan        nan        nan\n",
      "        nan        nan        nan        nan        nan        nan\n",
      "        nan        nan        nan        nan        nan        nan\n",
      "        nan        nan        nan        nan        nan        nan\n",
      "        nan        nan        nan        nan        nan        nan\n",
      "        nan        nan        nan        nan        nan        nan\n",
      "        nan        nan        nan        nan        nan        nan\n",
      "        nan        nan        nan        nan        nan        nan\n",
      "        nan        nan        nan        nan        nan        nan\n",
      " 0.85131355 0.85584107 0.78815139 0.85186572 0.8571108  0.79036023\n",
      " 0.8523074  0.85749726 0.79538457 0.85203134 0.85832543 0.79764828\n",
      " 0.85225211 0.8557859  0.78815139 0.85214166 0.85666921 0.79036023\n",
      " 0.85225221 0.85738686 0.79538457 0.85175525 0.85771811 0.79764828\n",
      " 0.8555097  0.85904334 0.78815139 0.85584098 0.85926415 0.79036023\n",
      " 0.855841   0.85915372 0.79538457 0.85622752 0.86009232 0.79764828\n",
      " 0.8555097  0.85904334 0.78815139 0.85584098 0.85926415 0.79036023\n",
      " 0.855841   0.85915372 0.79538457 0.85622752 0.86009232 0.79764828\n",
      " 0.85131355 0.85584107 0.78815139 0.8518105  0.85705558 0.79030501\n",
      " 0.85225221 0.85749726 0.79538457 0.85214175 0.85832543 0.79753785\n",
      " 0.85219689 0.8557859  0.78815139 0.85203124 0.85661399 0.79030501\n",
      " 0.8523074  0.85733166 0.79538457 0.85164485 0.8576629  0.79753785\n",
      " 0.85545448 0.85893294 0.78815139 0.85573056 0.85931936 0.79030501\n",
      " 0.85578579 0.85926412 0.79538457 0.8561171  0.86003711 0.79753785\n",
      " 0.85545448 0.85893294 0.78815139 0.85573056 0.85931936 0.79030501\n",
      " 0.85578579 0.85926412 0.79538457 0.8561171  0.86003711 0.79753785\n",
      " 0.85125835 0.85584107 0.78815139 0.8518105  0.85705558 0.79030501\n",
      " 0.8523074  0.85755247 0.79532935 0.85203134 0.85827023 0.79764828\n",
      " 0.85225211 0.8557859  0.78815139 0.85214166 0.85666921 0.79030501\n",
      " 0.85225221 0.85733166 0.79532935 0.85181047 0.85771811 0.79764828\n",
      " 0.85545448 0.85898812 0.78815139 0.85578576 0.85920895 0.79030501\n",
      " 0.855841   0.85926412 0.79532935 0.8561723  0.86009232 0.79764828\n",
      " 0.85545448 0.85898812 0.78815139 0.85578576 0.85920895 0.79030501\n",
      " 0.855841   0.85926412 0.79532935 0.8561723  0.86009232 0.79764828\n",
      "        nan        nan        nan        nan        nan        nan\n",
      "        nan        nan        nan        nan        nan        nan\n",
      "        nan        nan        nan        nan        nan        nan\n",
      "        nan        nan        nan        nan        nan        nan\n",
      "        nan        nan        nan        nan        nan        nan\n",
      "        nan        nan        nan        nan        nan        nan\n",
      "        nan        nan        nan        nan        nan        nan\n",
      "        nan        nan        nan        nan        nan        nan\n",
      "        nan        nan        nan        nan        nan        nan\n",
      "        nan        nan        nan        nan        nan        nan\n",
      "        nan        nan        nan        nan        nan        nan\n",
      "        nan        nan        nan        nan        nan        nan\n",
      "        nan        nan        nan        nan        nan        nan\n",
      "        nan        nan        nan        nan        nan        nan\n",
      "        nan        nan        nan        nan        nan        nan\n",
      "        nan        nan        nan        nan        nan        nan\n",
      "        nan        nan        nan        nan        nan        nan\n",
      "        nan        nan        nan        nan        nan        nan\n",
      "        nan        nan        nan        nan        nan        nan\n",
      "        nan        nan        nan        nan        nan        nan\n",
      "        nan        nan        nan        nan        nan        nan\n",
      "        nan        nan        nan        nan        nan        nan\n",
      "        nan        nan        nan        nan        nan        nan\n",
      "        nan        nan        nan        nan        nan        nan]\n",
      "  warnings.warn(\n"
     ]
    },
    {
     "data": {
      "text/html": [
       "<style>#sk-container-id-6 {color: black;background-color: white;}#sk-container-id-6 pre{padding: 0;}#sk-container-id-6 div.sk-toggleable {background-color: white;}#sk-container-id-6 label.sk-toggleable__label {cursor: pointer;display: block;width: 100%;margin-bottom: 0;padding: 0.3em;box-sizing: border-box;text-align: center;}#sk-container-id-6 label.sk-toggleable__label-arrow:before {content: \"▸\";float: left;margin-right: 0.25em;color: #696969;}#sk-container-id-6 label.sk-toggleable__label-arrow:hover:before {color: black;}#sk-container-id-6 div.sk-estimator:hover label.sk-toggleable__label-arrow:before {color: black;}#sk-container-id-6 div.sk-toggleable__content {max-height: 0;max-width: 0;overflow: hidden;text-align: left;background-color: #f0f8ff;}#sk-container-id-6 div.sk-toggleable__content pre {margin: 0.2em;color: black;border-radius: 0.25em;background-color: #f0f8ff;}#sk-container-id-6 input.sk-toggleable__control:checked~div.sk-toggleable__content {max-height: 200px;max-width: 100%;overflow: auto;}#sk-container-id-6 input.sk-toggleable__control:checked~label.sk-toggleable__label-arrow:before {content: \"▾\";}#sk-container-id-6 div.sk-estimator input.sk-toggleable__control:checked~label.sk-toggleable__label {background-color: #d4ebff;}#sk-container-id-6 div.sk-label input.sk-toggleable__control:checked~label.sk-toggleable__label {background-color: #d4ebff;}#sk-container-id-6 input.sk-hidden--visually {border: 0;clip: rect(1px 1px 1px 1px);clip: rect(1px, 1px, 1px, 1px);height: 1px;margin: -1px;overflow: hidden;padding: 0;position: absolute;width: 1px;}#sk-container-id-6 div.sk-estimator {font-family: monospace;background-color: #f0f8ff;border: 1px dotted black;border-radius: 0.25em;box-sizing: border-box;margin-bottom: 0.5em;}#sk-container-id-6 div.sk-estimator:hover {background-color: #d4ebff;}#sk-container-id-6 div.sk-parallel-item::after {content: \"\";width: 100%;border-bottom: 1px solid gray;flex-grow: 1;}#sk-container-id-6 div.sk-label:hover label.sk-toggleable__label {background-color: #d4ebff;}#sk-container-id-6 div.sk-serial::before {content: \"\";position: absolute;border-left: 1px solid gray;box-sizing: border-box;top: 0;bottom: 0;left: 50%;z-index: 0;}#sk-container-id-6 div.sk-serial {display: flex;flex-direction: column;align-items: center;background-color: white;padding-right: 0.2em;padding-left: 0.2em;position: relative;}#sk-container-id-6 div.sk-item {position: relative;z-index: 1;}#sk-container-id-6 div.sk-parallel {display: flex;align-items: stretch;justify-content: center;background-color: white;position: relative;}#sk-container-id-6 div.sk-item::before, #sk-container-id-6 div.sk-parallel-item::before {content: \"\";position: absolute;border-left: 1px solid gray;box-sizing: border-box;top: 0;bottom: 0;left: 50%;z-index: -1;}#sk-container-id-6 div.sk-parallel-item {display: flex;flex-direction: column;z-index: 1;position: relative;background-color: white;}#sk-container-id-6 div.sk-parallel-item:first-child::after {align-self: flex-end;width: 50%;}#sk-container-id-6 div.sk-parallel-item:last-child::after {align-self: flex-start;width: 50%;}#sk-container-id-6 div.sk-parallel-item:only-child::after {width: 0;}#sk-container-id-6 div.sk-dashed-wrapped {border: 1px dashed gray;margin: 0 0.4em 0.5em 0.4em;box-sizing: border-box;padding-bottom: 0.4em;background-color: white;}#sk-container-id-6 div.sk-label label {font-family: monospace;font-weight: bold;display: inline-block;line-height: 1.2em;}#sk-container-id-6 div.sk-label-container {text-align: center;}#sk-container-id-6 div.sk-container {/* jupyter's `normalize.less` sets `[hidden] { display: none; }` but bootstrap.min.css set `[hidden] { display: none !important; }` so we also need the `!important` here to be able to override the default hidden behavior on the sphinx rendered scikit-learn.org. See: https://github.com/scikit-learn/scikit-learn/issues/21755 */display: inline-block !important;position: relative;}#sk-container-id-6 div.sk-text-repr-fallback {display: none;}</style><div id=\"sk-container-id-6\" class=\"sk-top-container\"><div class=\"sk-text-repr-fallback\"><pre>GridSearchCV(cv=5,\n",
       "             estimator=Pipeline(steps=[(&#x27;vect&#x27;, TfidfVectorizer()),\n",
       "                                       (&#x27;lr&#x27;,\n",
       "                                        LogisticRegression(random_state=42))]),\n",
       "             n_jobs=-2,\n",
       "             param_grid={&#x27;lr__class_weight&#x27;: (None, &#x27;balanced&#x27;),\n",
       "                         &#x27;lr__penalty&#x27;: (&#x27;l2&#x27;, &#x27;elasticnet&#x27;),\n",
       "                         &#x27;lr__solver&#x27;: (&#x27;lbfgs&#x27;, &#x27;saga&#x27;, &#x27;liblinear&#x27;),\n",
       "                         &#x27;vect__max_df&#x27;: (0.25, 0.3, 0.4, 0.45),\n",
       "                         &#x27;vect__max_features&#x27;: (2500, 2750, 3000, 3200),\n",
       "                         &#x27;vect__ngram_range&#x27;: [(1, 1), (1, 2), (2, 2)]},\n",
       "             verbose=3)</pre><b>In a Jupyter environment, please rerun this cell to show the HTML representation or trust the notebook. <br />On GitHub, the HTML representation is unable to render, please try loading this page with nbviewer.org.</b></div><div class=\"sk-container\" hidden><div class=\"sk-item sk-dashed-wrapped\"><div class=\"sk-label-container\"><div class=\"sk-label sk-toggleable\"><input class=\"sk-toggleable__control sk-hidden--visually\" id=\"sk-estimator-id-20\" type=\"checkbox\" ><label for=\"sk-estimator-id-20\" class=\"sk-toggleable__label sk-toggleable__label-arrow\">GridSearchCV</label><div class=\"sk-toggleable__content\"><pre>GridSearchCV(cv=5,\n",
       "             estimator=Pipeline(steps=[(&#x27;vect&#x27;, TfidfVectorizer()),\n",
       "                                       (&#x27;lr&#x27;,\n",
       "                                        LogisticRegression(random_state=42))]),\n",
       "             n_jobs=-2,\n",
       "             param_grid={&#x27;lr__class_weight&#x27;: (None, &#x27;balanced&#x27;),\n",
       "                         &#x27;lr__penalty&#x27;: (&#x27;l2&#x27;, &#x27;elasticnet&#x27;),\n",
       "                         &#x27;lr__solver&#x27;: (&#x27;lbfgs&#x27;, &#x27;saga&#x27;, &#x27;liblinear&#x27;),\n",
       "                         &#x27;vect__max_df&#x27;: (0.25, 0.3, 0.4, 0.45),\n",
       "                         &#x27;vect__max_features&#x27;: (2500, 2750, 3000, 3200),\n",
       "                         &#x27;vect__ngram_range&#x27;: [(1, 1), (1, 2), (2, 2)]},\n",
       "             verbose=3)</pre></div></div></div><div class=\"sk-parallel\"><div class=\"sk-parallel-item\"><div class=\"sk-item\"><div class=\"sk-label-container\"><div class=\"sk-label sk-toggleable\"><input class=\"sk-toggleable__control sk-hidden--visually\" id=\"sk-estimator-id-21\" type=\"checkbox\" ><label for=\"sk-estimator-id-21\" class=\"sk-toggleable__label sk-toggleable__label-arrow\">estimator: Pipeline</label><div class=\"sk-toggleable__content\"><pre>Pipeline(steps=[(&#x27;vect&#x27;, TfidfVectorizer()),\n",
       "                (&#x27;lr&#x27;, LogisticRegression(random_state=42))])</pre></div></div></div><div class=\"sk-serial\"><div class=\"sk-item\"><div class=\"sk-serial\"><div class=\"sk-item\"><div class=\"sk-estimator sk-toggleable\"><input class=\"sk-toggleable__control sk-hidden--visually\" id=\"sk-estimator-id-22\" type=\"checkbox\" ><label for=\"sk-estimator-id-22\" class=\"sk-toggleable__label sk-toggleable__label-arrow\">TfidfVectorizer</label><div class=\"sk-toggleable__content\"><pre>TfidfVectorizer()</pre></div></div></div><div class=\"sk-item\"><div class=\"sk-estimator sk-toggleable\"><input class=\"sk-toggleable__control sk-hidden--visually\" id=\"sk-estimator-id-23\" type=\"checkbox\" ><label for=\"sk-estimator-id-23\" class=\"sk-toggleable__label sk-toggleable__label-arrow\">LogisticRegression</label><div class=\"sk-toggleable__content\"><pre>LogisticRegression(random_state=42)</pre></div></div></div></div></div></div></div></div></div></div></div></div>"
      ],
      "text/plain": [
       "GridSearchCV(cv=5,\n",
       "             estimator=Pipeline(steps=[('vect', TfidfVectorizer()),\n",
       "                                       ('lr',\n",
       "                                        LogisticRegression(random_state=42))]),\n",
       "             n_jobs=-2,\n",
       "             param_grid={'lr__class_weight': (None, 'balanced'),\n",
       "                         'lr__penalty': ('l2', 'elasticnet'),\n",
       "                         'lr__solver': ('lbfgs', 'saga', 'liblinear'),\n",
       "                         'vect__max_df': (0.25, 0.3, 0.4, 0.45),\n",
       "                         'vect__max_features': (2500, 2750, 3000, 3200),\n",
       "                         'vect__ngram_range': [(1, 1), (1, 2), (2, 2)]},\n",
       "             verbose=3)"
      ]
     },
     "execution_count": 82,
     "metadata": {},
     "output_type": "execute_result"
    }
   ],
   "source": [
    "#grid_lr3.fit(X_train, y_train)"
   ]
  },
  {
   "cell_type": "code",
   "execution_count": 83,
   "id": "3243f130",
   "metadata": {},
   "outputs": [
    {
     "name": "stdout",
     "output_type": "stream",
     "text": [
      "Grid Search found the following optimal parameters: \n",
      "lr__class_weight: None\n",
      "lr__penalty: 'l2'\n",
      "lr__solver: 'lbfgs'\n",
      "vect__max_df: 0.4\n",
      "vect__max_features: 3000\n",
      "vect__ngram_range: (1, 1)\n",
      "Training Accuracy: 89.84%\n",
      "[0.66738817 0.96724953]\n"
     ]
    }
   ],
   "source": [
    "#best_parameters = grid_lr3.best_params_\n",
    "\n",
    "#print('Grid Search found the following optimal parameters: ')\n",
    "#for param_name in sorted(best_parameters.keys()):\n",
    "#    print('%s: %r' % (param_name, best_parameters[param_name]))\n",
    "\n",
    "#training_preds = grid_lr3.predict(X_train)\n",
    "#training_accuracy = accuracy_score(y_train, training_preds)\n",
    "#training_recall = recall_score(y_train, training_preds, average = None)\n",
    "\n",
    "#print('Training Accuracy: {:.4}%'.format(training_accuracy * 100))\n",
    "#print(training_recall)"
   ]
  },
  {
   "cell_type": "markdown",
   "id": "6eefa3ca",
   "metadata": {},
   "source": [
    "Grid Search found the following optimal parameters: \n",
    "- lr__class_weight: None\n",
    "- lr__penalty: 'l2'\n",
    "- lr__solver: 'lbfgs'\n",
    "- vect__max_df: 0.4\n",
    "- vect__max_features: 3000\n",
    "- vect__ngram_range: (1, 1)\n",
    "- Training Accuracy: 89.84%\n",
    "- [0.66738817 0.96724953]"
   ]
  },
  {
   "cell_type": "code",
   "execution_count": 165,
   "id": "4478f94f",
   "metadata": {},
   "outputs": [],
   "source": [
    "#same results as lr2_pipe since ngram_range(1,1) is default and the only parameter that changed"
   ]
  },
  {
   "cell_type": "code",
   "execution_count": 168,
   "id": "50e8509a",
   "metadata": {},
   "outputs": [],
   "source": [
    "lr4_params = {\n",
    "    'vect__max_df': (.35, .4, .45),\n",
    "    'vect__max_features': (2800, 2900, 3000, 3100),\n",
    "    'vect__ngram_range': [(1,1), (1,2), (2,2)],\n",
    "    'lr__solver': ('lbfgs', 'saga', 'liblinear'),\n",
    "    'lr__penalty': ('l2', 'elasticnet'),\n",
    "    'lr__class_weight': (None, 'balanced')\n",
    "    }"
   ]
  },
  {
   "cell_type": "code",
   "execution_count": 169,
   "id": "5523091b",
   "metadata": {},
   "outputs": [],
   "source": [
    "grid_lr4 = GridSearchCV(lr_pipe, param_grid=lr4_params, cv=5, verbose=3, n_jobs=-2)"
   ]
  },
  {
   "cell_type": "code",
   "execution_count": 170,
   "id": "9fcc62dd",
   "metadata": {},
   "outputs": [
    {
     "name": "stdout",
     "output_type": "stream",
     "text": [
      "Fitting 5 folds for each of 432 candidates, totalling 2160 fits\n"
     ]
    },
    {
     "name": "stderr",
     "output_type": "stream",
     "text": [
      "/Users/jillian/opt/anaconda3/envs/learn-env/lib/python3.8/site-packages/joblib/externals/loky/process_executor.py:702: UserWarning: A worker stopped while some jobs were given to the executor. This can be caused by a too short worker timeout or by a memory leak.\n",
      "  warnings.warn(\n",
      "/Users/jillian/opt/anaconda3/envs/learn-env/lib/python3.8/site-packages/sklearn/model_selection/_validation.py:378: FitFailedWarning: \n",
      "1080 fits failed out of a total of 2160.\n",
      "The score on these train-test partitions for these parameters will be set to nan.\n",
      "If these failures are not expected, you can try to debug them by setting error_score='raise'.\n",
      "\n",
      "Below are more details about the failures:\n",
      "--------------------------------------------------------------------------------\n",
      "360 fits failed with the following error:\n",
      "Traceback (most recent call last):\n",
      "  File \"/Users/jillian/opt/anaconda3/envs/learn-env/lib/python3.8/site-packages/sklearn/model_selection/_validation.py\", line 686, in _fit_and_score\n",
      "    estimator.fit(X_train, y_train, **fit_params)\n",
      "  File \"/Users/jillian/opt/anaconda3/envs/learn-env/lib/python3.8/site-packages/sklearn/pipeline.py\", line 382, in fit\n",
      "    self._final_estimator.fit(Xt, y, **fit_params_last_step)\n",
      "  File \"/Users/jillian/opt/anaconda3/envs/learn-env/lib/python3.8/site-packages/sklearn/linear_model/_logistic.py\", line 1091, in fit\n",
      "    solver = _check_solver(self.solver, self.penalty, self.dual)\n",
      "  File \"/Users/jillian/opt/anaconda3/envs/learn-env/lib/python3.8/site-packages/sklearn/linear_model/_logistic.py\", line 61, in _check_solver\n",
      "    raise ValueError(\n",
      "ValueError: Solver lbfgs supports only 'l2' or 'none' penalties, got elasticnet penalty.\n",
      "\n",
      "--------------------------------------------------------------------------------\n",
      "360 fits failed with the following error:\n",
      "Traceback (most recent call last):\n",
      "  File \"/Users/jillian/opt/anaconda3/envs/learn-env/lib/python3.8/site-packages/sklearn/model_selection/_validation.py\", line 686, in _fit_and_score\n",
      "    estimator.fit(X_train, y_train, **fit_params)\n",
      "  File \"/Users/jillian/opt/anaconda3/envs/learn-env/lib/python3.8/site-packages/sklearn/pipeline.py\", line 382, in fit\n",
      "    self._final_estimator.fit(Xt, y, **fit_params_last_step)\n",
      "  File \"/Users/jillian/opt/anaconda3/envs/learn-env/lib/python3.8/site-packages/sklearn/linear_model/_logistic.py\", line 1101, in fit\n",
      "    raise ValueError(\n",
      "ValueError: l1_ratio must be between 0 and 1; got (l1_ratio=None)\n",
      "\n",
      "--------------------------------------------------------------------------------\n",
      "360 fits failed with the following error:\n",
      "Traceback (most recent call last):\n",
      "  File \"/Users/jillian/opt/anaconda3/envs/learn-env/lib/python3.8/site-packages/sklearn/model_selection/_validation.py\", line 686, in _fit_and_score\n",
      "    estimator.fit(X_train, y_train, **fit_params)\n",
      "  File \"/Users/jillian/opt/anaconda3/envs/learn-env/lib/python3.8/site-packages/sklearn/pipeline.py\", line 382, in fit\n",
      "    self._final_estimator.fit(Xt, y, **fit_params_last_step)\n",
      "  File \"/Users/jillian/opt/anaconda3/envs/learn-env/lib/python3.8/site-packages/sklearn/linear_model/_logistic.py\", line 1091, in fit\n",
      "    solver = _check_solver(self.solver, self.penalty, self.dual)\n",
      "  File \"/Users/jillian/opt/anaconda3/envs/learn-env/lib/python3.8/site-packages/sklearn/linear_model/_logistic.py\", line 71, in _check_solver\n",
      "    raise ValueError(\n",
      "ValueError: Only 'saga' solver supports elasticnet penalty, got solver=liblinear.\n",
      "\n",
      "  warnings.warn(some_fits_failed_message, FitFailedWarning)\n",
      "/Users/jillian/opt/anaconda3/envs/learn-env/lib/python3.8/site-packages/sklearn/model_selection/_search.py:953: UserWarning: One or more of the test scores are non-finite: [0.87472399 0.87560725 0.82989162 0.87511042 0.87522068 0.8296707\n",
      " 0.87488958 0.87505493 0.83005709 0.87472393 0.87538624 0.82983631\n",
      " 0.87610417 0.87533114 0.82989162 0.87593854 0.87439251 0.8296707\n",
      " 0.87593856 0.87505501 0.83005709 0.87527605 0.87505496 0.82983631\n",
      " 0.87610417 0.87533114 0.82989162 0.87593854 0.87439251 0.8296707\n",
      " 0.87593856 0.87505501 0.83005709 0.87527605 0.87505496 0.82983631\n",
      " 0.87472399 0.87577289 0.8298364  0.87527608 0.87533111 0.82972591\n",
      " 0.875      0.87511015 0.82994666 0.8749448  0.87538626 0.82989153\n",
      " 0.87621459 0.87544157 0.8298364  0.87604898 0.8743925  0.82972591\n",
      " 0.87593854 0.87516541 0.82994666 0.87527605 0.87516538 0.82989153\n",
      " 0.87621459 0.87544157 0.8298364  0.87604898 0.8743925  0.82972591\n",
      " 0.87593854 0.87516541 0.82994666 0.87527605 0.87516538 0.82989153\n",
      " 0.87477921 0.87577289 0.82989162 0.87516564 0.87527591 0.82972591\n",
      " 0.875      0.87505493 0.83005709 0.87483436 0.87544146 0.82989153\n",
      " 0.87610415 0.87538635 0.82989162 0.87604898 0.87433728 0.82972591\n",
      " 0.87588333 0.87516541 0.83005709 0.87522083 0.87494451 0.82989153\n",
      " 0.87610415 0.87538635 0.82989162 0.87604898 0.87433728 0.82972591\n",
      " 0.87588333 0.87516541 0.83005709 0.87522083 0.87494451 0.82989153\n",
      "        nan        nan        nan        nan        nan        nan\n",
      "        nan        nan        nan        nan        nan        nan\n",
      "        nan        nan        nan        nan        nan        nan\n",
      "        nan        nan        nan        nan        nan        nan\n",
      "        nan        nan        nan        nan        nan        nan\n",
      "        nan        nan        nan        nan        nan        nan\n",
      "        nan        nan        nan        nan        nan        nan\n",
      "        nan        nan        nan        nan        nan        nan\n",
      "        nan        nan        nan        nan        nan        nan\n",
      "        nan        nan        nan        nan        nan        nan\n",
      "        nan        nan        nan        nan        nan        nan\n",
      "        nan        nan        nan        nan        nan        nan\n",
      "        nan        nan        nan        nan        nan        nan\n",
      "        nan        nan        nan        nan        nan        nan\n",
      "        nan        nan        nan        nan        nan        nan\n",
      "        nan        nan        nan        nan        nan        nan\n",
      "        nan        nan        nan        nan        nan        nan\n",
      "        nan        nan        nan        nan        nan        nan\n",
      " 0.8557857  0.85904333 0.79129892 0.85633785 0.86020278 0.7931209\n",
      " 0.85639307 0.86009233 0.79538457 0.8564483  0.86042367 0.79610212\n",
      " 0.85578575 0.85920901 0.79129892 0.85600662 0.85954026 0.7931209\n",
      " 0.855841   0.85915372 0.79538457 0.85600663 0.86047883 0.79610212\n",
      " 0.85578575 0.85920901 0.79129892 0.85600662 0.85954026 0.7931209\n",
      " 0.855841   0.85915372 0.79538457 0.85600663 0.86047883 0.79610212\n",
      " 0.85589611 0.85909853 0.7912437  0.85639307 0.86003716 0.79317611\n",
      " 0.85650348 0.86014754 0.79538457 0.8563931  0.86047887 0.79604691\n",
      " 0.85567534 0.85926421 0.7912437  0.85606182 0.85959546 0.79317611\n",
      " 0.85578579 0.85926412 0.79538457 0.85600663 0.86047883 0.79604691\n",
      " 0.85567534 0.85926421 0.7912437  0.85606182 0.85959546 0.79317611\n",
      " 0.85578579 0.85926412 0.79538457 0.85600663 0.86047883 0.79604691\n",
      " 0.8558409  0.85904331 0.79135414 0.85644829 0.86020278 0.7931209\n",
      " 0.85633785 0.86009233 0.79532935 0.8564483  0.86036845 0.79610212\n",
      " 0.85573054 0.85926423 0.79135414 0.85606182 0.85954026 0.7931209\n",
      " 0.855841   0.85926412 0.79532935 0.85600663 0.86047883 0.79610212\n",
      " 0.85573054 0.85926423 0.79135414 0.85606182 0.85954026 0.7931209\n",
      " 0.855841   0.85926412 0.79532935 0.85600663 0.86047883 0.79610212\n",
      "        nan        nan        nan        nan        nan        nan\n",
      "        nan        nan        nan        nan        nan        nan\n",
      "        nan        nan        nan        nan        nan        nan\n",
      "        nan        nan        nan        nan        nan        nan\n",
      "        nan        nan        nan        nan        nan        nan\n",
      "        nan        nan        nan        nan        nan        nan\n",
      "        nan        nan        nan        nan        nan        nan\n",
      "        nan        nan        nan        nan        nan        nan\n",
      "        nan        nan        nan        nan        nan        nan\n",
      "        nan        nan        nan        nan        nan        nan\n",
      "        nan        nan        nan        nan        nan        nan\n",
      "        nan        nan        nan        nan        nan        nan\n",
      "        nan        nan        nan        nan        nan        nan\n",
      "        nan        nan        nan        nan        nan        nan\n",
      "        nan        nan        nan        nan        nan        nan\n",
      "        nan        nan        nan        nan        nan        nan\n",
      "        nan        nan        nan        nan        nan        nan\n",
      "        nan        nan        nan        nan        nan        nan]\n",
      "  warnings.warn(\n"
     ]
    },
    {
     "data": {
      "text/html": [
       "<style>#sk-container-id-23 {color: black;background-color: white;}#sk-container-id-23 pre{padding: 0;}#sk-container-id-23 div.sk-toggleable {background-color: white;}#sk-container-id-23 label.sk-toggleable__label {cursor: pointer;display: block;width: 100%;margin-bottom: 0;padding: 0.3em;box-sizing: border-box;text-align: center;}#sk-container-id-23 label.sk-toggleable__label-arrow:before {content: \"▸\";float: left;margin-right: 0.25em;color: #696969;}#sk-container-id-23 label.sk-toggleable__label-arrow:hover:before {color: black;}#sk-container-id-23 div.sk-estimator:hover label.sk-toggleable__label-arrow:before {color: black;}#sk-container-id-23 div.sk-toggleable__content {max-height: 0;max-width: 0;overflow: hidden;text-align: left;background-color: #f0f8ff;}#sk-container-id-23 div.sk-toggleable__content pre {margin: 0.2em;color: black;border-radius: 0.25em;background-color: #f0f8ff;}#sk-container-id-23 input.sk-toggleable__control:checked~div.sk-toggleable__content {max-height: 200px;max-width: 100%;overflow: auto;}#sk-container-id-23 input.sk-toggleable__control:checked~label.sk-toggleable__label-arrow:before {content: \"▾\";}#sk-container-id-23 div.sk-estimator input.sk-toggleable__control:checked~label.sk-toggleable__label {background-color: #d4ebff;}#sk-container-id-23 div.sk-label input.sk-toggleable__control:checked~label.sk-toggleable__label {background-color: #d4ebff;}#sk-container-id-23 input.sk-hidden--visually {border: 0;clip: rect(1px 1px 1px 1px);clip: rect(1px, 1px, 1px, 1px);height: 1px;margin: -1px;overflow: hidden;padding: 0;position: absolute;width: 1px;}#sk-container-id-23 div.sk-estimator {font-family: monospace;background-color: #f0f8ff;border: 1px dotted black;border-radius: 0.25em;box-sizing: border-box;margin-bottom: 0.5em;}#sk-container-id-23 div.sk-estimator:hover {background-color: #d4ebff;}#sk-container-id-23 div.sk-parallel-item::after {content: \"\";width: 100%;border-bottom: 1px solid gray;flex-grow: 1;}#sk-container-id-23 div.sk-label:hover label.sk-toggleable__label {background-color: #d4ebff;}#sk-container-id-23 div.sk-serial::before {content: \"\";position: absolute;border-left: 1px solid gray;box-sizing: border-box;top: 0;bottom: 0;left: 50%;z-index: 0;}#sk-container-id-23 div.sk-serial {display: flex;flex-direction: column;align-items: center;background-color: white;padding-right: 0.2em;padding-left: 0.2em;position: relative;}#sk-container-id-23 div.sk-item {position: relative;z-index: 1;}#sk-container-id-23 div.sk-parallel {display: flex;align-items: stretch;justify-content: center;background-color: white;position: relative;}#sk-container-id-23 div.sk-item::before, #sk-container-id-23 div.sk-parallel-item::before {content: \"\";position: absolute;border-left: 1px solid gray;box-sizing: border-box;top: 0;bottom: 0;left: 50%;z-index: -1;}#sk-container-id-23 div.sk-parallel-item {display: flex;flex-direction: column;z-index: 1;position: relative;background-color: white;}#sk-container-id-23 div.sk-parallel-item:first-child::after {align-self: flex-end;width: 50%;}#sk-container-id-23 div.sk-parallel-item:last-child::after {align-self: flex-start;width: 50%;}#sk-container-id-23 div.sk-parallel-item:only-child::after {width: 0;}#sk-container-id-23 div.sk-dashed-wrapped {border: 1px dashed gray;margin: 0 0.4em 0.5em 0.4em;box-sizing: border-box;padding-bottom: 0.4em;background-color: white;}#sk-container-id-23 div.sk-label label {font-family: monospace;font-weight: bold;display: inline-block;line-height: 1.2em;}#sk-container-id-23 div.sk-label-container {text-align: center;}#sk-container-id-23 div.sk-container {/* jupyter's `normalize.less` sets `[hidden] { display: none; }` but bootstrap.min.css set `[hidden] { display: none !important; }` so we also need the `!important` here to be able to override the default hidden behavior on the sphinx rendered scikit-learn.org. See: https://github.com/scikit-learn/scikit-learn/issues/21755 */display: inline-block !important;position: relative;}#sk-container-id-23 div.sk-text-repr-fallback {display: none;}</style><div id=\"sk-container-id-23\" class=\"sk-top-container\"><div class=\"sk-text-repr-fallback\"><pre>GridSearchCV(cv=5,\n",
       "             estimator=Pipeline(steps=[(&#x27;vect&#x27;, TfidfVectorizer()),\n",
       "                                       (&#x27;lr&#x27;,\n",
       "                                        LogisticRegression(random_state=42))]),\n",
       "             n_jobs=-2,\n",
       "             param_grid={&#x27;lr__class_weight&#x27;: (None, &#x27;balanced&#x27;),\n",
       "                         &#x27;lr__penalty&#x27;: (&#x27;l2&#x27;, &#x27;elasticnet&#x27;),\n",
       "                         &#x27;lr__solver&#x27;: (&#x27;lbfgs&#x27;, &#x27;saga&#x27;, &#x27;liblinear&#x27;),\n",
       "                         &#x27;vect__max_df&#x27;: (0.35, 0.4, 0.45),\n",
       "                         &#x27;vect__max_features&#x27;: (2800, 2900, 3000, 3100),\n",
       "                         &#x27;vect__ngram_range&#x27;: [(1, 1), (1, 2), (2, 2)]},\n",
       "             verbose=3)</pre><b>In a Jupyter environment, please rerun this cell to show the HTML representation or trust the notebook. <br />On GitHub, the HTML representation is unable to render, please try loading this page with nbviewer.org.</b></div><div class=\"sk-container\" hidden><div class=\"sk-item sk-dashed-wrapped\"><div class=\"sk-label-container\"><div class=\"sk-label sk-toggleable\"><input class=\"sk-toggleable__control sk-hidden--visually\" id=\"sk-estimator-id-77\" type=\"checkbox\" ><label for=\"sk-estimator-id-77\" class=\"sk-toggleable__label sk-toggleable__label-arrow\">GridSearchCV</label><div class=\"sk-toggleable__content\"><pre>GridSearchCV(cv=5,\n",
       "             estimator=Pipeline(steps=[(&#x27;vect&#x27;, TfidfVectorizer()),\n",
       "                                       (&#x27;lr&#x27;,\n",
       "                                        LogisticRegression(random_state=42))]),\n",
       "             n_jobs=-2,\n",
       "             param_grid={&#x27;lr__class_weight&#x27;: (None, &#x27;balanced&#x27;),\n",
       "                         &#x27;lr__penalty&#x27;: (&#x27;l2&#x27;, &#x27;elasticnet&#x27;),\n",
       "                         &#x27;lr__solver&#x27;: (&#x27;lbfgs&#x27;, &#x27;saga&#x27;, &#x27;liblinear&#x27;),\n",
       "                         &#x27;vect__max_df&#x27;: (0.35, 0.4, 0.45),\n",
       "                         &#x27;vect__max_features&#x27;: (2800, 2900, 3000, 3100),\n",
       "                         &#x27;vect__ngram_range&#x27;: [(1, 1), (1, 2), (2, 2)]},\n",
       "             verbose=3)</pre></div></div></div><div class=\"sk-parallel\"><div class=\"sk-parallel-item\"><div class=\"sk-item\"><div class=\"sk-label-container\"><div class=\"sk-label sk-toggleable\"><input class=\"sk-toggleable__control sk-hidden--visually\" id=\"sk-estimator-id-78\" type=\"checkbox\" ><label for=\"sk-estimator-id-78\" class=\"sk-toggleable__label sk-toggleable__label-arrow\">estimator: Pipeline</label><div class=\"sk-toggleable__content\"><pre>Pipeline(steps=[(&#x27;vect&#x27;, TfidfVectorizer()),\n",
       "                (&#x27;lr&#x27;, LogisticRegression(random_state=42))])</pre></div></div></div><div class=\"sk-serial\"><div class=\"sk-item\"><div class=\"sk-serial\"><div class=\"sk-item\"><div class=\"sk-estimator sk-toggleable\"><input class=\"sk-toggleable__control sk-hidden--visually\" id=\"sk-estimator-id-79\" type=\"checkbox\" ><label for=\"sk-estimator-id-79\" class=\"sk-toggleable__label sk-toggleable__label-arrow\">TfidfVectorizer</label><div class=\"sk-toggleable__content\"><pre>TfidfVectorizer()</pre></div></div></div><div class=\"sk-item\"><div class=\"sk-estimator sk-toggleable\"><input class=\"sk-toggleable__control sk-hidden--visually\" id=\"sk-estimator-id-80\" type=\"checkbox\" ><label for=\"sk-estimator-id-80\" class=\"sk-toggleable__label sk-toggleable__label-arrow\">LogisticRegression</label><div class=\"sk-toggleable__content\"><pre>LogisticRegression(random_state=42)</pre></div></div></div></div></div></div></div></div></div></div></div></div>"
      ],
      "text/plain": [
       "GridSearchCV(cv=5,\n",
       "             estimator=Pipeline(steps=[('vect', TfidfVectorizer()),\n",
       "                                       ('lr',\n",
       "                                        LogisticRegression(random_state=42))]),\n",
       "             n_jobs=-2,\n",
       "             param_grid={'lr__class_weight': (None, 'balanced'),\n",
       "                         'lr__penalty': ('l2', 'elasticnet'),\n",
       "                         'lr__solver': ('lbfgs', 'saga', 'liblinear'),\n",
       "                         'vect__max_df': (0.35, 0.4, 0.45),\n",
       "                         'vect__max_features': (2800, 2900, 3000, 3100),\n",
       "                         'vect__ngram_range': [(1, 1), (1, 2), (2, 2)]},\n",
       "             verbose=3)"
      ]
     },
     "execution_count": 170,
     "metadata": {},
     "output_type": "execute_result"
    }
   ],
   "source": [
    "grid_lr4.fit(X_train, y_train)"
   ]
  },
  {
   "cell_type": "code",
   "execution_count": 171,
   "id": "a44e7e74",
   "metadata": {},
   "outputs": [
    {
     "name": "stdout",
     "output_type": "stream",
     "text": [
      "Grid Search found the following optimal parameters: \n",
      "lr__class_weight: None\n",
      "lr__penalty: 'l2'\n",
      "lr__solver: 'saga'\n",
      "vect__max_df: 0.4\n",
      "vect__max_features: 2800\n",
      "vect__ngram_range: (1, 1)\n",
      "Training Accuracy: 89.8%\n",
      "[0.66642617 0.96696288]\n"
     ]
    }
   ],
   "source": [
    "#best_parameters = grid_lr4.best_params_\n",
    "\n",
    "#print('Grid Search found the following optimal parameters: ')\n",
    "#for param_name in sorted(best_parameters.keys()):\n",
    "#    print('%s: %r' % (param_name, best_parameters[param_name]))\n",
    "\n",
    "#training_preds = grid_lr4.predict(X_train)\n",
    "#training_accuracy = accuracy_score(y_train, training_preds)\n",
    "#training_recall = recall_score(y_train, training_preds, average = None)\n",
    "\n",
    "#print('Training Accuracy: {:.4}%'.format(training_accuracy * 100))\n",
    "#print(training_recall)"
   ]
  },
  {
   "cell_type": "markdown",
   "id": "e983ee24",
   "metadata": {},
   "source": [
    "Grid Search found the following optimal parameters: \n",
    "- lr__class_weight: None\n",
    "- lr__penalty: 'l2'\n",
    "- lr__solver: 'saga'\n",
    "- vect__max_df: 0.4\n",
    "- vect__max_features: 2800\n",
    "- vect__ngram_range: (1, 1)\n",
    "- Training Accuracy: 89.8%\n",
    "- [0.66642617 0.96696288]"
   ]
  },
  {
   "cell_type": "code",
   "execution_count": 172,
   "id": "ac2bb06e",
   "metadata": {},
   "outputs": [],
   "source": [
    "lr4_pipe = Pipeline([\n",
    "           ('vect', TfidfVectorizer(max_df=.4, max_features=2800)),\n",
    "           ('lr', LogisticRegression(random_state=42, class_weight=None, solver='saga', penalty='l2')),\n",
    "])"
   ]
  },
  {
   "cell_type": "code",
   "execution_count": 173,
   "id": "cfb26722",
   "metadata": {},
   "outputs": [
    {
     "data": {
      "text/html": [
       "<style>#sk-container-id-24 {color: black;background-color: white;}#sk-container-id-24 pre{padding: 0;}#sk-container-id-24 div.sk-toggleable {background-color: white;}#sk-container-id-24 label.sk-toggleable__label {cursor: pointer;display: block;width: 100%;margin-bottom: 0;padding: 0.3em;box-sizing: border-box;text-align: center;}#sk-container-id-24 label.sk-toggleable__label-arrow:before {content: \"▸\";float: left;margin-right: 0.25em;color: #696969;}#sk-container-id-24 label.sk-toggleable__label-arrow:hover:before {color: black;}#sk-container-id-24 div.sk-estimator:hover label.sk-toggleable__label-arrow:before {color: black;}#sk-container-id-24 div.sk-toggleable__content {max-height: 0;max-width: 0;overflow: hidden;text-align: left;background-color: #f0f8ff;}#sk-container-id-24 div.sk-toggleable__content pre {margin: 0.2em;color: black;border-radius: 0.25em;background-color: #f0f8ff;}#sk-container-id-24 input.sk-toggleable__control:checked~div.sk-toggleable__content {max-height: 200px;max-width: 100%;overflow: auto;}#sk-container-id-24 input.sk-toggleable__control:checked~label.sk-toggleable__label-arrow:before {content: \"▾\";}#sk-container-id-24 div.sk-estimator input.sk-toggleable__control:checked~label.sk-toggleable__label {background-color: #d4ebff;}#sk-container-id-24 div.sk-label input.sk-toggleable__control:checked~label.sk-toggleable__label {background-color: #d4ebff;}#sk-container-id-24 input.sk-hidden--visually {border: 0;clip: rect(1px 1px 1px 1px);clip: rect(1px, 1px, 1px, 1px);height: 1px;margin: -1px;overflow: hidden;padding: 0;position: absolute;width: 1px;}#sk-container-id-24 div.sk-estimator {font-family: monospace;background-color: #f0f8ff;border: 1px dotted black;border-radius: 0.25em;box-sizing: border-box;margin-bottom: 0.5em;}#sk-container-id-24 div.sk-estimator:hover {background-color: #d4ebff;}#sk-container-id-24 div.sk-parallel-item::after {content: \"\";width: 100%;border-bottom: 1px solid gray;flex-grow: 1;}#sk-container-id-24 div.sk-label:hover label.sk-toggleable__label {background-color: #d4ebff;}#sk-container-id-24 div.sk-serial::before {content: \"\";position: absolute;border-left: 1px solid gray;box-sizing: border-box;top: 0;bottom: 0;left: 50%;z-index: 0;}#sk-container-id-24 div.sk-serial {display: flex;flex-direction: column;align-items: center;background-color: white;padding-right: 0.2em;padding-left: 0.2em;position: relative;}#sk-container-id-24 div.sk-item {position: relative;z-index: 1;}#sk-container-id-24 div.sk-parallel {display: flex;align-items: stretch;justify-content: center;background-color: white;position: relative;}#sk-container-id-24 div.sk-item::before, #sk-container-id-24 div.sk-parallel-item::before {content: \"\";position: absolute;border-left: 1px solid gray;box-sizing: border-box;top: 0;bottom: 0;left: 50%;z-index: -1;}#sk-container-id-24 div.sk-parallel-item {display: flex;flex-direction: column;z-index: 1;position: relative;background-color: white;}#sk-container-id-24 div.sk-parallel-item:first-child::after {align-self: flex-end;width: 50%;}#sk-container-id-24 div.sk-parallel-item:last-child::after {align-self: flex-start;width: 50%;}#sk-container-id-24 div.sk-parallel-item:only-child::after {width: 0;}#sk-container-id-24 div.sk-dashed-wrapped {border: 1px dashed gray;margin: 0 0.4em 0.5em 0.4em;box-sizing: border-box;padding-bottom: 0.4em;background-color: white;}#sk-container-id-24 div.sk-label label {font-family: monospace;font-weight: bold;display: inline-block;line-height: 1.2em;}#sk-container-id-24 div.sk-label-container {text-align: center;}#sk-container-id-24 div.sk-container {/* jupyter's `normalize.less` sets `[hidden] { display: none; }` but bootstrap.min.css set `[hidden] { display: none !important; }` so we also need the `!important` here to be able to override the default hidden behavior on the sphinx rendered scikit-learn.org. See: https://github.com/scikit-learn/scikit-learn/issues/21755 */display: inline-block !important;position: relative;}#sk-container-id-24 div.sk-text-repr-fallback {display: none;}</style><div id=\"sk-container-id-24\" class=\"sk-top-container\"><div class=\"sk-text-repr-fallback\"><pre>Pipeline(steps=[(&#x27;vect&#x27;, TfidfVectorizer(max_df=0.4, max_features=2800)),\n",
       "                (&#x27;lr&#x27;, LogisticRegression(random_state=42, solver=&#x27;saga&#x27;))])</pre><b>In a Jupyter environment, please rerun this cell to show the HTML representation or trust the notebook. <br />On GitHub, the HTML representation is unable to render, please try loading this page with nbviewer.org.</b></div><div class=\"sk-container\" hidden><div class=\"sk-item sk-dashed-wrapped\"><div class=\"sk-label-container\"><div class=\"sk-label sk-toggleable\"><input class=\"sk-toggleable__control sk-hidden--visually\" id=\"sk-estimator-id-81\" type=\"checkbox\" ><label for=\"sk-estimator-id-81\" class=\"sk-toggleable__label sk-toggleable__label-arrow\">Pipeline</label><div class=\"sk-toggleable__content\"><pre>Pipeline(steps=[(&#x27;vect&#x27;, TfidfVectorizer(max_df=0.4, max_features=2800)),\n",
       "                (&#x27;lr&#x27;, LogisticRegression(random_state=42, solver=&#x27;saga&#x27;))])</pre></div></div></div><div class=\"sk-serial\"><div class=\"sk-item\"><div class=\"sk-estimator sk-toggleable\"><input class=\"sk-toggleable__control sk-hidden--visually\" id=\"sk-estimator-id-82\" type=\"checkbox\" ><label for=\"sk-estimator-id-82\" class=\"sk-toggleable__label sk-toggleable__label-arrow\">TfidfVectorizer</label><div class=\"sk-toggleable__content\"><pre>TfidfVectorizer(max_df=0.4, max_features=2800)</pre></div></div></div><div class=\"sk-item\"><div class=\"sk-estimator sk-toggleable\"><input class=\"sk-toggleable__control sk-hidden--visually\" id=\"sk-estimator-id-83\" type=\"checkbox\" ><label for=\"sk-estimator-id-83\" class=\"sk-toggleable__label sk-toggleable__label-arrow\">LogisticRegression</label><div class=\"sk-toggleable__content\"><pre>LogisticRegression(random_state=42, solver=&#x27;saga&#x27;)</pre></div></div></div></div></div></div></div>"
      ],
      "text/plain": [
       "Pipeline(steps=[('vect', TfidfVectorizer(max_df=0.4, max_features=2800)),\n",
       "                ('lr', LogisticRegression(random_state=42, solver='saga'))])"
      ]
     },
     "execution_count": 173,
     "metadata": {},
     "output_type": "execute_result"
    }
   ],
   "source": [
    "lr4_pipe.fit(X_train, y_train)"
   ]
  },
  {
   "cell_type": "code",
   "execution_count": 174,
   "id": "4e94001f",
   "metadata": {},
   "outputs": [
    {
     "data": {
      "text/plain": [
       "0.8979681978798587"
      ]
     },
     "execution_count": 174,
     "metadata": {},
     "output_type": "execute_result"
    }
   ],
   "source": [
    "lr4_pipe.score(X_train, y_train)"
   ]
  },
  {
   "cell_type": "code",
   "execution_count": 175,
   "id": "f76f1fbf",
   "metadata": {},
   "outputs": [
    {
     "data": {
      "text/plain": [
       "{'fit_time': 0.3633,\n",
       " 'score_time': 0.14218,\n",
       " 'test_accuracy': 0.87621,\n",
       " 'test_precision': 0.8718,\n",
       " 'test_recall': 0.87621,\n",
       " 'test_f1': 0.86905,\n",
       " 'test_log_loss': -0.29686}"
      ]
     },
     "execution_count": 175,
     "metadata": {},
     "output_type": "execute_result"
    }
   ],
   "source": [
    "cross_val(lr4_pipe, X_train, y_train)"
   ]
  },
  {
   "cell_type": "code",
   "execution_count": 176,
   "id": "143d465f",
   "metadata": {},
   "outputs": [],
   "source": [
    "#best accuracy so far"
   ]
  },
  {
   "cell_type": "code",
   "execution_count": 177,
   "id": "053e7eaf",
   "metadata": {},
   "outputs": [
    {
     "name": "stderr",
     "output_type": "stream",
     "text": [
      "/Users/jillian/opt/anaconda3/envs/learn-env/lib/python3.8/site-packages/sklearn/utils/deprecation.py:87: FutureWarning: Function plot_confusion_matrix is deprecated; Function `plot_confusion_matrix` is deprecated in 1.0 and will be removed in 1.2. Use one of the class methods: ConfusionMatrixDisplay.from_predictions or ConfusionMatrixDisplay.from_estimator.\n",
      "  warnings.warn(msg, category=FutureWarning)\n"
     ]
    },
    {
     "data": {
      "image/png": "[encoded data removed]",
      "text/plain": [
       "<Figure size 432x288 with 2 Axes>"
      ]
     },
     "metadata": {
      "needs_background": "light"
     },
     "output_type": "display_data"
    }
   ],
   "source": [
    "plot_confusion_matrix(lr4_pipe, X_train, y_train);"
   ]
  },
  {
   "cell_type": "code",
   "execution_count": 182,
   "id": "406b5ffe",
   "metadata": {},
   "outputs": [],
   "source": [
    "#comparing with ngram_range of (1,2) for inspection"
   ]
  },
  {
   "cell_type": "code",
   "execution_count": 179,
   "id": "b221406d",
   "metadata": {},
   "outputs": [],
   "source": [
    "lr5_pipe = Pipeline([\n",
    "           ('vect', TfidfVectorizer(max_df=.4, max_features=2800, ngram_range=(1,2))),\n",
    "           ('lr', LogisticRegression(random_state=42, class_weight=None, solver='saga', penalty='l2')),\n",
    "])"
   ]
  },
  {
   "cell_type": "code",
   "execution_count": 180,
   "id": "2e7c7c47",
   "metadata": {},
   "outputs": [
    {
     "data": {
      "text/html": [
       "<style>#sk-container-id-25 {color: black;background-color: white;}#sk-container-id-25 pre{padding: 0;}#sk-container-id-25 div.sk-toggleable {background-color: white;}#sk-container-id-25 label.sk-toggleable__label {cursor: pointer;display: block;width: 100%;margin-bottom: 0;padding: 0.3em;box-sizing: border-box;text-align: center;}#sk-container-id-25 label.sk-toggleable__label-arrow:before {content: \"▸\";float: left;margin-right: 0.25em;color: #696969;}#sk-container-id-25 label.sk-toggleable__label-arrow:hover:before {color: black;}#sk-container-id-25 div.sk-estimator:hover label.sk-toggleable__label-arrow:before {color: black;}#sk-container-id-25 div.sk-toggleable__content {max-height: 0;max-width: 0;overflow: hidden;text-align: left;background-color: #f0f8ff;}#sk-container-id-25 div.sk-toggleable__content pre {margin: 0.2em;color: black;border-radius: 0.25em;background-color: #f0f8ff;}#sk-container-id-25 input.sk-toggleable__control:checked~div.sk-toggleable__content {max-height: 200px;max-width: 100%;overflow: auto;}#sk-container-id-25 input.sk-toggleable__control:checked~label.sk-toggleable__label-arrow:before {content: \"▾\";}#sk-container-id-25 div.sk-estimator input.sk-toggleable__control:checked~label.sk-toggleable__label {background-color: #d4ebff;}#sk-container-id-25 div.sk-label input.sk-toggleable__control:checked~label.sk-toggleable__label {background-color: #d4ebff;}#sk-container-id-25 input.sk-hidden--visually {border: 0;clip: rect(1px 1px 1px 1px);clip: rect(1px, 1px, 1px, 1px);height: 1px;margin: -1px;overflow: hidden;padding: 0;position: absolute;width: 1px;}#sk-container-id-25 div.sk-estimator {font-family: monospace;background-color: #f0f8ff;border: 1px dotted black;border-radius: 0.25em;box-sizing: border-box;margin-bottom: 0.5em;}#sk-container-id-25 div.sk-estimator:hover {background-color: #d4ebff;}#sk-container-id-25 div.sk-parallel-item::after {content: \"\";width: 100%;border-bottom: 1px solid gray;flex-grow: 1;}#sk-container-id-25 div.sk-label:hover label.sk-toggleable__label {background-color: #d4ebff;}#sk-container-id-25 div.sk-serial::before {content: \"\";position: absolute;border-left: 1px solid gray;box-sizing: border-box;top: 0;bottom: 0;left: 50%;z-index: 0;}#sk-container-id-25 div.sk-serial {display: flex;flex-direction: column;align-items: center;background-color: white;padding-right: 0.2em;padding-left: 0.2em;position: relative;}#sk-container-id-25 div.sk-item {position: relative;z-index: 1;}#sk-container-id-25 div.sk-parallel {display: flex;align-items: stretch;justify-content: center;background-color: white;position: relative;}#sk-container-id-25 div.sk-item::before, #sk-container-id-25 div.sk-parallel-item::before {content: \"\";position: absolute;border-left: 1px solid gray;box-sizing: border-box;top: 0;bottom: 0;left: 50%;z-index: -1;}#sk-container-id-25 div.sk-parallel-item {display: flex;flex-direction: column;z-index: 1;position: relative;background-color: white;}#sk-container-id-25 div.sk-parallel-item:first-child::after {align-self: flex-end;width: 50%;}#sk-container-id-25 div.sk-parallel-item:last-child::after {align-self: flex-start;width: 50%;}#sk-container-id-25 div.sk-parallel-item:only-child::after {width: 0;}#sk-container-id-25 div.sk-dashed-wrapped {border: 1px dashed gray;margin: 0 0.4em 0.5em 0.4em;box-sizing: border-box;padding-bottom: 0.4em;background-color: white;}#sk-container-id-25 div.sk-label label {font-family: monospace;font-weight: bold;display: inline-block;line-height: 1.2em;}#sk-container-id-25 div.sk-label-container {text-align: center;}#sk-container-id-25 div.sk-container {/* jupyter's `normalize.less` sets `[hidden] { display: none; }` but bootstrap.min.css set `[hidden] { display: none !important; }` so we also need the `!important` here to be able to override the default hidden behavior on the sphinx rendered scikit-learn.org. See: https://github.com/scikit-learn/scikit-learn/issues/21755 */display: inline-block !important;position: relative;}#sk-container-id-25 div.sk-text-repr-fallback {display: none;}</style><div id=\"sk-container-id-25\" class=\"sk-top-container\"><div class=\"sk-text-repr-fallback\"><pre>Pipeline(steps=[(&#x27;vect&#x27;,\n",
       "                 TfidfVectorizer(max_df=0.4, max_features=2800,\n",
       "                                 ngram_range=(1, 2))),\n",
       "                (&#x27;lr&#x27;, LogisticRegression(random_state=42, solver=&#x27;saga&#x27;))])</pre><b>In a Jupyter environment, please rerun this cell to show the HTML representation or trust the notebook. <br />On GitHub, the HTML representation is unable to render, please try loading this page with nbviewer.org.</b></div><div class=\"sk-container\" hidden><div class=\"sk-item sk-dashed-wrapped\"><div class=\"sk-label-container\"><div class=\"sk-label sk-toggleable\"><input class=\"sk-toggleable__control sk-hidden--visually\" id=\"sk-estimator-id-84\" type=\"checkbox\" ><label for=\"sk-estimator-id-84\" class=\"sk-toggleable__label sk-toggleable__label-arrow\">Pipeline</label><div class=\"sk-toggleable__content\"><pre>Pipeline(steps=[(&#x27;vect&#x27;,\n",
       "                 TfidfVectorizer(max_df=0.4, max_features=2800,\n",
       "                                 ngram_range=(1, 2))),\n",
       "                (&#x27;lr&#x27;, LogisticRegression(random_state=42, solver=&#x27;saga&#x27;))])</pre></div></div></div><div class=\"sk-serial\"><div class=\"sk-item\"><div class=\"sk-estimator sk-toggleable\"><input class=\"sk-toggleable__control sk-hidden--visually\" id=\"sk-estimator-id-85\" type=\"checkbox\" ><label for=\"sk-estimator-id-85\" class=\"sk-toggleable__label sk-toggleable__label-arrow\">TfidfVectorizer</label><div class=\"sk-toggleable__content\"><pre>TfidfVectorizer(max_df=0.4, max_features=2800, ngram_range=(1, 2))</pre></div></div></div><div class=\"sk-item\"><div class=\"sk-estimator sk-toggleable\"><input class=\"sk-toggleable__control sk-hidden--visually\" id=\"sk-estimator-id-86\" type=\"checkbox\" ><label for=\"sk-estimator-id-86\" class=\"sk-toggleable__label sk-toggleable__label-arrow\">LogisticRegression</label><div class=\"sk-toggleable__content\"><pre>LogisticRegression(random_state=42, solver=&#x27;saga&#x27;)</pre></div></div></div></div></div></div></div>"
      ],
      "text/plain": [
       "Pipeline(steps=[('vect',\n",
       "                 TfidfVectorizer(max_df=0.4, max_features=2800,\n",
       "                                 ngram_range=(1, 2))),\n",
       "                ('lr', LogisticRegression(random_state=42, solver='saga'))])"
      ]
     },
     "execution_count": 180,
     "metadata": {},
     "output_type": "execute_result"
    }
   ],
   "source": [
    "lr5_pipe.fit(X_train, y_train)"
   ]
  },
  {
   "cell_type": "code",
   "execution_count": 181,
   "id": "0a7cff49",
   "metadata": {},
   "outputs": [
    {
     "data": {
      "text/plain": [
       "{'fit_time': 1.00929,\n",
       " 'score_time': 0.25262,\n",
       " 'test_accuracy': 0.87544,\n",
       " 'test_precision': 0.871,\n",
       " 'test_recall': 0.87544,\n",
       " 'test_f1': 0.86811,\n",
       " 'test_log_loss': -0.29502}"
      ]
     },
     "execution_count": 181,
     "metadata": {},
     "output_type": "execute_result"
    }
   ],
   "source": [
    "cross_val(lr5_pipe, X_train, y_train)"
   ]
  },
  {
   "cell_type": "markdown",
   "id": "6352db40",
   "metadata": {},
   "source": [
    "## XGBoost"
   ]
  },
  {
   "cell_type": "code",
   "execution_count": 103,
   "id": "1324bc20",
   "metadata": {},
   "outputs": [],
   "source": [
    "# Instantiate our default XGB pipeline\n",
    "XGB_pipe = ImPipeline(steps=[('vect', TfidfVectorizer()), \n",
    "                             ('XGB', XGBClassifier())])"
   ]
  },
  {
   "cell_type": "code",
   "execution_count": 104,
   "id": "239dc4ef",
   "metadata": {},
   "outputs": [
    {
     "data": {
      "text/html": [
       "<style>#sk-container-id-10 {color: black;background-color: white;}#sk-container-id-10 pre{padding: 0;}#sk-container-id-10 div.sk-toggleable {background-color: white;}#sk-container-id-10 label.sk-toggleable__label {cursor: pointer;display: block;width: 100%;margin-bottom: 0;padding: 0.3em;box-sizing: border-box;text-align: center;}#sk-container-id-10 label.sk-toggleable__label-arrow:before {content: \"▸\";float: left;margin-right: 0.25em;color: #696969;}#sk-container-id-10 label.sk-toggleable__label-arrow:hover:before {color: black;}#sk-container-id-10 div.sk-estimator:hover label.sk-toggleable__label-arrow:before {color: black;}#sk-container-id-10 div.sk-toggleable__content {max-height: 0;max-width: 0;overflow: hidden;text-align: left;background-color: #f0f8ff;}#sk-container-id-10 div.sk-toggleable__content pre {margin: 0.2em;color: black;border-radius: 0.25em;background-color: #f0f8ff;}#sk-container-id-10 input.sk-toggleable__control:checked~div.sk-toggleable__content {max-height: 200px;max-width: 100%;overflow: auto;}#sk-container-id-10 input.sk-toggleable__control:checked~label.sk-toggleable__label-arrow:before {content: \"▾\";}#sk-container-id-10 div.sk-estimator input.sk-toggleable__control:checked~label.sk-toggleable__label {background-color: #d4ebff;}#sk-container-id-10 div.sk-label input.sk-toggleable__control:checked~label.sk-toggleable__label {background-color: #d4ebff;}#sk-container-id-10 input.sk-hidden--visually {border: 0;clip: rect(1px 1px 1px 1px);clip: rect(1px, 1px, 1px, 1px);height: 1px;margin: -1px;overflow: hidden;padding: 0;position: absolute;width: 1px;}#sk-container-id-10 div.sk-estimator {font-family: monospace;background-color: #f0f8ff;border: 1px dotted black;border-radius: 0.25em;box-sizing: border-box;margin-bottom: 0.5em;}#sk-container-id-10 div.sk-estimator:hover {background-color: #d4ebff;}#sk-container-id-10 div.sk-parallel-item::after {content: \"\";width: 100%;border-bottom: 1px solid gray;flex-grow: 1;}#sk-container-id-10 div.sk-label:hover label.sk-toggleable__label {background-color: #d4ebff;}#sk-container-id-10 div.sk-serial::before {content: \"\";position: absolute;border-left: 1px solid gray;box-sizing: border-box;top: 0;bottom: 0;left: 50%;z-index: 0;}#sk-container-id-10 div.sk-serial {display: flex;flex-direction: column;align-items: center;background-color: white;padding-right: 0.2em;padding-left: 0.2em;position: relative;}#sk-container-id-10 div.sk-item {position: relative;z-index: 1;}#sk-container-id-10 div.sk-parallel {display: flex;align-items: stretch;justify-content: center;background-color: white;position: relative;}#sk-container-id-10 div.sk-item::before, #sk-container-id-10 div.sk-parallel-item::before {content: \"\";position: absolute;border-left: 1px solid gray;box-sizing: border-box;top: 0;bottom: 0;left: 50%;z-index: -1;}#sk-container-id-10 div.sk-parallel-item {display: flex;flex-direction: column;z-index: 1;position: relative;background-color: white;}#sk-container-id-10 div.sk-parallel-item:first-child::after {align-self: flex-end;width: 50%;}#sk-container-id-10 div.sk-parallel-item:last-child::after {align-self: flex-start;width: 50%;}#sk-container-id-10 div.sk-parallel-item:only-child::after {width: 0;}#sk-container-id-10 div.sk-dashed-wrapped {border: 1px dashed gray;margin: 0 0.4em 0.5em 0.4em;box-sizing: border-box;padding-bottom: 0.4em;background-color: white;}#sk-container-id-10 div.sk-label label {font-family: monospace;font-weight: bold;display: inline-block;line-height: 1.2em;}#sk-container-id-10 div.sk-label-container {text-align: center;}#sk-container-id-10 div.sk-container {/* jupyter's `normalize.less` sets `[hidden] { display: none; }` but bootstrap.min.css set `[hidden] { display: none !important; }` so we also need the `!important` here to be able to override the default hidden behavior on the sphinx rendered scikit-learn.org. See: https://github.com/scikit-learn/scikit-learn/issues/21755 */display: inline-block !important;position: relative;}#sk-container-id-10 div.sk-text-repr-fallback {display: none;}</style><div id=\"sk-container-id-10\" class=\"sk-top-container\"><div class=\"sk-text-repr-fallback\"><pre>Pipeline(steps=[(&#x27;vect&#x27;, TfidfVectorizer()),\n",
       "                (&#x27;XGB&#x27;,\n",
       "                 XGBClassifier(base_score=0.5, booster=&#x27;gbtree&#x27;,\n",
       "                               colsample_bylevel=1, colsample_bynode=1,\n",
       "                               colsample_bytree=1, gamma=0, gpu_id=-1,\n",
       "                               importance_type=&#x27;gain&#x27;,\n",
       "                               interaction_constraints=&#x27;&#x27;,\n",
       "                               learning_rate=0.300000012, max_delta_step=0,\n",
       "                               max_depth=6, min_child_weight=1, missing=nan,\n",
       "                               monotone_constraints=&#x27;()&#x27;, n_estimators=100,\n",
       "                               n_jobs=0, num_parallel_tree=1, random_state=0,\n",
       "                               reg_alpha=0, reg_lambda=1, scale_pos_weight=1,\n",
       "                               subsample=1, tree_method=&#x27;exact&#x27;,\n",
       "                               validate_parameters=1, verbosity=None))])</pre><b>In a Jupyter environment, please rerun this cell to show the HTML representation or trust the notebook. <br />On GitHub, the HTML representation is unable to render, please try loading this page with nbviewer.org.</b></div><div class=\"sk-container\" hidden><div class=\"sk-item sk-dashed-wrapped\"><div class=\"sk-label-container\"><div class=\"sk-label sk-toggleable\"><input class=\"sk-toggleable__control sk-hidden--visually\" id=\"sk-estimator-id-33\" type=\"checkbox\" ><label for=\"sk-estimator-id-33\" class=\"sk-toggleable__label sk-toggleable__label-arrow\">Pipeline</label><div class=\"sk-toggleable__content\"><pre>Pipeline(steps=[(&#x27;vect&#x27;, TfidfVectorizer()),\n",
       "                (&#x27;XGB&#x27;,\n",
       "                 XGBClassifier(base_score=0.5, booster=&#x27;gbtree&#x27;,\n",
       "                               colsample_bylevel=1, colsample_bynode=1,\n",
       "                               colsample_bytree=1, gamma=0, gpu_id=-1,\n",
       "                               importance_type=&#x27;gain&#x27;,\n",
       "                               interaction_constraints=&#x27;&#x27;,\n",
       "                               learning_rate=0.300000012, max_delta_step=0,\n",
       "                               max_depth=6, min_child_weight=1, missing=nan,\n",
       "                               monotone_constraints=&#x27;()&#x27;, n_estimators=100,\n",
       "                               n_jobs=0, num_parallel_tree=1, random_state=0,\n",
       "                               reg_alpha=0, reg_lambda=1, scale_pos_weight=1,\n",
       "                               subsample=1, tree_method=&#x27;exact&#x27;,\n",
       "                               validate_parameters=1, verbosity=None))])</pre></div></div></div><div class=\"sk-serial\"><div class=\"sk-item\"><div class=\"sk-estimator sk-toggleable\"><input class=\"sk-toggleable__control sk-hidden--visually\" id=\"sk-estimator-id-34\" type=\"checkbox\" ><label for=\"sk-estimator-id-34\" class=\"sk-toggleable__label sk-toggleable__label-arrow\">TfidfVectorizer</label><div class=\"sk-toggleable__content\"><pre>TfidfVectorizer()</pre></div></div></div><div class=\"sk-item\"><div class=\"sk-estimator sk-toggleable\"><input class=\"sk-toggleable__control sk-hidden--visually\" id=\"sk-estimator-id-35\" type=\"checkbox\" ><label for=\"sk-estimator-id-35\" class=\"sk-toggleable__label sk-toggleable__label-arrow\">XGBClassifier</label><div class=\"sk-toggleable__content\"><pre>XGBClassifier(base_score=0.5, booster=&#x27;gbtree&#x27;, colsample_bylevel=1,\n",
       "              colsample_bynode=1, colsample_bytree=1, gamma=0, gpu_id=-1,\n",
       "              importance_type=&#x27;gain&#x27;, interaction_constraints=&#x27;&#x27;,\n",
       "              learning_rate=0.300000012, max_delta_step=0, max_depth=6,\n",
       "              min_child_weight=1, missing=nan, monotone_constraints=&#x27;()&#x27;,\n",
       "              n_estimators=100, n_jobs=0, num_parallel_tree=1, random_state=0,\n",
       "              reg_alpha=0, reg_lambda=1, scale_pos_weight=1, subsample=1,\n",
       "              tree_method=&#x27;exact&#x27;, validate_parameters=1, verbosity=None)</pre></div></div></div></div></div></div></div>"
      ],
      "text/plain": [
       "Pipeline(steps=[('vect', TfidfVectorizer()),\n",
       "                ('XGB',\n",
       "                 XGBClassifier(base_score=0.5, booster='gbtree',\n",
       "                               colsample_bylevel=1, colsample_bynode=1,\n",
       "                               colsample_bytree=1, gamma=0, gpu_id=-1,\n",
       "                               importance_type='gain',\n",
       "                               interaction_constraints='',\n",
       "                               learning_rate=0.300000012, max_delta_step=0,\n",
       "                               max_depth=6, min_child_weight=1, missing=nan,\n",
       "                               monotone_constraints='()', n_estimators=100,\n",
       "                               n_jobs=0, num_parallel_tree=1, random_state=0,\n",
       "                               reg_alpha=0, reg_lambda=1, scale_pos_weight=1,\n",
       "                               subsample=1, tree_method='exact',\n",
       "                               validate_parameters=1, verbosity=None))])"
      ]
     },
     "execution_count": 104,
     "metadata": {},
     "output_type": "execute_result"
    }
   ],
   "source": [
    "XGB_pipe.fit(X_train, y_train)"
   ]
  },
  {
   "cell_type": "code",
   "execution_count": 105,
   "id": "1069d7a2",
   "metadata": {},
   "outputs": [
    {
     "data": {
      "text/plain": [
       "0.9439598056537103"
      ]
     },
     "execution_count": 105,
     "metadata": {},
     "output_type": "execute_result"
    }
   ],
   "source": [
    "XGB_pipe.score(X_train, y_train)"
   ]
  },
  {
   "cell_type": "code",
   "execution_count": 106,
   "id": "42e8b61c",
   "metadata": {},
   "outputs": [
    {
     "data": {
      "text/plain": [
       "{'fit_time': 6.85527,\n",
       " 'score_time': 0.16507,\n",
       " 'test_accuracy': 0.86136,\n",
       " 'test_precision': 0.85485,\n",
       " 'test_recall': 0.86136,\n",
       " 'test_f1': 0.85332,\n",
       " 'test_log_loss': -0.31619}"
      ]
     },
     "execution_count": 106,
     "metadata": {},
     "output_type": "execute_result"
    }
   ],
   "source": [
    "cross_val(XGB_pipe, X_train, y_train)"
   ]
  },
  {
   "cell_type": "markdown",
   "id": "affb3716",
   "metadata": {},
   "source": [
    "### Tuning XGBoost Hyperparameters"
   ]
  },
  {
   "cell_type": "code",
   "execution_count": 107,
   "id": "0e4da48b",
   "metadata": {},
   "outputs": [],
   "source": [
    "# create our massive grid for the grid search parameters\n",
    "paramsXGB = {\n",
    "    'XGB__learning_rate': [0.1, 0.2],\n",
    "    'XGB__max_depth': [5, 10, 15],\n",
    "    'XGB__min_child_weight': range(1, 8, 2),\n",
    "    'XGB__gamma': [0, .1, .2],\n",
    "    'XGB__subsample': [.5, .75, 1],\n",
    "    'vect__ngram_range': [(1,1), (1,2)],\n",
    "}"
   ]
  },
  {
   "cell_type": "code",
   "execution_count": 108,
   "id": "64171f0d",
   "metadata": {},
   "outputs": [],
   "source": [
    "#Fit grid search object to our training data \n",
    "grid_XGB = GridSearchCV(XGB_pipe, param_grid=paramsXGB, cv=5, verbose=3, n_jobs=-2)"
   ]
  },
  {
   "cell_type": "code",
   "execution_count": 109,
   "id": "8165ba16",
   "metadata": {},
   "outputs": [
    {
     "name": "stdout",
     "output_type": "stream",
     "text": [
      "Fitting 5 folds for each of 432 candidates, totalling 2160 fits\n"
     ]
    },
    {
     "name": "stderr",
     "output_type": "stream",
     "text": [
      "/Users/jillian/opt/anaconda3/envs/learn-env/lib/python3.8/site-packages/joblib/externals/loky/process_executor.py:702: UserWarning: A worker stopped while some jobs were given to the executor. This can be caused by a too short worker timeout or by a memory leak.\n",
      "  warnings.warn(\n"
     ]
    },
    {
     "data": {
      "text/html": [
       "<style>#sk-container-id-11 {color: black;background-color: white;}#sk-container-id-11 pre{padding: 0;}#sk-container-id-11 div.sk-toggleable {background-color: white;}#sk-container-id-11 label.sk-toggleable__label {cursor: pointer;display: block;width: 100%;margin-bottom: 0;padding: 0.3em;box-sizing: border-box;text-align: center;}#sk-container-id-11 label.sk-toggleable__label-arrow:before {content: \"▸\";float: left;margin-right: 0.25em;color: #696969;}#sk-container-id-11 label.sk-toggleable__label-arrow:hover:before {color: black;}#sk-container-id-11 div.sk-estimator:hover label.sk-toggleable__label-arrow:before {color: black;}#sk-container-id-11 div.sk-toggleable__content {max-height: 0;max-width: 0;overflow: hidden;text-align: left;background-color: #f0f8ff;}#sk-container-id-11 div.sk-toggleable__content pre {margin: 0.2em;color: black;border-radius: 0.25em;background-color: #f0f8ff;}#sk-container-id-11 input.sk-toggleable__control:checked~div.sk-toggleable__content {max-height: 200px;max-width: 100%;overflow: auto;}#sk-container-id-11 input.sk-toggleable__control:checked~label.sk-toggleable__label-arrow:before {content: \"▾\";}#sk-container-id-11 div.sk-estimator input.sk-toggleable__control:checked~label.sk-toggleable__label {background-color: #d4ebff;}#sk-container-id-11 div.sk-label input.sk-toggleable__control:checked~label.sk-toggleable__label {background-color: #d4ebff;}#sk-container-id-11 input.sk-hidden--visually {border: 0;clip: rect(1px 1px 1px 1px);clip: rect(1px, 1px, 1px, 1px);height: 1px;margin: -1px;overflow: hidden;padding: 0;position: absolute;width: 1px;}#sk-container-id-11 div.sk-estimator {font-family: monospace;background-color: #f0f8ff;border: 1px dotted black;border-radius: 0.25em;box-sizing: border-box;margin-bottom: 0.5em;}#sk-container-id-11 div.sk-estimator:hover {background-color: #d4ebff;}#sk-container-id-11 div.sk-parallel-item::after {content: \"\";width: 100%;border-bottom: 1px solid gray;flex-grow: 1;}#sk-container-id-11 div.sk-label:hover label.sk-toggleable__label {background-color: #d4ebff;}#sk-container-id-11 div.sk-serial::before {content: \"\";position: absolute;border-left: 1px solid gray;box-sizing: border-box;top: 0;bottom: 0;left: 50%;z-index: 0;}#sk-container-id-11 div.sk-serial {display: flex;flex-direction: column;align-items: center;background-color: white;padding-right: 0.2em;padding-left: 0.2em;position: relative;}#sk-container-id-11 div.sk-item {position: relative;z-index: 1;}#sk-container-id-11 div.sk-parallel {display: flex;align-items: stretch;justify-content: center;background-color: white;position: relative;}#sk-container-id-11 div.sk-item::before, #sk-container-id-11 div.sk-parallel-item::before {content: \"\";position: absolute;border-left: 1px solid gray;box-sizing: border-box;top: 0;bottom: 0;left: 50%;z-index: -1;}#sk-container-id-11 div.sk-parallel-item {display: flex;flex-direction: column;z-index: 1;position: relative;background-color: white;}#sk-container-id-11 div.sk-parallel-item:first-child::after {align-self: flex-end;width: 50%;}#sk-container-id-11 div.sk-parallel-item:last-child::after {align-self: flex-start;width: 50%;}#sk-container-id-11 div.sk-parallel-item:only-child::after {width: 0;}#sk-container-id-11 div.sk-dashed-wrapped {border: 1px dashed gray;margin: 0 0.4em 0.5em 0.4em;box-sizing: border-box;padding-bottom: 0.4em;background-color: white;}#sk-container-id-11 div.sk-label label {font-family: monospace;font-weight: bold;display: inline-block;line-height: 1.2em;}#sk-container-id-11 div.sk-label-container {text-align: center;}#sk-container-id-11 div.sk-container {/* jupyter's `normalize.less` sets `[hidden] { display: none; }` but bootstrap.min.css set `[hidden] { display: none !important; }` so we also need the `!important` here to be able to override the default hidden behavior on the sphinx rendered scikit-learn.org. See: https://github.com/scikit-learn/scikit-learn/issues/21755 */display: inline-block !important;position: relative;}#sk-container-id-11 div.sk-text-repr-fallback {display: none;}</style><div id=\"sk-container-id-11\" class=\"sk-top-container\"><div class=\"sk-text-repr-fallback\"><pre>GridSearchCV(cv=5,\n",
       "             estimator=Pipeline(steps=[(&#x27;vect&#x27;, TfidfVectorizer()),\n",
       "                                       (&#x27;XGB&#x27;,\n",
       "                                        XGBClassifier(base_score=0.5,\n",
       "                                                      booster=&#x27;gbtree&#x27;,\n",
       "                                                      colsample_bylevel=1,\n",
       "                                                      colsample_bynode=1,\n",
       "                                                      colsample_bytree=1,\n",
       "                                                      gamma=0, gpu_id=-1,\n",
       "                                                      importance_type=&#x27;gain&#x27;,\n",
       "                                                      interaction_constraints=&#x27;&#x27;,\n",
       "                                                      learning_rate=0.300000012,\n",
       "                                                      max_delta_step=0,\n",
       "                                                      max_depth=6,\n",
       "                                                      min_child_weight=1,\n",
       "                                                      missing=nan,\n",
       "                                                      monotone_const...\n",
       "                                                      num_parallel_tree=1,\n",
       "                                                      random_state=0,\n",
       "                                                      reg_alpha=0, reg_lambda=1,\n",
       "                                                      scale_pos_weight=1,\n",
       "                                                      subsample=1,\n",
       "                                                      tree_method=&#x27;exact&#x27;,\n",
       "                                                      validate_parameters=1,\n",
       "                                                      verbosity=None))]),\n",
       "             n_jobs=-2,\n",
       "             param_grid={&#x27;XGB__gamma&#x27;: [0, 0.1, 0.2],\n",
       "                         &#x27;XGB__learning_rate&#x27;: [0.1, 0.2],\n",
       "                         &#x27;XGB__max_depth&#x27;: [5, 10, 15],\n",
       "                         &#x27;XGB__min_child_weight&#x27;: range(1, 8, 2),\n",
       "                         &#x27;XGB__subsample&#x27;: [0.5, 0.75, 1],\n",
       "                         &#x27;vect__ngram_range&#x27;: [(1, 1), (1, 2)]},\n",
       "             verbose=3)</pre><b>In a Jupyter environment, please rerun this cell to show the HTML representation or trust the notebook. <br />On GitHub, the HTML representation is unable to render, please try loading this page with nbviewer.org.</b></div><div class=\"sk-container\" hidden><div class=\"sk-item sk-dashed-wrapped\"><div class=\"sk-label-container\"><div class=\"sk-label sk-toggleable\"><input class=\"sk-toggleable__control sk-hidden--visually\" id=\"sk-estimator-id-36\" type=\"checkbox\" ><label for=\"sk-estimator-id-36\" class=\"sk-toggleable__label sk-toggleable__label-arrow\">GridSearchCV</label><div class=\"sk-toggleable__content\"><pre>GridSearchCV(cv=5,\n",
       "             estimator=Pipeline(steps=[(&#x27;vect&#x27;, TfidfVectorizer()),\n",
       "                                       (&#x27;XGB&#x27;,\n",
       "                                        XGBClassifier(base_score=0.5,\n",
       "                                                      booster=&#x27;gbtree&#x27;,\n",
       "                                                      colsample_bylevel=1,\n",
       "                                                      colsample_bynode=1,\n",
       "                                                      colsample_bytree=1,\n",
       "                                                      gamma=0, gpu_id=-1,\n",
       "                                                      importance_type=&#x27;gain&#x27;,\n",
       "                                                      interaction_constraints=&#x27;&#x27;,\n",
       "                                                      learning_rate=0.300000012,\n",
       "                                                      max_delta_step=0,\n",
       "                                                      max_depth=6,\n",
       "                                                      min_child_weight=1,\n",
       "                                                      missing=nan,\n",
       "                                                      monotone_const...\n",
       "                                                      num_parallel_tree=1,\n",
       "                                                      random_state=0,\n",
       "                                                      reg_alpha=0, reg_lambda=1,\n",
       "                                                      scale_pos_weight=1,\n",
       "                                                      subsample=1,\n",
       "                                                      tree_method=&#x27;exact&#x27;,\n",
       "                                                      validate_parameters=1,\n",
       "                                                      verbosity=None))]),\n",
       "             n_jobs=-2,\n",
       "             param_grid={&#x27;XGB__gamma&#x27;: [0, 0.1, 0.2],\n",
       "                         &#x27;XGB__learning_rate&#x27;: [0.1, 0.2],\n",
       "                         &#x27;XGB__max_depth&#x27;: [5, 10, 15],\n",
       "                         &#x27;XGB__min_child_weight&#x27;: range(1, 8, 2),\n",
       "                         &#x27;XGB__subsample&#x27;: [0.5, 0.75, 1],\n",
       "                         &#x27;vect__ngram_range&#x27;: [(1, 1), (1, 2)]},\n",
       "             verbose=3)</pre></div></div></div><div class=\"sk-parallel\"><div class=\"sk-parallel-item\"><div class=\"sk-item\"><div class=\"sk-label-container\"><div class=\"sk-label sk-toggleable\"><input class=\"sk-toggleable__control sk-hidden--visually\" id=\"sk-estimator-id-37\" type=\"checkbox\" ><label for=\"sk-estimator-id-37\" class=\"sk-toggleable__label sk-toggleable__label-arrow\">estimator: Pipeline</label><div class=\"sk-toggleable__content\"><pre>Pipeline(steps=[(&#x27;vect&#x27;, TfidfVectorizer()),\n",
       "                (&#x27;XGB&#x27;,\n",
       "                 XGBClassifier(base_score=0.5, booster=&#x27;gbtree&#x27;,\n",
       "                               colsample_bylevel=1, colsample_bynode=1,\n",
       "                               colsample_bytree=1, gamma=0, gpu_id=-1,\n",
       "                               importance_type=&#x27;gain&#x27;,\n",
       "                               interaction_constraints=&#x27;&#x27;,\n",
       "                               learning_rate=0.300000012, max_delta_step=0,\n",
       "                               max_depth=6, min_child_weight=1, missing=nan,\n",
       "                               monotone_constraints=&#x27;()&#x27;, n_estimators=100,\n",
       "                               n_jobs=0, num_parallel_tree=1, random_state=0,\n",
       "                               reg_alpha=0, reg_lambda=1, scale_pos_weight=1,\n",
       "                               subsample=1, tree_method=&#x27;exact&#x27;,\n",
       "                               validate_parameters=1, verbosity=None))])</pre></div></div></div><div class=\"sk-serial\"><div class=\"sk-item\"><div class=\"sk-serial\"><div class=\"sk-item\"><div class=\"sk-estimator sk-toggleable\"><input class=\"sk-toggleable__control sk-hidden--visually\" id=\"sk-estimator-id-38\" type=\"checkbox\" ><label for=\"sk-estimator-id-38\" class=\"sk-toggleable__label sk-toggleable__label-arrow\">TfidfVectorizer</label><div class=\"sk-toggleable__content\"><pre>TfidfVectorizer()</pre></div></div></div><div class=\"sk-item\"><div class=\"sk-estimator sk-toggleable\"><input class=\"sk-toggleable__control sk-hidden--visually\" id=\"sk-estimator-id-39\" type=\"checkbox\" ><label for=\"sk-estimator-id-39\" class=\"sk-toggleable__label sk-toggleable__label-arrow\">XGBClassifier</label><div class=\"sk-toggleable__content\"><pre>XGBClassifier(base_score=0.5, booster=&#x27;gbtree&#x27;, colsample_bylevel=1,\n",
       "              colsample_bynode=1, colsample_bytree=1, gamma=0, gpu_id=-1,\n",
       "              importance_type=&#x27;gain&#x27;, interaction_constraints=&#x27;&#x27;,\n",
       "              learning_rate=0.300000012, max_delta_step=0, max_depth=6,\n",
       "              min_child_weight=1, missing=nan, monotone_constraints=&#x27;()&#x27;,\n",
       "              n_estimators=100, n_jobs=0, num_parallel_tree=1, random_state=0,\n",
       "              reg_alpha=0, reg_lambda=1, scale_pos_weight=1, subsample=1,\n",
       "              tree_method=&#x27;exact&#x27;, validate_parameters=1, verbosity=None)</pre></div></div></div></div></div></div></div></div></div></div></div></div>"
      ],
      "text/plain": [
       "GridSearchCV(cv=5,\n",
       "             estimator=Pipeline(steps=[('vect', TfidfVectorizer()),\n",
       "                                       ('XGB',\n",
       "                                        XGBClassifier(base_score=0.5,\n",
       "                                                      booster='gbtree',\n",
       "                                                      colsample_bylevel=1,\n",
       "                                                      colsample_bynode=1,\n",
       "                                                      colsample_bytree=1,\n",
       "                                                      gamma=0, gpu_id=-1,\n",
       "                                                      importance_type='gain',\n",
       "                                                      interaction_constraints='',\n",
       "                                                      learning_rate=0.300000012,\n",
       "                                                      max_delta_step=0,\n",
       "                                                      max_depth=6,\n",
       "                                                      min_child_weight=1,\n",
       "                                                      missing=nan,\n",
       "                                                      monotone_const...\n",
       "                                                      num_parallel_tree=1,\n",
       "                                                      random_state=0,\n",
       "                                                      reg_alpha=0, reg_lambda=1,\n",
       "                                                      scale_pos_weight=1,\n",
       "                                                      subsample=1,\n",
       "                                                      tree_method='exact',\n",
       "                                                      validate_parameters=1,\n",
       "                                                      verbosity=None))]),\n",
       "             n_jobs=-2,\n",
       "             param_grid={'XGB__gamma': [0, 0.1, 0.2],\n",
       "                         'XGB__learning_rate': [0.1, 0.2],\n",
       "                         'XGB__max_depth': [5, 10, 15],\n",
       "                         'XGB__min_child_weight': range(1, 8, 2),\n",
       "                         'XGB__subsample': [0.5, 0.75, 1],\n",
       "                         'vect__ngram_range': [(1, 1), (1, 2)]},\n",
       "             verbose=3)"
      ]
     },
     "execution_count": 109,
     "metadata": {},
     "output_type": "execute_result"
    }
   ],
   "source": [
    "#grid_XGB.fit(X_train, y_train)"
   ]
  },
  {
   "cell_type": "code",
   "execution_count": 110,
   "id": "e73df88a",
   "metadata": {},
   "outputs": [
    {
     "name": "stdout",
     "output_type": "stream",
     "text": [
      "Grid Search found the following optimal parameters: \n",
      "XGB__gamma: 0.2\n",
      "XGB__learning_rate: 0.2\n",
      "XGB__max_depth: 10\n",
      "XGB__min_child_weight: 5\n",
      "XGB__subsample: 0.75\n",
      "vect__ngram_range: (1, 2)\n",
      "Training Accuracy: 93.32%\n",
      "[0.77561328 0.98022073]\n"
     ]
    }
   ],
   "source": [
    "#best_parameters = grid_XGB.best_params_\n",
    "\n",
    "#print('Grid Search found the following optimal parameters: ')\n",
    "#for param_name in sorted(best_parameters.keys()):\n",
    "#    print('%s: %r' % (param_name, best_parameters[param_name]))\n",
    "\n",
    "#training_preds = grid_XGB.predict(X_train)\n",
    "#training_accuracy = accuracy_score(y_train, training_preds)\n",
    "#training_recall = recall_score(y_train, training_preds, average = None)\n",
    "\n",
    "#print('Training Accuracy: {:.4}%'.format(training_accuracy * 100))\n",
    "#print(training_recall)"
   ]
  },
  {
   "cell_type": "markdown",
   "id": "da631bc5",
   "metadata": {},
   "source": [
    "Grid Search found the following optimal parameters: \n",
    "- XGB__gamma: 0.2\n",
    "- XGB__learning_rate: 0.2\n",
    "- XGB__max_depth: 10\n",
    "- XGB__min_child_weight: 5\n",
    "- XGB__subsample: 0.75\n",
    "- vect__ngram_range: (1, 2)\n",
    "- Training Accuracy: 93.32%\n",
    "- [0.77561328 0.98022073]"
   ]
  },
  {
   "cell_type": "code",
   "execution_count": null,
   "id": "fb9ad02c",
   "metadata": {},
   "outputs": [],
   "source": [
    "#XGB has long fit time, grid searches take extremely long compared to LR and RFC"
   ]
  },
  {
   "cell_type": "code",
   "execution_count": null,
   "id": "82f45c77",
   "metadata": {},
   "outputs": [],
   "source": [
    "#need to tune vectorizor max features definetly"
   ]
  },
  {
   "cell_type": "code",
   "execution_count": 118,
   "id": "8c4b39cf",
   "metadata": {},
   "outputs": [],
   "source": [
    "# Instantiate our XGB2 pipeline\n",
    "XGB2_pipe = ImPipeline(steps=[('vect', TfidfVectorizer(ngram_range=(1,2))), \n",
    "                             ('XGB', XGBClassifier(gamma=.2, learning_rate=.2, max_depth=10, min_child_weight=5, subsample=.75))])"
   ]
  },
  {
   "cell_type": "code",
   "execution_count": 119,
   "id": "293de08a",
   "metadata": {},
   "outputs": [
    {
     "data": {
      "text/html": [
       "<style>#sk-container-id-14 {color: black;background-color: white;}#sk-container-id-14 pre{padding: 0;}#sk-container-id-14 div.sk-toggleable {background-color: white;}#sk-container-id-14 label.sk-toggleable__label {cursor: pointer;display: block;width: 100%;margin-bottom: 0;padding: 0.3em;box-sizing: border-box;text-align: center;}#sk-container-id-14 label.sk-toggleable__label-arrow:before {content: \"▸\";float: left;margin-right: 0.25em;color: #696969;}#sk-container-id-14 label.sk-toggleable__label-arrow:hover:before {color: black;}#sk-container-id-14 div.sk-estimator:hover label.sk-toggleable__label-arrow:before {color: black;}#sk-container-id-14 div.sk-toggleable__content {max-height: 0;max-width: 0;overflow: hidden;text-align: left;background-color: #f0f8ff;}#sk-container-id-14 div.sk-toggleable__content pre {margin: 0.2em;color: black;border-radius: 0.25em;background-color: #f0f8ff;}#sk-container-id-14 input.sk-toggleable__control:checked~div.sk-toggleable__content {max-height: 200px;max-width: 100%;overflow: auto;}#sk-container-id-14 input.sk-toggleable__control:checked~label.sk-toggleable__label-arrow:before {content: \"▾\";}#sk-container-id-14 div.sk-estimator input.sk-toggleable__control:checked~label.sk-toggleable__label {background-color: #d4ebff;}#sk-container-id-14 div.sk-label input.sk-toggleable__control:checked~label.sk-toggleable__label {background-color: #d4ebff;}#sk-container-id-14 input.sk-hidden--visually {border: 0;clip: rect(1px 1px 1px 1px);clip: rect(1px, 1px, 1px, 1px);height: 1px;margin: -1px;overflow: hidden;padding: 0;position: absolute;width: 1px;}#sk-container-id-14 div.sk-estimator {font-family: monospace;background-color: #f0f8ff;border: 1px dotted black;border-radius: 0.25em;box-sizing: border-box;margin-bottom: 0.5em;}#sk-container-id-14 div.sk-estimator:hover {background-color: #d4ebff;}#sk-container-id-14 div.sk-parallel-item::after {content: \"\";width: 100%;border-bottom: 1px solid gray;flex-grow: 1;}#sk-container-id-14 div.sk-label:hover label.sk-toggleable__label {background-color: #d4ebff;}#sk-container-id-14 div.sk-serial::before {content: \"\";position: absolute;border-left: 1px solid gray;box-sizing: border-box;top: 0;bottom: 0;left: 50%;z-index: 0;}#sk-container-id-14 div.sk-serial {display: flex;flex-direction: column;align-items: center;background-color: white;padding-right: 0.2em;padding-left: 0.2em;position: relative;}#sk-container-id-14 div.sk-item {position: relative;z-index: 1;}#sk-container-id-14 div.sk-parallel {display: flex;align-items: stretch;justify-content: center;background-color: white;position: relative;}#sk-container-id-14 div.sk-item::before, #sk-container-id-14 div.sk-parallel-item::before {content: \"\";position: absolute;border-left: 1px solid gray;box-sizing: border-box;top: 0;bottom: 0;left: 50%;z-index: -1;}#sk-container-id-14 div.sk-parallel-item {display: flex;flex-direction: column;z-index: 1;position: relative;background-color: white;}#sk-container-id-14 div.sk-parallel-item:first-child::after {align-self: flex-end;width: 50%;}#sk-container-id-14 div.sk-parallel-item:last-child::after {align-self: flex-start;width: 50%;}#sk-container-id-14 div.sk-parallel-item:only-child::after {width: 0;}#sk-container-id-14 div.sk-dashed-wrapped {border: 1px dashed gray;margin: 0 0.4em 0.5em 0.4em;box-sizing: border-box;padding-bottom: 0.4em;background-color: white;}#sk-container-id-14 div.sk-label label {font-family: monospace;font-weight: bold;display: inline-block;line-height: 1.2em;}#sk-container-id-14 div.sk-label-container {text-align: center;}#sk-container-id-14 div.sk-container {/* jupyter's `normalize.less` sets `[hidden] { display: none; }` but bootstrap.min.css set `[hidden] { display: none !important; }` so we also need the `!important` here to be able to override the default hidden behavior on the sphinx rendered scikit-learn.org. See: https://github.com/scikit-learn/scikit-learn/issues/21755 */display: inline-block !important;position: relative;}#sk-container-id-14 div.sk-text-repr-fallback {display: none;}</style><div id=\"sk-container-id-14\" class=\"sk-top-container\"><div class=\"sk-text-repr-fallback\"><pre>Pipeline(steps=[(&#x27;vect&#x27;, TfidfVectorizer(ngram_range=(1, 2))),\n",
       "                (&#x27;XGB&#x27;,\n",
       "                 XGBClassifier(base_score=0.5, booster=&#x27;gbtree&#x27;,\n",
       "                               colsample_bylevel=1, colsample_bynode=1,\n",
       "                               colsample_bytree=1, gamma=0.2, gpu_id=-1,\n",
       "                               importance_type=&#x27;gain&#x27;,\n",
       "                               interaction_constraints=&#x27;&#x27;, learning_rate=0.2,\n",
       "                               max_delta_step=0, max_depth=10,\n",
       "                               min_child_weight=5, missing=nan,\n",
       "                               monotone_constraints=&#x27;()&#x27;, n_estimators=100,\n",
       "                               n_jobs=0, num_parallel_tree=1, random_state=0,\n",
       "                               reg_alpha=0, reg_lambda=1, scale_pos_weight=1,\n",
       "                               subsample=0.75, tree_method=&#x27;exact&#x27;,\n",
       "                               validate_parameters=1, verbosity=None))])</pre><b>In a Jupyter environment, please rerun this cell to show the HTML representation or trust the notebook. <br />On GitHub, the HTML representation is unable to render, please try loading this page with nbviewer.org.</b></div><div class=\"sk-container\" hidden><div class=\"sk-item sk-dashed-wrapped\"><div class=\"sk-label-container\"><div class=\"sk-label sk-toggleable\"><input class=\"sk-toggleable__control sk-hidden--visually\" id=\"sk-estimator-id-46\" type=\"checkbox\" ><label for=\"sk-estimator-id-46\" class=\"sk-toggleable__label sk-toggleable__label-arrow\">Pipeline</label><div class=\"sk-toggleable__content\"><pre>Pipeline(steps=[(&#x27;vect&#x27;, TfidfVectorizer(ngram_range=(1, 2))),\n",
       "                (&#x27;XGB&#x27;,\n",
       "                 XGBClassifier(base_score=0.5, booster=&#x27;gbtree&#x27;,\n",
       "                               colsample_bylevel=1, colsample_bynode=1,\n",
       "                               colsample_bytree=1, gamma=0.2, gpu_id=-1,\n",
       "                               importance_type=&#x27;gain&#x27;,\n",
       "                               interaction_constraints=&#x27;&#x27;, learning_rate=0.2,\n",
       "                               max_delta_step=0, max_depth=10,\n",
       "                               min_child_weight=5, missing=nan,\n",
       "                               monotone_constraints=&#x27;()&#x27;, n_estimators=100,\n",
       "                               n_jobs=0, num_parallel_tree=1, random_state=0,\n",
       "                               reg_alpha=0, reg_lambda=1, scale_pos_weight=1,\n",
       "                               subsample=0.75, tree_method=&#x27;exact&#x27;,\n",
       "                               validate_parameters=1, verbosity=None))])</pre></div></div></div><div class=\"sk-serial\"><div class=\"sk-item\"><div class=\"sk-estimator sk-toggleable\"><input class=\"sk-toggleable__control sk-hidden--visually\" id=\"sk-estimator-id-47\" type=\"checkbox\" ><label for=\"sk-estimator-id-47\" class=\"sk-toggleable__label sk-toggleable__label-arrow\">TfidfVectorizer</label><div class=\"sk-toggleable__content\"><pre>TfidfVectorizer(ngram_range=(1, 2))</pre></div></div></div><div class=\"sk-item\"><div class=\"sk-estimator sk-toggleable\"><input class=\"sk-toggleable__control sk-hidden--visually\" id=\"sk-estimator-id-48\" type=\"checkbox\" ><label for=\"sk-estimator-id-48\" class=\"sk-toggleable__label sk-toggleable__label-arrow\">XGBClassifier</label><div class=\"sk-toggleable__content\"><pre>XGBClassifier(base_score=0.5, booster=&#x27;gbtree&#x27;, colsample_bylevel=1,\n",
       "              colsample_bynode=1, colsample_bytree=1, gamma=0.2, gpu_id=-1,\n",
       "              importance_type=&#x27;gain&#x27;, interaction_constraints=&#x27;&#x27;,\n",
       "              learning_rate=0.2, max_delta_step=0, max_depth=10,\n",
       "              min_child_weight=5, missing=nan, monotone_constraints=&#x27;()&#x27;,\n",
       "              n_estimators=100, n_jobs=0, num_parallel_tree=1, random_state=0,\n",
       "              reg_alpha=0, reg_lambda=1, scale_pos_weight=1, subsample=0.75,\n",
       "              tree_method=&#x27;exact&#x27;, validate_parameters=1, verbosity=None)</pre></div></div></div></div></div></div></div>"
      ],
      "text/plain": [
       "Pipeline(steps=[('vect', TfidfVectorizer(ngram_range=(1, 2))),\n",
       "                ('XGB',\n",
       "                 XGBClassifier(base_score=0.5, booster='gbtree',\n",
       "                               colsample_bylevel=1, colsample_bynode=1,\n",
       "                               colsample_bytree=1, gamma=0.2, gpu_id=-1,\n",
       "                               importance_type='gain',\n",
       "                               interaction_constraints='', learning_rate=0.2,\n",
       "                               max_delta_step=0, max_depth=10,\n",
       "                               min_child_weight=5, missing=nan,\n",
       "                               monotone_constraints='()', n_estimators=100,\n",
       "                               n_jobs=0, num_parallel_tree=1, random_state=0,\n",
       "                               reg_alpha=0, reg_lambda=1, scale_pos_weight=1,\n",
       "                               subsample=0.75, tree_method='exact',\n",
       "                               validate_parameters=1, verbosity=None))])"
      ]
     },
     "execution_count": 119,
     "metadata": {},
     "output_type": "execute_result"
    }
   ],
   "source": [
    "XGB2_pipe.fit(X_train, y_train)"
   ]
  },
  {
   "cell_type": "code",
   "execution_count": 120,
   "id": "e3f188db",
   "metadata": {},
   "outputs": [
    {
     "data": {
      "text/plain": [
       "0.9332486749116607"
      ]
     },
     "execution_count": 120,
     "metadata": {},
     "output_type": "execute_result"
    }
   ],
   "source": [
    "XGB2_pipe.score(X_train, y_train)"
   ]
  },
  {
   "cell_type": "code",
   "execution_count": 121,
   "id": "f01f6d7f",
   "metadata": {},
   "outputs": [
    {
     "data": {
      "text/plain": [
       "{'fit_time': 29.19305,\n",
       " 'score_time': 0.38804,\n",
       " 'test_accuracy': 0.86942,\n",
       " 'test_precision': 0.86401,\n",
       " 'test_recall': 0.86942,\n",
       " 'test_f1': 0.86421,\n",
       " 'test_log_loss': -0.30814}"
      ]
     },
     "execution_count": 121,
     "metadata": {},
     "output_type": "execute_result"
    }
   ],
   "source": [
    "cross_val(XGB2_pipe, X_train, y_train)"
   ]
  },
  {
   "cell_type": "code",
   "execution_count": 123,
   "id": "df5f52bb",
   "metadata": {},
   "outputs": [],
   "source": [
    "#accuracy of 86.9%, slightly below best LR model"
   ]
  },
  {
   "cell_type": "code",
   "execution_count": 122,
   "id": "71b1de5c",
   "metadata": {},
   "outputs": [
    {
     "name": "stderr",
     "output_type": "stream",
     "text": [
      "/Users/jillian/opt/anaconda3/envs/learn-env/lib/python3.8/site-packages/sklearn/utils/deprecation.py:87: FutureWarning: Function plot_confusion_matrix is deprecated; Function `plot_confusion_matrix` is deprecated in 1.0 and will be removed in 1.2. Use one of the class methods: ConfusionMatrixDisplay.from_predictions or ConfusionMatrixDisplay.from_estimator.\n",
      "  warnings.warn(msg, category=FutureWarning)\n"
     ]
    },
    {
     "data": {
      "image/png": "[encoded data removed]",
      "text/plain": [
       "<Figure size 432x288 with 2 Axes>"
      ]
     },
     "metadata": {
      "needs_background": "light"
     },
     "output_type": "display_data"
    }
   ],
   "source": [
    "plot_confusion_matrix(XGB2_pipe, X_train, y_train);"
   ]
  },
  {
   "cell_type": "markdown",
   "id": "43c8c866",
   "metadata": {},
   "source": [
    "## Random Forest Classifier"
   ]
  },
  {
   "cell_type": "code",
   "execution_count": 124,
   "id": "1957ca90",
   "metadata": {},
   "outputs": [],
   "source": [
    "# Create our random forest pipeline to incorporate vectorizer, use default hyperparameters\n",
    "rfc_pipe = Pipeline(steps=[('vect', TfidfVectorizer()),\n",
    "                           ('rfc', RandomForestClassifier(random_state=42))])"
   ]
  },
  {
   "cell_type": "code",
   "execution_count": 125,
   "id": "870a99e6",
   "metadata": {},
   "outputs": [
    {
     "data": {
      "text/html": [
       "<style>#sk-container-id-15 {color: black;background-color: white;}#sk-container-id-15 pre{padding: 0;}#sk-container-id-15 div.sk-toggleable {background-color: white;}#sk-container-id-15 label.sk-toggleable__label {cursor: pointer;display: block;width: 100%;margin-bottom: 0;padding: 0.3em;box-sizing: border-box;text-align: center;}#sk-container-id-15 label.sk-toggleable__label-arrow:before {content: \"▸\";float: left;margin-right: 0.25em;color: #696969;}#sk-container-id-15 label.sk-toggleable__label-arrow:hover:before {color: black;}#sk-container-id-15 div.sk-estimator:hover label.sk-toggleable__label-arrow:before {color: black;}#sk-container-id-15 div.sk-toggleable__content {max-height: 0;max-width: 0;overflow: hidden;text-align: left;background-color: #f0f8ff;}#sk-container-id-15 div.sk-toggleable__content pre {margin: 0.2em;color: black;border-radius: 0.25em;background-color: #f0f8ff;}#sk-container-id-15 input.sk-toggleable__control:checked~div.sk-toggleable__content {max-height: 200px;max-width: 100%;overflow: auto;}#sk-container-id-15 input.sk-toggleable__control:checked~label.sk-toggleable__label-arrow:before {content: \"▾\";}#sk-container-id-15 div.sk-estimator input.sk-toggleable__control:checked~label.sk-toggleable__label {background-color: #d4ebff;}#sk-container-id-15 div.sk-label input.sk-toggleable__control:checked~label.sk-toggleable__label {background-color: #d4ebff;}#sk-container-id-15 input.sk-hidden--visually {border: 0;clip: rect(1px 1px 1px 1px);clip: rect(1px, 1px, 1px, 1px);height: 1px;margin: -1px;overflow: hidden;padding: 0;position: absolute;width: 1px;}#sk-container-id-15 div.sk-estimator {font-family: monospace;background-color: #f0f8ff;border: 1px dotted black;border-radius: 0.25em;box-sizing: border-box;margin-bottom: 0.5em;}#sk-container-id-15 div.sk-estimator:hover {background-color: #d4ebff;}#sk-container-id-15 div.sk-parallel-item::after {content: \"\";width: 100%;border-bottom: 1px solid gray;flex-grow: 1;}#sk-container-id-15 div.sk-label:hover label.sk-toggleable__label {background-color: #d4ebff;}#sk-container-id-15 div.sk-serial::before {content: \"\";position: absolute;border-left: 1px solid gray;box-sizing: border-box;top: 0;bottom: 0;left: 50%;z-index: 0;}#sk-container-id-15 div.sk-serial {display: flex;flex-direction: column;align-items: center;background-color: white;padding-right: 0.2em;padding-left: 0.2em;position: relative;}#sk-container-id-15 div.sk-item {position: relative;z-index: 1;}#sk-container-id-15 div.sk-parallel {display: flex;align-items: stretch;justify-content: center;background-color: white;position: relative;}#sk-container-id-15 div.sk-item::before, #sk-container-id-15 div.sk-parallel-item::before {content: \"\";position: absolute;border-left: 1px solid gray;box-sizing: border-box;top: 0;bottom: 0;left: 50%;z-index: -1;}#sk-container-id-15 div.sk-parallel-item {display: flex;flex-direction: column;z-index: 1;position: relative;background-color: white;}#sk-container-id-15 div.sk-parallel-item:first-child::after {align-self: flex-end;width: 50%;}#sk-container-id-15 div.sk-parallel-item:last-child::after {align-self: flex-start;width: 50%;}#sk-container-id-15 div.sk-parallel-item:only-child::after {width: 0;}#sk-container-id-15 div.sk-dashed-wrapped {border: 1px dashed gray;margin: 0 0.4em 0.5em 0.4em;box-sizing: border-box;padding-bottom: 0.4em;background-color: white;}#sk-container-id-15 div.sk-label label {font-family: monospace;font-weight: bold;display: inline-block;line-height: 1.2em;}#sk-container-id-15 div.sk-label-container {text-align: center;}#sk-container-id-15 div.sk-container {/* jupyter's `normalize.less` sets `[hidden] { display: none; }` but bootstrap.min.css set `[hidden] { display: none !important; }` so we also need the `!important` here to be able to override the default hidden behavior on the sphinx rendered scikit-learn.org. See: https://github.com/scikit-learn/scikit-learn/issues/21755 */display: inline-block !important;position: relative;}#sk-container-id-15 div.sk-text-repr-fallback {display: none;}</style><div id=\"sk-container-id-15\" class=\"sk-top-container\"><div class=\"sk-text-repr-fallback\"><pre>Pipeline(steps=[(&#x27;vect&#x27;, TfidfVectorizer()),\n",
       "                (&#x27;rfc&#x27;, RandomForestClassifier(random_state=42))])</pre><b>In a Jupyter environment, please rerun this cell to show the HTML representation or trust the notebook. <br />On GitHub, the HTML representation is unable to render, please try loading this page with nbviewer.org.</b></div><div class=\"sk-container\" hidden><div class=\"sk-item sk-dashed-wrapped\"><div class=\"sk-label-container\"><div class=\"sk-label sk-toggleable\"><input class=\"sk-toggleable__control sk-hidden--visually\" id=\"sk-estimator-id-49\" type=\"checkbox\" ><label for=\"sk-estimator-id-49\" class=\"sk-toggleable__label sk-toggleable__label-arrow\">Pipeline</label><div class=\"sk-toggleable__content\"><pre>Pipeline(steps=[(&#x27;vect&#x27;, TfidfVectorizer()),\n",
       "                (&#x27;rfc&#x27;, RandomForestClassifier(random_state=42))])</pre></div></div></div><div class=\"sk-serial\"><div class=\"sk-item\"><div class=\"sk-estimator sk-toggleable\"><input class=\"sk-toggleable__control sk-hidden--visually\" id=\"sk-estimator-id-50\" type=\"checkbox\" ><label for=\"sk-estimator-id-50\" class=\"sk-toggleable__label sk-toggleable__label-arrow\">TfidfVectorizer</label><div class=\"sk-toggleable__content\"><pre>TfidfVectorizer()</pre></div></div></div><div class=\"sk-item\"><div class=\"sk-estimator sk-toggleable\"><input class=\"sk-toggleable__control sk-hidden--visually\" id=\"sk-estimator-id-51\" type=\"checkbox\" ><label for=\"sk-estimator-id-51\" class=\"sk-toggleable__label sk-toggleable__label-arrow\">RandomForestClassifier</label><div class=\"sk-toggleable__content\"><pre>RandomForestClassifier(random_state=42)</pre></div></div></div></div></div></div></div>"
      ],
      "text/plain": [
       "Pipeline(steps=[('vect', TfidfVectorizer()),\n",
       "                ('rfc', RandomForestClassifier(random_state=42))])"
      ]
     },
     "execution_count": 125,
     "metadata": {},
     "output_type": "execute_result"
    }
   ],
   "source": [
    "# Fit our random forest classifier to the training data\n",
    "rfc_pipe.fit(X_train, y_train)"
   ]
  },
  {
   "cell_type": "code",
   "execution_count": 126,
   "id": "d07293fb",
   "metadata": {},
   "outputs": [
    {
     "data": {
      "text/plain": [
       "1.0"
      ]
     },
     "execution_count": 126,
     "metadata": {},
     "output_type": "execute_result"
    }
   ],
   "source": [
    "# Calculate initial accuracy score of random forest with default hyperparameters\n",
    "rfc_pipe.score(X_train, y_train)"
   ]
  },
  {
   "cell_type": "code",
   "execution_count": 128,
   "id": "25c760fe",
   "metadata": {},
   "outputs": [],
   "source": [
    "#unsurprisingly overfit to accuracy of 1"
   ]
  },
  {
   "cell_type": "code",
   "execution_count": 127,
   "id": "fa694c17",
   "metadata": {},
   "outputs": [
    {
     "data": {
      "text/plain": [
       "{'fit_time': 6.89991,\n",
       " 'score_time': 0.36,\n",
       " 'test_accuracy': 0.83149,\n",
       " 'test_precision': 0.83496,\n",
       " 'test_recall': 0.83149,\n",
       " 'test_f1': 0.80044,\n",
       " 'test_log_loss': -0.36066}"
      ]
     },
     "execution_count": 127,
     "metadata": {},
     "output_type": "execute_result"
    }
   ],
   "source": [
    "cross_val(rfc_pipe, X_train, y_train)"
   ]
  },
  {
   "cell_type": "code",
   "execution_count": 129,
   "id": "384b9490",
   "metadata": {},
   "outputs": [],
   "source": [
    "# create our massive grid for the grid search parameters\n",
    "params = {'rfc__n_estimators': [75, 100, 150],\n",
    "           'rfc__max_depth': [50, 100, 150],\n",
    "           'rfc__max_features': ['sqrt', 'log2'],\n",
    "           'rfc__min_samples_leaf': [5, 10, 25],\n",
    "           'rfc__min_impurity_decrease': [0, 0.05],\n",
    "           'rfc__criterion': ['gini', 'entropy'],\n",
    "            'vect__max_features': (2500, 3000),\n",
    "            'vect__ngram_range': [(1,1), (1,2)],}\n",
    "\n",
    "# set up GridSearchCV object\n",
    "grid_rfc = GridSearchCV(rfc_pipe, param_grid=params, cv=3, n_jobs=-2, verbose=3)"
   ]
  },
  {
   "cell_type": "code",
   "execution_count": 131,
   "id": "de301e57",
   "metadata": {},
   "outputs": [
    {
     "name": "stdout",
     "output_type": "stream",
     "text": [
      "Fitting 3 folds for each of 864 candidates, totalling 2592 fits\n"
     ]
    },
    {
     "name": "stderr",
     "output_type": "stream",
     "text": [
      "/Users/jillian/opt/anaconda3/envs/learn-env/lib/python3.8/site-packages/joblib/externals/loky/process_executor.py:702: UserWarning: A worker stopped while some jobs were given to the executor. This can be caused by a too short worker timeout or by a memory leak.\n",
      "  warnings.warn(\n"
     ]
    },
    {
     "data": {
      "text/html": [
       "<style>#sk-container-id-16 {color: black;background-color: white;}#sk-container-id-16 pre{padding: 0;}#sk-container-id-16 div.sk-toggleable {background-color: white;}#sk-container-id-16 label.sk-toggleable__label {cursor: pointer;display: block;width: 100%;margin-bottom: 0;padding: 0.3em;box-sizing: border-box;text-align: center;}#sk-container-id-16 label.sk-toggleable__label-arrow:before {content: \"▸\";float: left;margin-right: 0.25em;color: #696969;}#sk-container-id-16 label.sk-toggleable__label-arrow:hover:before {color: black;}#sk-container-id-16 div.sk-estimator:hover label.sk-toggleable__label-arrow:before {color: black;}#sk-container-id-16 div.sk-toggleable__content {max-height: 0;max-width: 0;overflow: hidden;text-align: left;background-color: #f0f8ff;}#sk-container-id-16 div.sk-toggleable__content pre {margin: 0.2em;color: black;border-radius: 0.25em;background-color: #f0f8ff;}#sk-container-id-16 input.sk-toggleable__control:checked~div.sk-toggleable__content {max-height: 200px;max-width: 100%;overflow: auto;}#sk-container-id-16 input.sk-toggleable__control:checked~label.sk-toggleable__label-arrow:before {content: \"▾\";}#sk-container-id-16 div.sk-estimator input.sk-toggleable__control:checked~label.sk-toggleable__label {background-color: #d4ebff;}#sk-container-id-16 div.sk-label input.sk-toggleable__control:checked~label.sk-toggleable__label {background-color: #d4ebff;}#sk-container-id-16 input.sk-hidden--visually {border: 0;clip: rect(1px 1px 1px 1px);clip: rect(1px, 1px, 1px, 1px);height: 1px;margin: -1px;overflow: hidden;padding: 0;position: absolute;width: 1px;}#sk-container-id-16 div.sk-estimator {font-family: monospace;background-color: #f0f8ff;border: 1px dotted black;border-radius: 0.25em;box-sizing: border-box;margin-bottom: 0.5em;}#sk-container-id-16 div.sk-estimator:hover {background-color: #d4ebff;}#sk-container-id-16 div.sk-parallel-item::after {content: \"\";width: 100%;border-bottom: 1px solid gray;flex-grow: 1;}#sk-container-id-16 div.sk-label:hover label.sk-toggleable__label {background-color: #d4ebff;}#sk-container-id-16 div.sk-serial::before {content: \"\";position: absolute;border-left: 1px solid gray;box-sizing: border-box;top: 0;bottom: 0;left: 50%;z-index: 0;}#sk-container-id-16 div.sk-serial {display: flex;flex-direction: column;align-items: center;background-color: white;padding-right: 0.2em;padding-left: 0.2em;position: relative;}#sk-container-id-16 div.sk-item {position: relative;z-index: 1;}#sk-container-id-16 div.sk-parallel {display: flex;align-items: stretch;justify-content: center;background-color: white;position: relative;}#sk-container-id-16 div.sk-item::before, #sk-container-id-16 div.sk-parallel-item::before {content: \"\";position: absolute;border-left: 1px solid gray;box-sizing: border-box;top: 0;bottom: 0;left: 50%;z-index: -1;}#sk-container-id-16 div.sk-parallel-item {display: flex;flex-direction: column;z-index: 1;position: relative;background-color: white;}#sk-container-id-16 div.sk-parallel-item:first-child::after {align-self: flex-end;width: 50%;}#sk-container-id-16 div.sk-parallel-item:last-child::after {align-self: flex-start;width: 50%;}#sk-container-id-16 div.sk-parallel-item:only-child::after {width: 0;}#sk-container-id-16 div.sk-dashed-wrapped {border: 1px dashed gray;margin: 0 0.4em 0.5em 0.4em;box-sizing: border-box;padding-bottom: 0.4em;background-color: white;}#sk-container-id-16 div.sk-label label {font-family: monospace;font-weight: bold;display: inline-block;line-height: 1.2em;}#sk-container-id-16 div.sk-label-container {text-align: center;}#sk-container-id-16 div.sk-container {/* jupyter's `normalize.less` sets `[hidden] { display: none; }` but bootstrap.min.css set `[hidden] { display: none !important; }` so we also need the `!important` here to be able to override the default hidden behavior on the sphinx rendered scikit-learn.org. See: https://github.com/scikit-learn/scikit-learn/issues/21755 */display: inline-block !important;position: relative;}#sk-container-id-16 div.sk-text-repr-fallback {display: none;}</style><div id=\"sk-container-id-16\" class=\"sk-top-container\"><div class=\"sk-text-repr-fallback\"><pre>GridSearchCV(cv=3,\n",
       "             estimator=Pipeline(steps=[(&#x27;vect&#x27;, TfidfVectorizer()),\n",
       "                                       (&#x27;rfc&#x27;,\n",
       "                                        RandomForestClassifier(random_state=42))]),\n",
       "             n_jobs=-2,\n",
       "             param_grid={&#x27;rfc__criterion&#x27;: [&#x27;gini&#x27;, &#x27;entropy&#x27;],\n",
       "                         &#x27;rfc__max_depth&#x27;: [50, 100, 150],\n",
       "                         &#x27;rfc__max_features&#x27;: [&#x27;sqrt&#x27;, &#x27;log2&#x27;],\n",
       "                         &#x27;rfc__min_impurity_decrease&#x27;: [0, 0.05],\n",
       "                         &#x27;rfc__min_samples_leaf&#x27;: [5, 10, 25],\n",
       "                         &#x27;rfc__n_estimators&#x27;: [75, 100, 150],\n",
       "                         &#x27;vect__max_features&#x27;: (2500, 3000),\n",
       "                         &#x27;vect__ngram_range&#x27;: [(1, 1), (1, 2)]},\n",
       "             verbose=3)</pre><b>In a Jupyter environment, please rerun this cell to show the HTML representation or trust the notebook. <br />On GitHub, the HTML representation is unable to render, please try loading this page with nbviewer.org.</b></div><div class=\"sk-container\" hidden><div class=\"sk-item sk-dashed-wrapped\"><div class=\"sk-label-container\"><div class=\"sk-label sk-toggleable\"><input class=\"sk-toggleable__control sk-hidden--visually\" id=\"sk-estimator-id-52\" type=\"checkbox\" ><label for=\"sk-estimator-id-52\" class=\"sk-toggleable__label sk-toggleable__label-arrow\">GridSearchCV</label><div class=\"sk-toggleable__content\"><pre>GridSearchCV(cv=3,\n",
       "             estimator=Pipeline(steps=[(&#x27;vect&#x27;, TfidfVectorizer()),\n",
       "                                       (&#x27;rfc&#x27;,\n",
       "                                        RandomForestClassifier(random_state=42))]),\n",
       "             n_jobs=-2,\n",
       "             param_grid={&#x27;rfc__criterion&#x27;: [&#x27;gini&#x27;, &#x27;entropy&#x27;],\n",
       "                         &#x27;rfc__max_depth&#x27;: [50, 100, 150],\n",
       "                         &#x27;rfc__max_features&#x27;: [&#x27;sqrt&#x27;, &#x27;log2&#x27;],\n",
       "                         &#x27;rfc__min_impurity_decrease&#x27;: [0, 0.05],\n",
       "                         &#x27;rfc__min_samples_leaf&#x27;: [5, 10, 25],\n",
       "                         &#x27;rfc__n_estimators&#x27;: [75, 100, 150],\n",
       "                         &#x27;vect__max_features&#x27;: (2500, 3000),\n",
       "                         &#x27;vect__ngram_range&#x27;: [(1, 1), (1, 2)]},\n",
       "             verbose=3)</pre></div></div></div><div class=\"sk-parallel\"><div class=\"sk-parallel-item\"><div class=\"sk-item\"><div class=\"sk-label-container\"><div class=\"sk-label sk-toggleable\"><input class=\"sk-toggleable__control sk-hidden--visually\" id=\"sk-estimator-id-53\" type=\"checkbox\" ><label for=\"sk-estimator-id-53\" class=\"sk-toggleable__label sk-toggleable__label-arrow\">estimator: Pipeline</label><div class=\"sk-toggleable__content\"><pre>Pipeline(steps=[(&#x27;vect&#x27;, TfidfVectorizer()),\n",
       "                (&#x27;rfc&#x27;, RandomForestClassifier(random_state=42))])</pre></div></div></div><div class=\"sk-serial\"><div class=\"sk-item\"><div class=\"sk-serial\"><div class=\"sk-item\"><div class=\"sk-estimator sk-toggleable\"><input class=\"sk-toggleable__control sk-hidden--visually\" id=\"sk-estimator-id-54\" type=\"checkbox\" ><label for=\"sk-estimator-id-54\" class=\"sk-toggleable__label sk-toggleable__label-arrow\">TfidfVectorizer</label><div class=\"sk-toggleable__content\"><pre>TfidfVectorizer()</pre></div></div></div><div class=\"sk-item\"><div class=\"sk-estimator sk-toggleable\"><input class=\"sk-toggleable__control sk-hidden--visually\" id=\"sk-estimator-id-55\" type=\"checkbox\" ><label for=\"sk-estimator-id-55\" class=\"sk-toggleable__label sk-toggleable__label-arrow\">RandomForestClassifier</label><div class=\"sk-toggleable__content\"><pre>RandomForestClassifier(random_state=42)</pre></div></div></div></div></div></div></div></div></div></div></div></div>"
      ],
      "text/plain": [
       "GridSearchCV(cv=3,\n",
       "             estimator=Pipeline(steps=[('vect', TfidfVectorizer()),\n",
       "                                       ('rfc',\n",
       "                                        RandomForestClassifier(random_state=42))]),\n",
       "             n_jobs=-2,\n",
       "             param_grid={'rfc__criterion': ['gini', 'entropy'],\n",
       "                         'rfc__max_depth': [50, 100, 150],\n",
       "                         'rfc__max_features': ['sqrt', 'log2'],\n",
       "                         'rfc__min_impurity_decrease': [0, 0.05],\n",
       "                         'rfc__min_samples_leaf': [5, 10, 25],\n",
       "                         'rfc__n_estimators': [75, 100, 150],\n",
       "                         'vect__max_features': (2500, 3000),\n",
       "                         'vect__ngram_range': [(1, 1), (1, 2)]},\n",
       "             verbose=3)"
      ]
     },
     "execution_count": 131,
     "metadata": {},
     "output_type": "execute_result"
    }
   ],
   "source": [
    "#grid_rfc.fit(X_train, y_train)"
   ]
  },
  {
   "cell_type": "code",
   "execution_count": 133,
   "id": "fe9ed055",
   "metadata": {},
   "outputs": [
    {
     "name": "stdout",
     "output_type": "stream",
     "text": [
      "Grid Search found the following optimal parameters: \n",
      "rfc__criterion: 'entropy'\n",
      "rfc__max_depth: 100\n",
      "rfc__max_features: 'sqrt'\n",
      "rfc__min_impurity_decrease: 0\n",
      "rfc__min_samples_leaf: 5\n",
      "rfc__n_estimators: 75\n",
      "vect__max_features: 2500\n",
      "vect__ngram_range: (1, 2)\n",
      "Training Accuracy: 90.06%\n",
      "[0.5959596  0.99132865]\n"
     ]
    }
   ],
   "source": [
    "#best_parameters = grid_rfc.best_params_\n",
    "\n",
    "#print('Grid Search found the following optimal parameters: ')\n",
    "#for param_name in sorted(best_parameters.keys()):\n",
    "#    print('%s: %r' % (param_name, best_parameters[param_name]))\n",
    "\n",
    "#training_preds = grid_rfc.predict(X_train)\n",
    "#training_accuracy = accuracy_score(y_train, training_preds)\n",
    "#training_recall = recall_score(y_train, training_preds, average = None)\n",
    "\n",
    "#print('Training Accuracy: {:.4}%'.format(training_accuracy * 100))\n",
    "#print(training_recall)\n"
   ]
  },
  {
   "cell_type": "markdown",
   "id": "9c597019",
   "metadata": {},
   "source": [
    "Grid Search found the following optimal parameters: \n",
    "- rfc__criterion: 'entropy'\n",
    "- rfc__max_depth: 100\n",
    "- rfc__max_features: 'sqrt'\n",
    "- rfc__min_impurity_decrease: 0\n",
    "- rfc__min_samples_leaf: 5\n",
    "- rfc__n_estimators: 75\n",
    "- vect__max_features: 2500\n",
    "- vect__ngram_range: (1, 2)\n",
    "- Training Accuracy: 90.06%\n",
    "- [0.5959596  0.99132865]"
   ]
  },
  {
   "cell_type": "code",
   "execution_count": 135,
   "id": "4bb3587d",
   "metadata": {},
   "outputs": [],
   "source": [
    "#hit lower boundary of  min_samples_leaf and n_estimators and vect_max_features,"
   ]
  },
  {
   "cell_type": "code",
   "execution_count": 137,
   "id": "e7c00b3f",
   "metadata": {},
   "outputs": [],
   "source": [
    "# create our massive grid for the grid search parameters\n",
    "params2 = {'rfc__n_estimators': [70, 75, 80],\n",
    "           'rfc__max_depth': [75, 100, 125],\n",
    "           'rfc__max_features': ['sqrt', 'log2'],\n",
    "           'rfc__min_samples_leaf': [4, 5, 6],\n",
    "           'rfc__criterion': ['gini', 'entropy'],\n",
    "            'vect__max_features': (2250, 2500, 2750),\n",
    "            'vect__ngram_range': [(1,1), (1,2)],}\n",
    "\n",
    "# set up GridSearchCV object\n",
    "grid_rfc2 = GridSearchCV(rfc_pipe, param_grid=params2, cv=3, n_jobs=-2, verbose=3)"
   ]
  },
  {
   "cell_type": "code",
   "execution_count": 138,
   "id": "4e3ad1ea",
   "metadata": {},
   "outputs": [
    {
     "name": "stdout",
     "output_type": "stream",
     "text": [
      "Fitting 3 folds for each of 648 candidates, totalling 1944 fits\n"
     ]
    },
    {
     "name": "stderr",
     "output_type": "stream",
     "text": [
      "/Users/jillian/opt/anaconda3/envs/learn-env/lib/python3.8/site-packages/joblib/externals/loky/process_executor.py:702: UserWarning: A worker stopped while some jobs were given to the executor. This can be caused by a too short worker timeout or by a memory leak.\n",
      "  warnings.warn(\n"
     ]
    },
    {
     "data": {
      "text/html": [
       "<style>#sk-container-id-17 {color: black;background-color: white;}#sk-container-id-17 pre{padding: 0;}#sk-container-id-17 div.sk-toggleable {background-color: white;}#sk-container-id-17 label.sk-toggleable__label {cursor: pointer;display: block;width: 100%;margin-bottom: 0;padding: 0.3em;box-sizing: border-box;text-align: center;}#sk-container-id-17 label.sk-toggleable__label-arrow:before {content: \"▸\";float: left;margin-right: 0.25em;color: #696969;}#sk-container-id-17 label.sk-toggleable__label-arrow:hover:before {color: black;}#sk-container-id-17 div.sk-estimator:hover label.sk-toggleable__label-arrow:before {color: black;}#sk-container-id-17 div.sk-toggleable__content {max-height: 0;max-width: 0;overflow: hidden;text-align: left;background-color: #f0f8ff;}#sk-container-id-17 div.sk-toggleable__content pre {margin: 0.2em;color: black;border-radius: 0.25em;background-color: #f0f8ff;}#sk-container-id-17 input.sk-toggleable__control:checked~div.sk-toggleable__content {max-height: 200px;max-width: 100%;overflow: auto;}#sk-container-id-17 input.sk-toggleable__control:checked~label.sk-toggleable__label-arrow:before {content: \"▾\";}#sk-container-id-17 div.sk-estimator input.sk-toggleable__control:checked~label.sk-toggleable__label {background-color: #d4ebff;}#sk-container-id-17 div.sk-label input.sk-toggleable__control:checked~label.sk-toggleable__label {background-color: #d4ebff;}#sk-container-id-17 input.sk-hidden--visually {border: 0;clip: rect(1px 1px 1px 1px);clip: rect(1px, 1px, 1px, 1px);height: 1px;margin: -1px;overflow: hidden;padding: 0;position: absolute;width: 1px;}#sk-container-id-17 div.sk-estimator {font-family: monospace;background-color: #f0f8ff;border: 1px dotted black;border-radius: 0.25em;box-sizing: border-box;margin-bottom: 0.5em;}#sk-container-id-17 div.sk-estimator:hover {background-color: #d4ebff;}#sk-container-id-17 div.sk-parallel-item::after {content: \"\";width: 100%;border-bottom: 1px solid gray;flex-grow: 1;}#sk-container-id-17 div.sk-label:hover label.sk-toggleable__label {background-color: #d4ebff;}#sk-container-id-17 div.sk-serial::before {content: \"\";position: absolute;border-left: 1px solid gray;box-sizing: border-box;top: 0;bottom: 0;left: 50%;z-index: 0;}#sk-container-id-17 div.sk-serial {display: flex;flex-direction: column;align-items: center;background-color: white;padding-right: 0.2em;padding-left: 0.2em;position: relative;}#sk-container-id-17 div.sk-item {position: relative;z-index: 1;}#sk-container-id-17 div.sk-parallel {display: flex;align-items: stretch;justify-content: center;background-color: white;position: relative;}#sk-container-id-17 div.sk-item::before, #sk-container-id-17 div.sk-parallel-item::before {content: \"\";position: absolute;border-left: 1px solid gray;box-sizing: border-box;top: 0;bottom: 0;left: 50%;z-index: -1;}#sk-container-id-17 div.sk-parallel-item {display: flex;flex-direction: column;z-index: 1;position: relative;background-color: white;}#sk-container-id-17 div.sk-parallel-item:first-child::after {align-self: flex-end;width: 50%;}#sk-container-id-17 div.sk-parallel-item:last-child::after {align-self: flex-start;width: 50%;}#sk-container-id-17 div.sk-parallel-item:only-child::after {width: 0;}#sk-container-id-17 div.sk-dashed-wrapped {border: 1px dashed gray;margin: 0 0.4em 0.5em 0.4em;box-sizing: border-box;padding-bottom: 0.4em;background-color: white;}#sk-container-id-17 div.sk-label label {font-family: monospace;font-weight: bold;display: inline-block;line-height: 1.2em;}#sk-container-id-17 div.sk-label-container {text-align: center;}#sk-container-id-17 div.sk-container {/* jupyter's `normalize.less` sets `[hidden] { display: none; }` but bootstrap.min.css set `[hidden] { display: none !important; }` so we also need the `!important` here to be able to override the default hidden behavior on the sphinx rendered scikit-learn.org. See: https://github.com/scikit-learn/scikit-learn/issues/21755 */display: inline-block !important;position: relative;}#sk-container-id-17 div.sk-text-repr-fallback {display: none;}</style><div id=\"sk-container-id-17\" class=\"sk-top-container\"><div class=\"sk-text-repr-fallback\"><pre>GridSearchCV(cv=3,\n",
       "             estimator=Pipeline(steps=[(&#x27;vect&#x27;, TfidfVectorizer()),\n",
       "                                       (&#x27;rfc&#x27;,\n",
       "                                        RandomForestClassifier(random_state=42))]),\n",
       "             n_jobs=-2,\n",
       "             param_grid={&#x27;rfc__criterion&#x27;: [&#x27;gini&#x27;, &#x27;entropy&#x27;],\n",
       "                         &#x27;rfc__max_depth&#x27;: [75, 100, 125],\n",
       "                         &#x27;rfc__max_features&#x27;: [&#x27;sqrt&#x27;, &#x27;log2&#x27;],\n",
       "                         &#x27;rfc__min_samples_leaf&#x27;: [4, 5, 6],\n",
       "                         &#x27;rfc__n_estimators&#x27;: [70, 75, 80],\n",
       "                         &#x27;vect__max_features&#x27;: (2250, 2500, 2750),\n",
       "                         &#x27;vect__ngram_range&#x27;: [(1, 1), (1, 2)]},\n",
       "             verbose=3)</pre><b>In a Jupyter environment, please rerun this cell to show the HTML representation or trust the notebook. <br />On GitHub, the HTML representation is unable to render, please try loading this page with nbviewer.org.</b></div><div class=\"sk-container\" hidden><div class=\"sk-item sk-dashed-wrapped\"><div class=\"sk-label-container\"><div class=\"sk-label sk-toggleable\"><input class=\"sk-toggleable__control sk-hidden--visually\" id=\"sk-estimator-id-56\" type=\"checkbox\" ><label for=\"sk-estimator-id-56\" class=\"sk-toggleable__label sk-toggleable__label-arrow\">GridSearchCV</label><div class=\"sk-toggleable__content\"><pre>GridSearchCV(cv=3,\n",
       "             estimator=Pipeline(steps=[(&#x27;vect&#x27;, TfidfVectorizer()),\n",
       "                                       (&#x27;rfc&#x27;,\n",
       "                                        RandomForestClassifier(random_state=42))]),\n",
       "             n_jobs=-2,\n",
       "             param_grid={&#x27;rfc__criterion&#x27;: [&#x27;gini&#x27;, &#x27;entropy&#x27;],\n",
       "                         &#x27;rfc__max_depth&#x27;: [75, 100, 125],\n",
       "                         &#x27;rfc__max_features&#x27;: [&#x27;sqrt&#x27;, &#x27;log2&#x27;],\n",
       "                         &#x27;rfc__min_samples_leaf&#x27;: [4, 5, 6],\n",
       "                         &#x27;rfc__n_estimators&#x27;: [70, 75, 80],\n",
       "                         &#x27;vect__max_features&#x27;: (2250, 2500, 2750),\n",
       "                         &#x27;vect__ngram_range&#x27;: [(1, 1), (1, 2)]},\n",
       "             verbose=3)</pre></div></div></div><div class=\"sk-parallel\"><div class=\"sk-parallel-item\"><div class=\"sk-item\"><div class=\"sk-label-container\"><div class=\"sk-label sk-toggleable\"><input class=\"sk-toggleable__control sk-hidden--visually\" id=\"sk-estimator-id-57\" type=\"checkbox\" ><label for=\"sk-estimator-id-57\" class=\"sk-toggleable__label sk-toggleable__label-arrow\">estimator: Pipeline</label><div class=\"sk-toggleable__content\"><pre>Pipeline(steps=[(&#x27;vect&#x27;, TfidfVectorizer()),\n",
       "                (&#x27;rfc&#x27;, RandomForestClassifier(random_state=42))])</pre></div></div></div><div class=\"sk-serial\"><div class=\"sk-item\"><div class=\"sk-serial\"><div class=\"sk-item\"><div class=\"sk-estimator sk-toggleable\"><input class=\"sk-toggleable__control sk-hidden--visually\" id=\"sk-estimator-id-58\" type=\"checkbox\" ><label for=\"sk-estimator-id-58\" class=\"sk-toggleable__label sk-toggleable__label-arrow\">TfidfVectorizer</label><div class=\"sk-toggleable__content\"><pre>TfidfVectorizer()</pre></div></div></div><div class=\"sk-item\"><div class=\"sk-estimator sk-toggleable\"><input class=\"sk-toggleable__control sk-hidden--visually\" id=\"sk-estimator-id-59\" type=\"checkbox\" ><label for=\"sk-estimator-id-59\" class=\"sk-toggleable__label sk-toggleable__label-arrow\">RandomForestClassifier</label><div class=\"sk-toggleable__content\"><pre>RandomForestClassifier(random_state=42)</pre></div></div></div></div></div></div></div></div></div></div></div></div>"
      ],
      "text/plain": [
       "GridSearchCV(cv=3,\n",
       "             estimator=Pipeline(steps=[('vect', TfidfVectorizer()),\n",
       "                                       ('rfc',\n",
       "                                        RandomForestClassifier(random_state=42))]),\n",
       "             n_jobs=-2,\n",
       "             param_grid={'rfc__criterion': ['gini', 'entropy'],\n",
       "                         'rfc__max_depth': [75, 100, 125],\n",
       "                         'rfc__max_features': ['sqrt', 'log2'],\n",
       "                         'rfc__min_samples_leaf': [4, 5, 6],\n",
       "                         'rfc__n_estimators': [70, 75, 80],\n",
       "                         'vect__max_features': (2250, 2500, 2750),\n",
       "                         'vect__ngram_range': [(1, 1), (1, 2)]},\n",
       "             verbose=3)"
      ]
     },
     "execution_count": 138,
     "metadata": {},
     "output_type": "execute_result"
    }
   ],
   "source": [
    "#grid_rfc2.fit(X_train, y_train)"
   ]
  },
  {
   "cell_type": "code",
   "execution_count": 151,
   "id": "9dec5085",
   "metadata": {},
   "outputs": [],
   "source": [
    "#best_parameters = grid_rfc2.best_params_\n",
    "\n",
    "#print('Grid Search found the following optimal parameters: ')\n",
    "#for param_name in sorted(best_parameters.keys()):\n",
    "#    print('%s: %r' % (param_name, best_parameters[param_name]))\n",
    "\n",
    "#training_preds = grid_rfc2.predict(X_train)\n",
    "#training_accuracy = accuracy_score(y_train, training_preds)\n",
    "#training_recall = recall_score(y_train, training_preds, average = None)\n",
    "\n",
    "#print('Training Accuracy: {:.4}%'.format(training_accuracy * 100))\n",
    "#print(training_recall)"
   ]
  },
  {
   "cell_type": "markdown",
   "id": "f9bfca20",
   "metadata": {},
   "source": [
    "Grid Search found the following optimal parameters: \n",
    "- rfc__criterion: 'entropy'\n",
    "- rfc__max_depth: 125\n",
    "- rfc__max_features: 'sqrt'\n",
    "- rfc__min_samples_leaf: 4\n",
    "- rfc__n_estimators: 75\n",
    "- vect__max_features: 2250\n",
    "- vect__ngram_range: (1, 2)\n",
    "- Training Accuracy: 92.19%\n",
    "- [0.68302068 0.99304859]"
   ]
  },
  {
   "cell_type": "code",
   "execution_count": 142,
   "id": "255343c0",
   "metadata": {},
   "outputs": [],
   "source": [
    "rfc_pipe2 = Pipeline(steps=[('vect', TfidfVectorizer(max_features=2250, ngram_range=(1,2))),\n",
    "                           ('rfc', RandomForestClassifier(random_state=42, criterion='entropy', max_depth=125,\n",
    "                                                         max_features='sqrt', min_samples_leaf=4, n_estimators=75))])"
   ]
  },
  {
   "cell_type": "code",
   "execution_count": 143,
   "id": "6c22cf67",
   "metadata": {},
   "outputs": [
    {
     "data": {
      "text/html": [
       "<style>#sk-container-id-18 {color: black;background-color: white;}#sk-container-id-18 pre{padding: 0;}#sk-container-id-18 div.sk-toggleable {background-color: white;}#sk-container-id-18 label.sk-toggleable__label {cursor: pointer;display: block;width: 100%;margin-bottom: 0;padding: 0.3em;box-sizing: border-box;text-align: center;}#sk-container-id-18 label.sk-toggleable__label-arrow:before {content: \"▸\";float: left;margin-right: 0.25em;color: #696969;}#sk-container-id-18 label.sk-toggleable__label-arrow:hover:before {color: black;}#sk-container-id-18 div.sk-estimator:hover label.sk-toggleable__label-arrow:before {color: black;}#sk-container-id-18 div.sk-toggleable__content {max-height: 0;max-width: 0;overflow: hidden;text-align: left;background-color: #f0f8ff;}#sk-container-id-18 div.sk-toggleable__content pre {margin: 0.2em;color: black;border-radius: 0.25em;background-color: #f0f8ff;}#sk-container-id-18 input.sk-toggleable__control:checked~div.sk-toggleable__content {max-height: 200px;max-width: 100%;overflow: auto;}#sk-container-id-18 input.sk-toggleable__control:checked~label.sk-toggleable__label-arrow:before {content: \"▾\";}#sk-container-id-18 div.sk-estimator input.sk-toggleable__control:checked~label.sk-toggleable__label {background-color: #d4ebff;}#sk-container-id-18 div.sk-label input.sk-toggleable__control:checked~label.sk-toggleable__label {background-color: #d4ebff;}#sk-container-id-18 input.sk-hidden--visually {border: 0;clip: rect(1px 1px 1px 1px);clip: rect(1px, 1px, 1px, 1px);height: 1px;margin: -1px;overflow: hidden;padding: 0;position: absolute;width: 1px;}#sk-container-id-18 div.sk-estimator {font-family: monospace;background-color: #f0f8ff;border: 1px dotted black;border-radius: 0.25em;box-sizing: border-box;margin-bottom: 0.5em;}#sk-container-id-18 div.sk-estimator:hover {background-color: #d4ebff;}#sk-container-id-18 div.sk-parallel-item::after {content: \"\";width: 100%;border-bottom: 1px solid gray;flex-grow: 1;}#sk-container-id-18 div.sk-label:hover label.sk-toggleable__label {background-color: #d4ebff;}#sk-container-id-18 div.sk-serial::before {content: \"\";position: absolute;border-left: 1px solid gray;box-sizing: border-box;top: 0;bottom: 0;left: 50%;z-index: 0;}#sk-container-id-18 div.sk-serial {display: flex;flex-direction: column;align-items: center;background-color: white;padding-right: 0.2em;padding-left: 0.2em;position: relative;}#sk-container-id-18 div.sk-item {position: relative;z-index: 1;}#sk-container-id-18 div.sk-parallel {display: flex;align-items: stretch;justify-content: center;background-color: white;position: relative;}#sk-container-id-18 div.sk-item::before, #sk-container-id-18 div.sk-parallel-item::before {content: \"\";position: absolute;border-left: 1px solid gray;box-sizing: border-box;top: 0;bottom: 0;left: 50%;z-index: -1;}#sk-container-id-18 div.sk-parallel-item {display: flex;flex-direction: column;z-index: 1;position: relative;background-color: white;}#sk-container-id-18 div.sk-parallel-item:first-child::after {align-self: flex-end;width: 50%;}#sk-container-id-18 div.sk-parallel-item:last-child::after {align-self: flex-start;width: 50%;}#sk-container-id-18 div.sk-parallel-item:only-child::after {width: 0;}#sk-container-id-18 div.sk-dashed-wrapped {border: 1px dashed gray;margin: 0 0.4em 0.5em 0.4em;box-sizing: border-box;padding-bottom: 0.4em;background-color: white;}#sk-container-id-18 div.sk-label label {font-family: monospace;font-weight: bold;display: inline-block;line-height: 1.2em;}#sk-container-id-18 div.sk-label-container {text-align: center;}#sk-container-id-18 div.sk-container {/* jupyter's `normalize.less` sets `[hidden] { display: none; }` but bootstrap.min.css set `[hidden] { display: none !important; }` so we also need the `!important` here to be able to override the default hidden behavior on the sphinx rendered scikit-learn.org. See: https://github.com/scikit-learn/scikit-learn/issues/21755 */display: inline-block !important;position: relative;}#sk-container-id-18 div.sk-text-repr-fallback {display: none;}</style><div id=\"sk-container-id-18\" class=\"sk-top-container\"><div class=\"sk-text-repr-fallback\"><pre>Pipeline(steps=[(&#x27;vect&#x27;,\n",
       "                 TfidfVectorizer(max_features=2250, ngram_range=(1, 2))),\n",
       "                (&#x27;rfc&#x27;,\n",
       "                 RandomForestClassifier(criterion=&#x27;entropy&#x27;, max_depth=125,\n",
       "                                        min_samples_leaf=4, n_estimators=75,\n",
       "                                        random_state=42))])</pre><b>In a Jupyter environment, please rerun this cell to show the HTML representation or trust the notebook. <br />On GitHub, the HTML representation is unable to render, please try loading this page with nbviewer.org.</b></div><div class=\"sk-container\" hidden><div class=\"sk-item sk-dashed-wrapped\"><div class=\"sk-label-container\"><div class=\"sk-label sk-toggleable\"><input class=\"sk-toggleable__control sk-hidden--visually\" id=\"sk-estimator-id-60\" type=\"checkbox\" ><label for=\"sk-estimator-id-60\" class=\"sk-toggleable__label sk-toggleable__label-arrow\">Pipeline</label><div class=\"sk-toggleable__content\"><pre>Pipeline(steps=[(&#x27;vect&#x27;,\n",
       "                 TfidfVectorizer(max_features=2250, ngram_range=(1, 2))),\n",
       "                (&#x27;rfc&#x27;,\n",
       "                 RandomForestClassifier(criterion=&#x27;entropy&#x27;, max_depth=125,\n",
       "                                        min_samples_leaf=4, n_estimators=75,\n",
       "                                        random_state=42))])</pre></div></div></div><div class=\"sk-serial\"><div class=\"sk-item\"><div class=\"sk-estimator sk-toggleable\"><input class=\"sk-toggleable__control sk-hidden--visually\" id=\"sk-estimator-id-61\" type=\"checkbox\" ><label for=\"sk-estimator-id-61\" class=\"sk-toggleable__label sk-toggleable__label-arrow\">TfidfVectorizer</label><div class=\"sk-toggleable__content\"><pre>TfidfVectorizer(max_features=2250, ngram_range=(1, 2))</pre></div></div></div><div class=\"sk-item\"><div class=\"sk-estimator sk-toggleable\"><input class=\"sk-toggleable__control sk-hidden--visually\" id=\"sk-estimator-id-62\" type=\"checkbox\" ><label for=\"sk-estimator-id-62\" class=\"sk-toggleable__label sk-toggleable__label-arrow\">RandomForestClassifier</label><div class=\"sk-toggleable__content\"><pre>RandomForestClassifier(criterion=&#x27;entropy&#x27;, max_depth=125, min_samples_leaf=4,\n",
       "                       n_estimators=75, random_state=42)</pre></div></div></div></div></div></div></div>"
      ],
      "text/plain": [
       "Pipeline(steps=[('vect',\n",
       "                 TfidfVectorizer(max_features=2250, ngram_range=(1, 2))),\n",
       "                ('rfc',\n",
       "                 RandomForestClassifier(criterion='entropy', max_depth=125,\n",
       "                                        min_samples_leaf=4, n_estimators=75,\n",
       "                                        random_state=42))])"
      ]
     },
     "execution_count": 143,
     "metadata": {},
     "output_type": "execute_result"
    }
   ],
   "source": [
    "rfc_pipe2.fit(X_train, y_train)"
   ]
  },
  {
   "cell_type": "code",
   "execution_count": 144,
   "id": "539915a6",
   "metadata": {},
   "outputs": [
    {
     "data": {
      "text/plain": [
       "0.921875"
      ]
     },
     "execution_count": 144,
     "metadata": {},
     "output_type": "execute_result"
    }
   ],
   "source": [
    "rfc_pipe2.score(X_train, y_train)"
   ]
  },
  {
   "cell_type": "code",
   "execution_count": 145,
   "id": "472c72c6",
   "metadata": {},
   "outputs": [
    {
     "data": {
      "text/plain": [
       "{'fit_time': 4.42471,\n",
       " 'score_time': 0.34291,\n",
       " 'test_accuracy': 0.84132,\n",
       " 'test_precision': 0.84094,\n",
       " 'test_recall': 0.84132,\n",
       " 'test_f1': 0.8177,\n",
       " 'test_log_loss': -0.35736}"
      ]
     },
     "execution_count": 145,
     "metadata": {},
     "output_type": "execute_result"
    }
   ],
   "source": [
    "cross_val(rfc_pipe2, X_train, y_train)"
   ]
  },
  {
   "cell_type": "code",
   "execution_count": 146,
   "id": "825181b9",
   "metadata": {},
   "outputs": [],
   "source": [
    "#still not as good as logistic regression, maxed out max_depth and min of min_samples_leaf"
   ]
  },
  {
   "cell_type": "code",
   "execution_count": 152,
   "id": "2f6f204c",
   "metadata": {},
   "outputs": [],
   "source": [
    "# create our massive grid for the grid search parameters\n",
    "params3 = {'rfc__n_estimators': [70, 75, 80],\n",
    "           'rfc__max_depth': [125, 150, 175],\n",
    "           'rfc__max_features': ['sqrt', 'log2'],\n",
    "           'rfc__min_samples_leaf': [1, 2, 4],\n",
    "           'rfc__criterion': ['gini', 'entropy'],\n",
    "            'vect__max_features': (1750, 2000, 2250),\n",
    "            'vect__ngram_range': [(1,1), (1,2)],}\n",
    "\n",
    "# set up GridSearchCV object\n",
    "grid_rfc3 = GridSearchCV(rfc_pipe, param_grid=params3, cv=3, n_jobs=-2, verbose=3)"
   ]
  },
  {
   "cell_type": "code",
   "execution_count": 153,
   "id": "097b3a80",
   "metadata": {},
   "outputs": [
    {
     "name": "stdout",
     "output_type": "stream",
     "text": [
      "Fitting 3 folds for each of 648 candidates, totalling 1944 fits\n"
     ]
    },
    {
     "data": {
      "text/html": [
       "<style>#sk-container-id-20 {color: black;background-color: white;}#sk-container-id-20 pre{padding: 0;}#sk-container-id-20 div.sk-toggleable {background-color: white;}#sk-container-id-20 label.sk-toggleable__label {cursor: pointer;display: block;width: 100%;margin-bottom: 0;padding: 0.3em;box-sizing: border-box;text-align: center;}#sk-container-id-20 label.sk-toggleable__label-arrow:before {content: \"▸\";float: left;margin-right: 0.25em;color: #696969;}#sk-container-id-20 label.sk-toggleable__label-arrow:hover:before {color: black;}#sk-container-id-20 div.sk-estimator:hover label.sk-toggleable__label-arrow:before {color: black;}#sk-container-id-20 div.sk-toggleable__content {max-height: 0;max-width: 0;overflow: hidden;text-align: left;background-color: #f0f8ff;}#sk-container-id-20 div.sk-toggleable__content pre {margin: 0.2em;color: black;border-radius: 0.25em;background-color: #f0f8ff;}#sk-container-id-20 input.sk-toggleable__control:checked~div.sk-toggleable__content {max-height: 200px;max-width: 100%;overflow: auto;}#sk-container-id-20 input.sk-toggleable__control:checked~label.sk-toggleable__label-arrow:before {content: \"▾\";}#sk-container-id-20 div.sk-estimator input.sk-toggleable__control:checked~label.sk-toggleable__label {background-color: #d4ebff;}#sk-container-id-20 div.sk-label input.sk-toggleable__control:checked~label.sk-toggleable__label {background-color: #d4ebff;}#sk-container-id-20 input.sk-hidden--visually {border: 0;clip: rect(1px 1px 1px 1px);clip: rect(1px, 1px, 1px, 1px);height: 1px;margin: -1px;overflow: hidden;padding: 0;position: absolute;width: 1px;}#sk-container-id-20 div.sk-estimator {font-family: monospace;background-color: #f0f8ff;border: 1px dotted black;border-radius: 0.25em;box-sizing: border-box;margin-bottom: 0.5em;}#sk-container-id-20 div.sk-estimator:hover {background-color: #d4ebff;}#sk-container-id-20 div.sk-parallel-item::after {content: \"\";width: 100%;border-bottom: 1px solid gray;flex-grow: 1;}#sk-container-id-20 div.sk-label:hover label.sk-toggleable__label {background-color: #d4ebff;}#sk-container-id-20 div.sk-serial::before {content: \"\";position: absolute;border-left: 1px solid gray;box-sizing: border-box;top: 0;bottom: 0;left: 50%;z-index: 0;}#sk-container-id-20 div.sk-serial {display: flex;flex-direction: column;align-items: center;background-color: white;padding-right: 0.2em;padding-left: 0.2em;position: relative;}#sk-container-id-20 div.sk-item {position: relative;z-index: 1;}#sk-container-id-20 div.sk-parallel {display: flex;align-items: stretch;justify-content: center;background-color: white;position: relative;}#sk-container-id-20 div.sk-item::before, #sk-container-id-20 div.sk-parallel-item::before {content: \"\";position: absolute;border-left: 1px solid gray;box-sizing: border-box;top: 0;bottom: 0;left: 50%;z-index: -1;}#sk-container-id-20 div.sk-parallel-item {display: flex;flex-direction: column;z-index: 1;position: relative;background-color: white;}#sk-container-id-20 div.sk-parallel-item:first-child::after {align-self: flex-end;width: 50%;}#sk-container-id-20 div.sk-parallel-item:last-child::after {align-self: flex-start;width: 50%;}#sk-container-id-20 div.sk-parallel-item:only-child::after {width: 0;}#sk-container-id-20 div.sk-dashed-wrapped {border: 1px dashed gray;margin: 0 0.4em 0.5em 0.4em;box-sizing: border-box;padding-bottom: 0.4em;background-color: white;}#sk-container-id-20 div.sk-label label {font-family: monospace;font-weight: bold;display: inline-block;line-height: 1.2em;}#sk-container-id-20 div.sk-label-container {text-align: center;}#sk-container-id-20 div.sk-container {/* jupyter's `normalize.less` sets `[hidden] { display: none; }` but bootstrap.min.css set `[hidden] { display: none !important; }` so we also need the `!important` here to be able to override the default hidden behavior on the sphinx rendered scikit-learn.org. See: https://github.com/scikit-learn/scikit-learn/issues/21755 */display: inline-block !important;position: relative;}#sk-container-id-20 div.sk-text-repr-fallback {display: none;}</style><div id=\"sk-container-id-20\" class=\"sk-top-container\"><div class=\"sk-text-repr-fallback\"><pre>GridSearchCV(cv=3,\n",
       "             estimator=Pipeline(steps=[(&#x27;vect&#x27;,\n",
       "                                        TfidfVectorizer(max_features=2250,\n",
       "                                                        ngram_range=(1, 2))),\n",
       "                                       (&#x27;rfc&#x27;,\n",
       "                                        RandomForestClassifier(criterion=&#x27;entropy&#x27;,\n",
       "                                                               max_depth=125,\n",
       "                                                               min_samples_leaf=4,\n",
       "                                                               n_estimators=75,\n",
       "                                                               random_state=42))]),\n",
       "             n_jobs=-2,\n",
       "             param_grid={&#x27;rfc__criterion&#x27;: [&#x27;gini&#x27;, &#x27;entropy&#x27;],\n",
       "                         &#x27;rfc__max_depth&#x27;: [125, 150, 175],\n",
       "                         &#x27;rfc__max_features&#x27;: [&#x27;sqrt&#x27;, &#x27;log2&#x27;],\n",
       "                         &#x27;rfc__min_samples_leaf&#x27;: [1, 2, 4],\n",
       "                         &#x27;rfc__n_estimators&#x27;: [70, 75, 80],\n",
       "                         &#x27;vect__max_features&#x27;: (1750, 2000, 2250),\n",
       "                         &#x27;vect__ngram_range&#x27;: [(1, 1), (1, 2)]},\n",
       "             verbose=3)</pre><b>In a Jupyter environment, please rerun this cell to show the HTML representation or trust the notebook. <br />On GitHub, the HTML representation is unable to render, please try loading this page with nbviewer.org.</b></div><div class=\"sk-container\" hidden><div class=\"sk-item sk-dashed-wrapped\"><div class=\"sk-label-container\"><div class=\"sk-label sk-toggleable\"><input class=\"sk-toggleable__control sk-hidden--visually\" id=\"sk-estimator-id-67\" type=\"checkbox\" ><label for=\"sk-estimator-id-67\" class=\"sk-toggleable__label sk-toggleable__label-arrow\">GridSearchCV</label><div class=\"sk-toggleable__content\"><pre>GridSearchCV(cv=3,\n",
       "             estimator=Pipeline(steps=[(&#x27;vect&#x27;,\n",
       "                                        TfidfVectorizer(max_features=2250,\n",
       "                                                        ngram_range=(1, 2))),\n",
       "                                       (&#x27;rfc&#x27;,\n",
       "                                        RandomForestClassifier(criterion=&#x27;entropy&#x27;,\n",
       "                                                               max_depth=125,\n",
       "                                                               min_samples_leaf=4,\n",
       "                                                               n_estimators=75,\n",
       "                                                               random_state=42))]),\n",
       "             n_jobs=-2,\n",
       "             param_grid={&#x27;rfc__criterion&#x27;: [&#x27;gini&#x27;, &#x27;entropy&#x27;],\n",
       "                         &#x27;rfc__max_depth&#x27;: [125, 150, 175],\n",
       "                         &#x27;rfc__max_features&#x27;: [&#x27;sqrt&#x27;, &#x27;log2&#x27;],\n",
       "                         &#x27;rfc__min_samples_leaf&#x27;: [1, 2, 4],\n",
       "                         &#x27;rfc__n_estimators&#x27;: [70, 75, 80],\n",
       "                         &#x27;vect__max_features&#x27;: (1750, 2000, 2250),\n",
       "                         &#x27;vect__ngram_range&#x27;: [(1, 1), (1, 2)]},\n",
       "             verbose=3)</pre></div></div></div><div class=\"sk-parallel\"><div class=\"sk-parallel-item\"><div class=\"sk-item\"><div class=\"sk-label-container\"><div class=\"sk-label sk-toggleable\"><input class=\"sk-toggleable__control sk-hidden--visually\" id=\"sk-estimator-id-68\" type=\"checkbox\" ><label for=\"sk-estimator-id-68\" class=\"sk-toggleable__label sk-toggleable__label-arrow\">estimator: Pipeline</label><div class=\"sk-toggleable__content\"><pre>Pipeline(steps=[(&#x27;vect&#x27;,\n",
       "                 TfidfVectorizer(max_features=2250, ngram_range=(1, 2))),\n",
       "                (&#x27;rfc&#x27;,\n",
       "                 RandomForestClassifier(criterion=&#x27;entropy&#x27;, max_depth=125,\n",
       "                                        min_samples_leaf=4, n_estimators=75,\n",
       "                                        random_state=42))])</pre></div></div></div><div class=\"sk-serial\"><div class=\"sk-item\"><div class=\"sk-serial\"><div class=\"sk-item\"><div class=\"sk-estimator sk-toggleable\"><input class=\"sk-toggleable__control sk-hidden--visually\" id=\"sk-estimator-id-69\" type=\"checkbox\" ><label for=\"sk-estimator-id-69\" class=\"sk-toggleable__label sk-toggleable__label-arrow\">TfidfVectorizer</label><div class=\"sk-toggleable__content\"><pre>TfidfVectorizer(max_features=2250, ngram_range=(1, 2))</pre></div></div></div><div class=\"sk-item\"><div class=\"sk-estimator sk-toggleable\"><input class=\"sk-toggleable__control sk-hidden--visually\" id=\"sk-estimator-id-70\" type=\"checkbox\" ><label for=\"sk-estimator-id-70\" class=\"sk-toggleable__label sk-toggleable__label-arrow\">RandomForestClassifier</label><div class=\"sk-toggleable__content\"><pre>RandomForestClassifier(criterion=&#x27;entropy&#x27;, max_depth=125, min_samples_leaf=4,\n",
       "                       n_estimators=75, random_state=42)</pre></div></div></div></div></div></div></div></div></div></div></div></div>"
      ],
      "text/plain": [
       "GridSearchCV(cv=3,\n",
       "             estimator=Pipeline(steps=[('vect',\n",
       "                                        TfidfVectorizer(max_features=2250,\n",
       "                                                        ngram_range=(1, 2))),\n",
       "                                       ('rfc',\n",
       "                                        RandomForestClassifier(criterion='entropy',\n",
       "                                                               max_depth=125,\n",
       "                                                               min_samples_leaf=4,\n",
       "                                                               n_estimators=75,\n",
       "                                                               random_state=42))]),\n",
       "             n_jobs=-2,\n",
       "             param_grid={'rfc__criterion': ['gini', 'entropy'],\n",
       "                         'rfc__max_depth': [125, 150, 175],\n",
       "                         'rfc__max_features': ['sqrt', 'log2'],\n",
       "                         'rfc__min_samples_leaf': [1, 2, 4],\n",
       "                         'rfc__n_estimators': [70, 75, 80],\n",
       "                         'vect__max_features': (1750, 2000, 2250),\n",
       "                         'vect__ngram_range': [(1, 1), (1, 2)]},\n",
       "             verbose=3)"
      ]
     },
     "execution_count": 153,
     "metadata": {},
     "output_type": "execute_result"
    }
   ],
   "source": [
    "#grid_rfc3.fit(X_train, y_train)"
   ]
  },
  {
   "cell_type": "code",
   "execution_count": 156,
   "id": "c5c31947",
   "metadata": {},
   "outputs": [],
   "source": [
    "#best_parameters = grid_rfc3.best_params_\n",
    "\n",
    "#print('Grid Search found the following optimal parameters: ')\n",
    "#for param_name in sorted(best_parameters.keys()):\n",
    "#    print('%s: %r' % (param_name, best_parameters[param_name]))\n",
    "\n",
    "#training_preds = grid_rfc3.predict(X_train)\n",
    "#training_accuracy = accuracy_score(y_train, training_preds)\n",
    "#training_recall = recall_score(y_train, training_preds, average = None)\n",
    "\n",
    "#print('Training Accuracy: {:.4}%'.format(training_accuracy * 100))\n",
    "#print(training_recall)"
   ]
  },
  {
   "cell_type": "markdown",
   "id": "9e599f83",
   "metadata": {},
   "source": [
    "Grid Search found the following optimal parameters: \n",
    "- rfc__criterion: 'gini'\n",
    "- rfc__max_depth: 150\n",
    "- rfc__max_features: 'sqrt'\n",
    "- rfc__min_samples_leaf: 1\n",
    "- rfc__n_estimators: 80\n",
    "- vect__max_features: 2250\n",
    "- vect__ngram_range: (1, 2)\n",
    "- Training Accuracy: 99.96%\n",
    "- [0.998076 1.      ]"
   ]
  },
  {
   "cell_type": "code",
   "execution_count": 155,
   "id": "7c065a35",
   "metadata": {},
   "outputs": [],
   "source": [
    "rfc_pipe3 = Pipeline(steps=[('vect', TfidfVectorizer(max_features=2250, ngram_range=(1,2))),\n",
    "                           ('rfc', RandomForestClassifier(random_state=42, criterion='gini', max_depth=150,\n",
    "                                                         max_features='sqrt', min_samples_leaf=1, n_estimators=80))])"
   ]
  },
  {
   "cell_type": "code",
   "execution_count": 157,
   "id": "4aac26a4",
   "metadata": {},
   "outputs": [
    {
     "data": {
      "text/html": [
       "<style>#sk-container-id-21 {color: black;background-color: white;}#sk-container-id-21 pre{padding: 0;}#sk-container-id-21 div.sk-toggleable {background-color: white;}#sk-container-id-21 label.sk-toggleable__label {cursor: pointer;display: block;width: 100%;margin-bottom: 0;padding: 0.3em;box-sizing: border-box;text-align: center;}#sk-container-id-21 label.sk-toggleable__label-arrow:before {content: \"▸\";float: left;margin-right: 0.25em;color: #696969;}#sk-container-id-21 label.sk-toggleable__label-arrow:hover:before {color: black;}#sk-container-id-21 div.sk-estimator:hover label.sk-toggleable__label-arrow:before {color: black;}#sk-container-id-21 div.sk-toggleable__content {max-height: 0;max-width: 0;overflow: hidden;text-align: left;background-color: #f0f8ff;}#sk-container-id-21 div.sk-toggleable__content pre {margin: 0.2em;color: black;border-radius: 0.25em;background-color: #f0f8ff;}#sk-container-id-21 input.sk-toggleable__control:checked~div.sk-toggleable__content {max-height: 200px;max-width: 100%;overflow: auto;}#sk-container-id-21 input.sk-toggleable__control:checked~label.sk-toggleable__label-arrow:before {content: \"▾\";}#sk-container-id-21 div.sk-estimator input.sk-toggleable__control:checked~label.sk-toggleable__label {background-color: #d4ebff;}#sk-container-id-21 div.sk-label input.sk-toggleable__control:checked~label.sk-toggleable__label {background-color: #d4ebff;}#sk-container-id-21 input.sk-hidden--visually {border: 0;clip: rect(1px 1px 1px 1px);clip: rect(1px, 1px, 1px, 1px);height: 1px;margin: -1px;overflow: hidden;padding: 0;position: absolute;width: 1px;}#sk-container-id-21 div.sk-estimator {font-family: monospace;background-color: #f0f8ff;border: 1px dotted black;border-radius: 0.25em;box-sizing: border-box;margin-bottom: 0.5em;}#sk-container-id-21 div.sk-estimator:hover {background-color: #d4ebff;}#sk-container-id-21 div.sk-parallel-item::after {content: \"\";width: 100%;border-bottom: 1px solid gray;flex-grow: 1;}#sk-container-id-21 div.sk-label:hover label.sk-toggleable__label {background-color: #d4ebff;}#sk-container-id-21 div.sk-serial::before {content: \"\";position: absolute;border-left: 1px solid gray;box-sizing: border-box;top: 0;bottom: 0;left: 50%;z-index: 0;}#sk-container-id-21 div.sk-serial {display: flex;flex-direction: column;align-items: center;background-color: white;padding-right: 0.2em;padding-left: 0.2em;position: relative;}#sk-container-id-21 div.sk-item {position: relative;z-index: 1;}#sk-container-id-21 div.sk-parallel {display: flex;align-items: stretch;justify-content: center;background-color: white;position: relative;}#sk-container-id-21 div.sk-item::before, #sk-container-id-21 div.sk-parallel-item::before {content: \"\";position: absolute;border-left: 1px solid gray;box-sizing: border-box;top: 0;bottom: 0;left: 50%;z-index: -1;}#sk-container-id-21 div.sk-parallel-item {display: flex;flex-direction: column;z-index: 1;position: relative;background-color: white;}#sk-container-id-21 div.sk-parallel-item:first-child::after {align-self: flex-end;width: 50%;}#sk-container-id-21 div.sk-parallel-item:last-child::after {align-self: flex-start;width: 50%;}#sk-container-id-21 div.sk-parallel-item:only-child::after {width: 0;}#sk-container-id-21 div.sk-dashed-wrapped {border: 1px dashed gray;margin: 0 0.4em 0.5em 0.4em;box-sizing: border-box;padding-bottom: 0.4em;background-color: white;}#sk-container-id-21 div.sk-label label {font-family: monospace;font-weight: bold;display: inline-block;line-height: 1.2em;}#sk-container-id-21 div.sk-label-container {text-align: center;}#sk-container-id-21 div.sk-container {/* jupyter's `normalize.less` sets `[hidden] { display: none; }` but bootstrap.min.css set `[hidden] { display: none !important; }` so we also need the `!important` here to be able to override the default hidden behavior on the sphinx rendered scikit-learn.org. See: https://github.com/scikit-learn/scikit-learn/issues/21755 */display: inline-block !important;position: relative;}#sk-container-id-21 div.sk-text-repr-fallback {display: none;}</style><div id=\"sk-container-id-21\" class=\"sk-top-container\"><div class=\"sk-text-repr-fallback\"><pre>Pipeline(steps=[(&#x27;vect&#x27;,\n",
       "                 TfidfVectorizer(max_features=2250, ngram_range=(1, 2))),\n",
       "                (&#x27;rfc&#x27;,\n",
       "                 RandomForestClassifier(max_depth=150, n_estimators=80,\n",
       "                                        random_state=42))])</pre><b>In a Jupyter environment, please rerun this cell to show the HTML representation or trust the notebook. <br />On GitHub, the HTML representation is unable to render, please try loading this page with nbviewer.org.</b></div><div class=\"sk-container\" hidden><div class=\"sk-item sk-dashed-wrapped\"><div class=\"sk-label-container\"><div class=\"sk-label sk-toggleable\"><input class=\"sk-toggleable__control sk-hidden--visually\" id=\"sk-estimator-id-71\" type=\"checkbox\" ><label for=\"sk-estimator-id-71\" class=\"sk-toggleable__label sk-toggleable__label-arrow\">Pipeline</label><div class=\"sk-toggleable__content\"><pre>Pipeline(steps=[(&#x27;vect&#x27;,\n",
       "                 TfidfVectorizer(max_features=2250, ngram_range=(1, 2))),\n",
       "                (&#x27;rfc&#x27;,\n",
       "                 RandomForestClassifier(max_depth=150, n_estimators=80,\n",
       "                                        random_state=42))])</pre></div></div></div><div class=\"sk-serial\"><div class=\"sk-item\"><div class=\"sk-estimator sk-toggleable\"><input class=\"sk-toggleable__control sk-hidden--visually\" id=\"sk-estimator-id-72\" type=\"checkbox\" ><label for=\"sk-estimator-id-72\" class=\"sk-toggleable__label sk-toggleable__label-arrow\">TfidfVectorizer</label><div class=\"sk-toggleable__content\"><pre>TfidfVectorizer(max_features=2250, ngram_range=(1, 2))</pre></div></div></div><div class=\"sk-item\"><div class=\"sk-estimator sk-toggleable\"><input class=\"sk-toggleable__control sk-hidden--visually\" id=\"sk-estimator-id-73\" type=\"checkbox\" ><label for=\"sk-estimator-id-73\" class=\"sk-toggleable__label sk-toggleable__label-arrow\">RandomForestClassifier</label><div class=\"sk-toggleable__content\"><pre>RandomForestClassifier(max_depth=150, n_estimators=80, random_state=42)</pre></div></div></div></div></div></div></div>"
      ],
      "text/plain": [
       "Pipeline(steps=[('vect',\n",
       "                 TfidfVectorizer(max_features=2250, ngram_range=(1, 2))),\n",
       "                ('rfc',\n",
       "                 RandomForestClassifier(max_depth=150, n_estimators=80,\n",
       "                                        random_state=42))])"
      ]
     },
     "execution_count": 157,
     "metadata": {},
     "output_type": "execute_result"
    }
   ],
   "source": [
    "rfc_pipe3.fit(X_train, y_train)"
   ]
  },
  {
   "cell_type": "code",
   "execution_count": 158,
   "id": "5532bb9e",
   "metadata": {},
   "outputs": [
    {
     "data": {
      "text/plain": [
       "0.9995583038869258"
      ]
     },
     "execution_count": 158,
     "metadata": {},
     "output_type": "execute_result"
    }
   ],
   "source": [
    "rfc_pipe3.score(X_train, y_train)"
   ]
  },
  {
   "cell_type": "code",
   "execution_count": 159,
   "id": "38b6d372",
   "metadata": {},
   "outputs": [
    {
     "data": {
      "text/plain": [
       "{'fit_time': 6.97282,\n",
       " 'score_time': 0.39553,\n",
       " 'test_accuracy': 0.85314,\n",
       " 'test_precision': 0.84862,\n",
       " 'test_recall': 0.85314,\n",
       " 'test_f1': 0.83782,\n",
       " 'test_log_loss': -0.34316}"
      ]
     },
     "execution_count": 159,
     "metadata": {},
     "output_type": "execute_result"
    }
   ],
   "source": [
    "cross_val(rfc_pipe3, X_train, y_train)"
   ]
  },
  {
   "cell_type": "code",
   "execution_count": 160,
   "id": "dd57937c",
   "metadata": {},
   "outputs": [],
   "source": [
    "#model is extremely overfit with these hyperparameters; still not as good as LR model"
   ]
  },
  {
   "cell_type": "markdown",
   "id": "82a99ee8",
   "metadata": {},
   "source": [
    "## Final Model Evaluation"
   ]
  },
  {
   "cell_type": "markdown",
   "id": "d5aa39f7",
   "metadata": {},
   "source": [
    "The best model utilizing cross validation is the Logistic Regression model."
   ]
  },
  {
   "cell_type": "code",
   "execution_count": 184,
   "id": "8029bd7f",
   "metadata": {},
   "outputs": [],
   "source": [
    "final_model = Pipeline([\n",
    "           ('vect', TfidfVectorizer(max_df=.4, max_features=2800)),\n",
    "           ('lr', LogisticRegression(random_state=42, class_weight=None, solver='saga', penalty='l2'))])"
   ]
  },
  {
   "cell_type": "code",
   "execution_count": 185,
   "id": "b01e0540",
   "metadata": {},
   "outputs": [
    {
     "data": {
      "text/html": [
       "<style>#sk-container-id-26 {color: black;background-color: white;}#sk-container-id-26 pre{padding: 0;}#sk-container-id-26 div.sk-toggleable {background-color: white;}#sk-container-id-26 label.sk-toggleable__label {cursor: pointer;display: block;width: 100%;margin-bottom: 0;padding: 0.3em;box-sizing: border-box;text-align: center;}#sk-container-id-26 label.sk-toggleable__label-arrow:before {content: \"▸\";float: left;margin-right: 0.25em;color: #696969;}#sk-container-id-26 label.sk-toggleable__label-arrow:hover:before {color: black;}#sk-container-id-26 div.sk-estimator:hover label.sk-toggleable__label-arrow:before {color: black;}#sk-container-id-26 div.sk-toggleable__content {max-height: 0;max-width: 0;overflow: hidden;text-align: left;background-color: #f0f8ff;}#sk-container-id-26 div.sk-toggleable__content pre {margin: 0.2em;color: black;border-radius: 0.25em;background-color: #f0f8ff;}#sk-container-id-26 input.sk-toggleable__control:checked~div.sk-toggleable__content {max-height: 200px;max-width: 100%;overflow: auto;}#sk-container-id-26 input.sk-toggleable__control:checked~label.sk-toggleable__label-arrow:before {content: \"▾\";}#sk-container-id-26 div.sk-estimator input.sk-toggleable__control:checked~label.sk-toggleable__label {background-color: #d4ebff;}#sk-container-id-26 div.sk-label input.sk-toggleable__control:checked~label.sk-toggleable__label {background-color: #d4ebff;}#sk-container-id-26 input.sk-hidden--visually {border: 0;clip: rect(1px 1px 1px 1px);clip: rect(1px, 1px, 1px, 1px);height: 1px;margin: -1px;overflow: hidden;padding: 0;position: absolute;width: 1px;}#sk-container-id-26 div.sk-estimator {font-family: monospace;background-color: #f0f8ff;border: 1px dotted black;border-radius: 0.25em;box-sizing: border-box;margin-bottom: 0.5em;}#sk-container-id-26 div.sk-estimator:hover {background-color: #d4ebff;}#sk-container-id-26 div.sk-parallel-item::after {content: \"\";width: 100%;border-bottom: 1px solid gray;flex-grow: 1;}#sk-container-id-26 div.sk-label:hover label.sk-toggleable__label {background-color: #d4ebff;}#sk-container-id-26 div.sk-serial::before {content: \"\";position: absolute;border-left: 1px solid gray;box-sizing: border-box;top: 0;bottom: 0;left: 50%;z-index: 0;}#sk-container-id-26 div.sk-serial {display: flex;flex-direction: column;align-items: center;background-color: white;padding-right: 0.2em;padding-left: 0.2em;position: relative;}#sk-container-id-26 div.sk-item {position: relative;z-index: 1;}#sk-container-id-26 div.sk-parallel {display: flex;align-items: stretch;justify-content: center;background-color: white;position: relative;}#sk-container-id-26 div.sk-item::before, #sk-container-id-26 div.sk-parallel-item::before {content: \"\";position: absolute;border-left: 1px solid gray;box-sizing: border-box;top: 0;bottom: 0;left: 50%;z-index: -1;}#sk-container-id-26 div.sk-parallel-item {display: flex;flex-direction: column;z-index: 1;position: relative;background-color: white;}#sk-container-id-26 div.sk-parallel-item:first-child::after {align-self: flex-end;width: 50%;}#sk-container-id-26 div.sk-parallel-item:last-child::after {align-self: flex-start;width: 50%;}#sk-container-id-26 div.sk-parallel-item:only-child::after {width: 0;}#sk-container-id-26 div.sk-dashed-wrapped {border: 1px dashed gray;margin: 0 0.4em 0.5em 0.4em;box-sizing: border-box;padding-bottom: 0.4em;background-color: white;}#sk-container-id-26 div.sk-label label {font-family: monospace;font-weight: bold;display: inline-block;line-height: 1.2em;}#sk-container-id-26 div.sk-label-container {text-align: center;}#sk-container-id-26 div.sk-container {/* jupyter's `normalize.less` sets `[hidden] { display: none; }` but bootstrap.min.css set `[hidden] { display: none !important; }` so we also need the `!important` here to be able to override the default hidden behavior on the sphinx rendered scikit-learn.org. See: https://github.com/scikit-learn/scikit-learn/issues/21755 */display: inline-block !important;position: relative;}#sk-container-id-26 div.sk-text-repr-fallback {display: none;}</style><div id=\"sk-container-id-26\" class=\"sk-top-container\"><div class=\"sk-text-repr-fallback\"><pre>Pipeline(steps=[(&#x27;vect&#x27;, TfidfVectorizer(max_df=0.4, max_features=2800)),\n",
       "                (&#x27;lr&#x27;, LogisticRegression(random_state=42, solver=&#x27;saga&#x27;))])</pre><b>In a Jupyter environment, please rerun this cell to show the HTML representation or trust the notebook. <br />On GitHub, the HTML representation is unable to render, please try loading this page with nbviewer.org.</b></div><div class=\"sk-container\" hidden><div class=\"sk-item sk-dashed-wrapped\"><div class=\"sk-label-container\"><div class=\"sk-label sk-toggleable\"><input class=\"sk-toggleable__control sk-hidden--visually\" id=\"sk-estimator-id-87\" type=\"checkbox\" ><label for=\"sk-estimator-id-87\" class=\"sk-toggleable__label sk-toggleable__label-arrow\">Pipeline</label><div class=\"sk-toggleable__content\"><pre>Pipeline(steps=[(&#x27;vect&#x27;, TfidfVectorizer(max_df=0.4, max_features=2800)),\n",
       "                (&#x27;lr&#x27;, LogisticRegression(random_state=42, solver=&#x27;saga&#x27;))])</pre></div></div></div><div class=\"sk-serial\"><div class=\"sk-item\"><div class=\"sk-estimator sk-toggleable\"><input class=\"sk-toggleable__control sk-hidden--visually\" id=\"sk-estimator-id-88\" type=\"checkbox\" ><label for=\"sk-estimator-id-88\" class=\"sk-toggleable__label sk-toggleable__label-arrow\">TfidfVectorizer</label><div class=\"sk-toggleable__content\"><pre>TfidfVectorizer(max_df=0.4, max_features=2800)</pre></div></div></div><div class=\"sk-item\"><div class=\"sk-estimator sk-toggleable\"><input class=\"sk-toggleable__control sk-hidden--visually\" id=\"sk-estimator-id-89\" type=\"checkbox\" ><label for=\"sk-estimator-id-89\" class=\"sk-toggleable__label sk-toggleable__label-arrow\">LogisticRegression</label><div class=\"sk-toggleable__content\"><pre>LogisticRegression(random_state=42, solver=&#x27;saga&#x27;)</pre></div></div></div></div></div></div></div>"
      ],
      "text/plain": [
       "Pipeline(steps=[('vect', TfidfVectorizer(max_df=0.4, max_features=2800)),\n",
       "                ('lr', LogisticRegression(random_state=42, solver='saga'))])"
      ]
     },
     "execution_count": 185,
     "metadata": {},
     "output_type": "execute_result"
    }
   ],
   "source": [
    "final_model.fit(X_train, y_train)"
   ]
  },
  {
   "cell_type": "code",
   "execution_count": 186,
   "id": "f3a4f4b7",
   "metadata": {},
   "outputs": [
    {
     "data": {
      "text/plain": [
       "0.8979681978798587"
      ]
     },
     "execution_count": 186,
     "metadata": {},
     "output_type": "execute_result"
    }
   ],
   "source": [
    "final_model.score(X_train, y_train)"
   ]
  },
  {
   "cell_type": "code",
   "execution_count": 187,
   "id": "276ddff0",
   "metadata": {},
   "outputs": [
    {
     "data": {
      "text/plain": [
       "{'fit_time': 0.34965,\n",
       " 'score_time': 0.13963,\n",
       " 'test_accuracy': 0.87621,\n",
       " 'test_precision': 0.8718,\n",
       " 'test_recall': 0.87621,\n",
       " 'test_f1': 0.86905,\n",
       " 'test_log_loss': -0.29686}"
      ]
     },
     "execution_count": 187,
     "metadata": {},
     "output_type": "execute_result"
    }
   ],
   "source": [
    "cross_val(final_model, X_train, y_train)"
   ]
  },
  {
   "cell_type": "code",
   "execution_count": 188,
   "id": "508a1586",
   "metadata": {},
   "outputs": [
    {
     "data": {
      "text/plain": [
       "0.879196113074205"
      ]
     },
     "execution_count": 188,
     "metadata": {},
     "output_type": "execute_result"
    }
   ],
   "source": [
    "final_model.score(X_test, y_test)"
   ]
  },
  {
   "cell_type": "code",
   "execution_count": 189,
   "id": "5c8c3d54",
   "metadata": {},
   "outputs": [],
   "source": [
    "#Performing with 88% accuracy on unseen data!"
   ]
  },
  {
   "cell_type": "code",
   "execution_count": null,
   "id": "65f9eee9",
   "metadata": {},
   "outputs": [],
   "source": []
  }
 ],
 "metadata": {
  "kernelspec": {
   "display_name": "Python 3",
   "language": "python",
   "name": "python3"
  },
  "language_info": {
   "codemirror_mode": {
    "name": "ipython",
    "version": 3
   },
   "file_extension": ".py",
   "mimetype": "text/x-python",
   "name": "python",
   "nbconvert_exporter": "python",
   "pygments_lexer": "ipython3",
   "version": "3.8.5"
  }
 },
 "nbformat": 4,
 "nbformat_minor": 5
}
